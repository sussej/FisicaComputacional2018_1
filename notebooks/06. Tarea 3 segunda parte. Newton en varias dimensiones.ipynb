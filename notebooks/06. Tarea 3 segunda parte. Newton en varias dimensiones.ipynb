{
 "cells": [
  {
   "cell_type": "markdown",
   "metadata": {},
   "source": [
    "# Operaciones con vectores\n",
    "\n",
    "Antes de pasar directamente a generalizar el método de Newton en varias dimensiones, es necesario aprender algo sobre las operaciones entre vectores. \n",
    "\n",
    "En este punto de la carrera, ya deben de saber sumar vectores, multiplicarlos por escalares, hacer productos puntos y productos cruz. ¿Cómo se puede hacer todo eso en Julia? \n",
    "\n",
    "Un vector es simplemente un arreglo de números. Ya saben hacer arreglos, así que en realidad ya saben hacer vectores. "
   ]
  },
  {
   "cell_type": "code",
   "execution_count": null,
   "metadata": {
    "collapsed": true
   },
   "outputs": [],
   "source": []
  },
  {
   "cell_type": "code",
   "execution_count": 1,
   "metadata": {},
   "outputs": [
    {
     "name": "stdout",
     "output_type": "stream",
     "text": [
      "[-2.0, 5.3, 4.0, 4.2]\n"
     ]
    }
   ],
   "source": [
    "# Ejemplo 1: suma\n",
    "\n",
    "A = [1;2;3;4]\n",
    "B = [-3,3.3,1,0.2]\n",
    "\n",
    "C = A+B\n",
    "println(C)"
   ]
  },
  {
   "cell_type": "code",
   "execution_count": 2,
   "metadata": {},
   "outputs": [
    {
     "name": "stdout",
     "output_type": "stream",
     "text": [
      "[0.5, 1.0, 1.5, 2.0]\n"
     ]
    }
   ],
   "source": [
    "# Ejemplo 2: producto escalar\n",
    "\n",
    "c = 0.5\n",
    "\n",
    "D = c*A\n",
    "println(D)"
   ]
  },
  {
   "cell_type": "code",
   "execution_count": 3,
   "metadata": {},
   "outputs": [
    {
     "name": "stdout",
     "output_type": "stream",
     "text": [
      "7.3999999999999995\n"
     ]
    }
   ],
   "source": [
    "# Ejemplo 3: producto punto\n",
    "\n",
    "E = A⋅B\n",
    "println(E)"
   ]
  },
  {
   "cell_type": "markdown",
   "metadata": {},
   "source": [
    "Hay además algunas operaciones que quisieramos poderlas aplicar sobre cada uno de los elementos de un vector. Por ejemplo, imaginemos que tenemos el vector $A = [1,1,1,2]$. ¿Cómo interpretarías $A+1$? La respuesta es que no se puede interpretar, porque $1$ es un escalar, mientras que $A$ es un vector. \n",
    "\n",
    "Quizá una de las interpretaciones más lógicas sería que se sumara $1$ a todos los elementos de $A$. Para esto usamos un punto antes del operador (o después de la función) para indicar que la operación se lleva acabo sobre todos los elementos de $A$"
   ]
  },
  {
   "cell_type": "code",
   "execution_count": 4,
   "metadata": {},
   "outputs": [
    {
     "name": "stdout",
     "output_type": "stream",
     "text": [
      "[1, 2, 3, 4][2, 3, 4, 5]\n",
      "[1, 2, 3, 4][0.841471, 0.909297, 0.14112, -0.756802]\n"
     ]
    }
   ],
   "source": [
    "#Ejemplo 4: Suma un escalar a los elemento de A. \n",
    "\n",
    "A = [1;2;3;4]\n",
    "B = A .+ 1\n",
    "println(A, B)\n",
    "\n",
    "#Ejemplo 5: Función seno\n",
    "\n",
    "C = sin.(A)\n",
    "println(A, C)"
   ]
  },
  {
   "cell_type": "markdown",
   "metadata": {},
   "source": [
    "Otra posibilidad es que se quiera crear otro vector el cual difiera sólo en uno de los elementos con respecto a otro vector. Por ejemplo, sumándole un valor c a nuestro elemento i. \n",
    "\n",
    "En ese caso esperaríamos que con las operaciones\n",
    "\n",
    "$B = A$ y \n",
    "\n",
    "$B[i] = B[i]+c$ tuviéramos el resultado esperado. Sin embargo Julia no lo hace como esperaríamos por la forma en la que se almacena la información. "
   ]
  },
  {
   "cell_type": "code",
   "execution_count": 5,
   "metadata": {},
   "outputs": [
    {
     "name": "stdout",
     "output_type": "stream",
     "text": [
      "[1, 7, 3, 4][1, 7, 3, 4]\n"
     ]
    }
   ],
   "source": [
    "#Ejemplo 6: Suma un escalar a uno elemento de A. Error\n",
    "A = [1;2;3;4]\n",
    "B = A\n",
    "B[2] = B[2]+5\n",
    "println(A, B)"
   ]
  },
  {
   "cell_type": "markdown",
   "metadata": {},
   "source": [
    "Cambia tanto el resultado en $A$ como en $B$. Para hacerlo correctamente, lo que uno tiene que hacer es una copia de $A$"
   ]
  },
  {
   "cell_type": "code",
   "execution_count": 6,
   "metadata": {},
   "outputs": [
    {
     "name": "stdout",
     "output_type": "stream",
     "text": [
      "[1, 2, 3, 4][1, 7, 3, 4]\n"
     ]
    }
   ],
   "source": [
    "#Ejemplo 7: Suma un escalar a uno elemento de A. Correcto\n",
    "A = [1;2;3;4]\n",
    "B = copy(A)\n",
    "B[2] = B[2]+5\n",
    "println(A, B)"
   ]
  },
  {
   "cell_type": "markdown",
   "metadata": {},
   "source": [
    "Otra posivilidad es que quieran hacer el producto cruz. Para esto se usa el símbolo de cruz, que se obtiene con \\times +tab"
   ]
  },
  {
   "cell_type": "code",
   "execution_count": 7,
   "metadata": {},
   "outputs": [
    {
     "name": "stdout",
     "output_type": "stream",
     "text": [
      "[-1, 2, -1]\n"
     ]
    }
   ],
   "source": [
    "#Ejemplo 8: Producto cruz\n",
    "A = [1;2;3]\n",
    "B = [2;3;4]\n",
    "println(A×B)"
   ]
  },
  {
   "cell_type": "markdown",
   "metadata": {},
   "source": [
    "[1] Utiliza tu función para calcular derivadas numéricas para hacer una función que obtenga la derivada parcial de funciones de $\\mathbb{R^m} \\rightarrow \\mathbb{R}$ con respecto a la $i$-esimo variable.\n",
    "\n",
    "[2] Haz una función que obtenga la derivada del $i$-esimo elemento de una función de $\\mathbb{R} \\rightarrow \\mathbb{R^n}$.\n",
    "\n",
    "[3] Haz una función que calcule la derivada parcial de la $i$-esima entrada de una funcion de $\\mathbb{R^m} \\rightarrow \\mathbb{R^n}$ con respecto a la $j$-esima variable. "
   ]
  },
  {
   "cell_type": "code",
   "execution_count": 3,
   "metadata": {},
   "outputs": [
    {
     "data": {
      "text/plain": [
       "der_taylor (generic function with 2 methods)"
      ]
     },
     "execution_count": 3,
     "metadata": {},
     "output_type": "execute_result"
    }
   ],
   "source": [
    "function der_taylor(f, x, h=0.00001)\n",
    "    return (f(x + h) - f(x - h)) / (2 * h)\n",
    "end"
   ]
  },
  {
   "cell_type": "code",
   "execution_count": 42,
   "metadata": {},
   "outputs": [
    {
     "data": {
      "text/plain": [
       "i_partial (generic function with 2 methods)"
      ]
     },
     "execution_count": 42,
     "metadata": {},
     "output_type": "execute_result"
    }
   ],
   "source": [
    "# [1]\n",
    "# Necesito saber como es la convención para las funciones de vectores\n",
    "function i_partial(f, x, i, h=0.00001)\n",
    "    x_vector_mas_h = copy(x)*1.\n",
    "    x_vector_menos_h = copy(x)*1.\n",
    "    println(x_vector_mas_h[i] + h)\n",
    "    x_vector_mas_h[i] +=  h\n",
    "    println(i)\n",
    "    x_vector_menos_h[i] = x_vector_menos_h[i] - h\n",
    "    println(x_vector_menos_h)\n",
    "    return (f(x_vector_mas_h) - f(x_vector_menos_h)) / (2 * h)\n",
    "end\n",
    "    \n",
    "    "
   ]
  },
  {
   "cell_type": "code",
   "execution_count": 26,
   "metadata": {},
   "outputs": [
    {
     "data": {
      "text/plain": [
       "i_derivada (generic function with 2 methods)"
      ]
     },
     "execution_count": 26,
     "metadata": {},
     "output_type": "execute_result"
    }
   ],
   "source": [
    "# [2]\n",
    "function i_derivada(f, x, i, h=0.00001)\n",
    "    return (f(x + h)[i] - f(x - h)[i]) / (2 * h)\n",
    "end"
   ]
  },
  {
   "cell_type": "code",
   "execution_count": 17,
   "metadata": {},
   "outputs": [
    {
     "data": {
      "text/plain": [
       "i_j_partial (generic function with 2 methods)"
      ]
     },
     "execution_count": 17,
     "metadata": {},
     "output_type": "execute_result"
    }
   ],
   "source": [
    "# [3] Tal vez sólo es combinar las dos anteriores? \n",
    "function i_j_partial(f, x, i, j, h=0.00001)\n",
    "    x_vector_mas_h = copy(x)\n",
    "    x_vector_menos_h = copy(x)\n",
    "    x_vector_mas_h[j] = x_vector_mas_h[j] + h\n",
    "    x_vector_menos_h[j] = x_vector_menos_h[j] - h\n",
    "    return (f(x_vector_mas_h)[i] - f(x_vector_menos_h)[i]) / (2 * h)\n",
    "end\n",
    "\n",
    "    "
   ]
  },
  {
   "cell_type": "code",
   "execution_count": 19,
   "metadata": {},
   "outputs": [
    {
     "data": {
      "text/plain": [
       "8"
      ]
     },
     "execution_count": 19,
     "metadata": {},
     "output_type": "execute_result"
    }
   ],
   "source": [
    "f(x) = (2 * x[1]^3) + (3 * x[2]^2) - (x[3] * x[1] * x[2]) \n",
    "f([1,2,3])"
   ]
  },
  {
   "cell_type": "code",
   "execution_count": 43,
   "metadata": {},
   "outputs": [
    {
     "name": "stdout",
     "output_type": "stream",
     "text": [
      "3.00001\n",
      "3\n",
      "[1.0, 2.0, 2.99999]\n"
     ]
    },
    {
     "data": {
      "text/plain": [
       "-1.9999999999686933"
      ]
     },
     "execution_count": 43,
     "metadata": {},
     "output_type": "execute_result"
    }
   ],
   "source": [
    "#Prueba parcial\n",
    "f([1., 2, 3.])\n",
    "i_partial(f, [1, 2, 3], 3)"
   ]
  },
  {
   "cell_type": "markdown",
   "metadata": {},
   "source": [
    "# Matrices\n",
    "\n",
    "En Julia también es posible trabajar con matrices de forma muy efectiva. Quizá David los hará re-programar las operaciones con matrices, pero por lo pronto utilizaremos lo que Julia ya tiene pre-instalado. \n",
    "\n",
    "El primer paso para trabajar con matrices es saber escribir una: "
   ]
  },
  {
   "cell_type": "code",
   "execution_count": 8,
   "metadata": {},
   "outputs": [
    {
     "data": {
      "text/plain": [
       "1×4 Array{Int64,2}:\n",
       " 1  2  3  4"
      ]
     },
     "execution_count": 8,
     "metadata": {},
     "output_type": "execute_result"
    }
   ],
   "source": [
    "# Ejemplo 9: Matrices de 1xn y de nx1\n",
    "\n",
    "A = [1 2 3 4]"
   ]
  },
  {
   "cell_type": "code",
   "execution_count": 9,
   "metadata": {},
   "outputs": [
    {
     "data": {
      "text/plain": [
       "4-element Array{Int64,1}:\n",
       " 1\n",
       " 2\n",
       " 3\n",
       " 4"
      ]
     },
     "execution_count": 9,
     "metadata": {},
     "output_type": "execute_result"
    }
   ],
   "source": [
    "B = [1;2;3;4] \n"
   ]
  },
  {
   "cell_type": "code",
   "execution_count": 10,
   "metadata": {},
   "outputs": [
    {
     "data": {
      "text/plain": [
       "3×2 Array{Int64,2}:\n",
       " 1  2\n",
       " 3  4\n",
       " 5  6"
      ]
     },
     "execution_count": 10,
     "metadata": {},
     "output_type": "execute_result"
    }
   ],
   "source": [
    "# Ejemplo 10: Matrices de nxm\n",
    "\n",
    "A = [[1 2];\n",
    "    [3 4];\n",
    "    [5 6]]"
   ]
  },
  {
   "cell_type": "markdown",
   "metadata": {},
   "source": [
    "El siguiente paso es poder hacer operaciones. Las sumas, y productos escalares, se hacen tal cual como con los vectores: "
   ]
  },
  {
   "cell_type": "code",
   "execution_count": 11,
   "metadata": {},
   "outputs": [
    {
     "data": {
      "text/plain": [
       "3×2 Array{Float64,2}:\n",
       " 1.1  2.2\n",
       " 3.3  4.4\n",
       " 5.5  6.6"
      ]
     },
     "execution_count": 11,
     "metadata": {},
     "output_type": "execute_result"
    }
   ],
   "source": [
    "# Ejemplo 11: suma y producto escalar\n",
    "A = [[1 2];\n",
    "    [3 4];\n",
    "    [5 6]]\n",
    "B = [[.1 .2];\n",
    "    [.3 .4];\n",
    "    [.5 .6]]\n",
    "A+B"
   ]
  },
  {
   "cell_type": "code",
   "execution_count": 12,
   "metadata": {},
   "outputs": [
    {
     "data": {
      "text/plain": [
       "3×2 Array{Float64,2}:\n",
       " 0.3  0.6\n",
       " 0.9  1.2\n",
       " 1.5  1.8"
      ]
     },
     "execution_count": 12,
     "metadata": {},
     "output_type": "execute_result"
    }
   ],
   "source": [
    "3*B"
   ]
  },
  {
   "cell_type": "markdown",
   "metadata": {},
   "source": [
    "El siguiente paso es sacar la transpuesta:"
   ]
  },
  {
   "cell_type": "code",
   "execution_count": 13,
   "metadata": {},
   "outputs": [
    {
     "data": {
      "text/plain": [
       "2×3 Array{Int64,2}:\n",
       " 1  3  5\n",
       " 2  4  6"
      ]
     },
     "execution_count": 13,
     "metadata": {},
     "output_type": "execute_result"
    }
   ],
   "source": [
    "#Ejemplo 12: transpuesta\n",
    "\n",
    "A = [[1 2];\n",
    "    [3 4];\n",
    "    [5 6]]\n",
    "transpose(A)"
   ]
  },
  {
   "cell_type": "markdown",
   "metadata": {},
   "source": [
    "Ahora ya podemos hacer productos matriciales!!!"
   ]
  },
  {
   "cell_type": "code",
   "execution_count": 14,
   "metadata": {},
   "outputs": [
    {
     "data": {
      "text/plain": [
       "3×3 Array{Float64,2}:\n",
       " 11.5  25.3   39.1\n",
       " 25.3  57.5   89.7\n",
       " 39.1  89.7  140.3"
      ]
     },
     "execution_count": 14,
     "metadata": {},
     "output_type": "execute_result"
    }
   ],
   "source": [
    "# Ejemplo 13: producto matricial\n",
    "A = [[1 2];\n",
    "    [3 4];\n",
    "    [5 6]]\n",
    "B = transpose(A)*2.3\n",
    "A*B"
   ]
  },
  {
   "cell_type": "code",
   "execution_count": 15,
   "metadata": {},
   "outputs": [
    {
     "data": {
      "text/plain": [
       "2×2 Array{Float64,2}:\n",
       "  80.5  101.2\n",
       " 101.2  128.8"
      ]
     },
     "execution_count": 15,
     "metadata": {},
     "output_type": "execute_result"
    }
   ],
   "source": [
    "B*A"
   ]
  },
  {
   "cell_type": "markdown",
   "metadata": {},
   "source": [
    "Por último, algo en extremo útil (para resolver sistemas de ecuaciones, por ejemplo) es obtener la inversa de una matriz. Hay métodos más eficientes para resolver sistemas de matrices, que seguramente verán con David, pero por ahora bastará con obtener la inversa. "
   ]
  },
  {
   "cell_type": "code",
   "execution_count": 16,
   "metadata": {},
   "outputs": [
    {
     "data": {
      "text/plain": [
       "3×3 Array{Float64,2}:\n",
       "  1.0          0.0           0.0        \n",
       " -5.55112e-16  1.0          -4.44089e-16\n",
       " -9.99201e-16  8.88178e-16   1.0        "
      ]
     },
     "execution_count": 16,
     "metadata": {},
     "output_type": "execute_result"
    }
   ],
   "source": [
    "#Ejemplo 14: Inversa de una matriz\n",
    "\n",
    "A = [[1.2 2.5 3];\n",
    "    [3 4 5.3];\n",
    "    [5 6.8 7]]\n",
    "B = A^-1\n",
    "\n",
    "A*B"
   ]
  },
  {
   "cell_type": "markdown",
   "metadata": {},
   "source": [
    "[4] Resuelve numpericamente el siguiente sistema de ecuaciones: \n",
    "\n",
    "$$ 2x_1 + 2.5x_2 -4x_3 +5.33x_4 = 3$$\n",
    "$$ 3x_1 + 1.5x_2 -2x_3 -1.2x_4 = 1$$\n",
    "$$ x_1 - 6x_2 +3x_3 -3.x_4 = 22$$\n",
    "$$ 12x_1 - 2.5x_2 +x_3 +8.1x_4 = 0$$\n",
    "\n",
    "[5] Usando la función calculada en [3] haz otra función que calcule la matriz Jacobiana de una función vectorial  de $\\mathbb{R^m} \\rightarrow \\mathbb{R^n}$\n",
    "\n",
    "[6] Usa lo del ejercicio [17] de la primera parte de la tarea 3 para hacer una función que calcule las raices de funciones vectoriales. \n",
    "\n",
    "*** Nota: NO OLVIDES GUARDAR TODAS LAS FUNCIONES IMPORTANTES QUE HAYAS PROGRAMADO EN ESTA TAREA EN TU ARCHIVO \"herramientas.jl\" ***"
   ]
  },
  {
   "cell_type": "code",
   "execution_count": 16,
   "metadata": {},
   "outputs": [
    {
     "data": {
      "text/plain": [
       "4-element Array{Float64,1}:\n",
       " -0.444901\n",
       " -6.18294 \n",
       " -5.45944 \n",
       " -0.575197"
      ]
     },
     "execution_count": 16,
     "metadata": {},
     "output_type": "execute_result"
    }
   ],
   "source": [
    "# [4]\n",
    "A = [\n",
    "    [2 2.5 -4 4.33];\n",
    "    [3 1.5 -2 -1.2];\n",
    "    [1 -6 3 -3];\n",
    "    [12 -2.5 1 8.1]\n",
    "]\n",
    "b = [3; 1; 22; 0]\n",
    "x_sol = A^-1 * b"
   ]
  },
  {
   "cell_type": "code",
   "execution_count": null,
   "metadata": {
    "collapsed": true
   },
   "outputs": [],
   "source": [
    "# [5]\n",
    "function matriz_jacobiana(f)"
   ]
  },
  {
   "cell_type": "markdown",
   "metadata": {},
   "source": [
    "[7] Resuelve el siguiente sistema de ecuaciones numéricamente y comprueba el resultado (evalua los valores de las $x_i$ en las ecuaciones): \n",
    "\n",
    "$$ exp(x_1) + cos(x_2) -4x_3^4 +5.33x_4^2 = 3$$\n",
    "$$ 3x_1^4 + 1.5x_2^{-1} -2x_3^3 -1.2x_4^3 = 1$$\n",
    "$$ sin(x_1) - 6x_2 +x_3 -3.2x_4^2 = 22$$\n",
    "$$ 12x_1^{-1} - 2.5x_2 +x_3^2 +8.1x_4^3 = 0$$"
   ]
  },
  {
   "cell_type": "code",
   "execution_count": 44,
   "metadata": {
    "collapsed": true
   },
   "outputs": [],
   "source": [
    "A = Array[]\n",
    "for i in 1:100\n",
    "    push!(A,[1;2;3])\n",
    "end"
   ]
  },
  {
   "cell_type": "code",
   "execution_count": 45,
   "metadata": {},
   "outputs": [
    {
     "data": {
      "text/plain": [
       "100-element Array{Array,1}:\n",
       " [1, 2, 3]\n",
       " [1, 2, 3]\n",
       " [1, 2, 3]\n",
       " [1, 2, 3]\n",
       " [1, 2, 3]\n",
       " [1, 2, 3]\n",
       " [1, 2, 3]\n",
       " [1, 2, 3]\n",
       " [1, 2, 3]\n",
       " [1, 2, 3]\n",
       " [1, 2, 3]\n",
       " [1, 2, 3]\n",
       " [1, 2, 3]\n",
       " ⋮        \n",
       " [1, 2, 3]\n",
       " [1, 2, 3]\n",
       " [1, 2, 3]\n",
       " [1, 2, 3]\n",
       " [1, 2, 3]\n",
       " [1, 2, 3]\n",
       " [1, 2, 3]\n",
       " [1, 2, 3]\n",
       " [1, 2, 3]\n",
       " [1, 2, 3]\n",
       " [1, 2, 3]\n",
       " [1, 2, 3]"
      ]
     },
     "execution_count": 45,
     "metadata": {},
     "output_type": "execute_result"
    }
   ],
   "source": [
    "B = copy(A)"
   ]
  },
  {
   "cell_type": "code",
   "execution_count": 47,
   "metadata": {},
   "outputs": [
    {
     "data": {
      "text/plain": [
       "3-element Array{Int64,1}:\n",
       " 2\n",
       " 3\n",
       " 4"
      ]
     },
     "execution_count": 47,
     "metadata": {},
     "output_type": "execute_result"
    }
   ],
   "source": [
    "B[1] = [2;3;4]"
   ]
  },
  {
   "cell_type": "code",
   "execution_count": 50,
   "metadata": {},
   "outputs": [
    {
     "data": {
      "text/plain": [
       "3-element Array{Int64,1}:\n",
       " 3\n",
       " 4\n",
       " 5"
      ]
     },
     "execution_count": 50,
     "metadata": {},
     "output_type": "execute_result"
    }
   ],
   "source": [
    "A[2] = [3;4;5]"
   ]
  },
  {
   "cell_type": "code",
   "execution_count": 51,
   "metadata": {},
   "outputs": [
    {
     "data": {
      "text/plain": [
       "100-element Array{Array,1}:\n",
       " [2, 3, 4]\n",
       " [1, 2, 3]\n",
       " [1, 2, 3]\n",
       " [1, 2, 3]\n",
       " [1, 2, 3]\n",
       " [1, 2, 3]\n",
       " [1, 2, 3]\n",
       " [1, 2, 3]\n",
       " [1, 2, 3]\n",
       " [1, 2, 3]\n",
       " [1, 2, 3]\n",
       " [1, 2, 3]\n",
       " [1, 2, 3]\n",
       " ⋮        \n",
       " [1, 2, 3]\n",
       " [1, 2, 3]\n",
       " [1, 2, 3]\n",
       " [1, 2, 3]\n",
       " [1, 2, 3]\n",
       " [1, 2, 3]\n",
       " [1, 2, 3]\n",
       " [1, 2, 3]\n",
       " [1, 2, 3]\n",
       " [1, 2, 3]\n",
       " [1, 2, 3]\n",
       " [1, 2, 3]"
      ]
     },
     "execution_count": 51,
     "metadata": {},
     "output_type": "execute_result"
    }
   ],
   "source": [
    "B"
   ]
  },
  {
   "cell_type": "code",
   "execution_count": null,
   "metadata": {
    "collapsed": true
   },
   "outputs": [],
   "source": []
  }
 ],
 "metadata": {
  "kernelspec": {
   "display_name": "Julia 0.6.0",
   "language": "julia",
   "name": "julia-0.6"
  },
  "language_info": {
   "file_extension": ".jl",
   "mimetype": "application/julia",
   "name": "julia",
   "version": "0.6.0"
  }
 },
 "nbformat": 4,
 "nbformat_minor": 2
}
