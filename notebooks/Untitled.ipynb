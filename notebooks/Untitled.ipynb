{
 "cells": [
  {
   "cell_type": "code",
   "execution_count": 1,
   "metadata": {},
   "outputs": [
    {
     "data": {
      "text/plain": [
       "der_taylor (generic function with 2 methods)"
      ]
     },
     "execution_count": 1,
     "metadata": {},
     "output_type": "execute_result"
    }
   ],
   "source": [
    "include(\"herramientas.jl\")"
   ]
  },
  {
   "cell_type": "code",
   "execution_count": 2,
   "metadata": {},
   "outputs": [
    {
     "data": {
      "text/plain": [
       "0.0"
      ]
     },
     "execution_count": 2,
     "metadata": {},
     "output_type": "execute_result"
    }
   ],
   "source": [
    "newton_numerico(x -> x + sqrt(100 - x)tan(x*2e-15), 1)"
   ]
  },
  {
   "cell_type": "code",
   "execution_count": 3,
   "metadata": {},
   "outputs": [
    {
     "name": "stdout",
     "output_type": "stream",
     "text": [
      "0.0\n",
      "5.048709793414476e-29\n",
      "2.0194839173657902e-28\n",
      "-1.0097419586828951e-28\n",
      "0.0\n",
      "0.0\n",
      "0.0\n",
      "0.0\n",
      "4.0389678347315804e-28\n",
      "1.6155871338926322e-27\n",
      "-1.6155871338926322e-27\n",
      "0.0\n",
      "1.6155871338926322e-27\n",
      "0.0\n",
      "0.0\n",
      "1.6155871338926322e-27\n",
      "0.0\n",
      "0.0\n",
      "0.0\n",
      "0.0\n",
      "0.0\n",
      "-1.2924697071141057e-26\n",
      "0.0\n",
      "0.0\n",
      "0.0\n",
      "0.0\n",
      "0.0\n",
      "0.0\n",
      "0.0\n",
      "0.0\n",
      "0.0\n",
      "0.0\n",
      "0.0\n",
      "0.0\n",
      "0.0\n",
      "6.462348535570529e-27\n",
      "0.0\n",
      "6.462348535570529e-27\n",
      "0.0\n",
      "-6.462348535570529e-27\n",
      "1.2924697071141057e-26\n",
      "0.0\n",
      "2.5849394142282115e-26\n",
      "5.169878828456423e-26\n",
      "0.0\n",
      "2.5849394142282115e-26\n",
      "2.5849394142282115e-26\n",
      "0.0\n",
      "5.169878828456423e-26\n",
      "0.0\n"
     ]
    }
   ],
   "source": [
    "m = 1.672e-27\n",
    "ħ = 1.054e-34\n",
    "v0 = 36e6\n",
    "a = 2e-15\n",
    "k0 = sqrt(2 * m * v0) / ħ\n",
    "for guess in 1:50\n",
    "    println(newton_numerico(x -> x + (sqrt(k0^2 - x^2) * tan(x * a)), guess))\n",
    "end\n",
    "\n"
   ]
  },
  {
   "cell_type": "code",
   "execution_count": 4,
   "metadata": {},
   "outputs": [
    {
     "data": {
      "text/plain": [
       "8.671130548290727e-96"
      ]
     },
     "execution_count": 4,
     "metadata": {},
     "output_type": "execute_result"
    }
   ],
   "source": [
    "(1.6155871338926322e-27*ħ)^2 / (2m)"
   ]
  },
  {
   "cell_type": "code",
   "execution_count": 5,
   "metadata": {},
   "outputs": [
    {
     "data": {
      "text/plain": [
       "3.2918783213968033e24"
      ]
     },
     "execution_count": 5,
     "metadata": {},
     "output_type": "execute_result"
    }
   ],
   "source": [
    "k0"
   ]
  },
  {
   "cell_type": "code",
   "execution_count": 6,
   "metadata": {
    "collapsed": true
   },
   "outputs": [],
   "source": [
    "using Plots"
   ]
  },
  {
   "cell_type": "code",
   "execution_count": 14,
   "metadata": {},
   "outputs": [
    {
     "name": "stdout",
     "output_type": "stream",
     "text": [
      "1\t1.5552812449231666e-16\n",
      "2\t3.1415926531122293\n",
      "3\t3.1415926531126184\n",
      "4\t3.14159265311262\n",
      "5\t6.283185306225239\n",
      "6\t6.283185306224503\n",
      "7\t6.283185306225323\n",
      "8\t9.42477795933786\n",
      "9\t9.42477795933786\n",
      "10\t9.42477795933786\n",
      "11\t12.566370612450479\n",
      "12\t12.566370612450479\n",
      "13\t12.56637061245048\n",
      "14\t12.56637061245048\n",
      "15\t15.70796326556304\n",
      "16\t15.707963265564068\n",
      "17\t15.7079632655631\n",
      "18\t18.84955591867572\n",
      "19\t18.849555918675723\n",
      "20\t18.849555918676344\n",
      "21\t21.99114857178834\n",
      "22\t21.991148571788496\n",
      "23\t21.99114857178834\n",
      "24\t25.132741224900716\n",
      "25\t25.132741224900958\n",
      "26\t25.13274122490096\n",
      "27\t28.27433387801358\n",
      "28\t28.274333878013024\n",
      "29\t28.274333878013692\n",
      "30\t31.4159265311262\n",
      "31\t31.4159265311262\n",
      "32\t31.4159265311262\n",
      "33\t34.557519184238\n",
      "34\t34.55751918423882\n",
      "35\t34.55751918423882\n",
      "36\t34.55751918423883\n",
      "37\t37.699111837351396\n",
      "38\t37.6991118373527\n",
      "39\t37.69911183735144\n",
      "40\t40.84070449046406\n",
      "41\t40.84070449046406\n",
      "42\t40.84070449046505\n",
      "43\t43.98229714357668\n",
      "44\t43.98229714357792\n",
      "45\t43.98229714357668\n",
      "46\t47.12388979668915\n",
      "47\t47.1238897966893\n",
      "48\t47.1238897966893\n",
      "49\t50.26548244980192\n",
      "50\t50.2654824498015\n"
     ]
    }
   ],
   "source": [
    "g(x) = (ħ/a) * (x / sqrt(2m*v0 - (((ħ / a)^2)*x^2))) + tan(x)\n",
    "for guess in 1:50\n",
    "    print(guess)\n",
    "    print(\"\\t\")\n",
    "    println(newton_numerico(g, guess))\n",
    "end"
   ]
  },
  {
   "cell_type": "code",
   "execution_count": 28,
   "metadata": {},
   "outputs": [
    {
     "data": {
      "text/html": [
       "<?xml version=\"1.0\" encoding=\"utf-8\"?>\n",
       "<svg xmlns=\"http://www.w3.org/2000/svg\" xmlns:xlink=\"http://www.w3.org/1999/xlink\" width=\"600\" height=\"400\" viewBox=\"0 0 600 400\">\n",
       "<defs>\n",
       "  <clipPath id=\"clip00\">\n",
       "    <rect x=\"0\" y=\"0\" width=\"600\" height=\"400\"/>\n",
       "  </clipPath>\n",
       "</defs>\n",
       "<polygon clip-path=\"url(#clip00)\" points=\"\n",
       "0,400 600,400 600,0 0,0 \n",
       "  \" fill=\"#ffffff\" fill-opacity=\"1\"/>\n",
       "<defs>\n",
       "  <clipPath id=\"clip01\">\n",
       "    <rect x=\"120\" y=\"0\" width=\"421\" height=\"400\"/>\n",
       "  </clipPath>\n",
       "</defs>\n",
       "<polygon clip-path=\"url(#clip00)\" points=\"\n",
       "39.3701,376.378 592.126,376.378 592.126,7.87402 39.3701,7.87402 \n",
       "  \" fill=\"#ffffff\" fill-opacity=\"1\"/>\n",
       "<defs>\n",
       "  <clipPath id=\"clip02\">\n",
       "    <rect x=\"39\" y=\"7\" width=\"554\" height=\"370\"/>\n",
       "  </clipPath>\n",
       "</defs>\n",
       "<polyline clip-path=\"url(#clip02)\" style=\"stroke:#000000; stroke-width:0.5; stroke-opacity:0.1; fill:none\" points=\"\n",
       "  39.3701,370.85 39.3701,13.4016 \n",
       "  \"/>\n",
       "<polyline clip-path=\"url(#clip02)\" style=\"stroke:#000000; stroke-width:0.5; stroke-opacity:0.1; fill:none\" points=\"\n",
       "  177.559,370.85 177.559,13.4016 \n",
       "  \"/>\n",
       "<polyline clip-path=\"url(#clip02)\" style=\"stroke:#000000; stroke-width:0.5; stroke-opacity:0.1; fill:none\" points=\"\n",
       "  315.748,370.85 315.748,13.4016 \n",
       "  \"/>\n",
       "<polyline clip-path=\"url(#clip02)\" style=\"stroke:#000000; stroke-width:0.5; stroke-opacity:0.1; fill:none\" points=\"\n",
       "  453.937,370.85 453.937,13.4016 \n",
       "  \"/>\n",
       "<polyline clip-path=\"url(#clip02)\" style=\"stroke:#000000; stroke-width:0.5; stroke-opacity:0.1; fill:none\" points=\"\n",
       "  592.126,370.85 592.126,13.4016 \n",
       "  \"/>\n",
       "<polyline clip-path=\"url(#clip02)\" style=\"stroke:#000000; stroke-width:0.5; stroke-opacity:0.1; fill:none\" points=\"\n",
       "  47.6614,376.378 583.835,376.378 \n",
       "  \"/>\n",
       "<polyline clip-path=\"url(#clip02)\" style=\"stroke:#000000; stroke-width:0.5; stroke-opacity:0.1; fill:none\" points=\"\n",
       "  47.6614,284.252 583.835,284.252 \n",
       "  \"/>\n",
       "<polyline clip-path=\"url(#clip02)\" style=\"stroke:#000000; stroke-width:0.5; stroke-opacity:0.1; fill:none\" points=\"\n",
       "  47.6614,192.126 583.835,192.126 \n",
       "  \"/>\n",
       "<polyline clip-path=\"url(#clip02)\" style=\"stroke:#000000; stroke-width:0.5; stroke-opacity:0.1; fill:none\" points=\"\n",
       "  47.6614,100 583.835,100 \n",
       "  \"/>\n",
       "<polyline clip-path=\"url(#clip02)\" style=\"stroke:#000000; stroke-width:0.5; stroke-opacity:0.1; fill:none\" points=\"\n",
       "  47.6614,7.87402 583.835,7.87402 \n",
       "  \"/>\n",
       "<polyline clip-path=\"url(#clip00)\" style=\"stroke:#000000; stroke-width:1; stroke-opacity:1; fill:none\" points=\"\n",
       "  39.3701,376.378 592.126,376.378 \n",
       "  \"/>\n",
       "<polyline clip-path=\"url(#clip00)\" style=\"stroke:#000000; stroke-width:1; stroke-opacity:1; fill:none\" points=\"\n",
       "  39.3701,376.378 39.3701,370.85 \n",
       "  \"/>\n",
       "<polyline clip-path=\"url(#clip00)\" style=\"stroke:#000000; stroke-width:1; stroke-opacity:1; fill:none\" points=\"\n",
       "  177.559,376.378 177.559,370.85 \n",
       "  \"/>\n",
       "<polyline clip-path=\"url(#clip00)\" style=\"stroke:#000000; stroke-width:1; stroke-opacity:1; fill:none\" points=\"\n",
       "  315.748,376.378 315.748,370.85 \n",
       "  \"/>\n",
       "<polyline clip-path=\"url(#clip00)\" style=\"stroke:#000000; stroke-width:1; stroke-opacity:1; fill:none\" points=\"\n",
       "  453.937,376.378 453.937,370.85 \n",
       "  \"/>\n",
       "<polyline clip-path=\"url(#clip00)\" style=\"stroke:#000000; stroke-width:1; stroke-opacity:1; fill:none\" points=\"\n",
       "  592.126,376.378 592.126,370.85 \n",
       "  \"/>\n",
       "<polyline clip-path=\"url(#clip00)\" style=\"stroke:#000000; stroke-width:1; stroke-opacity:1; fill:none\" points=\"\n",
       "  39.3701,376.378 39.3701,7.87402 \n",
       "  \"/>\n",
       "<polyline clip-path=\"url(#clip00)\" style=\"stroke:#000000; stroke-width:1; stroke-opacity:1; fill:none\" points=\"\n",
       "  39.3701,376.378 47.6614,376.378 \n",
       "  \"/>\n",
       "<polyline clip-path=\"url(#clip00)\" style=\"stroke:#000000; stroke-width:1; stroke-opacity:1; fill:none\" points=\"\n",
       "  39.3701,284.252 47.6614,284.252 \n",
       "  \"/>\n",
       "<polyline clip-path=\"url(#clip00)\" style=\"stroke:#000000; stroke-width:1; stroke-opacity:1; fill:none\" points=\"\n",
       "  39.3701,192.126 47.6614,192.126 \n",
       "  \"/>\n",
       "<polyline clip-path=\"url(#clip00)\" style=\"stroke:#000000; stroke-width:1; stroke-opacity:1; fill:none\" points=\"\n",
       "  39.3701,100 47.6614,100 \n",
       "  \"/>\n",
       "<polyline clip-path=\"url(#clip00)\" style=\"stroke:#000000; stroke-width:1; stroke-opacity:1; fill:none\" points=\"\n",
       "  39.3701,7.87402 47.6614,7.87402 \n",
       "  \"/>\n",
       "<g clip-path=\"url(#clip00)\">\n",
       "<text style=\"fill:#000000; fill-opacity:1; font-family:Arial,Helvetica Neue,Helvetica,sans-serif; font-size:12; text-anchor:middle;\" transform=\"rotate(0, 39.3701, 390.178)\" x=\"39.3701\" y=\"390.178\">-5.0</text>\n",
       "</g>\n",
       "<g clip-path=\"url(#clip00)\">\n",
       "<text style=\"fill:#000000; fill-opacity:1; font-family:Arial,Helvetica Neue,Helvetica,sans-serif; font-size:12; text-anchor:middle;\" transform=\"rotate(0, 177.559, 390.178)\" x=\"177.559\" y=\"390.178\">-2.5</text>\n",
       "</g>\n",
       "<g clip-path=\"url(#clip00)\">\n",
       "<text style=\"fill:#000000; fill-opacity:1; font-family:Arial,Helvetica Neue,Helvetica,sans-serif; font-size:12; text-anchor:middle;\" transform=\"rotate(0, 315.748, 390.178)\" x=\"315.748\" y=\"390.178\">0.0</text>\n",
       "</g>\n",
       "<g clip-path=\"url(#clip00)\">\n",
       "<text style=\"fill:#000000; fill-opacity:1; font-family:Arial,Helvetica Neue,Helvetica,sans-serif; font-size:12; text-anchor:middle;\" transform=\"rotate(0, 453.937, 390.178)\" x=\"453.937\" y=\"390.178\">2.5</text>\n",
       "</g>\n",
       "<g clip-path=\"url(#clip00)\">\n",
       "<text style=\"fill:#000000; fill-opacity:1; font-family:Arial,Helvetica Neue,Helvetica,sans-serif; font-size:12; text-anchor:middle;\" transform=\"rotate(0, 592.126, 390.178)\" x=\"592.126\" y=\"390.178\">5.0</text>\n",
       "</g>\n",
       "<g clip-path=\"url(#clip00)\">\n",
       "<text style=\"fill:#000000; fill-opacity:1; font-family:Arial,Helvetica Neue,Helvetica,sans-serif; font-size:12; text-anchor:end;\" transform=\"rotate(0, 33.3701, 380.878)\" x=\"33.3701\" y=\"380.878\">-20</text>\n",
       "</g>\n",
       "<g clip-path=\"url(#clip00)\">\n",
       "<text style=\"fill:#000000; fill-opacity:1; font-family:Arial,Helvetica Neue,Helvetica,sans-serif; font-size:12; text-anchor:end;\" transform=\"rotate(0, 33.3701, 288.752)\" x=\"33.3701\" y=\"288.752\">-10</text>\n",
       "</g>\n",
       "<g clip-path=\"url(#clip00)\">\n",
       "<text style=\"fill:#000000; fill-opacity:1; font-family:Arial,Helvetica Neue,Helvetica,sans-serif; font-size:12; text-anchor:end;\" transform=\"rotate(0, 33.3701, 196.626)\" x=\"33.3701\" y=\"196.626\">0</text>\n",
       "</g>\n",
       "<g clip-path=\"url(#clip00)\">\n",
       "<text style=\"fill:#000000; fill-opacity:1; font-family:Arial,Helvetica Neue,Helvetica,sans-serif; font-size:12; text-anchor:end;\" transform=\"rotate(0, 33.3701, 104.5)\" x=\"33.3701\" y=\"104.5\">10</text>\n",
       "</g>\n",
       "<g clip-path=\"url(#clip00)\">\n",
       "<text style=\"fill:#000000; fill-opacity:1; font-family:Arial,Helvetica Neue,Helvetica,sans-serif; font-size:12; text-anchor:end;\" transform=\"rotate(0, 33.3701, 12.374)\" x=\"33.3701\" y=\"12.374\">20</text>\n",
       "</g>\n",
       "<polyline clip-path=\"url(#clip02)\" style=\"stroke:#009af9; stroke-width:1; stroke-opacity:1; fill:none\" points=\"\n",
       "  39.7075,160.269 40.0448,159.525 40.3822,158.748 40.7196,157.935 41.057,157.085 41.3944,156.195 41.7318,155.261 42.0691,154.28 42.4065,153.249 42.7439,152.164 \n",
       "  43.0813,151.019 43.4187,149.811 44.0934,147.178 44.7682,144.211 47.8878,123.536 51.0074,72.8412 51.7873,46.0174 52.5672,3.72701 53.3471,-72.8685 54.1269,-254.114 \n",
       "  54.5169,-485.857 54.9068,-1218.06 55.2968,17846.5 55.6867,1408.05 56.0767,821.741 56.4666,616.883 56.8566,512.584 57.2465,449.388 58.8063,335.846 60.3661,291.728 \n",
       "  61.9259,268.24 63.4857,253.636 66.6053,236.411 69.7249,226.543 75.964,215.571 82.2032,209.511 88.4424,205.587 94.6816,202.779 98.431,201.422 102.181,200.24 \n",
       "  105.93,199.192 109.679,198.247 113.429,197.384 117.178,196.585 120.928,195.837 124.677,195.129 131.018,193.997 137.358,192.917 143.698,191.859 150.039,190.793 \n",
       "  156.926,189.593 163.813,188.308 170.7,186.882 177.588,185.237 183.937,183.423 190.287,181.165 196.636,178.189 202.986,173.954 204.688,172.477 206.389,170.791 \n",
       "  208.091,168.847 209.793,166.575 210.644,165.287 211.495,163.879 212.346,162.33 213.197,160.62 214.048,158.719 214.899,156.594 215.75,154.2 216.6,151.482 \n",
       "  217.451,148.368 218.302,144.763 219.153,140.538 220.004,135.516 220.855,129.444 221.706,121.952 222.557,112.468 223.408,100.073 224.259,83.17 225.11,58.7419 \n",
       "  225.961,20.3 226.811,-49.1106 227.237,-110.096 227.662,-212.283 227.875,-294.536 228.088,-418.767 228.301,-628.131 228.513,-1055.77 228.726,-2414.83 228.939,29468.4 \n",
       "  229.151,2404.98 229.364,1341.99 229.577,968.853 229.79,778.54 230.002,663.123 230.215,585.657 230.708,477.039 231.201,415.382 231.694,375.639 232.187,347.887 \n",
       "  233.173,311.67 234.159,289.068 235.144,273.609 236.13,262.363 237.116,253.81 238.102,247.082 240.074,237.166 242.046,230.195 244.017,225.016 245.989,221.008 \n",
       "  249.933,215.184 253.876,211.127 257.819,208.112 261.763,205.763 268.772,202.61 275.781,200.256 282.79,198.378 289.799,196.799 295.945,195.575 302.091,194.45 \n",
       "  308.238,193.385 314.384,192.353 327.786,190.087 341.188,187.559 354.67,184.301 368.152,179.296 370.015,178.338 371.878,177.278 373.742,176.096 375.605,174.767 \n",
       "  377.468,173.258 379.331,171.524 381.195,169.508 383.058,167.128 384.921,164.268 386.784,160.759 388.647,156.339 390.511,150.587 391.442,147.003 392.374,142.773 \n",
       "  393.306,137.704 394.237,131.513 394.703,127.873 395.169,123.778 395.635,119.137 396.1,113.832 396.566,107.708 397.032,100.56 397.498,92.1041 397.964,81.9456 \n",
       "  398.407,70.1772 398.85,55.6141 399.293,37.1238 399.736,12.8664 399.958,-2.34059 400.18,-20.3594 400.401,-42.0501 400.623,-68.6632 401.066,-145.334 401.509,-285.771 \n",
       "  401.731,-411.301 401.952,-626.236 402.174,-1078.93 402.396,-2652.31 402.617,12152.7 402.839,2119.72 403.061,1240.37 403.282,911.968 403.504,740.234 403.725,634.646 \n",
       "  403.947,563.159 404.169,511.547 404.612,442.004 405.055,397.307 405.941,343.198 406.828,311.624 407.714,290.924 408.601,276.299 410.373,256.99 412.146,244.796 \n",
       "  413.919,236.383 415.692,230.216 417.465,225.494 419.237,221.756 422.783,216.192 426.329,212.227 433.702,206.719 441.075,203.141 448.449,200.553 455.822,198.531 \n",
       "  462.029,197.102 468.235,195.837 474.442,194.682 480.649,193.597 488.227,192.322 495.804,191.054 503.382,189.745 510.96,188.339 518.083,186.865 525.206,185.155 \n",
       "  532.329,183.074 539.453,180.385 542.306,179.048 545.159,177.499 548.012,175.674 550.865,173.478 553.718,170.768 556.571,167.322 559.424,162.762 562.277,156.404 \n",
       "  563.703,152.166 565.13,146.86 566.556,140.013 567.983,130.824 569.409,117.824 570.836,97.9877 572.262,63.9382 573.689,-8.27931 574.402,-86.6555 575.115,-265.459 \n",
       "  575.472,-481.338 575.829,-1082.64 576.185,-11695.2 576.542,1814.96 576.899,951.666 577.255,687.893 577.612,560.08 577.968,484.642 578.682,399.539 579.395,352.753 \n",
       "  580.821,302.735 582.248,276.384 583.674,260.099 585.101,249.025 585.54,246.294 585.979,243.807 586.418,241.532 586.857,239.443 587.735,235.738 588.613,232.551 \n",
       "  589.492,229.78 590.37,227.346 591.248,225.192 \n",
       "  \"/>\n",
       "<polyline clip-path=\"url(#clip02)\" style=\"stroke:#e26f46; stroke-width:1; stroke-opacity:1; fill:none\" points=\"\n",
       "  42.0691,194.369 44.7682,193.897 69.7249,189.66 94.6816,184.159 102.181,181.666 109.679,178.26 113.429,175.983 117.178,173.092 120.928,169.255 124.677,163.863 \n",
       "  127.848,157.178 131.018,146.771 132.603,139.005 134.188,128.162 135.773,111.925 137.358,84.8812 138.15,63.2346 138.943,30.7232 139.736,-23.603 140.528,-132.853 \n",
       "  140.924,-242.945 141.321,-465.742 141.519,-692.109 141.717,-1155.93 141.915,-2643.03 142.113,27686.9 142.311,2542.54 142.509,1419.79 142.708,1022.92 142.906,819.944 \n",
       "  143.302,613.845 143.698,509.594 144.491,404.516 145.283,351.65 146.076,319.814 146.868,298.534 148.453,271.855 150.039,255.788 156.926,225.633 163.813,214.354 \n",
       "  170.7,208.309 177.588,204.445 190.287,199.869 202.986,196.796 230.215,191.91 261.763,185.902 275.781,181.687 289.799,173.965 292.872,171.151 295.945,167.521 \n",
       "  299.018,162.622 302.091,155.599 303.628,150.786 305.165,144.599 306.701,136.341 308.238,124.739 309.774,107.213 311.311,77.607 312.079,53.5316 312.847,16.7252 \n",
       "  313.616,-46.5738 314.384,-181.131 314.593,-248.853 314.803,-346.578 315.012,-499.922 315.222,-775.265 315.431,-1414.41 315.64,-4542.1 315.85,5192.19 316.059,1828.18 \n",
       "  316.269,1170.14 316.478,889.596 316.688,734.11 316.897,635.301 317.316,516.865 317.735,448.359 318.572,372.282 319.41,330.989 320.247,305.053 321.085,287.244 \n",
       "  322.76,264.355 324.436,250.258 326.111,240.689 327.786,233.757 331.137,224.358 334.487,218.252 337.838,213.938 341.188,210.709 354.67,202.972 368.152,198.741 \n",
       "  397.964,192.896 426.329,187.904 441.075,184.421 455.822,178.874 462.029,175.069 468.235,169.255 471.339,164.944 474.442,158.92 477.545,149.835 480.649,134.433 \n",
       "  482.543,118.256 484.438,89.812 485.385,65.5657 486.332,26.3869 486.806,-3.91069 487.279,-47.72 487.753,-116.686 488.227,-241.233 488.463,-350.655 488.7,-533.964 \n",
       "  488.937,-904.165 489.174,-2044.38 489.411,56065.2 489.647,2262.85 489.884,1247.02 490.121,899.819 490.358,724.559 490.595,618.862 490.831,548.169 491.068,497.559 \n",
       "  491.542,429.927 492.015,386.794 493.91,304.828 495.804,271.302 499.593,241.524 503.382,227.77 507.171,219.79 510.96,214.537 518.083,208.258 525.206,204.301 \n",
       "  532.329,201.502 539.453,199.355 562.277,194.502 585.101,190.634 588.613,190.027 \n",
       "  \"/>\n",
       "<polygon clip-path=\"url(#clip00)\" points=\"\n",
       "501.61,74.114 574.126,74.114 574.126,28.754 501.61,28.754 \n",
       "  \" fill=\"#ffffff\" fill-opacity=\"1\"/>\n",
       "<polyline clip-path=\"url(#clip00)\" style=\"stroke:#000000; stroke-width:1; stroke-opacity:1; fill:none\" points=\"\n",
       "  501.61,74.114 574.126,74.114 574.126,28.754 501.61,28.754 501.61,74.114 \n",
       "  \"/>\n",
       "<polyline clip-path=\"url(#clip00)\" style=\"stroke:#009af9; stroke-width:1; stroke-opacity:1; fill:none\" points=\"\n",
       "  507.61,43.874 543.61,43.874 \n",
       "  \"/>\n",
       "<g clip-path=\"url(#clip00)\">\n",
       "<text style=\"fill:#000000; fill-opacity:1; font-family:Arial,Helvetica Neue,Helvetica,sans-serif; font-size:12; text-anchor:start;\" transform=\"rotate(0, 549.61, 48.374)\" x=\"549.61\" y=\"48.374\">y1</text>\n",
       "</g>\n",
       "<polyline clip-path=\"url(#clip00)\" style=\"stroke:#e26f46; stroke-width:1; stroke-opacity:1; fill:none\" points=\"\n",
       "  507.61,58.994 543.61,58.994 \n",
       "  \"/>\n",
       "<g clip-path=\"url(#clip00)\">\n",
       "<text style=\"fill:#000000; fill-opacity:1; font-family:Arial,Helvetica Neue,Helvetica,sans-serif; font-size:12; text-anchor:start;\" transform=\"rotate(0, 549.61, 63.494)\" x=\"549.61\" y=\"63.494\">y2</text>\n",
       "</g>\n",
       "</svg>\n"
      ]
     },
     "execution_count": 28,
     "metadata": {},
     "output_type": "execute_result"
    }
   ],
   "source": [
    "par(x) = (ħ/a) * (x / sqrt(2m*v0 - (((ħ / a)^2)*x^2))) - cot(x)\n",
    "plot(g, xlims=(-5,5), ylims=(-20,20))\n",
    "plot!(par)"
   ]
  },
  {
   "cell_type": "code",
   "execution_count": 27,
   "metadata": {},
   "outputs": [
    {
     "data": {
      "text/plain": [
       "1.5707963265563025"
      ]
     },
     "execution_count": 27,
     "metadata": {},
     "output_type": "execute_result"
    }
   ],
   "source": [
    "newton_numerico(par, 0.5)"
   ]
  },
  {
   "cell_type": "code",
   "execution_count": 31,
   "metadata": {},
   "outputs": [
    {
     "data": {
      "text/plain": [
       "toenergy (generic function with 1 method)"
      ]
     },
     "execution_count": 31,
     "metadata": {},
     "output_type": "execute_result"
    }
   ],
   "source": [
    "function toenergy(x)\n",
    "    return (v0 - ((1/2m)*((ħ/a)^2)*x^2))\n",
    "end"
   ]
  },
  {
   "cell_type": "code",
   "execution_count": 38,
   "metadata": {},
   "outputs": [
    {
     "data": {
      "text/plain": [
       "3.6e7"
      ]
     },
     "execution_count": 38,
     "metadata": {},
     "output_type": "execute_result"
    }
   ],
   "source": [
    "toenergy(47.12388979668915)"
   ]
  },
  {
   "cell_type": "code",
   "execution_count": 34,
   "metadata": {},
   "outputs": [
    {
     "name": "stdout",
     "output_type": "stream",
     "text": [
      "6.641758837615806e6\n",
      "4.246665147249637e6\n",
      "4.310668814381061e6\n",
      "5.398966775083391e6\n",
      "2.9360429579637866e6\n",
      "8.030099908186143e6\n",
      "6.247093118945278e6\n",
      "5.576850034285458e6\n",
      "6.1209707403050605e6\n",
      "3.0324490116365314e6\n",
      "6.170306311340174e6\n",
      "4.1396373687276565e6\n",
      "3.9872512754742536e6\n",
      "3.425245482490446e6\n",
      "3.9514622519648587e6\n",
      "3.915506724040547e6\n",
      "3.2901978390721916e6\n",
      "4.378671728960786e6\n",
      "7.916356384106477e6\n",
      "2.947682558281863e6\n"
     ]
    }
   ],
   "source": [
    "z0 = (a/ħ)*sqrt(2m*v0)\n",
    "z(x) = tan(x) - sqrt((z0/x)^2 - 1)\n",
    "for guess in 1:20\n",
    "    println(newton_numerico(z, guess))\n",
    "end"
   ]
  },
  {
   "cell_type": "code",
   "execution_count": 39,
   "metadata": {},
   "outputs": [
    {
     "data": {
      "text/plain": [
       "8.305293062200954e-13"
      ]
     },
     "execution_count": 39,
     "metadata": {},
     "output_type": "execute_result"
    }
   ],
   "source": [
    "(1/2m)*((ħ/a)^2)"
   ]
  }
 ],
 "metadata": {
  "kernelspec": {
   "display_name": "Julia 0.6.0",
   "language": "julia",
   "name": "julia-0.6"
  },
  "language_info": {
   "file_extension": ".jl",
   "mimetype": "application/julia",
   "name": "julia",
   "version": "0.6.0"
  }
 },
 "nbformat": 4,
 "nbformat_minor": 2
}
