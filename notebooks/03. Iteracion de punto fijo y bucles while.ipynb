{
 "cells": [
  {
   "cell_type": "markdown",
   "metadata": {},
   "source": [
    "# ¿Qué es un algoritmo?"
   ]
  },
  {
   "cell_type": "markdown",
   "metadata": {},
   "source": [
    "En este notebook, empezaremos nuestro estudio de algoritmos computacionales."
   ]
  },
  {
   "cell_type": "markdown",
   "metadata": {},
   "source": [
    "Un **algoritmo** es una \"receta\" computacional, que consiste en una serie de instrucciones para que la computadora lleve a cabo un cálculo dado. Gran parte del curso consistirá en desarrollar algoritmos para calcular, de forma numérica, distintas cantidades en la física, a partir de algún modelo matemático. El campo que se ocupa de diseñar y estudiar estos algoritmos es el **análisis numérico**. Su aplicación a problemas de física se puede decir que constituye la **física computacional**.\n",
    "\n",
    "Algunos algoritmos (por ejemplo, la eliminación gaussiana que veremos más adelante) proveen una manera de llevar a cabo un cálculo de manera \"exacta\" (dentro de las restricciones impuestas por el uso de números con precisión finita) en un número finito de pasos.\n",
    "\n",
    "Sin embargo, en general, no podemos esperar que haya una fórmula analítica cerrada para calcular las cantidades de interés de manera exacta. En este caso, será necesario emplear un algoritmo **iterativo**, que en principio podría correr ¡por un tiempo infinito! Lo pararemos cuando pensemos que el problema ya se resolvió de forma \"suficientemente buena\"."
   ]
  },
  {
   "cell_type": "markdown",
   "metadata": {},
   "source": [
    "## Algoritmos iterativos"
   ]
  },
  {
   "cell_type": "markdown",
   "metadata": {},
   "source": [
    "Un **algoritmo iterativo** repite un mismo cálculo un gran número de veces, modificando un valor (o varios valores) en el proceso, hasta que (en el mejor de los casos) converja a una solución.\n",
    "\n",
    "Un algorithmo iterativo empieza desde una adivinanza inicial $x_0$, y aplica un procedimiento / receta matemática, o sea alguna función $f$ (que puede ser complicada), para producir una siguiente adivinanza $x_1 := f(x_0)$. Esto se repite para producir una secuencia $x_0, x_1, \\ldots, x_n, \\ldots$, tales que\n",
    "\n",
    "$$x_1 = f(x_0)$$\n",
    "$$x_2 = f(x_1)$$\n",
    "$$x_3 = f(x_2)$$\n",
    "\n",
    "etc. En general, escribimos una iteración como \n",
    "\n",
    "$$x_{n+1} := f(x_n).$$\n",
    "\n",
    "La esperanza es que la secuencia $x_n$ converja hacia un valor límite $x^*$ cuando $n \\to \\infty$, y que el $x^*$ resultante sea solución del problema original.\n",
    "\n",
    "Dado que no podemos llevar a cabo la iteración un número infinito de veces, se corta la iteración después de un cierto número de pasos, para dar una solución *aproximada*, que se acerca dentro de cierta *tolerancia* al resultado teórico exacto $x^*$. Por lo tanto, cualquier algoritmo iterativo requiere una condición de terminación.\n",
    "\n",
    "En la computadora, no pensamos en escribir $x_n$, sino pensamos en el **valor actual** de $x$, y el **valor siguiente** de $x$. Dentro del bucle, usamos el valor actual de $x$ para calcular el valor nuevo. Al final del bucle, debemos actualizar el \"valor actual\"."
   ]
  },
  {
   "cell_type": "markdown",
   "metadata": {},
   "source": [
    "# Iteraciones de punto fijo"
   ]
  },
  {
   "cell_type": "markdown",
   "metadata": {},
   "source": [
    "**[1]** (i) Define la función $f_1(x) = \\frac{x}{2} - 1$.\n",
    "\n",
    "(ii) Toma una condición inicial $x_0$ y lleva a cabo la iteración a mano. ¿Qué observas?\n",
    "\n",
    "(iii) Utiliza un bucle `for` para ver cómo son los primeros $N$ iterados $x_n$. Haz una función que tome como argumento $x_0$ y $N$.\n",
    "\n",
    "(iv) Repite la iteración para varios valores de $x_0$. ¿Qué observas?"
   ]
  },
  {
   "cell_type": "code",
   "execution_count": 1,
   "metadata": {},
   "outputs": [
    {
     "data": {
      "text/plain": [
       "5"
      ]
     },
     "execution_count": 1,
     "metadata": {},
     "output_type": "execute_result"
    }
   ],
   "source": [
    "f(x) = x/2 - 1\n",
    "x0 = 5"
   ]
  },
  {
   "cell_type": "code",
   "execution_count": 2,
   "metadata": {},
   "outputs": [
    {
     "data": {
      "text/plain": [
       "1.5"
      ]
     },
     "execution_count": 2,
     "metadata": {},
     "output_type": "execute_result"
    }
   ],
   "source": [
    "x0 = f(x0)"
   ]
  },
  {
   "cell_type": "code",
   "execution_count": 5,
   "metadata": {},
   "outputs": [
    {
     "data": {
      "text/plain": [
       "iterar (generic function with 1 method)"
      ]
     },
     "execution_count": 5,
     "metadata": {},
     "output_type": "execute_result"
    }
   ],
   "source": [
    "function iterar(x0, n)\n",
    "    xi = x0\n",
    "    @show xi\n",
    "    for i in 1:n\n",
    "        xi = f(xi)\n",
    "        @show xi\n",
    "    end\n",
    "end"
   ]
  },
  {
   "cell_type": "code",
   "execution_count": 6,
   "metadata": {},
   "outputs": [
    {
     "name": "stdout",
     "output_type": "stream",
     "text": [
      "xi = 10\n",
      "xi = 4.0\n",
      "xi = 1.0\n",
      "xi = -0.5\n",
      "xi = -1.25\n",
      "xi = -1.625\n",
      "xi = -1.8125\n",
      "xi = -1.90625\n",
      "xi = -1.953125\n",
      "xi = -1.9765625\n",
      "xi = -1.98828125\n",
      "xi = -1.994140625\n",
      "xi = -1.9970703125\n",
      "xi = -1.99853515625\n",
      "xi = -1.999267578125\n",
      "xi = -1.9996337890625\n",
      "xi = -1.99981689453125\n",
      "xi = -1.999908447265625\n",
      "xi = -1.9999542236328125\n",
      "xi = -1.9999771118164062\n",
      "xi = -1.9999885559082031\n"
     ]
    }
   ],
   "source": [
    "iterar(10, 20)"
   ]
  },
  {
   "cell_type": "code",
   "execution_count": 7,
   "metadata": {},
   "outputs": [
    {
     "name": "stdout",
     "output_type": "stream",
     "text": [
      "xi = 20\n",
      "xi = 9.0\n",
      "xi = 3.5\n",
      "xi = 0.75\n",
      "xi = -0.625\n",
      "xi = -1.3125\n",
      "xi = -1.65625\n",
      "xi = -1.828125\n",
      "xi = -1.9140625\n",
      "xi = -1.95703125\n",
      "xi = -1.978515625\n",
      "xi = -1.9892578125\n",
      "xi = -1.99462890625\n",
      "xi = -1.997314453125\n",
      "xi = -1.9986572265625\n",
      "xi = -1.99932861328125\n",
      "xi = -1.999664306640625\n",
      "xi = -1.9998321533203125\n",
      "xi = -1.9999160766601562\n",
      "xi = -1.9999580383300781\n",
      "xi = -1.999979019165039\n"
     ]
    }
   ],
   "source": [
    "iterar(20,20)"
   ]
  },
  {
   "cell_type": "code",
   "execution_count": 10,
   "metadata": {},
   "outputs": [
    {
     "name": "stdout",
     "output_type": "stream",
     "text": [
      "xi = 30\n",
      "xi = 14.0\n",
      "xi = 6.0\n",
      "xi = 2.0\n",
      "xi = 0.0\n",
      "xi = -1.0\n",
      "xi = -1.5\n",
      "xi = -1.75\n",
      "xi = -1.875\n",
      "xi = -1.9375\n",
      "xi = -1.96875\n",
      "xi = -1.984375\n",
      "xi = -1.9921875\n",
      "xi = -1.99609375\n",
      "xi = -1.998046875\n",
      "xi = -1.9990234375\n",
      "xi = -1.99951171875\n",
      "xi = -1.999755859375\n",
      "xi = -1.9998779296875\n",
      "xi = -1.99993896484375\n",
      "xi = -1.999969482421875\n"
     ]
    }
   ],
   "source": [
    "iterar(30,20)"
   ]
  },
  {
   "cell_type": "code",
   "execution_count": 11,
   "metadata": {},
   "outputs": [
    {
     "name": "stdout",
     "output_type": "stream",
     "text": [
      "xi = 40\n",
      "xi = 19.0\n",
      "xi = 8.5\n",
      "xi = 3.25\n",
      "xi = 0.625\n",
      "xi = -0.6875\n",
      "xi = -1.34375\n",
      "xi = -1.671875\n",
      "xi = -1.8359375\n",
      "xi = -1.91796875\n",
      "xi = -1.958984375\n",
      "xi = -1.9794921875\n",
      "xi = -1.98974609375\n",
      "xi = -1.994873046875\n",
      "xi = -1.9974365234375\n",
      "xi = -1.99871826171875\n",
      "xi = -1.999359130859375\n",
      "xi = -1.9996795654296875\n",
      "xi = -1.9998397827148438\n",
      "xi = -1.9999198913574219\n",
      "xi = -1.999959945678711\n"
     ]
    }
   ],
   "source": [
    "iterar(40,20)"
   ]
  },
  {
   "cell_type": "markdown",
   "metadata": {},
   "source": [
    "Para distintos valores de $x_0$ tras algunas iteraciones el valor de $x_i$ siempre se va hacía el mismo punto."
   ]
  },
  {
   "cell_type": "markdown",
   "metadata": {},
   "source": [
    "**[2]** (i) Define una función `iterar` que lleva a cabo lo que hiciste en la pregunta 1. Debe aceptar como su primer argumento (el nombre de) *la función `f` que iterar*, así como el número de veces que se iterará, y la condición inicial.\n",
    "\n",
    "(ii) Utilízalo para iterar la función $f_2(x) = \\cos(x)$.\n",
    "\n",
    "(iii) ¿Adónde converge la iteración? ¿Cuál ecuación hemos resuelto?\n"
   ]
  },
  {
   "cell_type": "code",
   "execution_count": 14,
   "metadata": {},
   "outputs": [
    {
     "data": {
      "text/plain": [
       "iterar (generic function with 2 methods)"
      ]
     },
     "execution_count": 14,
     "metadata": {},
     "output_type": "execute_result"
    }
   ],
   "source": [
    "function iterar(f, n, x0)\n",
    "    xi = x0\n",
    "    @show xi\n",
    "    for i in 1:n\n",
    "        xi = f(xi)\n",
    "        @show xi\n",
    "    end\n",
    "end"
   ]
  },
  {
   "cell_type": "code",
   "execution_count": 15,
   "metadata": {},
   "outputs": [
    {
     "name": "stdout",
     "output_type": "stream",
     "text": [
      "xi = 5\n",
      "xi = 0.28366218546322625\n",
      "xi = 0.9600369302946615\n",
      "xi = 0.5734897326953653\n",
      "xi = 0.8400126809521591\n",
      "xi = 0.6674533830038623\n",
      "xi = 0.7854005359989481\n",
      "xi = 0.7071051035019478\n",
      "xi = 0.7602456869604484\n",
      "xi = 0.7246667298504657\n",
      "xi = 0.7487203836426739\n"
     ]
    }
   ],
   "source": [
    "iterar(cos, 10, 5)"
   ]
  },
  {
   "cell_type": "code",
   "execution_count": null,
   "metadata": {
    "collapsed": true
   },
   "outputs": [],
   "source": []
  },
  {
   "cell_type": "markdown",
   "metadata": {},
   "source": [
    "**[3]** Ahora queremos graficar. \n",
    "\n",
    "(i) Modifica la función `iterar` para que vaya guardando los valores de $x_n$ en un arreglo, el cual regresa.\n",
    "\n",
    "(ii) Utiliza el paquete `Plots` para graficar el resultado. ¡Ten cuidado con el tipo de gráfica que dibujas: deben ser puntos! Para eso puedes utilizar la función `scatter`.\n",
    "\n",
    "(iii) Grafica la trayectoria para varios valores de $x_0$ en una sola gráfica. [Utiliza `scatter!`, con `!` al final, para *agregar* más información a un `plot` ya existente.] ¿Qué observas?\n",
    "\n",
    "(iv) Importa el paquete `Interact` y utiliza `@manipulate` antes de un bucle `for` sobre `x_0` para ver cómo cambia la visualización (de una sola condición inicial) de forma interactiva."
   ]
  },
  {
   "cell_type": "code",
   "execution_count": 21,
   "metadata": {},
   "outputs": [
    {
     "data": {
      "text/plain": [
       "iterar (generic function with 2 methods)"
      ]
     },
     "execution_count": 21,
     "metadata": {},
     "output_type": "execute_result"
    }
   ],
   "source": [
    "function iterar(f, n, x0)\n",
    "    xi = x0\n",
    "    iteraciones = []\n",
    "    for i in 1:n\n",
    "        xi = f(xi)\n",
    "        push!(iteraciones, xi)\n",
    "    end\n",
    "    return iteraciones\n",
    "end"
   ]
  },
  {
   "cell_type": "code",
   "execution_count": 22,
   "metadata": {},
   "outputs": [
    {
     "data": {
      "text/plain": [
       "20-element Array{Any,1}:\n",
       " -0.839072\n",
       "  0.668154\n",
       "  0.784967\n",
       "  0.707412\n",
       "  0.760046\n",
       "  0.724804\n",
       "  0.748629\n",
       "  0.732622\n",
       "  0.743423\n",
       "  0.736156\n",
       "  0.741055\n",
       "  0.737757\n",
       "  0.739979\n",
       "  0.738483\n",
       "  0.739491\n",
       "  0.738812\n",
       "  0.739269\n",
       "  0.738961\n",
       "  0.739169\n",
       "  0.739029"
      ]
     },
     "execution_count": 22,
     "metadata": {},
     "output_type": "execute_result"
    }
   ],
   "source": [
    "iterar(cos, 20, 10)"
   ]
  },
  {
   "cell_type": "code",
   "execution_count": 23,
   "metadata": {},
   "outputs": [
    {
     "data": {
      "text/html": [
       "<script src=\"/Users/uzielnmtz/.julia/v0.6/Plots/src/backends/../../deps/plotly-latest.min.js\"></script>    <div id=\"202fc785-3faf-43be-a731-86488d774376\" style=\"width:600px;height:400px;\"></div>\n",
       "    <script>\n",
       "    PLOT = document.getElementById('202fc785-3faf-43be-a731-86488d774376');\n",
       "    Plotly.plot(PLOT, [{\"showlegend\":true,\"mode\":\"markers\",\"xaxis\":\"x\",\"colorbar\":{\"title\":\"\"},\"marker\":{\"symbol\":\"circle\",\"color\":\"rgba(0, 154, 250, 1.000)\",\"line\":{\"color\":\"rgba(0, 0, 0, 1.000)\",\"width\":1},\"size\":8},\"y\":[-0.8390715290764524,0.6681539175313869,0.7849667209338518,0.7074117912574378,0.7600464159066489,0.7248040330466254,0.7486293602253776,0.7326224624829214,0.7434230013546059,0.7361561485109404,0.7410549594387223,0.7377568015294014,0.7399792611094448,0.7384825425539806,0.7394909113220078,0.7388117353613576,0.7392692696739697,0.7389610841523994,0.7391686884692474,0.7390288468110177],\"type\":\"scatter\",\"name\":\"y1\",\"yaxis\":\"y\",\"x\":[1,2,3,4,5,6,7,8,9,10,11,12,13,14,15,16,17,18,19,20]},{\"showlegend\":true,\"mode\":\"markers\",\"xaxis\":\"x\",\"colorbar\":{\"title\":\"\"},\"marker\":{\"symbol\":\"circle\",\"color\":\"rgba(227, 111, 71, 1.000)\",\"line\":{\"color\":\"rgba(0, 0, 0, 1.000)\",\"width\":1},\"size\":8},\"y\":[-0.7596879128588213,0.7250509789627886,0.7484656150365038,0.7327339034063398,0.7433484626493682,0.7362065951362824,0.7410210863930329,0.7377796676676203,0.7399638804726462,0.7384929132085405,0.7394839301045826,0.7388164400687014,0.7392661014690993,0.7389632187207351,0.7391672507923697,0.7390298153354723,0.7391223948735033,0.7390600328007951,0.7391020409233897,0.7390737438738708],\"type\":\"scatter\",\"name\":\"y2\",\"yaxis\":\"y\",\"x\":[1,2,3,4,5,6,7,8,9,10,11,12,13,14,15,16,17,18,19,20]},{\"showlegend\":true,\"mode\":\"markers\",\"xaxis\":\"x\",\"colorbar\":{\"title\":\"\"},\"marker\":{\"symbol\":\"circle\",\"color\":\"rgba(62, 164, 78, 1.000)\",\"line\":{\"color\":\"rgba(0, 0, 0, 1.000)\",\"width\":1},\"size\":8},\"y\":[0.40808206181339196,0.9178836435916358,0.6075025752506377,0.821076153606755,0.6814339871753621,0.7766702384588264,0.7132513453913105,0.7562385345854334,0.7274222311100225,0.7468909604393438,0.7338045710347549,0.7426318624642602,0.7366913701599759,0.7406954817487862,0.7379994252347116,0.7398160434246658,0.7385925859290048,0.739416829326571,0.7388616580706518,0.7392356503040952],\"type\":\"scatter\",\"name\":\"y3\",\"yaxis\":\"y\",\"x\":[1,2,3,4,5,6,7,8,9,10,11,12,13,14,15,16,17,18,19,20]},{\"showlegend\":true,\"mode\":\"markers\",\"xaxis\":\"x\",\"colorbar\":{\"title\":\"\"},\"marker\":{\"symbol\":\"circle\",\"color\":\"rgba(195, 113, 210, 1.000)\",\"line\":{\"color\":\"rgba(0, 0, 0, 1.000)\",\"width\":1},\"size\":8},\"y\":[0.9912028118634736,0.5476838819485967,0.8537328396618515,0.6571741449767363,0.7917216543052111,0.7026212903553086,0.7631508799318673,0.7226617074776351,0.7500479789487944,0.7316561637205036,0.744068935592861,0.7357188190950799,0.7413485309391538,0.7375585894288438,0.7401125699151646,0.7383926495178081,0.7395514213183331,0.7387709556035392,0.7392967305535182,0.738942582158074],\"type\":\"scatter\",\"name\":\"y4\",\"yaxis\":\"y\",\"x\":[1,2,3,4,5,6,7,8,9,10,11,12,13,14,15,16,17,18,19,20]}], {\"showlegend\":true,\"xaxis\":{\"gridwidth\":0.5,\"tickvals\":[5.0,10.0,15.0,20.0],\"ticks\":\"inside\",\"tickmode\":\"array\",\"domain\":[0.0658209390492855,0.9934383202099738],\"linecolor\":\"rgba(0, 0, 0, 1.000)\",\"showgrid\":true,\"title\":\"\",\"tickangle\":0,\"gridcolor\":\"rgba(0, 0, 0, 0.100)\",\"titlefont\":{\"color\":\"rgba(0, 0, 0, 1.000)\",\"family\":\"sans-serif\",\"size\":15},\"tickcolor\":\"rgba(0, 0, 0, 1.000)\",\"ticktext\":[\"5\",\"10\",\"15\",\"20\"],\"zeroline\":false,\"type\":\"-\",\"tickfont\":{\"color\":\"rgba(0, 0, 0, 1.000)\",\"family\":\"sans-serif\",\"size\":11},\"anchor\":\"y\"},\"paper_bgcolor\":\"rgba(255, 255, 255, 1.000)\",\"annotations\":[],\"height\":400,\"margin\":{\"l\":0,\"b\":20,\"r\":0,\"t\":20},\"plot_bgcolor\":\"rgba(255, 255, 255, 1.000)\",\"yaxis\":{\"gridwidth\":0.5,\"tickvals\":[-0.5,0.0,0.5,1.0],\"ticks\":\"inside\",\"tickmode\":\"array\",\"domain\":[0.03762029746281716,0.9901574803149606],\"linecolor\":\"rgba(0, 0, 0, 1.000)\",\"showgrid\":true,\"title\":\"\",\"tickangle\":0,\"gridcolor\":\"rgba(0, 0, 0, 0.100)\",\"titlefont\":{\"color\":\"rgba(0, 0, 0, 1.000)\",\"family\":\"sans-serif\",\"size\":15},\"tickcolor\":\"rgba(0, 0, 0, 1.000)\",\"ticktext\":[\"-0.5\",\"0.0\",\"0.5\",\"1.0\"],\"zeroline\":false,\"type\":\"-\",\"tickfont\":{\"color\":\"rgba(0, 0, 0, 1.000)\",\"family\":\"sans-serif\",\"size\":11},\"anchor\":\"x\"},\"legend\":{\"bordercolor\":\"rgba(0, 0, 0, 1.000)\",\"bgcolor\":\"rgba(255, 255, 255, 1.000)\",\"font\":{\"color\":\"rgba(0, 0, 0, 1.000)\",\"family\":\"sans-serif\",\"size\":11},\"y\":1.0,\"x\":1.0},\"width\":600});\n",
       "    </script>\n"
      ]
     },
     "execution_count": 23,
     "metadata": {},
     "output_type": "execute_result"
    }
   ],
   "source": [
    "using Plots\n",
    "using Interact\n",
    "\n",
    "scatter(iterar(cos, 20, 10))\n",
    "scatter!(iterar(cos, 20, 15))\n",
    "scatter!(iterar(cos,20, 20))\n",
    "scatter!(iterar(cos, 20, 25))"
   ]
  },
  {
   "cell_type": "code",
   "execution_count": 24,
   "metadata": {},
   "outputs": [
    {
     "data": {
      "text/html": [],
      "text/plain": [
       "Interact.Options{:SelectionSlider,Int64}(1: \"input\" = 0 Int64 , \"x0\", 0, \"0\", Interact.OptionDict(DataStructures.OrderedDict(\"-10\"=>-10,\"-8\"=>-8,\"-6\"=>-6,\"-4\"=>-4,\"-2\"=>-2,\"0\"=>0,\"2\"=>2,\"4\"=>4,\"6\"=>6,\"8\"=>8…), Dict(2=>\"2\",0=>\"0\",-4=>\"-4\",10=>\"10\",8=>\"8\",6=>\"6\",-6=>\"-6\",4=>\"4\",-8=>\"-8\",-10=>\"-10\"…)), Any[], Any[], true, \"horizontal\")"
      ]
     },
     "metadata": {},
     "output_type": "display_data"
    },
    {
     "data": {
      "text/html": [
       "<script src=\"/Users/uzielnmtz/.julia/v0.6/Plots/src/backends/../../deps/plotly-latest.min.js\"></script>    <div id=\"140316f5-79aa-416a-ad3d-f5e1a6376bb1\" style=\"width:600px;height:400px;\"></div>\n",
       "    <script>\n",
       "    PLOT = document.getElementById('140316f5-79aa-416a-ad3d-f5e1a6376bb1');\n",
       "    Plotly.plot(PLOT, [{\"showlegend\":true,\"mode\":\"markers\",\"xaxis\":\"x\",\"colorbar\":{\"title\":\"\"},\"marker\":{\"symbol\":\"circle\",\"color\":\"rgba(0, 154, 250, 1.000)\",\"line\":{\"color\":\"rgba(0, 0, 0, 1.000)\",\"width\":1},\"size\":8},\"y\":[1.0,0.5403023058681398,0.8575532158463934,0.6542897904977791,0.7934803587425656,0.7013687736227565,0.7639596829006542,0.7221024250267077,0.7504177617637605,0.7314040424225098,0.744237354900557,0.7356047404363473,0.7414250866101092,0.7375068905132428,0.7401473355678757,0.7383692041223232,0.739567202212256,0.7387603198742114,0.7393038923969057,0.7389377567153446],\"type\":\"scatter\",\"name\":\"y1\",\"yaxis\":\"y\",\"x\":[1,2,3,4,5,6,7,8,9,10,11,12,13,14,15,16,17,18,19,20]}], {\"showlegend\":true,\"xaxis\":{\"gridwidth\":0.5,\"tickvals\":[5.0,10.0,15.0,20.0],\"ticks\":\"inside\",\"tickmode\":\"array\",\"domain\":[0.05100612423447069,0.9934383202099737],\"linecolor\":\"rgba(0, 0, 0, 1.000)\",\"showgrid\":true,\"title\":\"\",\"tickangle\":0,\"gridcolor\":\"rgba(0, 0, 0, 0.100)\",\"titlefont\":{\"color\":\"rgba(0, 0, 0, 1.000)\",\"family\":\"sans-serif\",\"size\":15},\"tickcolor\":\"rgba(0, 0, 0, 1.000)\",\"ticktext\":[\"5\",\"10\",\"15\",\"20\"],\"zeroline\":false,\"type\":\"-\",\"tickfont\":{\"color\":\"rgba(0, 0, 0, 1.000)\",\"family\":\"sans-serif\",\"size\":11},\"anchor\":\"y\"},\"paper_bgcolor\":\"rgba(255, 255, 255, 1.000)\",\"annotations\":[],\"height\":400,\"margin\":{\"l\":0,\"b\":20,\"r\":0,\"t\":20},\"plot_bgcolor\":\"rgba(255, 255, 255, 1.000)\",\"yaxis\":{\"gridwidth\":0.5,\"tickvals\":[0.6000000000000001,0.7000000000000001,0.8,0.9,1.0],\"ticks\":\"inside\",\"tickmode\":\"array\",\"domain\":[0.03762029746281716,0.9901574803149606],\"linecolor\":\"rgba(0, 0, 0, 1.000)\",\"showgrid\":true,\"title\":\"\",\"tickangle\":0,\"gridcolor\":\"rgba(0, 0, 0, 0.100)\",\"titlefont\":{\"color\":\"rgba(0, 0, 0, 1.000)\",\"family\":\"sans-serif\",\"size\":15},\"tickcolor\":\"rgba(0, 0, 0, 1.000)\",\"ticktext\":[\"0.6\",\"0.7\",\"0.8\",\"0.9\",\"1.0\"],\"zeroline\":false,\"type\":\"-\",\"tickfont\":{\"color\":\"rgba(0, 0, 0, 1.000)\",\"family\":\"sans-serif\",\"size\":11},\"anchor\":\"x\"},\"legend\":{\"bordercolor\":\"rgba(0, 0, 0, 1.000)\",\"bgcolor\":\"rgba(255, 255, 255, 1.000)\",\"font\":{\"color\":\"rgba(0, 0, 0, 1.000)\",\"family\":\"sans-serif\",\"size\":11},\"y\":1.0,\"x\":1.0},\"width\":600});\n",
       "    </script>\n"
      ]
     },
     "execution_count": 24,
     "metadata": {
      "comm_id": "dd31f9a0-6311-4ef5-abea-31d2ce99b067",
      "reactive": true
     },
     "output_type": "execute_result"
    }
   ],
   "source": [
    "@manipulate for x0 = -10:2:10\n",
    "    x = 0:20\n",
    "    scatter(iterar(cos, 20, x0))\n",
    "end"
   ]
  },
  {
   "cell_type": "markdown",
   "metadata": {},
   "source": [
    "**[4]** ¿Qué ocurre si iteras la función $f_3(x) = 2x + 1$?"
   ]
  },
  {
   "cell_type": "code",
   "execution_count": 29,
   "metadata": {},
   "outputs": [
    {
     "data": {
      "text/html": [],
      "text/plain": [
       "Interact.Options{:SelectionSlider,Int64}(11: \"input-5\" = 0 Int64 , \"x0\", 0, \"0\", Interact.OptionDict(DataStructures.OrderedDict(\"-10\"=>-10,\"-8\"=>-8,\"-6\"=>-6,\"-4\"=>-4,\"-2\"=>-2,\"0\"=>0,\"2\"=>2,\"4\"=>4,\"6\"=>6,\"8\"=>8…), Dict(2=>\"2\",0=>\"0\",-4=>\"-4\",10=>\"10\",8=>\"8\",6=>\"6\",-6=>\"-6\",4=>\"4\",-8=>\"-8\",-10=>\"-10\"…)), Any[], Any[], true, \"horizontal\")"
      ]
     },
     "metadata": {},
     "output_type": "display_data"
    },
    {
     "data": {
      "text/html": [
       "<script src=\"/Users/uzielnmtz/.julia/v0.6/Plots/src/backends/../../deps/plotly-latest.min.js\"></script>    <div id=\"6d9cea41-e806-48a6-9257-68378ebbb563\" style=\"width:600px;height:400px;\"></div>\n",
       "    <script>\n",
       "    PLOT = document.getElementById('6d9cea41-e806-48a6-9257-68378ebbb563');\n",
       "    Plotly.plot(PLOT, [{\"showlegend\":true,\"mode\":\"markers\",\"xaxis\":\"x\",\"colorbar\":{\"title\":\"\"},\"marker\":{\"symbol\":\"circle\",\"color\":\"rgba(0, 154, 250, 1.000)\",\"line\":{\"color\":\"rgba(0, 0, 0, 1.000)\",\"width\":1},\"size\":8},\"y\":[1.0,3.0,7.0,15.0,31.0,63.0,127.0,255.0,511.0,1023.0,2047.0,4095.0,8191.0,16383.0,32767.0,65535.0,131071.0,262143.0,524287.0,1.048575e6,2.097151e6,4.194303e6,8.388607e6,1.6777215e7,3.3554431e7,6.7108863e7,1.34217727e8,2.68435455e8,5.36870911e8,1.073741823e9],\"type\":\"scatter\",\"name\":\"y1\",\"yaxis\":\"y\",\"x\":[1,2,3,4,5,6,7,8,9,10,11,12,13,14,15,16,17,18,19,20,21,22,23,24,25,26,27,28,29,30]}], {\"showlegend\":true,\"xaxis\":{\"gridwidth\":0.5,\"tickvals\":[10.0,20.0,30.0],\"ticks\":\"inside\",\"tickmode\":\"array\",\"domain\":[0.15470982793817437,0.9934383202099737],\"linecolor\":\"rgba(0, 0, 0, 1.000)\",\"showgrid\":true,\"title\":\"\",\"tickangle\":0,\"gridcolor\":\"rgba(0, 0, 0, 0.100)\",\"titlefont\":{\"color\":\"rgba(0, 0, 0, 1.000)\",\"family\":\"sans-serif\",\"size\":15},\"tickcolor\":\"rgba(0, 0, 0, 1.000)\",\"ticktext\":[\"10\",\"20\",\"30\"],\"zeroline\":false,\"type\":\"-\",\"tickfont\":{\"color\":\"rgba(0, 0, 0, 1.000)\",\"family\":\"sans-serif\",\"size\":11},\"anchor\":\"y\"},\"paper_bgcolor\":\"rgba(255, 255, 255, 1.000)\",\"annotations\":[],\"height\":400,\"margin\":{\"l\":0,\"b\":20,\"r\":0,\"t\":20},\"plot_bgcolor\":\"rgba(255, 255, 255, 1.000)\",\"yaxis\":{\"gridwidth\":0.5,\"tickvals\":[0.0,5.0e8,1.0e9],\"ticks\":\"inside\",\"tickmode\":\"array\",\"domain\":[0.03762029746281716,0.9901574803149606],\"linecolor\":\"rgba(0, 0, 0, 1.000)\",\"showgrid\":true,\"title\":\"\",\"tickangle\":0,\"gridcolor\":\"rgba(0, 0, 0, 0.100)\",\"titlefont\":{\"color\":\"rgba(0, 0, 0, 1.000)\",\"family\":\"sans-serif\",\"size\":15},\"tickcolor\":\"rgba(0, 0, 0, 1.000)\",\"ticktext\":[\"0\",\"500000000\",\"1000000000\"],\"zeroline\":false,\"type\":\"-\",\"tickfont\":{\"color\":\"rgba(0, 0, 0, 1.000)\",\"family\":\"sans-serif\",\"size\":11},\"anchor\":\"x\"},\"legend\":{\"bordercolor\":\"rgba(0, 0, 0, 1.000)\",\"bgcolor\":\"rgba(255, 255, 255, 1.000)\",\"font\":{\"color\":\"rgba(0, 0, 0, 1.000)\",\"family\":\"sans-serif\",\"size\":11},\"y\":1.0,\"x\":1.0},\"width\":600});\n",
       "    </script>\n"
      ]
     },
     "execution_count": 29,
     "metadata": {
      "comm_id": "b35ce210-1f23-4f74-a85a-9f1ed1880c3c",
      "reactive": true
     },
     "output_type": "execute_result"
    }
   ],
   "source": [
    "@manipulate for x0 = -10:2:10\n",
    "    scatter(iterar(x -> 2*x + 1, 30, x0))\n",
    "end"
   ]
  },
  {
   "cell_type": "markdown",
   "metadata": {},
   "source": [
    "La función no converge, para distintos valores de $x_0$ ninguna iteración converge."
   ]
  },
  {
   "cell_type": "markdown",
   "metadata": {},
   "source": [
    "**[5]** (i) Pensando en la ecuación $x_{n+1} = f(x_n)$, en el límite cuando $n \\to \\infty$, si es que la iteración converge a un valor que podemos llamar $x_\\infty$, ¿a cuál valor debe converger? [Pista: toma el límite de los dos lados de la ecuación.] ¿Coincide con lo observado para $f_1$ y $f_2$?\n",
    "\n",
    "(ii) Graficamente, ¿a qué corresponde resolver la ecuación para $x_\\infty$? Dibuja las gráficas correspondientes para $f_1$ y $f_2$ y checa tu respuesta. \n",
    "\n",
    "(iii) Puedes adivinar cuál es la condición para que la iteración converja?"
   ]
  },
  {
   "cell_type": "markdown",
   "metadata": {},
   "source": [
    "**[6]** A menudo, se puede utilizar una iteración de este tipo para resolver ecuaciones. \n",
    "\n",
    "(i) Inventa una iteración de la forma $x_{n+1} = f(x_n)$ para resolver la ecuación $x^2 + x - 1 = 0$. ¿Para cuáles $x_0$ funciona? ¿A cuál solución converge?\n",
    "\n",
    "(ii) Inventa otra. ¿Funciona para $x_0$ diferentes?\n",
    "\n",
    "(iii) Nota que hay algunas iteraciones que **no converjan**. Por ejemplo, ¿qué ocurre con la iteración $x_{n+1} = 1 - x_n^2$?"
   ]
  },
  {
   "cell_type": "markdown",
   "metadata": {},
   "source": [
    "## Bucles `while`"
   ]
  },
  {
   "cell_type": "markdown",
   "metadata": {},
   "source": [
    "En lo anterior, usamos un bucle `for`, que requiere que sepamos de antemano el número de iteraciones que queramos.\n",
    "Sin embargo, en este tipo de problemas, es más natural esperar **hasta que** converja, sin saber cuánto tiempo tomará.\n",
    "\n",
    "Para esto, podemos ocupar otro tipo de bucle, un bucle `while` (\"mientras\", en español). Un bucle de este tipo repite los comandos en el cuerpo del bucle **mientras** una condición siga cierta. Su sintaxis es como sigue:"
   ]
  },
  {
   "cell_type": "markdown",
   "metadata": {},
   "source": [
    "```\n",
    "while <condicion>\n",
    "    [haz esto]\n",
    "    [y esto]\n",
    "end\n",
    "```\n",
    "\n",
    "Sin embargo, para evitar bucles infinitos, a menudo es sensato incluir un contador para que no pueda haber demasiadas (posiblemente infinitas) iteraciones."
   ]
  },
  {
   "cell_type": "markdown",
   "metadata": {},
   "source": [
    "Mientras que en un bucle `for` hay un contador que se actualiza automáticamente, en un bucle `while` **nosotros somos los responsables** de tener una variable que actúe como contador."
   ]
  },
  {
   "cell_type": "markdown",
   "metadata": {},
   "source": [
    "**[7]** (i) Utilice un bucle `while` para contar de 1 a 10.\n",
    "\n",
    "(ii) Utilice un bucle `while` para encontrar la potencia de 2 más grande debajo de un número dado.\n",
    "\n",
    "(iii) Repite lo mismo con un bucle `for`, usando la palabra clave `break` para salir del bucle cuando una cierta condición se satisfaga."
   ]
  },
  {
   "cell_type": "code",
   "execution_count": 31,
   "metadata": {},
   "outputs": [
    {
     "name": "stdout",
     "output_type": "stream",
     "text": [
      "i = 0\n",
      "i = 1\n",
      "i = 2\n",
      "i = 3\n",
      "i = 4\n",
      "i = 5\n",
      "i = 6\n",
      "i = 7\n",
      "i = 8\n",
      "i = 9\n",
      "i = 10\n"
     ]
    }
   ],
   "source": [
    "i = 0\n",
    "while i <= 10\n",
    "    @show i\n",
    "    i += 1\n",
    "end"
   ]
  },
  {
   "cell_type": "code",
   "execution_count": 35,
   "metadata": {},
   "outputs": [
    {
     "name": "stdout",
     "output_type": "stream",
     "text": [
      "potencia = 9\n"
     ]
    },
    {
     "data": {
      "text/plain": [
       "9"
      ]
     },
     "execution_count": 35,
     "metadata": {},
     "output_type": "execute_result"
    }
   ],
   "source": [
    "n = 10\n",
    "i = 0\n",
    "potencia = 1\n",
    "while i <= n\n",
    "    if isinteger(sqrt(i))\n",
    "        potencia = i\n",
    "    end\n",
    "    i += 1\n",
    "end\n",
    "@show potencia"
   ]
  },
  {
   "cell_type": "code",
   "execution_count": 36,
   "metadata": {},
   "outputs": [
    {
     "name": "stdout",
     "output_type": "stream",
     "text": [
      "potencia = 9\n"
     ]
    },
    {
     "data": {
      "text/plain": [
       "9"
      ]
     },
     "execution_count": 36,
     "metadata": {},
     "output_type": "execute_result"
    }
   ],
   "source": [
    "potencia = 1\n",
    "for i in 1:20\n",
    "    if isinteger(sqrt(i))\n",
    "        potencia = i\n",
    "    end\n",
    "    if i == 10\n",
    "        break\n",
    "    end\n",
    "end\n",
    "@show potencia\n",
    "    "
   ]
  },
  {
   "cell_type": "code",
   "execution_count": 37,
   "metadata": {},
   "outputs": [
    {
     "data": {
      "text/plain": [
       "true"
      ]
     },
     "execution_count": 37,
     "metadata": {},
     "output_type": "execute_result"
    }
   ],
   "source": [
    "isinteger(3)"
   ]
  },
  {
   "cell_type": "markdown",
   "metadata": {},
   "source": [
    "## Bucles while e iteraciones de punto fijo"
   ]
  },
  {
   "cell_type": "markdown",
   "metadata": {},
   "source": [
    "**[8]** Utiliza un bucle `while` para la iteración de la función $f_1$. Fija una **tolerancia** razonable, y repite la iteración **hasta que** la distancia entre un iterado y el siguiente sea menor a la tolerancia. [Pista: ¿Cuál función matemática da la distancia entre dos números en una dimensión. Encuentra la función de Julia que lo hace.] \n",
    "\n",
    "**[9]** De la misma forma, escribe una versión nueva de la función `iterar`, que utiliza un `while` y acepta una tolerancia como argumento."
   ]
  },
  {
   "cell_type": "code",
   "execution_count": 57,
   "metadata": {},
   "outputs": [
    {
     "name": "stdout",
     "output_type": "stream",
     "text": [
      "(x0, n) = (2.0, 54)\n"
     ]
    },
    {
     "data": {
      "text/plain": [
       "(2.0, 54)"
      ]
     },
     "execution_count": 57,
     "metadata": {},
     "output_type": "execute_result"
    }
   ],
   "source": [
    "ϵ = 0.0000000000000000001\n",
    "err = 1\n",
    "f1(x) = x/2 + 1\n",
    "x0 = 1\n",
    "n = 0\n",
    "while ϵ <= err\n",
    "    x = x0\n",
    "    x0 = f1(x0)\n",
    "    err = norm(x-x0)\n",
    "    n += 1\n",
    "end\n",
    "@show x0, n\n",
    "    \n",
    "    "
   ]
  },
  {
   "cell_type": "code",
   "execution_count": 93,
   "metadata": {},
   "outputs": [
    {
     "data": {
      "text/plain": [
       "iterar (generic function with 2 methods)"
      ]
     },
     "execution_count": 93,
     "metadata": {},
     "output_type": "execute_result"
    }
   ],
   "source": [
    "function iterar(f, ϵ, x0)\n",
    "    err = 1\n",
    "    n = 0\n",
    "    iters = Float64[]\n",
    "    numiters= []\n",
    "    while ϵ <= err\n",
    "        n += 1\n",
    "        x = x0\n",
    "        x0 = f(x0)\n",
    "        err = norm(x-x0)\n",
    "        push!(iters, x)\n",
    "        push!(numiters, n)\n",
    "    end\n",
    "    return [numiters iters]\n",
    "end"
   ]
  },
  {
   "cell_type": "markdown",
   "metadata": {},
   "source": [
    "## Haz tu propia biblioteca "
   ]
  },
  {
   "cell_type": "markdown",
   "metadata": {},
   "source": [
    "Guarda la función `iterar` en un archivo que se llama `herramientas.jl`. Iremos agregando más métodos a este archivo.\n",
    "\n",
    "Se incluye en un notebook o un script de Julia con `include(\"herramientas.jl\")`."
   ]
  }
 ],
 "metadata": {
  "kernelspec": {
   "display_name": "Julia 0.6.0",
   "language": "julia",
   "name": "julia-0.6"
  },
  "language_info": {
   "file_extension": ".jl",
   "mimetype": "application/julia",
   "name": "julia",
   "version": "0.6.0"
  }
 },
 "nbformat": 4,
 "nbformat_minor": 1
}
