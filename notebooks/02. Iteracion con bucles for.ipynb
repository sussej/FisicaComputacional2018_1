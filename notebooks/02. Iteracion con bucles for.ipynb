{
 "cells": [
  {
   "cell_type": "markdown",
   "metadata": {},
   "source": [
    "# La importancia de la repetición"
   ]
  },
  {
   "cell_type": "markdown",
   "metadata": {},
   "source": [
    "Los humanos odiamos repetir cosas muchas veces, ya que nos aburrimos muy rápidamente. Sin embargo, la repetición radica al seno de todos los métodos numéricos. Por lo tanto, empezaremos el curso con estudiar cómo llevar a cabo tareas repetitivas."
   ]
  },
  {
   "cell_type": "markdown",
   "metadata": {},
   "source": [
    "[1] Calcula *a mano* el producto 10 * 2. Para hacerlo, define una variable `x` y súmale 2 diez veces."
   ]
  },
  {
   "cell_type": "code",
   "execution_count": 1,
   "metadata": {},
   "outputs": [
    {
     "data": {
      "text/plain": [
       "20"
      ]
     },
     "execution_count": 1,
     "metadata": {},
     "output_type": "execute_result"
    }
   ],
   "source": [
    "x = 2+2+2+2+2+2+2+2+2+2"
   ]
  },
  {
   "cell_type": "markdown",
   "metadata": {},
   "source": [
    "Está claro que *nunca en la vida queremos volver a hacer cosas parecidas*. Podemos resumir esto en una regla:"
   ]
  },
  {
   "cell_type": "markdown",
   "metadata": {},
   "source": [
    "**REGLA: Nunca repitas a mano una operación más de 2 veces.**"
   ]
  },
  {
   "cell_type": "markdown",
   "metadata": {},
   "source": [
    "Si hay que hacer algo más de 2 veces, entonces necesitamos **automatizar** el proceso."
   ]
  },
  {
   "cell_type": "markdown",
   "metadata": {},
   "source": [
    "## Repetición en Julia: bucles `for`"
   ]
  },
  {
   "cell_type": "markdown",
   "metadata": {},
   "source": [
    "Existen varias formas de llevar a cabo cálculos de forma repetida en Julia. Uno de los más claves es la [**iteración**](https://es.wikipedia.org/wiki/Iteraci%C3%B3n). \n",
    "\n",
    "Un bucle `for` nos permite hacer que una variable recorra automáticamente un conjunto de valores.\n",
    "\n",
    "En el caso de la multiplicación, queremos repetir algo 10 veces. Una forma de hacerlo es tener una variable, llamada un *contador*, que cuenta de 1 a 10:"
   ]
  },
  {
   "cell_type": "code",
   "execution_count": 1,
   "metadata": {},
   "outputs": [
    {
     "name": "stdout",
     "output_type": "stream",
     "text": [
      "i = 1\n",
      "i = 2\n",
      "i = 3\n",
      "i = 4\n",
      "i = 5\n",
      "i = 6\n",
      "i = 7\n",
      "i = 8\n",
      "i = 9\n",
      "i = 10\n"
     ]
    }
   ],
   "source": [
    "for i in 1:10\n",
    "    @show i\n",
    "end"
   ]
  },
  {
   "cell_type": "markdown",
   "metadata": {},
   "source": [
    "[Recuerda que en el cuaderno de Jupyter, ejecutamos las celdas con `Shift-Enter`.]\n",
    "\n",
    "Todo lo que viene en la celda anterior constituye el *bucle `for`*. (Un bucle también se llama ciclo o loop.)\n",
    "El bucle total constituye un conjunto de instrucciones que le estamos dando a la computadora, diciéndole que lleve a cabo estas operaciones.\n",
    "\n",
    "Podemos leer la línea 1 como: \"para i que recorre el conjunto de 1 hasta 10, haz lo siguiente\".\n",
    "\n",
    "Todo lo que viene entre la primera línea y el `end` se llama el **cuerpo** del `for`; son las instrucciones que se repetirán cada vez, con el valor nuevo de la variable, que se va actualizando solo. (Nunca tuvimos nosotros que sumarle uno a `i`; esto es lo que hace automáticamente el `for`.)\n",
    "\n",
    "\n",
    "En este caso, lo único que estamos haciendo es imprimir en la pantalla el valor actual de la variable `i`, usando `@show`. (\"show\"=mostrar).\n",
    "\n",
    "Nótese que es necesario terminar el \"cuerpo\" del bucle `for` con `end` (=\"fin\").\n"
   ]
  },
  {
   "cell_type": "markdown",
   "metadata": {},
   "source": [
    "[2] Escribe el código a mano para imprimir lo mismo, *sin* utilizar un bucle. ¿Quisieras hacerlo para los números de 1 a 100? ¡Por algo se inventaron los bucles!"
   ]
  },
  {
   "cell_type": "markdown",
   "metadata": {},
   "source": [
    "## Multiplicación"
   ]
  },
  {
   "cell_type": "markdown",
   "metadata": {},
   "source": [
    "Regresemos al ejemplo de la multiplicación como una suma repetida. ¿Cómo podríamos escribir eso usando un bucle `for`? Necesitaremos *una variable extra* que guarda el \"estado actual\" al cual hemos llegado; este estado va a cambiar en cada vuelta del bucle:"
   ]
  },
  {
   "cell_type": "markdown",
   "metadata": {},
   "source": [
    "[3] (i) Escribe la multiplicación de dos enteros usando esta idea: crea una nueva variable `producto`, el cual se *va actualizando (cambiando) en cada vuelta del bucle*. La variable se crea *antes* del bucle y se modifica *adentro* del bucle. \n",
    "\n",
    "**Asegúrate de ¡utilizar la indentación (sangría) correcta!**\n",
    "\n",
    "(ii) Define una función `multiplicar` que acepta los dos números que multiplicará, `x` y `n`, y regresa el resultado de la multiplicación calculado con el pedazo de código que hiciste en la pregunta (i). (Es decir, tendrás que incorporar ese código como el cuerpo de la función.)"
   ]
  },
  {
   "cell_type": "code",
   "execution_count": 2,
   "metadata": {},
   "outputs": [
    {
     "name": "stdout",
     "output_type": "stream",
     "text": [
      "producto = 20\n"
     ]
    },
    {
     "data": {
      "text/plain": [
       "20"
      ]
     },
     "execution_count": 2,
     "metadata": {},
     "output_type": "execute_result"
    }
   ],
   "source": [
    "producto = 0\n",
    "for i in 1:10\n",
    "    producto += 2\n",
    "end\n",
    "@show producto"
   ]
  },
  {
   "cell_type": "code",
   "execution_count": 3,
   "metadata": {},
   "outputs": [
    {
     "data": {
      "text/plain": [
       "multiplicar (generic function with 1 method)"
      ]
     },
     "execution_count": 3,
     "metadata": {},
     "output_type": "execute_result"
    }
   ],
   "source": [
    "function multiplicar(x,n)\n",
    "    prod = 0\n",
    "    for i in 1:n\n",
    "        prod += x\n",
    "    end\n",
    "    return prod\n",
    "end\n"
   ]
  },
  {
   "cell_type": "code",
   "execution_count": 6,
   "metadata": {},
   "outputs": [
    {
     "data": {
      "text/plain": [
       "20"
      ]
     },
     "execution_count": 6,
     "metadata": {},
     "output_type": "execute_result"
    }
   ],
   "source": [
    "multiplicar(2, 10)"
   ]
  },
  {
   "cell_type": "code",
   "execution_count": 7,
   "metadata": {},
   "outputs": [
    {
     "data": {
      "text/plain": [
       "15"
      ]
     },
     "execution_count": 7,
     "metadata": {},
     "output_type": "execute_result"
    }
   ],
   "source": [
    "multiplicar(3, 5)"
   ]
  },
  {
   "cell_type": "markdown",
   "metadata": {},
   "source": [
    "## Tests "
   ]
  },
  {
   "cell_type": "markdown",
   "metadata": {},
   "source": [
    "Es **sumamente importante** verificar que el código que vayamos escribiendo funcione correctamente. Una manera de hacerlo es el definir unos **tests** (pruebas) para verificar si tu código funciona correctamente. Ver https://es.wikipedia.org/wiki/Desarrollo_guiado_por_pruebas.\n",
    "\n",
    "Julia provee el paquete `Base.Test` que permite verificar  al comparar el resultado que arroja con la multiplicación usual de Julia. Para hacerlo, usamos el paquete como sigue:\n",
    "\n",
    "    using Base.Test  # cargar la librería de tests\n",
    "    \n",
    "    @test multiplicar(3, 4) == 3 * 4\n",
    "    \n",
    "El `==` verifica igualdad entre el resultado de tu función y el valor que calcula Julia al utilizar su función `*`."
   ]
  },
  {
   "cell_type": "markdown",
   "metadata": {},
   "source": [
    "[4] Escribe varios tests. ¿Qué ocurre si utilizas números reales (de punto flotante) en lugar de enteros?  ¿Qué ocurre si un test fracasa?"
   ]
  },
  {
   "cell_type": "code",
   "execution_count": 9,
   "metadata": {},
   "outputs": [
    {
     "data": {
      "text/plain": [
       "\u001b[1m\u001b[32mTest Passed\n",
       "\u001b[39m\u001b[22m"
      ]
     },
     "execution_count": 9,
     "metadata": {},
     "output_type": "execute_result"
    }
   ],
   "source": [
    "using Base.Test\n",
    "@test multiplicar(3,4) == 3 * 4"
   ]
  },
  {
   "cell_type": "code",
   "execution_count": 10,
   "metadata": {},
   "outputs": [
    {
     "data": {
      "text/plain": [
       "\u001b[1m\u001b[32mTest Passed\n",
       "\u001b[39m\u001b[22m"
      ]
     },
     "execution_count": 10,
     "metadata": {},
     "output_type": "execute_result"
    }
   ],
   "source": [
    "@test multiplicar(4,5) == 4 * 5"
   ]
  },
  {
   "cell_type": "code",
   "execution_count": 11,
   "metadata": {},
   "outputs": [
    {
     "name": "stdout",
     "output_type": "stream",
     "text": [
      "\u001b[1m\u001b[91mTest Failed\n",
      "\u001b[39m\u001b[22m  Expression: multiplicar(0.1, 10) == 0.1 * 10\n",
      "   Evaluated: 0.9999999999999999 == 1.0\n"
     ]
    },
    {
     "ename": "LoadError",
     "evalue": "\u001b[91mThere was an error during testing\u001b[39m",
     "output_type": "error",
     "traceback": [
      "\u001b[91mThere was an error during testing\u001b[39m",
      "",
      "Stacktrace:",
      " [1] \u001b[1mrecord\u001b[22m\u001b[22m\u001b[1m(\u001b[22m\u001b[22m::Base.Test.FallbackTestSet, ::Base.Test.Fail\u001b[1m)\u001b[22m\u001b[22m at \u001b[1m./test.jl:533\u001b[22m\u001b[22m",
      " [2] \u001b[1mdo_test\u001b[22m\u001b[22m\u001b[1m(\u001b[22m\u001b[22m::Base.Test.Returned, ::Expr\u001b[1m)\u001b[22m\u001b[22m at \u001b[1m./test.jl:352\u001b[22m\u001b[22m",
      " [3] \u001b[1minclude_string\u001b[22m\u001b[22m\u001b[1m(\u001b[22m\u001b[22m::String, ::String\u001b[1m)\u001b[22m\u001b[22m at \u001b[1m./loading.jl:515\u001b[22m\u001b[22m"
     ]
    }
   ],
   "source": [
    "@test multiplicar(.1, 10) == .1 * 10"
   ]
  },
  {
   "cell_type": "code",
   "execution_count": 12,
   "metadata": {},
   "outputs": [
    {
     "data": {
      "text/plain": [
       "\u001b[1m\u001b[32mTest Passed\n",
       "\u001b[39m\u001b[22m"
      ]
     },
     "execution_count": 12,
     "metadata": {},
     "output_type": "execute_result"
    }
   ],
   "source": [
    "@test multiplicar(-2, 4) == -2 * 4"
   ]
  },
  {
   "cell_type": "code",
   "execution_count": 13,
   "metadata": {},
   "outputs": [
    {
     "name": "stdout",
     "output_type": "stream",
     "text": [
      "\u001b[1m\u001b[91mTest Failed\n",
      "\u001b[39m\u001b[22m  Expression: multiplicar(2, -4) == 2 * -4\n",
      "   Evaluated: 0 == -8\n"
     ]
    },
    {
     "ename": "LoadError",
     "evalue": "\u001b[91mThere was an error during testing\u001b[39m",
     "output_type": "error",
     "traceback": [
      "\u001b[91mThere was an error during testing\u001b[39m",
      "",
      "Stacktrace:",
      " [1] \u001b[1mrecord\u001b[22m\u001b[22m\u001b[1m(\u001b[22m\u001b[22m::Base.Test.FallbackTestSet, ::Base.Test.Fail\u001b[1m)\u001b[22m\u001b[22m at \u001b[1m./test.jl:533\u001b[22m\u001b[22m",
      " [2] \u001b[1mdo_test\u001b[22m\u001b[22m\u001b[1m(\u001b[22m\u001b[22m::Base.Test.Returned, ::Expr\u001b[1m)\u001b[22m\u001b[22m at \u001b[1m./test.jl:352\u001b[22m\u001b[22m",
      " [3] \u001b[1minclude_string\u001b[22m\u001b[22m\u001b[1m(\u001b[22m\u001b[22m::String, ::String\u001b[1m)\u001b[22m\u001b[22m at \u001b[1m./loading.jl:515\u001b[22m\u001b[22m"
     ]
    }
   ],
   "source": [
    "@test multiplicar(2, -4) == 2 * -4"
   ]
  },
  {
   "cell_type": "code",
   "execution_count": null,
   "metadata": {
    "collapsed": true
   },
   "outputs": [],
   "source": []
  },
  {
   "cell_type": "markdown",
   "metadata": {},
   "source": [
    "[5] (i) Haz una nueva versión de la función `multiplicar` (en otra celda del notebook), en la cual verificas si el argumento `n` un `if` para verificar si `n` realmente sea positivo y entero. [Pista: checa la función `isinteger`.] Si no, arroja un error usando la función `error`.\n",
    " \n",
    "(ii) ¿Cómo puedes cambiar tu función para que funcione para *cualquier* entero `n`?\n",
    "\n",
    "(iii) Escribe más pruebas.\n",
    "\n",
    "[Posteriormente, veremos cómo unir las pruebas con el código en un paquete.]"
   ]
  },
  {
   "cell_type": "code",
   "execution_count": 27,
   "metadata": {},
   "outputs": [
    {
     "data": {
      "text/plain": [
       "multiplicar (generic function with 1 method)"
      ]
     },
     "execution_count": 27,
     "metadata": {},
     "output_type": "execute_result"
    }
   ],
   "source": [
    "function multiplicar(x, n)\n",
    "    if isinteger(n) & (n > 0)\n",
    "        prod = 0\n",
    "        for i in 1:n\n",
    "            prod += x\n",
    "        end\n",
    "        return prod\n",
    "    else\n",
    "        return error\n",
    "    end\n",
    "end"
   ]
  },
  {
   "cell_type": "code",
   "execution_count": 30,
   "metadata": {},
   "outputs": [
    {
     "data": {
      "text/plain": [
       "error (generic function with 2 methods)"
      ]
     },
     "execution_count": 30,
     "metadata": {},
     "output_type": "execute_result"
    }
   ],
   "source": [
    "multiplicar(2, .1)"
   ]
  },
  {
   "cell_type": "code",
   "execution_count": 32,
   "metadata": {},
   "outputs": [
    {
     "ename": "LoadError",
     "evalue": "\u001b[91msyntax: use \"^\" instead of \"**\"\u001b[39m",
     "output_type": "error",
     "traceback": [
      "\u001b[91msyntax: use \"^\" instead of \"**\"\u001b[39m",
      "",
      "Stacktrace:",
      " [1] \u001b[1minclude_string\u001b[22m\u001b[22m\u001b[1m(\u001b[22m\u001b[22m::String, ::String\u001b[1m)\u001b[22m\u001b[22m at \u001b[1m./loading.jl:515\u001b[22m\u001b[22m"
     ]
    }
   ],
   "source": [
    "2**2"
   ]
  },
  {
   "cell_type": "markdown",
   "metadata": {},
   "source": [
    "## Suma de números naturales"
   ]
  },
  {
   "cell_type": "markdown",
   "metadata": {},
   "source": [
    "[6] (i) Crea una función `suma` que calcula la suma de los primeros $N$ números naturales $1$, $2$, etc. (Es decir, `N` es argumento de la función `suma`.)\n",
    "\n",
    "(ii) Escribe tests al comparar el resultado con el resultado analítico conocido.\n",
    "\n",
    "(iii) Crea una función `suma2` que calcula, en un solo bucle, la suma de los primeros $N$ enteros, y también de sus cuadrados. Regresa *las dos* sumas. [Pista: sepáralos con una coma.] Verifica que funcione usando la fórmula para la suma de los cuadrados."
   ]
  },
  {
   "cell_type": "code",
   "execution_count": 31,
   "metadata": {},
   "outputs": [
    {
     "data": {
      "text/plain": [
       "suma (generic function with 1 method)"
      ]
     },
     "execution_count": 31,
     "metadata": {},
     "output_type": "execute_result"
    }
   ],
   "source": [
    "function suma(n)\n",
    "    sum = 0\n",
    "    for i in 1:n\n",
    "        sum += i\n",
    "    end\n",
    "    return sum\n",
    "end"
   ]
  },
  {
   "cell_type": "code",
   "execution_count": 37,
   "metadata": {},
   "outputs": [
    {
     "data": {
      "text/plain": [
       "suma2 (generic function with 1 method)"
      ]
     },
     "execution_count": 37,
     "metadata": {},
     "output_type": "execute_result"
    }
   ],
   "source": [
    "function suma2(n)\n",
    "    sum = 0\n",
    "    sqsum = 0\n",
    "    for i in 1:n\n",
    "        sum += i\n",
    "        sqsum += i^2\n",
    "    end\n",
    "    return sum, sqsum\n",
    "end"
   ]
  },
  {
   "cell_type": "code",
   "execution_count": 38,
   "metadata": {},
   "outputs": [
    {
     "data": {
      "text/plain": [
       "Tuple{Int64,Int64}"
      ]
     },
     "execution_count": 38,
     "metadata": {},
     "output_type": "execute_result"
    }
   ],
   "source": [
    "typeof(suma2(2))"
   ]
  },
  {
   "cell_type": "markdown",
   "metadata": {},
   "source": [
    "## Números primos"
   ]
  },
  {
   "cell_type": "markdown",
   "metadata": {},
   "source": [
    "[7] Crea una función que cuenta el número de enteros hasta $N$ que sean divisibles por $2$, $3$ y/o $5$. [Pista: puedes utilizar la función `mod` o `%`.] ¿Tiene sentido el resultado? "
   ]
  },
  {
   "cell_type": "markdown",
   "metadata": {},
   "source": [
    "Recordemos que los **números primos** son los enteros positivos mayores que $1$ que sólo son divisibles exactamente entre $1$ y sí mismo.\n",
    "\n",
    "[8] Escribe una función que verifica si un número es primo o no.\n",
    "\n",
    "[9] (i) Escribe una función que construye un arreglo de $\\pi(n)$, el número de primos menores o iguales a `n`. [Pista: recuerda que `[]` crea un arreglo vacío, y `push!` agrega un elemento a un arreglo.]\n",
    "\n",
    "(ii) Grafica la función como sigue:\n",
    "\n",
    "    Pkg.add(\"Plots\")\n",
    "    gr()\n",
    "    using Plots\n",
    "    \n",
    "    plot(x, y)\n",
    "    \n",
    "donde `n` y `p` son arreglos de los números `n` y de $\\pi(n)$.\n",
    "\n",
    "(iii) ¿Qué tan rápido crece esta función en comparación con `n`? Experimenta al dibujar distintas funciones que crecen, o al manipular los datos."
   ]
  },
  {
   "cell_type": "markdown",
   "metadata": {},
   "source": [
    "[10] Crea una función que calcula los factores primos de un número natural, o te dice si el número es primo."
   ]
  }
 ],
 "metadata": {
  "kernelspec": {
   "display_name": "Julia 0.6.0",
   "language": "julia",
   "name": "julia-0.6"
  },
  "language_info": {
   "file_extension": ".jl",
   "mimetype": "application/julia",
   "name": "julia",
   "version": "0.6.0"
  },
  "toc": {
   "colors": {
    "hover_highlight": "#DAA520",
    "running_highlight": "#FF0000",
    "selected_highlight": "#FFD700"
   },
   "moveMenuLeft": true,
   "nav_menu": {
    "height": "30px",
    "width": "252px"
   },
   "navigate_menu": true,
   "number_sections": true,
   "sideBar": true,
   "threshold": "1",
   "toc_cell": false,
   "toc_section_display": "block",
   "toc_window_display": false
  }
 },
 "nbformat": 4,
 "nbformat_minor": 1
}
