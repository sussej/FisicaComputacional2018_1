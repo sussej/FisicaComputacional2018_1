{
 "cells": [
  {
   "cell_type": "markdown",
   "metadata": {},
   "source": [
    "*** Este será un notebook sencillo para comenzar la parte de Geometría computacional :-). ***\n",
    "\n",
    "\n"
   ]
  },
  {
   "cell_type": "markdown",
   "metadata": {},
   "source": [
    "# Animaciones\n",
    "\n",
    "Cuando se hace una simulación, frecuentemente necesitamos ver no sólo una gráfica, sino una secuencia de cientos de ellas en forma de video. Para esto podemos guardar cada imagen con un nombre diferente utilizando el símbolo \"\\$\" para cambiar el nombre. Por ejemplo: \n",
    "\n"
   ]
  },
  {
   "cell_type": "code",
   "execution_count": 2,
   "metadata": {
    "collapsed": true
   },
   "outputs": [],
   "source": [
    "using Plots"
   ]
  },
  {
   "cell_type": "code",
   "execution_count": 2,
   "metadata": {
    "collapsed": true
   },
   "outputs": [],
   "source": [
    "x = 0:0.01:2*pi\n",
    "for i in 1:3\n",
    "    plot(x, sin.(x + i / 10.0))\n",
    "    savefig(\"sinx$i.png\")\n",
    "end"
   ]
  },
  {
   "cell_type": "markdown",
   "metadata": {},
   "source": [
    "Esta versión de hacer un video es útil si queremos hacer una simulación cuyo resultado sea un video de varios minutos; sin embargo, en la mayoría de las ocaciones queremos en realidad checar sólo un video corto (unos pocos segundos) para saber que lo que el programa está simulando es lo que queremos que simule. Para esto usaremos dos tipos de macros: \n",
    "\n",
    "- @gif que sirve para generar un gif animado el cual muestra en el notebook y guarda como  \"tmp.gif\". En este caso el gif se reproduce con 10fps.  \n",
    "- @animate genera también un gif animado, pero esta vez lo guarda con el nombre que se desee y los fps que se quieran. \n",
    "\n",
    "Ejemplos: "
   ]
  },
  {
   "cell_type": "code",
   "execution_count": 3,
   "metadata": {},
   "outputs": [
    {
     "name": "stderr",
     "output_type": "stream",
     "text": [
      "\u001b[1m\u001b[36mINFO: \u001b[39m\u001b[22m\u001b[36mSaved animation to /Users/uzielnmtz/FisicaComputacional2018_1/notebooks/tmp.gif\n",
      "\u001b[39m"
     ]
    },
    {
     "data": {
      "text/html": [
       "<img src=\"tmp.gif?0.37778174630404293>\" />"
      ],
      "text/plain": [
       "Plots.AnimatedGif(\"/Users/uzielnmtz/FisicaComputacional2018_1/notebooks/tmp.gif\")"
      ]
     },
     "execution_count": 3,
     "metadata": {},
     "output_type": "execute_result"
    }
   ],
   "source": [
    "x = 0:0.01:2*pi\n",
    "@gif for i=1:100\n",
    "    plot(x, sin.(x + i / 10.0), key = false)\n",
    "end every 2 #guarda sólo cada 20 cuadros"
   ]
  },
  {
   "cell_type": "code",
   "execution_count": 4,
   "metadata": {},
   "outputs": [
    {
     "name": "stderr",
     "output_type": "stream",
     "text": [
      "\u001b[1m\u001b[36mINFO: \u001b[39m\u001b[22m\u001b[36mSaved animation to /Users/uzielnmtz/FisicaComputacional2018_1/notebooks/anim_fps15.gif\n",
      "\u001b[39m\u001b[1m\u001b[36mINFO: \u001b[39m\u001b[22m\u001b[36mSaved animation to /Users/uzielnmtz/FisicaComputacional2018_1/notebooks/anim_fps5.gif\n",
      "\u001b[39m"
     ]
    },
    {
     "data": {
      "text/html": [
       "<img src=\"anim_fps5.gif?0.22195159739157333>\" />"
      ],
      "text/plain": [
       "Plots.AnimatedGif(\"/Users/uzielnmtz/FisicaComputacional2018_1/notebooks/anim_fps5.gif\")"
      ]
     },
     "execution_count": 4,
     "metadata": {},
     "output_type": "execute_result"
    }
   ],
   "source": [
    "x = 0:0.01:2*pi\n",
    "anim = @animate for i=1:20\n",
    "    plot(x, sin.(x + i / 10.0), key = false)\n",
    "end\n",
    "gif(anim, \"anim_fps15.gif\", fps = 15)\n",
    "gif(anim, \"anim_fps5.gif\", fps = 5)"
   ]
  },
  {
   "cell_type": "markdown",
   "metadata": {},
   "source": [
    "En algunos casos, lo que queremos es ver múltiples inicios sin guardar cada vez un video completo que quizá dura un par de minutos. Simplemente queremos ver lo que está haciendo nuestra simulación en ese momento. Decimos entonces que queremos que nos arroje resultados en \"tiempo real\". \n",
    "\n",
    "Para poder hacer simulaciones en tiempo real usando Plots, primero tenemos que pedir a nuestro graficador que \"nos muestre\" lo que se graficará, limpiando cada vez el gui (donde se grafica) incluso si está dentro de un ciclo for o while. Para esto, ponemos la instrucción \"show = true\" dentro de los paréntecis del graficador interno de plots que usaremos. Por ejemplo: gr(show = true). \n",
    "\n",
    "Esta instrucción es óptima si se usa desde la terminal, sin embargo, en ijulia no funciona. Si estamos dentro de un notebook, tenemos que usar la instrucción \"show = :ijulia\".\n",
    "\n",
    "Podría pensarse que con la instrucción display() se podrían observar las gráficas en un ciclo for, sin embargo, en el caso de IJulia, esto imprime todas las gráficas, una debajo de la otra, en vez de una remplazando la otra. \n",
    "\n",
    "Por último, a veces las animaciones en tiempo real son demasiado rápidas, pues el cálculo que se requiere hacer para graficar cada paso de la simulación dura milisegundos. Esto conlleva a animaciones que no se ven bien. Para esto se puede usar la función \"sleep(t)\" que detiene cualquier cálculo durante el tiempo $t$ (en segundos) que se deseé.\n",
    "\n",
    "Ejemplo: "
   ]
  },
  {
   "cell_type": "code",
   "execution_count": 3,
   "metadata": {},
   "outputs": [
    {
     "data": {
      "text/plain": [
       "Plots.GRBackend()"
      ]
     },
     "execution_count": 3,
     "metadata": {},
     "output_type": "execute_result"
    }
   ],
   "source": [
    "gr(show = :ijulia)"
   ]
  },
  {
   "cell_type": "code",
   "execution_count": 38,
   "metadata": {},
   "outputs": [
    {
     "data": {
      "text/html": [
       "<?xml version=\"1.0\" encoding=\"utf-8\"?>\n",
       "<svg xmlns=\"http://www.w3.org/2000/svg\" xmlns:xlink=\"http://www.w3.org/1999/xlink\" width=\"600\" height=\"400\" viewBox=\"0 0 600 400\">\n",
       "<defs>\n",
       "  <clipPath id=\"clip00\">\n",
       "    <rect x=\"0\" y=\"0\" width=\"600\" height=\"400\"/>\n",
       "  </clipPath>\n",
       "</defs>\n",
       "<polygon clip-path=\"url(#clip00)\" points=\"\n",
       "0,400 600,400 600,0 0,0 \n",
       "  \" fill=\"#ffffff\" fill-opacity=\"1\"/>\n",
       "<defs>\n",
       "  <clipPath id=\"clip01\">\n",
       "    <rect x=\"120\" y=\"0\" width=\"421\" height=\"400\"/>\n",
       "  </clipPath>\n",
       "</defs>\n",
       "<polygon clip-path=\"url(#clip00)\" points=\"\n",
       "39.3701,376.378 592.126,376.378 592.126,7.87402 39.3701,7.87402 \n",
       "  \" fill=\"#ffffff\" fill-opacity=\"1\"/>\n",
       "<defs>\n",
       "  <clipPath id=\"clip02\">\n",
       "    <rect x=\"39\" y=\"7\" width=\"554\" height=\"370\"/>\n",
       "  </clipPath>\n",
       "</defs>\n",
       "<polyline clip-path=\"url(#clip02)\" style=\"stroke:#000000; stroke-width:0.5; stroke-opacity:0.1; fill:none\" points=\"\n",
       "  39.3701,370.85 39.3701,13.4016 \n",
       "  \"/>\n",
       "<polyline clip-path=\"url(#clip02)\" style=\"stroke:#000000; stroke-width:0.5; stroke-opacity:0.1; fill:none\" points=\"\n",
       "  215.407,370.85 215.407,13.4016 \n",
       "  \"/>\n",
       "<polyline clip-path=\"url(#clip02)\" style=\"stroke:#000000; stroke-width:0.5; stroke-opacity:0.1; fill:none\" points=\"\n",
       "  391.444,370.85 391.444,13.4016 \n",
       "  \"/>\n",
       "<polyline clip-path=\"url(#clip02)\" style=\"stroke:#000000; stroke-width:0.5; stroke-opacity:0.1; fill:none\" points=\"\n",
       "  567.481,370.85 567.481,13.4016 \n",
       "  \"/>\n",
       "<polyline clip-path=\"url(#clip02)\" style=\"stroke:#000000; stroke-width:0.5; stroke-opacity:0.1; fill:none\" points=\"\n",
       "  47.6614,284.252 583.835,284.252 \n",
       "  \"/>\n",
       "<polyline clip-path=\"url(#clip02)\" style=\"stroke:#000000; stroke-width:0.5; stroke-opacity:0.1; fill:none\" points=\"\n",
       "  47.6614,192.126 583.835,192.126 \n",
       "  \"/>\n",
       "<polyline clip-path=\"url(#clip02)\" style=\"stroke:#000000; stroke-width:0.5; stroke-opacity:0.1; fill:none\" points=\"\n",
       "  47.6614,100 583.835,100 \n",
       "  \"/>\n",
       "<polyline clip-path=\"url(#clip00)\" style=\"stroke:#000000; stroke-width:1; stroke-opacity:1; fill:none\" points=\"\n",
       "  39.3701,376.378 592.126,376.378 \n",
       "  \"/>\n",
       "<polyline clip-path=\"url(#clip00)\" style=\"stroke:#000000; stroke-width:1; stroke-opacity:1; fill:none\" points=\"\n",
       "  39.3701,376.378 39.3701,370.85 \n",
       "  \"/>\n",
       "<polyline clip-path=\"url(#clip00)\" style=\"stroke:#000000; stroke-width:1; stroke-opacity:1; fill:none\" points=\"\n",
       "  215.407,376.378 215.407,370.85 \n",
       "  \"/>\n",
       "<polyline clip-path=\"url(#clip00)\" style=\"stroke:#000000; stroke-width:1; stroke-opacity:1; fill:none\" points=\"\n",
       "  391.444,376.378 391.444,370.85 \n",
       "  \"/>\n",
       "<polyline clip-path=\"url(#clip00)\" style=\"stroke:#000000; stroke-width:1; stroke-opacity:1; fill:none\" points=\"\n",
       "  567.481,376.378 567.481,370.85 \n",
       "  \"/>\n",
       "<polyline clip-path=\"url(#clip00)\" style=\"stroke:#000000; stroke-width:1; stroke-opacity:1; fill:none\" points=\"\n",
       "  39.3701,376.378 39.3701,7.87402 \n",
       "  \"/>\n",
       "<polyline clip-path=\"url(#clip00)\" style=\"stroke:#000000; stroke-width:1; stroke-opacity:1; fill:none\" points=\"\n",
       "  39.3701,284.252 47.6614,284.252 \n",
       "  \"/>\n",
       "<polyline clip-path=\"url(#clip00)\" style=\"stroke:#000000; stroke-width:1; stroke-opacity:1; fill:none\" points=\"\n",
       "  39.3701,192.126 47.6614,192.126 \n",
       "  \"/>\n",
       "<polyline clip-path=\"url(#clip00)\" style=\"stroke:#000000; stroke-width:1; stroke-opacity:1; fill:none\" points=\"\n",
       "  39.3701,100 47.6614,100 \n",
       "  \"/>\n",
       "<g clip-path=\"url(#clip00)\">\n",
       "<text style=\"fill:#000000; fill-opacity:1; font-family:Arial,Helvetica Neue,Helvetica,sans-serif; font-size:12; text-anchor:middle;\" transform=\"rotate(0, 39.3701, 390.178)\" x=\"39.3701\" y=\"390.178\">0</text>\n",
       "</g>\n",
       "<g clip-path=\"url(#clip00)\">\n",
       "<text style=\"fill:#000000; fill-opacity:1; font-family:Arial,Helvetica Neue,Helvetica,sans-serif; font-size:12; text-anchor:middle;\" transform=\"rotate(0, 215.407, 390.178)\" x=\"215.407\" y=\"390.178\">2</text>\n",
       "</g>\n",
       "<g clip-path=\"url(#clip00)\">\n",
       "<text style=\"fill:#000000; fill-opacity:1; font-family:Arial,Helvetica Neue,Helvetica,sans-serif; font-size:12; text-anchor:middle;\" transform=\"rotate(0, 391.444, 390.178)\" x=\"391.444\" y=\"390.178\">4</text>\n",
       "</g>\n",
       "<g clip-path=\"url(#clip00)\">\n",
       "<text style=\"fill:#000000; fill-opacity:1; font-family:Arial,Helvetica Neue,Helvetica,sans-serif; font-size:12; text-anchor:middle;\" transform=\"rotate(0, 567.481, 390.178)\" x=\"567.481\" y=\"390.178\">6</text>\n",
       "</g>\n",
       "<g clip-path=\"url(#clip00)\">\n",
       "<text style=\"fill:#000000; fill-opacity:1; font-family:Arial,Helvetica Neue,Helvetica,sans-serif; font-size:12; text-anchor:end;\" transform=\"rotate(0, 33.3701, 288.752)\" x=\"33.3701\" y=\"288.752\">-0.5</text>\n",
       "</g>\n",
       "<g clip-path=\"url(#clip00)\">\n",
       "<text style=\"fill:#000000; fill-opacity:1; font-family:Arial,Helvetica Neue,Helvetica,sans-serif; font-size:12; text-anchor:end;\" transform=\"rotate(0, 33.3701, 196.626)\" x=\"33.3701\" y=\"196.626\">0.0</text>\n",
       "</g>\n",
       "<g clip-path=\"url(#clip00)\">\n",
       "<text style=\"fill:#000000; fill-opacity:1; font-family:Arial,Helvetica Neue,Helvetica,sans-serif; font-size:12; text-anchor:end;\" transform=\"rotate(0, 33.3701, 104.5)\" x=\"33.3701\" y=\"104.5\">0.5</text>\n",
       "</g>\n",
       "<polyline clip-path=\"url(#clip02)\" style=\"stroke:#009af9; stroke-width:1; stroke-opacity:1; fill:none\" points=\"\n",
       "  39.3701,23.914 40.2503,23.1706 41.1304,22.444 42.0106,21.7344 42.8908,21.0418 43.771,20.3663 44.6512,19.708 45.5314,19.067 46.4116,18.4432 47.2917,17.8369 \n",
       "  48.1719,17.2479 49.0521,16.6765 49.9323,16.1225 50.8125,15.5862 51.6927,15.0676 52.5728,14.5666 53.453,14.0834 54.3332,13.618 55.2134,13.1705 56.0936,12.7408 \n",
       "  56.9738,12.3291 57.854,11.9354 58.7341,11.5597 59.6143,11.202 60.4945,10.8625 61.3747,10.541 62.2549,10.2378 63.1351,9.95267 64.0152,9.6858 64.8954,9.43717 \n",
       "  65.7756,9.20681 66.6558,8.99474 67.536,8.80099 68.4162,8.62557 69.2964,8.46849 70.1765,8.32979 71.0567,8.20946 71.9369,8.10753 72.8171,8.02399 73.6973,7.95887 \n",
       "  74.5775,7.91216 75.4576,7.88388 76.3378,7.87402 77.218,7.88258 78.0982,7.90957 78.9784,7.95498 79.8586,8.0188 80.7388,8.10104 81.6189,8.20168 82.4991,8.32071 \n",
       "  83.3793,8.45812 84.2595,8.6139 85.1397,8.78803 86.0199,8.98049 86.9,9.19127 87.7802,9.42034 88.6604,9.66768 89.5406,9.93327 90.4208,10.2171 91.301,10.5191 \n",
       "  92.1812,10.8392 93.0613,11.1775 93.9415,11.5339 94.8217,11.9083 95.7019,12.3008 96.5821,12.7112 97.4623,13.1396 98.3424,13.5859 99.2226,14.05 100.103,14.532 \n",
       "  100.983,15.0317 101.863,15.5491 102.743,16.0842 103.624,16.6369 104.504,17.2071 105.384,17.7948 106.264,18.3999 107.144,19.0225 108.024,19.6623 108.905,20.3194 \n",
       "  109.785,20.9936 110.665,21.685 111.545,22.3934 112.425,23.1188 113.306,23.8611 114.186,24.6202 115.066,25.3961 115.946,26.1886 116.826,26.9978 117.707,27.8234 \n",
       "  118.587,28.6655 119.467,29.5239 120.347,30.3986 121.227,31.2894 122.107,32.1964 122.988,33.1193 123.868,34.0581 124.748,35.0128 125.628,35.9831 126.508,36.9691 \n",
       "  127.389,37.9706 128.269,38.9874 129.149,40.0197 130.029,41.0671 130.909,42.1296 131.789,43.2071 132.67,44.2995 133.55,45.4067 134.43,46.5286 135.31,47.665 \n",
       "  136.19,48.8159 137.071,49.9811 137.951,51.1605 138.831,52.3541 139.711,53.5615 140.591,54.7829 141.471,56.018 142.352,57.2667 143.232,58.5289 144.112,59.8044 \n",
       "  144.992,61.0932 145.872,62.395 146.753,63.7099 147.633,65.0376 148.513,66.378 149.393,67.731 150.273,69.0964 151.154,70.4741 152.034,71.864 152.914,73.2659 \n",
       "  153.794,74.6797 154.674,76.1052 155.554,77.5423 156.435,78.9909 157.315,80.4509 158.195,81.9219 159.075,83.404 159.955,84.897 160.836,86.4007 161.716,87.915 \n",
       "  162.596,89.4397 163.476,90.9746 164.356,92.5197 165.236,94.0747 166.117,95.6396 166.997,97.214 167.877,98.798 168.757,100.391 169.637,101.994 170.518,103.605 \n",
       "  171.398,105.226 172.278,106.855 173.158,108.492 174.038,110.138 174.919,111.792 175.799,113.454 176.679,115.125 177.559,116.802 178.439,118.487 179.319,120.18 \n",
       "  180.2,121.88 181.08,123.587 181.96,125.3 182.84,127.021 183.72,128.748 184.601,130.481 185.481,132.22 186.361,133.966 187.241,135.717 188.121,137.474 \n",
       "  189.001,139.236 189.882,141.004 190.762,142.776 191.642,144.554 192.522,146.336 193.402,148.123 194.283,149.915 195.163,151.71 196.043,153.51 196.923,155.314 \n",
       "  197.803,157.121 198.683,158.931 199.564,160.745 200.444,162.563 201.324,164.383 202.204,166.205 203.084,168.031 203.965,169.859 204.845,171.689 205.725,173.521 \n",
       "  206.605,175.355 207.485,177.191 208.366,179.028 209.246,180.866 210.126,182.706 211.006,184.547 211.886,186.388 212.766,188.23 213.647,190.072 214.527,191.915 \n",
       "  215.407,193.757 216.287,195.599 217.167,197.441 218.048,199.283 218.928,201.124 219.808,202.963 220.688,204.802 221.568,206.64 222.448,208.476 223.329,210.31 \n",
       "  224.209,212.143 225.089,213.973 225.969,215.802 226.849,217.628 227.73,219.451 228.61,221.272 229.49,223.09 230.37,224.905 231.25,226.716 232.13,228.524 \n",
       "  233.011,230.328 233.891,232.129 234.771,233.925 235.651,235.718 236.531,237.506 237.412,239.289 238.292,241.068 239.172,242.842 240.052,244.611 240.932,246.374 \n",
       "  241.813,248.132 242.693,249.885 243.573,251.632 244.453,253.372 245.333,255.107 246.213,256.835 247.094,258.557 247.974,260.272 248.854,261.981 249.734,263.682 \n",
       "  250.614,265.377 251.495,267.064 252.375,268.743 253.255,270.415 254.135,272.079 255.015,273.735 255.895,275.383 256.776,277.022 257.656,278.653 258.536,280.276 \n",
       "  259.416,281.889 260.296,283.494 261.177,285.089 262.057,286.675 262.937,288.252 263.817,289.819 264.697,291.376 265.578,292.924 266.458,294.461 267.338,295.988 \n",
       "  268.218,297.505 269.098,299.011 269.978,300.506 270.859,301.991 271.739,303.465 272.619,304.927 273.499,306.378 274.379,307.818 275.26,309.246 276.14,310.663 \n",
       "  277.02,312.067 277.9,313.46 278.78,314.841 279.66,316.209 280.541,317.565 281.421,318.908 282.301,320.239 283.181,321.556 284.061,322.861 284.942,324.153 \n",
       "  285.822,325.432 286.702,326.697 287.582,327.949 288.462,329.187 289.342,330.411 290.223,331.622 291.103,332.819 291.983,334.002 292.863,335.17 293.743,336.324 \n",
       "  294.624,337.464 295.504,338.589 296.384,339.7 297.264,340.796 298.144,341.877 299.025,342.942 299.905,343.993 300.785,345.029 301.665,346.05 302.545,347.055 \n",
       "  303.425,348.044 304.306,349.018 305.186,349.976 306.066,350.919 306.946,351.845 307.826,352.756 308.707,353.651 309.587,354.529 310.467,355.391 311.347,356.237 \n",
       "  312.227,357.066 313.107,357.879 313.988,358.676 314.868,359.455 315.748,360.218 316.628,360.964 317.508,361.694 318.389,362.406 319.269,363.101 320.149,363.78 \n",
       "  321.029,364.441 321.909,365.084 322.79,365.711 323.67,366.32 324.55,366.912 325.43,367.486 326.31,368.043 327.19,368.582 328.071,369.103 328.951,369.607 \n",
       "  329.831,370.093 330.711,370.561 331.591,371.012 332.472,371.444 333.352,371.859 334.232,372.255 335.112,372.634 335.992,372.995 336.872,373.337 337.753,373.661 \n",
       "  338.633,373.967 339.513,374.255 340.393,374.525 341.273,374.777 342.154,375.01 343.034,375.225 343.914,375.422 344.794,375.6 345.674,375.76 346.554,375.902 \n",
       "  347.435,376.025 348.315,376.13 349.195,376.216 350.075,376.284 350.955,376.334 351.836,376.365 352.716,376.378 353.596,376.372 354.476,376.348 355.356,376.306 \n",
       "  356.237,376.245 357.117,376.166 357.997,376.068 358.877,375.952 359.757,375.817 360.637,375.664 361.518,375.493 362.398,375.304 363.278,375.096 364.158,374.87 \n",
       "  365.038,374.625 365.919,374.363 366.799,374.082 367.679,373.783 368.559,373.465 369.439,373.13 370.319,372.776 371.2,372.405 372.08,372.015 372.96,371.608 \n",
       "  373.84,371.182 374.72,370.739 375.601,370.277 376.481,369.798 377.361,369.301 378.241,368.787 379.121,368.255 380.002,367.705 380.882,367.137 381.762,366.552 \n",
       "  382.642,365.95 383.522,365.33 384.402,364.693 385.283,364.039 386.163,363.367 387.043,362.679 387.923,361.973 388.803,361.25 389.684,360.511 390.564,359.754 \n",
       "  391.444,358.981 392.324,358.191 393.204,357.385 394.084,356.562 394.965,355.722 395.845,354.866 396.725,353.994 397.605,353.106 398.485,352.201 399.366,351.281 \n",
       "  400.246,350.345 401.126,349.393 402.006,348.425 402.886,347.441 403.766,346.442 404.647,345.428 405.527,344.398 406.407,343.353 407.287,342.293 408.167,341.218 \n",
       "  409.048,340.128 409.928,339.023 410.808,337.903 411.688,336.769 412.568,335.621 413.449,334.458 414.329,333.281 415.209,332.089 416.089,330.884 416.969,329.665 \n",
       "  417.849,328.432 418.73,327.185 419.61,325.925 420.49,324.652 421.37,323.365 422.25,322.065 423.131,320.753 424.011,319.427 424.891,318.089 425.771,316.738 \n",
       "  426.651,315.374 427.531,313.998 428.412,312.611 429.292,311.211 430.172,309.799 431.052,308.375 431.932,306.94 432.813,305.493 433.693,304.035 434.573,302.565 \n",
       "  435.453,301.085 436.333,299.594 437.214,298.092 438.094,296.579 438.974,295.056 439.854,293.523 440.734,291.979 441.614,290.426 442.495,288.863 443.375,287.29 \n",
       "  444.255,285.707 445.135,284.115 446.015,282.514 446.896,280.904 447.776,279.285 448.656,277.658 449.536,276.021 450.416,274.377 451.296,272.724 452.177,271.063 \n",
       "  453.057,269.394 453.937,267.718 454.817,266.034 455.697,264.342 456.578,262.644 457.458,260.938 458.338,259.225 459.218,257.506 460.098,255.78 460.978,254.048 \n",
       "  461.859,252.309 462.739,250.565 463.619,248.815 464.499,247.059 465.379,245.297 466.26,243.53 467.14,241.759 468.02,239.982 468.9,238.2 469.78,236.414 \n",
       "  470.661,234.623 471.541,232.828 472.421,231.029 473.301,229.226 474.181,227.42 475.061,225.61 475.942,223.796 476.822,221.979 477.702,220.16 478.582,218.337 \n",
       "  479.462,216.512 480.343,214.685 481.223,212.855 482.103,211.023 482.983,209.189 483.863,207.354 484.743,205.517 485.624,203.679 486.504,201.839 487.384,199.999 \n",
       "  488.264,198.158 489.144,196.316 490.025,194.474 490.905,192.631 491.785,190.789 492.665,188.946 493.545,187.104 494.425,185.263 495.306,183.422 496.186,181.582 \n",
       "  497.066,179.743 497.946,177.905 498.826,176.069 499.707,174.234 500.587,172.401 501.467,170.57 502.347,168.742 503.227,166.915 504.108,165.091 504.988,163.27 \n",
       "  505.868,161.452 506.748,159.637 507.628,157.825 508.508,156.016 509.389,154.211 510.269,152.41 511.149,150.613 512.029,148.82 512.909,147.031 513.79,145.247 \n",
       "  514.67,143.467 515.55,141.693 516.43,139.923 517.31,138.159 518.19,136.4 519.071,134.646 519.951,132.899 520.831,131.157 521.711,129.421 522.591,127.692 \n",
       "  523.472,125.969 524.352,124.253 525.232,122.543 526.112,120.84 526.992,119.145 527.873,117.457 528.753,115.776 529.633,114.103 530.513,112.438 531.393,110.781 \n",
       "  532.273,109.132 533.154,107.491 534.034,105.858 534.914,104.235 535.794,102.62 536.674,101.014 537.555,99.4167 538.435,97.8291 539.315,96.2509 540.195,94.6823 \n",
       "  541.075,93.1234 541.955,91.5744 542.836,90.0355 543.716,88.5068 544.596,86.9885 545.476,85.4806 546.356,83.9835 547.237,82.4971 548.117,81.0218 548.997,79.5575 \n",
       "  549.877,78.1045 550.757,76.6629 551.637,75.2328 552.518,73.8144 553.398,72.4079 554.278,71.0133 555.158,69.6308 556.038,68.2606 556.919,66.9028 557.799,65.5575 \n",
       "  558.679,64.2248 559.559,62.905 560.439,61.598 561.32,60.3041 562.2,59.0234 563.08,57.756 563.96,56.5021 564.84,55.2617 565.72,54.035 566.601,52.8221 \n",
       "  567.481,51.6231 568.361,50.4382 569.241,49.2675 570.121,48.111 571.002,46.9689 571.882,45.8414 572.762,44.7285 573.642,43.6303 574.522,42.547 575.402,41.4786 \n",
       "  576.283,40.4253 577.163,39.3871 578.043,38.3643 578.923,37.3568 579.803,36.3648 580.684,35.3883 581.564,34.4276 582.444,33.4826 583.324,32.5535 584.204,31.6403 \n",
       "  585.085,30.7432 585.965,29.8622 586.845,28.9974 587.725,28.149 588.605,27.317 589.485,26.5014 590.366,25.7024 591.246,24.92 592.126,24.1544 \n",
       "  \"/>\n",
       "</svg>\n"
      ]
     },
     "metadata": {},
     "output_type": "display_data"
    }
   ],
   "source": [
    "x = 0:0.01:2*pi\n",
    "for i in 1:200 \n",
    "    plot(x, sin.(x + i / 10.0), key =false)\n",
    "    sleep(0.1)\n",
    "end"
   ]
  },
  {
   "cell_type": "markdown",
   "metadata": {},
   "source": [
    "[1] Haz un gif animado de una partícula moviéndose en linea recta a velocidad constante, fijando los ejes. \n",
    "\n",
    "[2] Haz una animación en tiempo real de una partícula moviéndose en círculos a velocidad angular constante.\n",
    "\n",
    "[3] Haz una animación en tiempo real del tiro parabólico, considerando que la altura de la que sale, es la misma a la que llega. Prueba tu simulación para varias velocidades iniciales. ¿A qué ángulo de tiro con respecto al horizonte se alcanza la mayor distancia? ¿con qué ángulo el lanzamiento dura más tiempo?"
   ]
  },
  {
   "cell_type": "code",
   "execution_count": 37,
   "metadata": {},
   "outputs": [
    {
     "data": {
      "text/html": [
       "<?xml version=\"1.0\" encoding=\"utf-8\"?>\n",
       "<svg xmlns=\"http://www.w3.org/2000/svg\" xmlns:xlink=\"http://www.w3.org/1999/xlink\" width=\"600\" height=\"400\" viewBox=\"0 0 600 400\">\n",
       "<defs>\n",
       "  <clipPath id=\"clip00\">\n",
       "    <rect x=\"0\" y=\"0\" width=\"600\" height=\"400\"/>\n",
       "  </clipPath>\n",
       "</defs>\n",
       "<polygon clip-path=\"url(#clip00)\" points=\"\n",
       "0,400 600,400 600,0 0,0 \n",
       "  \" fill=\"#ffffff\" fill-opacity=\"1\"/>\n",
       "<defs>\n",
       "  <clipPath id=\"clip01\">\n",
       "    <rect x=\"120\" y=\"0\" width=\"421\" height=\"400\"/>\n",
       "  </clipPath>\n",
       "</defs>\n",
       "<polygon clip-path=\"url(#clip00)\" points=\"\n",
       "39.3701,376.378 592.126,376.378 592.126,7.87402 39.3701,7.87402 \n",
       "  \" fill=\"#ffffff\" fill-opacity=\"1\"/>\n",
       "<defs>\n",
       "  <clipPath id=\"clip02\">\n",
       "    <rect x=\"39\" y=\"7\" width=\"554\" height=\"370\"/>\n",
       "  </clipPath>\n",
       "</defs>\n",
       "<polyline clip-path=\"url(#clip02)\" style=\"stroke:#000000; stroke-width:0.5; stroke-opacity:0.1; fill:none\" points=\"\n",
       "  55.0141,370.85 55.0141,13.4016 \n",
       "  \"/>\n",
       "<polyline clip-path=\"url(#clip02)\" style=\"stroke:#000000; stroke-width:0.5; stroke-opacity:0.1; fill:none\" points=\"\n",
       "  272.292,370.85 272.292,13.4016 \n",
       "  \"/>\n",
       "<polyline clip-path=\"url(#clip02)\" style=\"stroke:#000000; stroke-width:0.5; stroke-opacity:0.1; fill:none\" points=\"\n",
       "  489.571,370.85 489.571,13.4016 \n",
       "  \"/>\n",
       "<polyline clip-path=\"url(#clip02)\" style=\"stroke:#000000; stroke-width:0.5; stroke-opacity:0.1; fill:none\" points=\"\n",
       "  47.6614,365.949 583.835,365.949 \n",
       "  \"/>\n",
       "<polyline clip-path=\"url(#clip02)\" style=\"stroke:#000000; stroke-width:0.5; stroke-opacity:0.1; fill:none\" points=\"\n",
       "  47.6614,221.096 583.835,221.096 \n",
       "  \"/>\n",
       "<polyline clip-path=\"url(#clip02)\" style=\"stroke:#000000; stroke-width:0.5; stroke-opacity:0.1; fill:none\" points=\"\n",
       "  47.6614,76.2442 583.835,76.2442 \n",
       "  \"/>\n",
       "<polyline clip-path=\"url(#clip00)\" style=\"stroke:#000000; stroke-width:1; stroke-opacity:1; fill:none\" points=\"\n",
       "  39.3701,376.378 592.126,376.378 \n",
       "  \"/>\n",
       "<polyline clip-path=\"url(#clip00)\" style=\"stroke:#000000; stroke-width:1; stroke-opacity:1; fill:none\" points=\"\n",
       "  55.0141,376.378 55.0141,370.85 \n",
       "  \"/>\n",
       "<polyline clip-path=\"url(#clip00)\" style=\"stroke:#000000; stroke-width:1; stroke-opacity:1; fill:none\" points=\"\n",
       "  272.292,376.378 272.292,370.85 \n",
       "  \"/>\n",
       "<polyline clip-path=\"url(#clip00)\" style=\"stroke:#000000; stroke-width:1; stroke-opacity:1; fill:none\" points=\"\n",
       "  489.571,376.378 489.571,370.85 \n",
       "  \"/>\n",
       "<polyline clip-path=\"url(#clip00)\" style=\"stroke:#000000; stroke-width:1; stroke-opacity:1; fill:none\" points=\"\n",
       "  39.3701,376.378 39.3701,7.87402 \n",
       "  \"/>\n",
       "<polyline clip-path=\"url(#clip00)\" style=\"stroke:#000000; stroke-width:1; stroke-opacity:1; fill:none\" points=\"\n",
       "  39.3701,365.949 47.6614,365.949 \n",
       "  \"/>\n",
       "<polyline clip-path=\"url(#clip00)\" style=\"stroke:#000000; stroke-width:1; stroke-opacity:1; fill:none\" points=\"\n",
       "  39.3701,221.096 47.6614,221.096 \n",
       "  \"/>\n",
       "<polyline clip-path=\"url(#clip00)\" style=\"stroke:#000000; stroke-width:1; stroke-opacity:1; fill:none\" points=\"\n",
       "  39.3701,76.2442 47.6614,76.2442 \n",
       "  \"/>\n",
       "<g clip-path=\"url(#clip00)\">\n",
       "<text style=\"fill:#000000; fill-opacity:1; font-family:Arial,Helvetica Neue,Helvetica,sans-serif; font-size:12; text-anchor:middle;\" transform=\"rotate(0, 55.0141, 390.178)\" x=\"55.0141\" y=\"390.178\">0.0</text>\n",
       "</g>\n",
       "<g clip-path=\"url(#clip00)\">\n",
       "<text style=\"fill:#000000; fill-opacity:1; font-family:Arial,Helvetica Neue,Helvetica,sans-serif; font-size:12; text-anchor:middle;\" transform=\"rotate(0, 272.292, 390.178)\" x=\"272.292\" y=\"390.178\">0.5</text>\n",
       "</g>\n",
       "<g clip-path=\"url(#clip00)\">\n",
       "<text style=\"fill:#000000; fill-opacity:1; font-family:Arial,Helvetica Neue,Helvetica,sans-serif; font-size:12; text-anchor:middle;\" transform=\"rotate(0, 489.571, 390.178)\" x=\"489.571\" y=\"390.178\">1.0</text>\n",
       "</g>\n",
       "<g clip-path=\"url(#clip00)\">\n",
       "<text style=\"fill:#000000; fill-opacity:1; font-family:Arial,Helvetica Neue,Helvetica,sans-serif; font-size:12; text-anchor:end;\" transform=\"rotate(0, 33.3701, 370.449)\" x=\"33.3701\" y=\"370.449\">0.0</text>\n",
       "</g>\n",
       "<g clip-path=\"url(#clip00)\">\n",
       "<text style=\"fill:#000000; fill-opacity:1; font-family:Arial,Helvetica Neue,Helvetica,sans-serif; font-size:12; text-anchor:end;\" transform=\"rotate(0, 33.3701, 225.596)\" x=\"33.3701\" y=\"225.596\">0.5</text>\n",
       "</g>\n",
       "<g clip-path=\"url(#clip00)\">\n",
       "<text style=\"fill:#000000; fill-opacity:1; font-family:Arial,Helvetica Neue,Helvetica,sans-serif; font-size:12; text-anchor:end;\" transform=\"rotate(0, 33.3701, 80.7442)\" x=\"33.3701\" y=\"80.7442\">1.0</text>\n",
       "</g>\n",
       "<circle clip-path=\"url(#clip02)\" style=\"fill:#000000; stroke:none; fill-opacity:1\" cx=\"489.571\" cy=\"76.2442\" r=\"4\"/>\n",
       "<circle clip-path=\"url(#clip02)\" style=\"fill:#009af9; stroke:none; fill-opacity:1\" cx=\"489.571\" cy=\"76.2442\" r=\"3\"/>\n",
       "</svg>\n"
      ]
     },
     "metadata": {},
     "output_type": "display_data"
    },
    {
     "name": "stderr",
     "output_type": "stream",
     "text": [
      "\u001b[1m\u001b[36mINFO: \u001b[39m\u001b[22m\u001b[36mSaved animation to /Users/uzielnmtz/FisicaComputacional2018_1/notebooks/tmp.gif\n",
      "\u001b[39m"
     ]
    },
    {
     "data": {
      "text/html": [
       "<img src=\"tmp.gif?0.5057779590252194>\" />"
      ],
      "text/plain": [
       "Plots.AnimatedGif(\"/Users/uzielnmtz/FisicaComputacional2018_1/notebooks/tmp.gif\")"
      ]
     },
     "execution_count": 37,
     "metadata": {},
     "output_type": "execute_result"
    }
   ],
   "source": [
    "# [1]\n",
    "f(x) = x\n",
    "A = 0\n",
    "@gif for i=0:0.01:1\n",
    "    scatter([A + i], [f(A + i)], xlimit=[0,1.2], ylimit=[0,1.2], key=false)\n",
    "    sleep(0.01)\n",
    "end"
   ]
  },
  {
   "cell_type": "code",
   "execution_count": 12,
   "metadata": {},
   "outputs": [
    {
     "data": {
      "text/html": [
       "<?xml version=\"1.0\" encoding=\"utf-8\"?>\n",
       "<svg xmlns=\"http://www.w3.org/2000/svg\" xmlns:xlink=\"http://www.w3.org/1999/xlink\" width=\"600\" height=\"400\" viewBox=\"0 0 600 400\">\n",
       "<defs>\n",
       "  <clipPath id=\"clip00\">\n",
       "    <rect x=\"0\" y=\"0\" width=\"600\" height=\"400\"/>\n",
       "  </clipPath>\n",
       "</defs>\n",
       "<polygon clip-path=\"url(#clip00)\" points=\"\n",
       "0,400 600,400 600,0 0,0 \n",
       "  \" fill=\"#ffffff\" fill-opacity=\"1\"/>\n",
       "<defs>\n",
       "  <clipPath id=\"clip01\">\n",
       "    <rect x=\"120\" y=\"0\" width=\"421\" height=\"400\"/>\n",
       "  </clipPath>\n",
       "</defs>\n",
       "<polygon clip-path=\"url(#clip00)\" points=\"\n",
       "131.496,376.378 500,376.378 500,7.87402 131.496,7.87402 \n",
       "  \" fill=\"#ffffff\" fill-opacity=\"1\"/>\n",
       "<defs>\n",
       "  <clipPath id=\"clip02\">\n",
       "    <rect x=\"131\" y=\"7\" width=\"370\" height=\"370\"/>\n",
       "  </clipPath>\n",
       "</defs>\n",
       "<polyline clip-path=\"url(#clip02)\" style=\"stroke:#000000; stroke-width:0.5; stroke-opacity:0.1; fill:none\" points=\"\n",
       "  141.925,370.85 141.925,13.4016 \n",
       "  \"/>\n",
       "<polyline clip-path=\"url(#clip02)\" style=\"stroke:#000000; stroke-width:0.5; stroke-opacity:0.1; fill:none\" points=\"\n",
       "  228.837,370.85 228.837,13.4016 \n",
       "  \"/>\n",
       "<polyline clip-path=\"url(#clip02)\" style=\"stroke:#000000; stroke-width:0.5; stroke-opacity:0.1; fill:none\" points=\"\n",
       "  315.748,370.85 315.748,13.4016 \n",
       "  \"/>\n",
       "<polyline clip-path=\"url(#clip02)\" style=\"stroke:#000000; stroke-width:0.5; stroke-opacity:0.1; fill:none\" points=\"\n",
       "  402.659,370.85 402.659,13.4016 \n",
       "  \"/>\n",
       "<polyline clip-path=\"url(#clip02)\" style=\"stroke:#000000; stroke-width:0.5; stroke-opacity:0.1; fill:none\" points=\"\n",
       "  489.571,370.85 489.571,13.4016 \n",
       "  \"/>\n",
       "<polyline clip-path=\"url(#clip02)\" style=\"stroke:#000000; stroke-width:0.5; stroke-opacity:0.1; fill:none\" points=\"\n",
       "  137.024,365.949 494.472,365.949 \n",
       "  \"/>\n",
       "<polyline clip-path=\"url(#clip02)\" style=\"stroke:#000000; stroke-width:0.5; stroke-opacity:0.1; fill:none\" points=\"\n",
       "  137.024,279.037 494.472,279.037 \n",
       "  \"/>\n",
       "<polyline clip-path=\"url(#clip02)\" style=\"stroke:#000000; stroke-width:0.5; stroke-opacity:0.1; fill:none\" points=\"\n",
       "  137.024,192.126 494.472,192.126 \n",
       "  \"/>\n",
       "<polyline clip-path=\"url(#clip02)\" style=\"stroke:#000000; stroke-width:0.5; stroke-opacity:0.1; fill:none\" points=\"\n",
       "  137.024,105.215 494.472,105.215 \n",
       "  \"/>\n",
       "<polyline clip-path=\"url(#clip02)\" style=\"stroke:#000000; stroke-width:0.5; stroke-opacity:0.1; fill:none\" points=\"\n",
       "  137.024,18.3034 494.472,18.3034 \n",
       "  \"/>\n",
       "<polyline clip-path=\"url(#clip00)\" style=\"stroke:#000000; stroke-width:1; stroke-opacity:1; fill:none\" points=\"\n",
       "  131.496,376.378 500,376.378 \n",
       "  \"/>\n",
       "<polyline clip-path=\"url(#clip00)\" style=\"stroke:#000000; stroke-width:1; stroke-opacity:1; fill:none\" points=\"\n",
       "  141.925,376.378 141.925,370.85 \n",
       "  \"/>\n",
       "<polyline clip-path=\"url(#clip00)\" style=\"stroke:#000000; stroke-width:1; stroke-opacity:1; fill:none\" points=\"\n",
       "  228.837,376.378 228.837,370.85 \n",
       "  \"/>\n",
       "<polyline clip-path=\"url(#clip00)\" style=\"stroke:#000000; stroke-width:1; stroke-opacity:1; fill:none\" points=\"\n",
       "  315.748,376.378 315.748,370.85 \n",
       "  \"/>\n",
       "<polyline clip-path=\"url(#clip00)\" style=\"stroke:#000000; stroke-width:1; stroke-opacity:1; fill:none\" points=\"\n",
       "  402.659,376.378 402.659,370.85 \n",
       "  \"/>\n",
       "<polyline clip-path=\"url(#clip00)\" style=\"stroke:#000000; stroke-width:1; stroke-opacity:1; fill:none\" points=\"\n",
       "  489.571,376.378 489.571,370.85 \n",
       "  \"/>\n",
       "<polyline clip-path=\"url(#clip00)\" style=\"stroke:#000000; stroke-width:1; stroke-opacity:1; fill:none\" points=\"\n",
       "  131.496,376.378 131.496,7.87402 \n",
       "  \"/>\n",
       "<polyline clip-path=\"url(#clip00)\" style=\"stroke:#000000; stroke-width:1; stroke-opacity:1; fill:none\" points=\"\n",
       "  131.496,365.949 137.024,365.949 \n",
       "  \"/>\n",
       "<polyline clip-path=\"url(#clip00)\" style=\"stroke:#000000; stroke-width:1; stroke-opacity:1; fill:none\" points=\"\n",
       "  131.496,279.037 137.024,279.037 \n",
       "  \"/>\n",
       "<polyline clip-path=\"url(#clip00)\" style=\"stroke:#000000; stroke-width:1; stroke-opacity:1; fill:none\" points=\"\n",
       "  131.496,192.126 137.024,192.126 \n",
       "  \"/>\n",
       "<polyline clip-path=\"url(#clip00)\" style=\"stroke:#000000; stroke-width:1; stroke-opacity:1; fill:none\" points=\"\n",
       "  131.496,105.215 137.024,105.215 \n",
       "  \"/>\n",
       "<polyline clip-path=\"url(#clip00)\" style=\"stroke:#000000; stroke-width:1; stroke-opacity:1; fill:none\" points=\"\n",
       "  131.496,18.3034 137.024,18.3034 \n",
       "  \"/>\n",
       "<g clip-path=\"url(#clip00)\">\n",
       "<text style=\"fill:#000000; fill-opacity:1; font-family:Arial,Helvetica Neue,Helvetica,sans-serif; font-size:12; text-anchor:middle;\" transform=\"rotate(0, 141.925, 390.178)\" x=\"141.925\" y=\"390.178\">-2</text>\n",
       "</g>\n",
       "<g clip-path=\"url(#clip00)\">\n",
       "<text style=\"fill:#000000; fill-opacity:1; font-family:Arial,Helvetica Neue,Helvetica,sans-serif; font-size:12; text-anchor:middle;\" transform=\"rotate(0, 228.837, 390.178)\" x=\"228.837\" y=\"390.178\">-1</text>\n",
       "</g>\n",
       "<g clip-path=\"url(#clip00)\">\n",
       "<text style=\"fill:#000000; fill-opacity:1; font-family:Arial,Helvetica Neue,Helvetica,sans-serif; font-size:12; text-anchor:middle;\" transform=\"rotate(0, 315.748, 390.178)\" x=\"315.748\" y=\"390.178\">0</text>\n",
       "</g>\n",
       "<g clip-path=\"url(#clip00)\">\n",
       "<text style=\"fill:#000000; fill-opacity:1; font-family:Arial,Helvetica Neue,Helvetica,sans-serif; font-size:12; text-anchor:middle;\" transform=\"rotate(0, 402.659, 390.178)\" x=\"402.659\" y=\"390.178\">1</text>\n",
       "</g>\n",
       "<g clip-path=\"url(#clip00)\">\n",
       "<text style=\"fill:#000000; fill-opacity:1; font-family:Arial,Helvetica Neue,Helvetica,sans-serif; font-size:12; text-anchor:middle;\" transform=\"rotate(0, 489.571, 390.178)\" x=\"489.571\" y=\"390.178\">2</text>\n",
       "</g>\n",
       "<g clip-path=\"url(#clip00)\">\n",
       "<text style=\"fill:#000000; fill-opacity:1; font-family:Arial,Helvetica Neue,Helvetica,sans-serif; font-size:12; text-anchor:end;\" transform=\"rotate(0, 125.496, 370.449)\" x=\"125.496\" y=\"370.449\">-2</text>\n",
       "</g>\n",
       "<g clip-path=\"url(#clip00)\">\n",
       "<text style=\"fill:#000000; fill-opacity:1; font-family:Arial,Helvetica Neue,Helvetica,sans-serif; font-size:12; text-anchor:end;\" transform=\"rotate(0, 125.496, 283.537)\" x=\"125.496\" y=\"283.537\">-1</text>\n",
       "</g>\n",
       "<g clip-path=\"url(#clip00)\">\n",
       "<text style=\"fill:#000000; fill-opacity:1; font-family:Arial,Helvetica Neue,Helvetica,sans-serif; font-size:12; text-anchor:end;\" transform=\"rotate(0, 125.496, 196.626)\" x=\"125.496\" y=\"196.626\">0</text>\n",
       "</g>\n",
       "<g clip-path=\"url(#clip00)\">\n",
       "<text style=\"fill:#000000; fill-opacity:1; font-family:Arial,Helvetica Neue,Helvetica,sans-serif; font-size:12; text-anchor:end;\" transform=\"rotate(0, 125.496, 109.715)\" x=\"125.496\" y=\"109.715\">1</text>\n",
       "</g>\n",
       "<g clip-path=\"url(#clip00)\">\n",
       "<text style=\"fill:#000000; fill-opacity:1; font-family:Arial,Helvetica Neue,Helvetica,sans-serif; font-size:12; text-anchor:end;\" transform=\"rotate(0, 125.496, 22.8034)\" x=\"125.496\" y=\"22.8034\">2</text>\n",
       "</g>\n",
       "<circle clip-path=\"url(#clip02)\" style=\"fill:#000000; stroke:none; fill-opacity:1\" cx=\"268.466\" cy=\"265.051\" r=\"4\"/>\n",
       "<circle clip-path=\"url(#clip02)\" style=\"fill:#009af9; stroke:none; fill-opacity:1\" cx=\"268.466\" cy=\"265.051\" r=\"3\"/>\n",
       "</svg>\n"
      ]
     },
     "metadata": {},
     "output_type": "display_data"
    }
   ],
   "source": [
    "x = 0:0.01:2*pi\n",
    "\n",
    "for i in 1:0.05:10 \n",
    "    scatter([sin(0 + i)], [cos(0 + i)], key =false, xlimit=[-2,2], ylimit=[-2,2], aspect_ratio=:equal)\n",
    "    sleep(0.1)\n",
    "end"
   ]
  },
  {
   "cell_type": "code",
   "execution_count": null,
   "metadata": {
    "collapsed": true
   },
   "outputs": [],
   "source": []
  },
  {
   "cell_type": "markdown",
   "metadata": {},
   "source": [
    "# Condiciones periódicas a la frontera\n",
    "\n",
    "Muchos problemas en física computacional tratan de estudiar sistemas con un número de partículas infinitas (o extremadamente grande). Esto naturalmente no se puede hacer en casi ningún caso debido a que la memoria de una computadora es finita. Sin embargo, en los sistemas periódicos, como son los cristales sí se pueden simular un número infinito de partículas ya que con un número finito de parámetros se pueden describir a todas. El hecho de que en los sistemas periódicos se puedan simular realmente un número infinito de partículas, da un incentivo para utilizar aproximaciones con sistemas periódicos cuyo periodo es grande, para simular sistemas que no son necesariamente periódicos, como un gas de esferas duras, sistemas coloidales, o casi cualquier sistema con incluya cantidades grandes de partículas. \n",
    "\n",
    "[4] Supón que teselamos el espacio ($n$-dimensional) con cajas pristmáticas-rectangulares iguales en un arreglo periódico (por ejemplo, una cuadrícula). Supón además que una de las cajas está centrada en el origen y con caras ortogonales a los ejes coordenados. Llamemos $L$ al vector que contiene los tamaños de cada lado de la caja. En este caso, si una partícula está en el espacio, puesto que todas las teselas son iguales, podemos describir la posición de la partícula, usando un vector de coordenadas enteras, que nos indica en que caja está la partícula y un vector con valores entre $-L$ y $+L$ que describe la posición de la partícula con respecto al centro de la caja en la que se encuentra. Haz una función que tenga como argumentos la posición de la partícula $x_0$ y el vector $L$ y arroje como resultado la posición de la partícula con respecto al centro de la caja en la que está y el vector de coordenadas enteras que determina la caja en la que está. Para hacer esta función utiliza la función de Julia mod(). Si no sabes como usarla, busca la información correspondiente en: https://docs.julialang.org/en/stable/\n",
    "\n",
    "Guarda la función de arriba en tu archivo \"herramientas.jl\".\n",
    "\n",
    "[5] Considera una partícula que se mueve libre dentro de una caja ND de lado L, con condiciones periódicas a la frontera. Haz una función que requiera la posición inicial de la partícula $x_0$, su velocidad $v$ y un tiempo $t$ y que regrese la nueva posición de la partícula, considerando las condiciones periódicas a la frontera (como pac-man). \n",
    "\n",
    "[6] Para el caso 2D, haz una función que requiera los mismos datos que la función del inciso [5] y que genere un gif animado de la partícula. (Se tienen que dibujar también los contornos de la caja y el movimiento de la partícula se tiene que ver suave).\n",
    "\n",
    "[7] Ahora consideraremos que tienes una partícula con forma de disco. Haz una función para simular esta partícula moviéndose circularmente con velocidad angular constante. Ten en cuenta que a todos los puntos se les tiene que aplicar condiciones periódicas a la frontera, independientemente de si el centro \"se salió\" o no de la caja. \n"
   ]
  },
  {
   "cell_type": "markdown",
   "metadata": {},
   "source": [
    "### Condiciones periódicas hexagonales y triangulares\n",
    "\n",
    "Además de teselas cuadradas o rectangulares, hay muchos sistemas que tienen simetría hexagonales o triangulares (además de rombóicos, pero esos los veremos la siguiente clase). En esos casos no tiene sentido aplicar una frontera cuadrada, sino una frontera triangular o hexagonal, según sea el caso. \n",
    "\n",
    "[8] Haz una función que tenga como argumentos el lado de un hexágono, la posición inicial de una partícula y el tiempo $t$ que transcurrirá y que arroje como resultado un vector con 2 coordenadas enteras que defina en qué hexágono está la partícula y otro vector que mida la posición de la partícula con respecto del centro del hexágono en el que se encuentra. Haz una simulación en tiempo real para verificar que tu función arroja los resultados correctos. \n",
    "\n",
    "[9] Haz lo mismo pero esta vez para una frontera triangular con condiciones periódicas a la frontera. Piensa qué significa en este caso las condiciones periódicas a la frontera. "
   ]
  },
  {
   "cell_type": "code",
   "execution_count": null,
   "metadata": {
    "collapsed": true
   },
   "outputs": [],
   "source": []
  }
 ],
 "metadata": {
  "kernelspec": {
   "display_name": "Julia 0.6.0",
   "language": "julia",
   "name": "julia-0.6"
  },
  "language_info": {
   "file_extension": ".jl",
   "mimetype": "application/julia",
   "name": "julia",
   "version": "0.6.0"
  }
 },
 "nbformat": 4,
 "nbformat_minor": 2
}
