{
 "cells": [
  {
   "cell_type": "markdown",
   "metadata": {},
   "source": [
    "# Interpolación"
   ]
  },
  {
   "cell_type": "markdown",
   "metadata": {},
   "source": [
    "Hemos visto que partiendo de una función continua, podemos utilizar una discretización para calcular numéricamente una derivada.\n",
    "\n",
    "Un problema muy común en el cómputo científico es el problema inverso: tenemos datos discretos, y queremos encontrar una función continua que los aproxime. Una manera de hacer esto es la **interpolación**: \n",
    "\n",
    "> Dados datos $(x_i, y_i)$ para $i=1,\\ldots,N$, encuentra una función $f(x)$ que pase exactamente por los puntos, es decir, tal que $f(x_i) = y_i$ para cada $i$.\n",
    "\n",
    "La interpolación provee, entre muchas otras cosas, una manera de formalizar la derivación de diferencias finitas para calcular derivadas, y para llevar a cabo integrales. \n",
    "Aunque data de la época de Newton, Lagrange y Gauss, algunos de las técnicas más modernas también se basan en la interpolación, para poder trabajar con funciones de forma numérica.\n",
    "\n",
    "Podríamos escoger distintas clases de función $f$ con las cuales interpolar. Aquí, escogemos trabajar con **polinomios**, ya que son funciones que entendemos y que son fáciles de manipular."
   ]
  },
  {
   "cell_type": "markdown",
   "metadata": {},
   "source": [
    "**[1]** El primer caso que tratar es el de dos puntos $(x_1, y_1)$ y $(x_2, y_2)$; está claro que podemos interpolar entre estos dos puntos con una recta. Aunque probablemente puedes escribir casi directamente cuál recta es, seguiremos el procedimiento siguiente, el cual se generaliza para más puntos:\n",
    "\n",
    "(i) Define una función $\\ell_1(x)$ que es lineal y tal que $\\ell_1(x)$ tome el valor $0$ en $x = x_2$. Ahora haz que también tome el valor $1$ en $x = x_1$. Nota que estas dos condiciones determinan la función $\\ell_1$ de forma única.\n",
    "\n",
    "(ii) Por simetría, encuentra la función $\\ell_2(x)$ tal que $\\ell_2(x_1) = 0$ y $\\ell_2(x_2) = 1$.\n",
    "\n",
    "(iii) Utiliza $\\ell_1$ y $\\ell_2$ para encontrar un polinomio lineal que interpola los datos.\n",
    "\n",
    "(iv) Impleméntalo y comprueba gráficamente que sí funciona."
   ]
  },
  {
   "cell_type": "code",
   "execution_count": 1,
   "metadata": {},
   "outputs": [
    {
     "data": {
      "text/plain": [
       "Plots.GRBackend()"
      ]
     },
     "execution_count": 1,
     "metadata": {},
     "output_type": "execute_result"
    }
   ],
   "source": [
    "using Plots\n",
    "using Interact\n",
    "gr()"
   ]
  },
  {
   "cell_type": "code",
   "execution_count": 1,
   "metadata": {},
   "outputs": [
    {
     "data": {
      "text/plain": [
       "interpola (generic function with 1 method)"
      ]
     },
     "execution_count": 1,
     "metadata": {},
     "output_type": "execute_result"
    }
   ],
   "source": [
    "function interpola(x, y)\n",
    "    x1, x2 = x\n",
    "    y1, y2 = y\n",
    "    l1(z) = (1/(x1 - x2)) * (z - x2)\n",
    "    l2(z) = (1/(x2 - x1)) * (z - x1)\n",
    "    s(z) = (y1*l1(z) + y2*l2(z))\n",
    "    return s\n",
    "end"
   ]
  },
  {
   "cell_type": "code",
   "execution_count": 3,
   "metadata": {},
   "outputs": [
    {
     "data": {
      "text/plain": [
       "-0.5"
      ]
     },
     "execution_count": 3,
     "metadata": {},
     "output_type": "execute_result"
    }
   ],
   "source": [
    "x = [-1, -3]\n",
    "y = [1, 2]\n",
    "s = interpola(x, y)\n",
    "s(2)"
   ]
  },
  {
   "cell_type": "code",
   "execution_count": 4,
   "metadata": {},
   "outputs": [
    {
     "data": {
      "text/html": [
       "<?xml version=\"1.0\" encoding=\"utf-8\"?>\n",
       "<svg xmlns=\"http://www.w3.org/2000/svg\" xmlns:xlink=\"http://www.w3.org/1999/xlink\" width=\"600\" height=\"400\" viewBox=\"0 0 600 400\">\n",
       "<defs>\n",
       "  <clipPath id=\"clip00\">\n",
       "    <rect x=\"0\" y=\"0\" width=\"600\" height=\"400\"/>\n",
       "  </clipPath>\n",
       "</defs>\n",
       "<polygon clip-path=\"url(#clip00)\" points=\"\n",
       "0,400 600,400 600,0 0,0 \n",
       "  \" fill=\"#ffffff\" fill-opacity=\"1\"/>\n",
       "<defs>\n",
       "  <clipPath id=\"clip01\">\n",
       "    <rect x=\"120\" y=\"0\" width=\"421\" height=\"400\"/>\n",
       "  </clipPath>\n",
       "</defs>\n",
       "<polygon clip-path=\"url(#clip00)\" points=\"\n",
       "39.3701,376.378 592.126,376.378 592.126,7.87402 39.3701,7.87402 \n",
       "  \" fill=\"#ffffff\" fill-opacity=\"1\"/>\n",
       "<defs>\n",
       "  <clipPath id=\"clip02\">\n",
       "    <rect x=\"39\" y=\"7\" width=\"554\" height=\"370\"/>\n",
       "  </clipPath>\n",
       "</defs>\n",
       "<polyline clip-path=\"url(#clip02)\" style=\"stroke:#000000; stroke-width:0.5; stroke-opacity:0.1; fill:none\" points=\"\n",
       "  64.9023,370.85 64.9023,13.4016 \n",
       "  \"/>\n",
       "<polyline clip-path=\"url(#clip02)\" style=\"stroke:#000000; stroke-width:0.5; stroke-opacity:0.1; fill:none\" points=\"\n",
       "  316.533,370.85 316.533,13.4016 \n",
       "  \"/>\n",
       "<polyline clip-path=\"url(#clip02)\" style=\"stroke:#000000; stroke-width:0.5; stroke-opacity:0.1; fill:none\" points=\"\n",
       "  568.164,370.85 568.164,13.4016 \n",
       "  \"/>\n",
       "<polyline clip-path=\"url(#clip02)\" style=\"stroke:#000000; stroke-width:0.5; stroke-opacity:0.1; fill:none\" points=\"\n",
       "  47.6614,360.403 583.835,360.403 \n",
       "  \"/>\n",
       "<polyline clip-path=\"url(#clip02)\" style=\"stroke:#000000; stroke-width:0.5; stroke-opacity:0.1; fill:none\" points=\"\n",
       "  47.6614,192.649 583.835,192.649 \n",
       "  \"/>\n",
       "<polyline clip-path=\"url(#clip02)\" style=\"stroke:#000000; stroke-width:0.5; stroke-opacity:0.1; fill:none\" points=\"\n",
       "  47.6614,24.8955 583.835,24.8955 \n",
       "  \"/>\n",
       "<polyline clip-path=\"url(#clip00)\" style=\"stroke:#000000; stroke-width:1; stroke-opacity:1; fill:none\" points=\"\n",
       "  39.3701,376.378 592.126,376.378 \n",
       "  \"/>\n",
       "<polyline clip-path=\"url(#clip00)\" style=\"stroke:#000000; stroke-width:1; stroke-opacity:1; fill:none\" points=\"\n",
       "  64.9023,376.378 64.9023,370.85 \n",
       "  \"/>\n",
       "<polyline clip-path=\"url(#clip00)\" style=\"stroke:#000000; stroke-width:1; stroke-opacity:1; fill:none\" points=\"\n",
       "  316.533,376.378 316.533,370.85 \n",
       "  \"/>\n",
       "<polyline clip-path=\"url(#clip00)\" style=\"stroke:#000000; stroke-width:1; stroke-opacity:1; fill:none\" points=\"\n",
       "  568.164,376.378 568.164,370.85 \n",
       "  \"/>\n",
       "<polyline clip-path=\"url(#clip00)\" style=\"stroke:#000000; stroke-width:1; stroke-opacity:1; fill:none\" points=\"\n",
       "  39.3701,376.378 39.3701,7.87402 \n",
       "  \"/>\n",
       "<polyline clip-path=\"url(#clip00)\" style=\"stroke:#000000; stroke-width:1; stroke-opacity:1; fill:none\" points=\"\n",
       "  39.3701,360.403 47.6614,360.403 \n",
       "  \"/>\n",
       "<polyline clip-path=\"url(#clip00)\" style=\"stroke:#000000; stroke-width:1; stroke-opacity:1; fill:none\" points=\"\n",
       "  39.3701,192.649 47.6614,192.649 \n",
       "  \"/>\n",
       "<polyline clip-path=\"url(#clip00)\" style=\"stroke:#000000; stroke-width:1; stroke-opacity:1; fill:none\" points=\"\n",
       "  39.3701,24.8955 47.6614,24.8955 \n",
       "  \"/>\n",
       "<g clip-path=\"url(#clip00)\">\n",
       "<text style=\"fill:#000000; fill-opacity:1; font-family:Arial,Helvetica Neue,Helvetica,sans-serif; font-size:12; text-anchor:middle;\" transform=\"rotate(0, 64.9023, 390.178)\" x=\"64.9023\" y=\"390.178\">-3</text>\n",
       "</g>\n",
       "<g clip-path=\"url(#clip00)\">\n",
       "<text style=\"fill:#000000; fill-opacity:1; font-family:Arial,Helvetica Neue,Helvetica,sans-serif; font-size:12; text-anchor:middle;\" transform=\"rotate(0, 316.533, 390.178)\" x=\"316.533\" y=\"390.178\">-2</text>\n",
       "</g>\n",
       "<g clip-path=\"url(#clip00)\">\n",
       "<text style=\"fill:#000000; fill-opacity:1; font-family:Arial,Helvetica Neue,Helvetica,sans-serif; font-size:12; text-anchor:middle;\" transform=\"rotate(0, 568.164, 390.178)\" x=\"568.164\" y=\"390.178\">-1</text>\n",
       "</g>\n",
       "<g clip-path=\"url(#clip00)\">\n",
       "<text style=\"fill:#000000; fill-opacity:1; font-family:Arial,Helvetica Neue,Helvetica,sans-serif; font-size:12; text-anchor:end;\" transform=\"rotate(0, 33.3701, 364.903)\" x=\"33.3701\" y=\"364.903\">1.0</text>\n",
       "</g>\n",
       "<g clip-path=\"url(#clip00)\">\n",
       "<text style=\"fill:#000000; fill-opacity:1; font-family:Arial,Helvetica Neue,Helvetica,sans-serif; font-size:12; text-anchor:end;\" transform=\"rotate(0, 33.3701, 197.149)\" x=\"33.3701\" y=\"197.149\">1.5</text>\n",
       "</g>\n",
       "<g clip-path=\"url(#clip00)\">\n",
       "<text style=\"fill:#000000; fill-opacity:1; font-family:Arial,Helvetica Neue,Helvetica,sans-serif; font-size:12; text-anchor:end;\" transform=\"rotate(0, 33.3701, 29.3955)\" x=\"33.3701\" y=\"29.3955\">2.0</text>\n",
       "</g>\n",
       "<circle clip-path=\"url(#clip02)\" style=\"fill:#000000; stroke:none; fill-opacity:1\" cx=\"568.164\" cy=\"360.403\" r=\"4\"/>\n",
       "<circle clip-path=\"url(#clip02)\" style=\"fill:#009af9; stroke:none; fill-opacity:1\" cx=\"568.164\" cy=\"360.403\" r=\"3\"/>\n",
       "<circle clip-path=\"url(#clip02)\" style=\"fill:#000000; stroke:none; fill-opacity:1\" cx=\"64.9023\" cy=\"24.8955\" r=\"4\"/>\n",
       "<circle clip-path=\"url(#clip02)\" style=\"fill:#009af9; stroke:none; fill-opacity:1\" cx=\"64.9023\" cy=\"24.8955\" r=\"3\"/>\n",
       "<polyline clip-path=\"url(#clip02)\" style=\"stroke:#e26f46; stroke-width:1; stroke-opacity:1; fill:none\" points=\"\n",
       "  55.0141,18.3034 103.185,50.4172 132.133,69.7162 156.609,86.0333 183.197,103.758 207.708,120.099 233.986,137.618 264.433,157.916 291.49,175.954 315.217,191.772 \n",
       "  341.085,209.017 367.107,226.366 395.878,245.546 423.253,263.796 451.716,282.772 475.677,298.745 504.929,318.247 532.428,336.579 576.482,365.949 \n",
       "  \"/>\n",
       "<polygon clip-path=\"url(#clip00)\" points=\"\n",
       "501.61,74.114 574.126,74.114 574.126,28.754 501.61,28.754 \n",
       "  \" fill=\"#ffffff\" fill-opacity=\"1\"/>\n",
       "<polyline clip-path=\"url(#clip00)\" style=\"stroke:#000000; stroke-width:1; stroke-opacity:1; fill:none\" points=\"\n",
       "  501.61,74.114 574.126,74.114 574.126,28.754 501.61,28.754 501.61,74.114 \n",
       "  \"/>\n",
       "<circle clip-path=\"url(#clip00)\" style=\"fill:#000000; stroke:none; fill-opacity:1\" cx=\"528.61\" cy=\"43.874\" r=\"6\"/>\n",
       "<circle clip-path=\"url(#clip00)\" style=\"fill:#009af9; stroke:none; fill-opacity:1\" cx=\"528.61\" cy=\"43.874\" r=\"5\"/>\n",
       "<g clip-path=\"url(#clip00)\">\n",
       "<text style=\"fill:#000000; fill-opacity:1; font-family:Arial,Helvetica Neue,Helvetica,sans-serif; font-size:12; text-anchor:start;\" transform=\"rotate(0, 549.61, 48.374)\" x=\"549.61\" y=\"48.374\">y1</text>\n",
       "</g>\n",
       "<polyline clip-path=\"url(#clip00)\" style=\"stroke:#e26f46; stroke-width:1; stroke-opacity:1; fill:none\" points=\"\n",
       "  507.61,58.994 543.61,58.994 \n",
       "  \"/>\n",
       "<g clip-path=\"url(#clip00)\">\n",
       "<text style=\"fill:#000000; fill-opacity:1; font-family:Arial,Helvetica Neue,Helvetica,sans-serif; font-size:12; text-anchor:start;\" transform=\"rotate(0, 549.61, 63.494)\" x=\"549.61\" y=\"63.494\">y2</text>\n",
       "</g>\n",
       "</svg>\n"
      ]
     },
     "execution_count": 4,
     "metadata": {},
     "output_type": "execute_result"
    }
   ],
   "source": [
    "scatter(x, y)\n",
    "plot!(s)"
   ]
  },
  {
   "cell_type": "markdown",
   "metadata": {},
   "source": [
    "**[2]** (i) Si tenemos tres puntos $(x_i, y_i)$ con $i=1, 2, 3$, ¿cuál es grado menor del polinomio que necesitaremos en general para interpolar los tres puntos? \n",
    "\n",
    "Lo podemos calcular al generalizar la pregunta [1], de la forma siguiente.\n",
    "\n",
    "(ii) Encuentra el polinomio $\\ell_1$ que satisface $\\ell_1(x_2) = \\ell_1(x_3) = 0$ y $\\ell_1(x_1) = 1$.\n",
    "Por simetría, encuentra $\\ell_2$ y $\\ell_3$ que satisfacen que $\\ell_j(x_i) = 1$ para $i = j$ y $=0$ para $i \\neq j$.\n",
    "\n",
    "(iii) Construye el polinomio $p$ que interpola los tres puntos, usando tu resultado de (ii). Verifica gráficamente que funciona. ¿De qué grado es el polinomio resultante?\n"
   ]
  },
  {
   "cell_type": "code",
   "execution_count": null,
   "metadata": {},
   "outputs": [
    {
     "data": {
      "text/plain": [
       "interpola2 (generic function with 1 method)"
      ]
     },
     "execution_count": 5,
     "metadata": {},
     "output_type": "execute_result"
    }
   ],
   "source": [
    "# [2] (iii)\n",
    "function interpola2(X, Y)\n",
    "    x1, x2, x3 = X\n",
    "    y1, y2, y3 = Y\n",
    "    α1 = 1 / ((x1 - x2) * (x1 - x3))\n",
    "    α2 = 1 / ((x2 - x1) * (x2 - x3))\n",
    "    α3 = 1 / ((x3 - x1) * (x3 - x2))\n",
    "    l1(x) = α1 * (x - x2) * (x - x3)\n",
    "    l2(x) = α2 * (x - x1) * (x - x3)\n",
    "    l3(x) = α3 * (x - x1) * (x - x2)\n",
    "    L(x) = y1*l1(x) + y2*l2(x) + y3*l3(x)\n",
    "    return L\n",
    "end"
   ]
  },
  {
   "cell_type": "code",
   "execution_count": 6,
   "metadata": {},
   "outputs": [
    {
     "data": {
      "text/plain": [
       "(::L) (generic function with 1 method)"
      ]
     },
     "execution_count": 6,
     "metadata": {},
     "output_type": "execute_result"
    }
   ],
   "source": [
    "x = [j for j in 1:20]\n",
    "y = x .^2\n",
    "s = interpola2(x, y)"
   ]
  },
  {
   "cell_type": "code",
   "execution_count": 7,
   "metadata": {},
   "outputs": [
    {
     "data": {
      "text/html": [
       "<?xml version=\"1.0\" encoding=\"utf-8\"?>\n",
       "<svg xmlns=\"http://www.w3.org/2000/svg\" xmlns:xlink=\"http://www.w3.org/1999/xlink\" width=\"600\" height=\"400\" viewBox=\"0 0 600 400\">\n",
       "<defs>\n",
       "  <clipPath id=\"clip00\">\n",
       "    <rect x=\"0\" y=\"0\" width=\"600\" height=\"400\"/>\n",
       "  </clipPath>\n",
       "</defs>\n",
       "<polygon clip-path=\"url(#clip00)\" points=\"\n",
       "0,400 600,400 600,0 0,0 \n",
       "  \" fill=\"#ffffff\" fill-opacity=\"1\"/>\n",
       "<defs>\n",
       "  <clipPath id=\"clip01\">\n",
       "    <rect x=\"120\" y=\"0\" width=\"421\" height=\"400\"/>\n",
       "  </clipPath>\n",
       "</defs>\n",
       "<polygon clip-path=\"url(#clip00)\" points=\"\n",
       "39.3701,376.378 592.126,376.378 592.126,7.87402 39.3701,7.87402 \n",
       "  \" fill=\"#ffffff\" fill-opacity=\"1\"/>\n",
       "<defs>\n",
       "  <clipPath id=\"clip02\">\n",
       "    <rect x=\"39\" y=\"7\" width=\"554\" height=\"370\"/>\n",
       "  </clipPath>\n",
       "</defs>\n",
       "<polyline clip-path=\"url(#clip02)\" style=\"stroke:#000000; stroke-width:0.5; stroke-opacity:0.1; fill:none\" points=\"\n",
       "  170.852,370.85 170.852,13.4016 \n",
       "  \"/>\n",
       "<polyline clip-path=\"url(#clip02)\" style=\"stroke:#000000; stroke-width:0.5; stroke-opacity:0.1; fill:none\" points=\"\n",
       "  303.289,370.85 303.289,13.4016 \n",
       "  \"/>\n",
       "<polyline clip-path=\"url(#clip02)\" style=\"stroke:#000000; stroke-width:0.5; stroke-opacity:0.1; fill:none\" points=\"\n",
       "  435.727,370.85 435.727,13.4016 \n",
       "  \"/>\n",
       "<polyline clip-path=\"url(#clip02)\" style=\"stroke:#000000; stroke-width:0.5; stroke-opacity:0.1; fill:none\" points=\"\n",
       "  568.164,370.85 568.164,13.4016 \n",
       "  \"/>\n",
       "<polyline clip-path=\"url(#clip02)\" style=\"stroke:#000000; stroke-width:0.5; stroke-opacity:0.1; fill:none\" points=\"\n",
       "  47.6614,366.28 583.835,366.28 \n",
       "  \"/>\n",
       "<polyline clip-path=\"url(#clip02)\" style=\"stroke:#000000; stroke-width:0.5; stroke-opacity:0.1; fill:none\" points=\"\n",
       "  47.6614,281.955 583.835,281.955 \n",
       "  \"/>\n",
       "<polyline clip-path=\"url(#clip02)\" style=\"stroke:#000000; stroke-width:0.5; stroke-opacity:0.1; fill:none\" points=\"\n",
       "  47.6614,197.629 583.835,197.629 \n",
       "  \"/>\n",
       "<polyline clip-path=\"url(#clip02)\" style=\"stroke:#000000; stroke-width:0.5; stroke-opacity:0.1; fill:none\" points=\"\n",
       "  47.6614,113.304 583.835,113.304 \n",
       "  \"/>\n",
       "<polyline clip-path=\"url(#clip02)\" style=\"stroke:#000000; stroke-width:0.5; stroke-opacity:0.1; fill:none\" points=\"\n",
       "  47.6614,28.9791 583.835,28.9791 \n",
       "  \"/>\n",
       "<polyline clip-path=\"url(#clip00)\" style=\"stroke:#000000; stroke-width:1; stroke-opacity:1; fill:none\" points=\"\n",
       "  39.3701,376.378 592.126,376.378 \n",
       "  \"/>\n",
       "<polyline clip-path=\"url(#clip00)\" style=\"stroke:#000000; stroke-width:1; stroke-opacity:1; fill:none\" points=\"\n",
       "  170.852,376.378 170.852,370.85 \n",
       "  \"/>\n",
       "<polyline clip-path=\"url(#clip00)\" style=\"stroke:#000000; stroke-width:1; stroke-opacity:1; fill:none\" points=\"\n",
       "  303.289,376.378 303.289,370.85 \n",
       "  \"/>\n",
       "<polyline clip-path=\"url(#clip00)\" style=\"stroke:#000000; stroke-width:1; stroke-opacity:1; fill:none\" points=\"\n",
       "  435.727,376.378 435.727,370.85 \n",
       "  \"/>\n",
       "<polyline clip-path=\"url(#clip00)\" style=\"stroke:#000000; stroke-width:1; stroke-opacity:1; fill:none\" points=\"\n",
       "  568.164,376.378 568.164,370.85 \n",
       "  \"/>\n",
       "<polyline clip-path=\"url(#clip00)\" style=\"stroke:#000000; stroke-width:1; stroke-opacity:1; fill:none\" points=\"\n",
       "  39.3701,376.378 39.3701,7.87402 \n",
       "  \"/>\n",
       "<polyline clip-path=\"url(#clip00)\" style=\"stroke:#000000; stroke-width:1; stroke-opacity:1; fill:none\" points=\"\n",
       "  39.3701,366.28 47.6614,366.28 \n",
       "  \"/>\n",
       "<polyline clip-path=\"url(#clip00)\" style=\"stroke:#000000; stroke-width:1; stroke-opacity:1; fill:none\" points=\"\n",
       "  39.3701,281.955 47.6614,281.955 \n",
       "  \"/>\n",
       "<polyline clip-path=\"url(#clip00)\" style=\"stroke:#000000; stroke-width:1; stroke-opacity:1; fill:none\" points=\"\n",
       "  39.3701,197.629 47.6614,197.629 \n",
       "  \"/>\n",
       "<polyline clip-path=\"url(#clip00)\" style=\"stroke:#000000; stroke-width:1; stroke-opacity:1; fill:none\" points=\"\n",
       "  39.3701,113.304 47.6614,113.304 \n",
       "  \"/>\n",
       "<polyline clip-path=\"url(#clip00)\" style=\"stroke:#000000; stroke-width:1; stroke-opacity:1; fill:none\" points=\"\n",
       "  39.3701,28.9791 47.6614,28.9791 \n",
       "  \"/>\n",
       "<g clip-path=\"url(#clip00)\">\n",
       "<text style=\"fill:#000000; fill-opacity:1; font-family:Arial,Helvetica Neue,Helvetica,sans-serif; font-size:12; text-anchor:middle;\" transform=\"rotate(0, 170.852, 390.178)\" x=\"170.852\" y=\"390.178\">5</text>\n",
       "</g>\n",
       "<g clip-path=\"url(#clip00)\">\n",
       "<text style=\"fill:#000000; fill-opacity:1; font-family:Arial,Helvetica Neue,Helvetica,sans-serif; font-size:12; text-anchor:middle;\" transform=\"rotate(0, 303.289, 390.178)\" x=\"303.289\" y=\"390.178\">10</text>\n",
       "</g>\n",
       "<g clip-path=\"url(#clip00)\">\n",
       "<text style=\"fill:#000000; fill-opacity:1; font-family:Arial,Helvetica Neue,Helvetica,sans-serif; font-size:12; text-anchor:middle;\" transform=\"rotate(0, 435.727, 390.178)\" x=\"435.727\" y=\"390.178\">15</text>\n",
       "</g>\n",
       "<g clip-path=\"url(#clip00)\">\n",
       "<text style=\"fill:#000000; fill-opacity:1; font-family:Arial,Helvetica Neue,Helvetica,sans-serif; font-size:12; text-anchor:middle;\" transform=\"rotate(0, 568.164, 390.178)\" x=\"568.164\" y=\"390.178\">20</text>\n",
       "</g>\n",
       "<g clip-path=\"url(#clip00)\">\n",
       "<text style=\"fill:#000000; fill-opacity:1; font-family:Arial,Helvetica Neue,Helvetica,sans-serif; font-size:12; text-anchor:end;\" transform=\"rotate(0, 33.3701, 370.78)\" x=\"33.3701\" y=\"370.78\">0</text>\n",
       "</g>\n",
       "<g clip-path=\"url(#clip00)\">\n",
       "<text style=\"fill:#000000; fill-opacity:1; font-family:Arial,Helvetica Neue,Helvetica,sans-serif; font-size:12; text-anchor:end;\" transform=\"rotate(0, 33.3701, 286.455)\" x=\"33.3701\" y=\"286.455\">100</text>\n",
       "</g>\n",
       "<g clip-path=\"url(#clip00)\">\n",
       "<text style=\"fill:#000000; fill-opacity:1; font-family:Arial,Helvetica Neue,Helvetica,sans-serif; font-size:12; text-anchor:end;\" transform=\"rotate(0, 33.3701, 202.129)\" x=\"33.3701\" y=\"202.129\">200</text>\n",
       "</g>\n",
       "<g clip-path=\"url(#clip00)\">\n",
       "<text style=\"fill:#000000; fill-opacity:1; font-family:Arial,Helvetica Neue,Helvetica,sans-serif; font-size:12; text-anchor:end;\" transform=\"rotate(0, 33.3701, 117.804)\" x=\"33.3701\" y=\"117.804\">300</text>\n",
       "</g>\n",
       "<g clip-path=\"url(#clip00)\">\n",
       "<text style=\"fill:#000000; fill-opacity:1; font-family:Arial,Helvetica Neue,Helvetica,sans-serif; font-size:12; text-anchor:end;\" transform=\"rotate(0, 33.3701, 33.4791)\" x=\"33.3701\" y=\"33.4791\">400</text>\n",
       "</g>\n",
       "<circle clip-path=\"url(#clip02)\" style=\"fill:#000000; stroke:none; fill-opacity:1\" cx=\"64.9023\" cy=\"365.437\" r=\"4\"/>\n",
       "<circle clip-path=\"url(#clip02)\" style=\"fill:#009af9; stroke:none; fill-opacity:1\" cx=\"64.9023\" cy=\"365.437\" r=\"3\"/>\n",
       "<circle clip-path=\"url(#clip02)\" style=\"fill:#000000; stroke:none; fill-opacity:1\" cx=\"91.3898\" cy=\"362.907\" r=\"4\"/>\n",
       "<circle clip-path=\"url(#clip02)\" style=\"fill:#009af9; stroke:none; fill-opacity:1\" cx=\"91.3898\" cy=\"362.907\" r=\"3\"/>\n",
       "<circle clip-path=\"url(#clip02)\" style=\"fill:#000000; stroke:none; fill-opacity:1\" cx=\"117.877\" cy=\"358.691\" r=\"4\"/>\n",
       "<circle clip-path=\"url(#clip02)\" style=\"fill:#009af9; stroke:none; fill-opacity:1\" cx=\"117.877\" cy=\"358.691\" r=\"3\"/>\n",
       "<circle clip-path=\"url(#clip02)\" style=\"fill:#000000; stroke:none; fill-opacity:1\" cx=\"144.365\" cy=\"352.788\" r=\"4\"/>\n",
       "<circle clip-path=\"url(#clip02)\" style=\"fill:#009af9; stroke:none; fill-opacity:1\" cx=\"144.365\" cy=\"352.788\" r=\"3\"/>\n",
       "<circle clip-path=\"url(#clip02)\" style=\"fill:#000000; stroke:none; fill-opacity:1\" cx=\"170.852\" cy=\"345.198\" r=\"4\"/>\n",
       "<circle clip-path=\"url(#clip02)\" style=\"fill:#009af9; stroke:none; fill-opacity:1\" cx=\"170.852\" cy=\"345.198\" r=\"3\"/>\n",
       "<circle clip-path=\"url(#clip02)\" style=\"fill:#000000; stroke:none; fill-opacity:1\" cx=\"197.34\" cy=\"335.923\" r=\"4\"/>\n",
       "<circle clip-path=\"url(#clip02)\" style=\"fill:#009af9; stroke:none; fill-opacity:1\" cx=\"197.34\" cy=\"335.923\" r=\"3\"/>\n",
       "<circle clip-path=\"url(#clip02)\" style=\"fill:#000000; stroke:none; fill-opacity:1\" cx=\"223.827\" cy=\"324.96\" r=\"4\"/>\n",
       "<circle clip-path=\"url(#clip02)\" style=\"fill:#009af9; stroke:none; fill-opacity:1\" cx=\"223.827\" cy=\"324.96\" r=\"3\"/>\n",
       "<circle clip-path=\"url(#clip02)\" style=\"fill:#000000; stroke:none; fill-opacity:1\" cx=\"250.314\" cy=\"312.312\" r=\"4\"/>\n",
       "<circle clip-path=\"url(#clip02)\" style=\"fill:#009af9; stroke:none; fill-opacity:1\" cx=\"250.314\" cy=\"312.312\" r=\"3\"/>\n",
       "<circle clip-path=\"url(#clip02)\" style=\"fill:#000000; stroke:none; fill-opacity:1\" cx=\"276.802\" cy=\"297.976\" r=\"4\"/>\n",
       "<circle clip-path=\"url(#clip02)\" style=\"fill:#009af9; stroke:none; fill-opacity:1\" cx=\"276.802\" cy=\"297.976\" r=\"3\"/>\n",
       "<circle clip-path=\"url(#clip02)\" style=\"fill:#000000; stroke:none; fill-opacity:1\" cx=\"303.289\" cy=\"281.955\" r=\"4\"/>\n",
       "<circle clip-path=\"url(#clip02)\" style=\"fill:#009af9; stroke:none; fill-opacity:1\" cx=\"303.289\" cy=\"281.955\" r=\"3\"/>\n",
       "<circle clip-path=\"url(#clip02)\" style=\"fill:#000000; stroke:none; fill-opacity:1\" cx=\"329.777\" cy=\"264.246\" r=\"4\"/>\n",
       "<circle clip-path=\"url(#clip02)\" style=\"fill:#009af9; stroke:none; fill-opacity:1\" cx=\"329.777\" cy=\"264.246\" r=\"3\"/>\n",
       "<circle clip-path=\"url(#clip02)\" style=\"fill:#000000; stroke:none; fill-opacity:1\" cx=\"356.264\" cy=\"244.852\" r=\"4\"/>\n",
       "<circle clip-path=\"url(#clip02)\" style=\"fill:#009af9; stroke:none; fill-opacity:1\" cx=\"356.264\" cy=\"244.852\" r=\"3\"/>\n",
       "<circle clip-path=\"url(#clip02)\" style=\"fill:#000000; stroke:none; fill-opacity:1\" cx=\"382.752\" cy=\"223.77\" r=\"4\"/>\n",
       "<circle clip-path=\"url(#clip02)\" style=\"fill:#009af9; stroke:none; fill-opacity:1\" cx=\"382.752\" cy=\"223.77\" r=\"3\"/>\n",
       "<circle clip-path=\"url(#clip02)\" style=\"fill:#000000; stroke:none; fill-opacity:1\" cx=\"409.239\" cy=\"201.002\" r=\"4\"/>\n",
       "<circle clip-path=\"url(#clip02)\" style=\"fill:#009af9; stroke:none; fill-opacity:1\" cx=\"409.239\" cy=\"201.002\" r=\"3\"/>\n",
       "<circle clip-path=\"url(#clip02)\" style=\"fill:#000000; stroke:none; fill-opacity:1\" cx=\"435.727\" cy=\"176.548\" r=\"4\"/>\n",
       "<circle clip-path=\"url(#clip02)\" style=\"fill:#009af9; stroke:none; fill-opacity:1\" cx=\"435.727\" cy=\"176.548\" r=\"3\"/>\n",
       "<circle clip-path=\"url(#clip02)\" style=\"fill:#000000; stroke:none; fill-opacity:1\" cx=\"462.214\" cy=\"150.407\" r=\"4\"/>\n",
       "<circle clip-path=\"url(#clip02)\" style=\"fill:#009af9; stroke:none; fill-opacity:1\" cx=\"462.214\" cy=\"150.407\" r=\"3\"/>\n",
       "<circle clip-path=\"url(#clip02)\" style=\"fill:#000000; stroke:none; fill-opacity:1\" cx=\"488.702\" cy=\"122.58\" r=\"4\"/>\n",
       "<circle clip-path=\"url(#clip02)\" style=\"fill:#009af9; stroke:none; fill-opacity:1\" cx=\"488.702\" cy=\"122.58\" r=\"3\"/>\n",
       "<circle clip-path=\"url(#clip02)\" style=\"fill:#000000; stroke:none; fill-opacity:1\" cx=\"515.189\" cy=\"93.0662\" r=\"4\"/>\n",
       "<circle clip-path=\"url(#clip02)\" style=\"fill:#009af9; stroke:none; fill-opacity:1\" cx=\"515.189\" cy=\"93.0662\" r=\"3\"/>\n",
       "<circle clip-path=\"url(#clip02)\" style=\"fill:#000000; stroke:none; fill-opacity:1\" cx=\"541.676\" cy=\"61.8659\" r=\"4\"/>\n",
       "<circle clip-path=\"url(#clip02)\" style=\"fill:#009af9; stroke:none; fill-opacity:1\" cx=\"541.676\" cy=\"61.8659\" r=\"3\"/>\n",
       "<circle clip-path=\"url(#clip02)\" style=\"fill:#000000; stroke:none; fill-opacity:1\" cx=\"568.164\" cy=\"28.9791\" r=\"4\"/>\n",
       "<circle clip-path=\"url(#clip02)\" style=\"fill:#009af9; stroke:none; fill-opacity:1\" cx=\"568.164\" cy=\"28.9791\" r=\"3\"/>\n",
       "<polyline clip-path=\"url(#clip02)\" style=\"stroke:#e26f46; stroke-width:1; stroke-opacity:1; fill:none\" points=\"\n",
       "  55.0141,365.949 103.185,361.238 132.133,355.723 156.609,349.489 183.197,341.085 207.708,331.833 233.986,320.308 264.433,304.881 291.49,289.3 315.217,274.189 \n",
       "  341.085,256.172 367.107,236.425 395.878,212.698 423.253,188.274 451.716,160.969 475.677,136.475 504.929,104.698 532.428,72.9521 576.482,18.3034 \n",
       "  \"/>\n",
       "<polygon clip-path=\"url(#clip00)\" points=\"\n",
       "501.61,74.114 574.126,74.114 574.126,28.754 501.61,28.754 \n",
       "  \" fill=\"#ffffff\" fill-opacity=\"1\"/>\n",
       "<polyline clip-path=\"url(#clip00)\" style=\"stroke:#000000; stroke-width:1; stroke-opacity:1; fill:none\" points=\"\n",
       "  501.61,74.114 574.126,74.114 574.126,28.754 501.61,28.754 501.61,74.114 \n",
       "  \"/>\n",
       "<circle clip-path=\"url(#clip00)\" style=\"fill:#000000; stroke:none; fill-opacity:1\" cx=\"528.61\" cy=\"43.874\" r=\"6\"/>\n",
       "<circle clip-path=\"url(#clip00)\" style=\"fill:#009af9; stroke:none; fill-opacity:1\" cx=\"528.61\" cy=\"43.874\" r=\"5\"/>\n",
       "<g clip-path=\"url(#clip00)\">\n",
       "<text style=\"fill:#000000; fill-opacity:1; font-family:Arial,Helvetica Neue,Helvetica,sans-serif; font-size:12; text-anchor:start;\" transform=\"rotate(0, 549.61, 48.374)\" x=\"549.61\" y=\"48.374\">y1</text>\n",
       "</g>\n",
       "<polyline clip-path=\"url(#clip00)\" style=\"stroke:#e26f46; stroke-width:1; stroke-opacity:1; fill:none\" points=\"\n",
       "  507.61,58.994 543.61,58.994 \n",
       "  \"/>\n",
       "<g clip-path=\"url(#clip00)\">\n",
       "<text style=\"fill:#000000; fill-opacity:1; font-family:Arial,Helvetica Neue,Helvetica,sans-serif; font-size:12; text-anchor:start;\" transform=\"rotate(0, 549.61, 63.494)\" x=\"549.61\" y=\"63.494\">y2</text>\n",
       "</g>\n",
       "</svg>\n"
      ]
     },
     "execution_count": 7,
     "metadata": {},
     "output_type": "execute_result"
    }
   ],
   "source": [
    "scatter(x, y)\n",
    "plot!(s)"
   ]
  },
  {
   "cell_type": "markdown",
   "metadata": {},
   "source": [
    "**[3]** Ahora generalicemos esto a $N$ puntos:\n",
    "\n",
    "(i) Encuentra un polinomio $\\ell_1(x)$ sencillo, tal que $\\ell_1(x)$ sea igual a $0$ para $x=x_2$, $x=x_3$, ..., y para $x=x_N$. Ahora normalízalo para que $\\ell_1(x_1) = 1$. ¿De qué orden es el polinomio $\\ell_1$?\n",
    "\n",
    "(ii) De manera similar, encuentra $\\ell_i(x)$ que sea igual a $1$ en $x_i$, y que se anule en $x_j$ para $j \\neq i$.\n",
    "\n",
    "(iii) Dibuja algunas $\\ell_i$ para $N$ chiquitas. ¡Asegúrate de que sí se comporten correctamente!\n",
    "\n",
    "(iv) Utiliza las $\\ell_i$ para interpolar los datos $(x_i, y_i)_{i=1}^N$ con un polinomio $p$. ¿De qué orden es el polinomio resultante? Nota que $p$ es *único* en el conjunto de polinomios con grado $\\le$ el grado de $p$."
   ]
  },
  {
   "cell_type": "code",
   "execution_count": null,
   "metadata": {
    "collapsed": true
   },
   "outputs": [],
   "source": []
  },
  {
   "cell_type": "markdown",
   "metadata": {},
   "source": [
    "**[4]** (i) Escribe una función `interpolar` que acepta un vector de $N$ pares $(x_i, y_i)$, y regresa una función que las interpole. [Pista: Puedes ¡definir una función adentro de la función `interpolar`!, y luego ¡regresar esta función de la función `interpolar`!]\n",
    "\n",
    "(ii) Toma funciones polinomiales $f$ de orden $n$ con distintos valores de $n$, y genera $n+1$ datos al muestrear la función en puntos $x_i$ espaciados de forma uniforme. [Es decir, calcula los pares $(x_i, f(x_i))$.] Dibuja la función original y la función interpolada.\n",
    "\n",
    "(iii) Ahora toma funciones que *no sean* polinomiales, y haz lo mismo. ¿Qué observas?"
   ]
  },
  {
   "cell_type": "code",
   "execution_count": 174,
   "metadata": {},
   "outputs": [
    {
     "data": {
      "text/plain": [
       "lp (generic function with 2 methods)"
      ]
     },
     "execution_count": 174,
     "metadata": {},
     "output_type": "execute_result"
    }
   ],
   "source": [
    "function lp(x0, p, X)\n",
    "    α = 1.\n",
    "    l = 1.\n",
    "    for i in 1:length(X)\n",
    "        if i == p\n",
    "            continue\n",
    "        end\n",
    "        α *= X[p] - X[i]\n",
    "        l *= x0 - X[i]\n",
    "    end\n",
    "    return l / α\n",
    "end"
   ]
  },
  {
   "cell_type": "code",
   "execution_count": 173,
   "metadata": {},
   "outputs": [
    {
     "data": {
      "text/plain": [
       "interpola3 (generic function with 1 method)"
      ]
     },
     "execution_count": 173,
     "metadata": {},
     "output_type": "execute_result"
    }
   ],
   "source": [
    "function interpola3(X)\n",
    "    x = [x for (x, _) in X]\n",
    "    y = [y for (_, y) in X]\n",
    "    function L(s)\n",
    "        lps = [lp(s, i, x) for i in 1:length(y)]\n",
    "        return dot(lps, y)\n",
    "    end\n",
    "    return L\n",
    "end"
   ]
  },
  {
   "cell_type": "code",
   "execution_count": 157,
   "metadata": {},
   "outputs": [
    {
     "data": {
      "text/html": [
       "<?xml version=\"1.0\" encoding=\"utf-8\"?>\n",
       "<svg xmlns=\"http://www.w3.org/2000/svg\" xmlns:xlink=\"http://www.w3.org/1999/xlink\" width=\"600\" height=\"400\" viewBox=\"0 0 600 400\">\n",
       "<defs>\n",
       "  <clipPath id=\"clip00\">\n",
       "    <rect x=\"0\" y=\"0\" width=\"600\" height=\"400\"/>\n",
       "  </clipPath>\n",
       "</defs>\n",
       "<polygon clip-path=\"url(#clip00)\" points=\"\n",
       "0,400 600,400 600,0 0,0 \n",
       "  \" fill=\"#ffffff\" fill-opacity=\"1\"/>\n",
       "<defs>\n",
       "  <clipPath id=\"clip01\">\n",
       "    <rect x=\"120\" y=\"0\" width=\"421\" height=\"400\"/>\n",
       "  </clipPath>\n",
       "</defs>\n",
       "<polygon clip-path=\"url(#clip00)\" points=\"\n",
       "39.3701,376.378 592.126,376.378 592.126,7.87402 39.3701,7.87402 \n",
       "  \" fill=\"#ffffff\" fill-opacity=\"1\"/>\n",
       "<defs>\n",
       "  <clipPath id=\"clip02\">\n",
       "    <rect x=\"39\" y=\"7\" width=\"554\" height=\"370\"/>\n",
       "  </clipPath>\n",
       "</defs>\n",
       "<polyline clip-path=\"url(#clip02)\" style=\"stroke:#000000; stroke-width:0.5; stroke-opacity:0.1; fill:none\" points=\"\n",
       "  67.445,370.85 67.445,13.4016 \n",
       "  \"/>\n",
       "<polyline clip-path=\"url(#clip02)\" style=\"stroke:#000000; stroke-width:0.5; stroke-opacity:0.1; fill:none\" points=\"\n",
       "  317.825,370.85 317.825,13.4016 \n",
       "  \"/>\n",
       "<polyline clip-path=\"url(#clip02)\" style=\"stroke:#000000; stroke-width:0.5; stroke-opacity:0.1; fill:none\" points=\"\n",
       "  568.205,370.85 568.205,13.4016 \n",
       "  \"/>\n",
       "<polyline clip-path=\"url(#clip02)\" style=\"stroke:#000000; stroke-width:0.5; stroke-opacity:0.1; fill:none\" points=\"\n",
       "  47.6614,365.949 583.835,365.949 \n",
       "  \"/>\n",
       "<polyline clip-path=\"url(#clip02)\" style=\"stroke:#000000; stroke-width:0.5; stroke-opacity:0.1; fill:none\" points=\"\n",
       "  47.6614,197.733 583.835,197.733 \n",
       "  \"/>\n",
       "<polyline clip-path=\"url(#clip02)\" style=\"stroke:#000000; stroke-width:0.5; stroke-opacity:0.1; fill:none\" points=\"\n",
       "  47.6614,29.5166 583.835,29.5166 \n",
       "  \"/>\n",
       "<polyline clip-path=\"url(#clip00)\" style=\"stroke:#000000; stroke-width:1; stroke-opacity:1; fill:none\" points=\"\n",
       "  39.3701,376.378 592.126,376.378 \n",
       "  \"/>\n",
       "<polyline clip-path=\"url(#clip00)\" style=\"stroke:#000000; stroke-width:1; stroke-opacity:1; fill:none\" points=\"\n",
       "  67.445,376.378 67.445,370.85 \n",
       "  \"/>\n",
       "<polyline clip-path=\"url(#clip00)\" style=\"stroke:#000000; stroke-width:1; stroke-opacity:1; fill:none\" points=\"\n",
       "  317.825,376.378 317.825,370.85 \n",
       "  \"/>\n",
       "<polyline clip-path=\"url(#clip00)\" style=\"stroke:#000000; stroke-width:1; stroke-opacity:1; fill:none\" points=\"\n",
       "  568.205,376.378 568.205,370.85 \n",
       "  \"/>\n",
       "<polyline clip-path=\"url(#clip00)\" style=\"stroke:#000000; stroke-width:1; stroke-opacity:1; fill:none\" points=\"\n",
       "  39.3701,376.378 39.3701,7.87402 \n",
       "  \"/>\n",
       "<polyline clip-path=\"url(#clip00)\" style=\"stroke:#000000; stroke-width:1; stroke-opacity:1; fill:none\" points=\"\n",
       "  39.3701,365.949 47.6614,365.949 \n",
       "  \"/>\n",
       "<polyline clip-path=\"url(#clip00)\" style=\"stroke:#000000; stroke-width:1; stroke-opacity:1; fill:none\" points=\"\n",
       "  39.3701,197.733 47.6614,197.733 \n",
       "  \"/>\n",
       "<polyline clip-path=\"url(#clip00)\" style=\"stroke:#000000; stroke-width:1; stroke-opacity:1; fill:none\" points=\"\n",
       "  39.3701,29.5166 47.6614,29.5166 \n",
       "  \"/>\n",
       "<g clip-path=\"url(#clip00)\">\n",
       "<text style=\"fill:#000000; fill-opacity:1; font-family:Arial,Helvetica Neue,Helvetica,sans-serif; font-size:12; text-anchor:middle;\" transform=\"rotate(0, 67.445, 390.178)\" x=\"67.445\" y=\"390.178\">0</text>\n",
       "</g>\n",
       "<g clip-path=\"url(#clip00)\">\n",
       "<text style=\"fill:#000000; fill-opacity:1; font-family:Arial,Helvetica Neue,Helvetica,sans-serif; font-size:12; text-anchor:middle;\" transform=\"rotate(0, 317.825, 390.178)\" x=\"317.825\" y=\"390.178\">5</text>\n",
       "</g>\n",
       "<g clip-path=\"url(#clip00)\">\n",
       "<text style=\"fill:#000000; fill-opacity:1; font-family:Arial,Helvetica Neue,Helvetica,sans-serif; font-size:12; text-anchor:middle;\" transform=\"rotate(0, 568.205, 390.178)\" x=\"568.205\" y=\"390.178\">10</text>\n",
       "</g>\n",
       "<g clip-path=\"url(#clip00)\">\n",
       "<text style=\"fill:#000000; fill-opacity:1; font-family:Arial,Helvetica Neue,Helvetica,sans-serif; font-size:12; text-anchor:end;\" transform=\"rotate(0, 33.3701, 370.449)\" x=\"33.3701\" y=\"370.449\">0</text>\n",
       "</g>\n",
       "<g clip-path=\"url(#clip00)\">\n",
       "<text style=\"fill:#000000; fill-opacity:1; font-family:Arial,Helvetica Neue,Helvetica,sans-serif; font-size:12; text-anchor:end;\" transform=\"rotate(0, 33.3701, 202.233)\" x=\"33.3701\" y=\"202.233\">50</text>\n",
       "</g>\n",
       "<g clip-path=\"url(#clip00)\">\n",
       "<text style=\"fill:#000000; fill-opacity:1; font-family:Arial,Helvetica Neue,Helvetica,sans-serif; font-size:12; text-anchor:end;\" transform=\"rotate(0, 33.3701, 34.0166)\" x=\"33.3701\" y=\"34.0166\">100</text>\n",
       "</g>\n",
       "<circle clip-path=\"url(#clip02)\" style=\"fill:#000000; stroke:none; fill-opacity:1\" cx=\"67.445\" cy=\"365.949\" r=\"4\"/>\n",
       "<circle clip-path=\"url(#clip02)\" style=\"fill:#009af9; stroke:none; fill-opacity:1\" cx=\"67.445\" cy=\"365.949\" r=\"3\"/>\n",
       "<circle clip-path=\"url(#clip02)\" style=\"fill:#000000; stroke:none; fill-opacity:1\" cx=\"117.521\" cy=\"362.584\" r=\"4\"/>\n",
       "<circle clip-path=\"url(#clip02)\" style=\"fill:#009af9; stroke:none; fill-opacity:1\" cx=\"117.521\" cy=\"362.584\" r=\"3\"/>\n",
       "<circle clip-path=\"url(#clip02)\" style=\"fill:#000000; stroke:none; fill-opacity:1\" cx=\"167.597\" cy=\"352.491\" r=\"4\"/>\n",
       "<circle clip-path=\"url(#clip02)\" style=\"fill:#009af9; stroke:none; fill-opacity:1\" cx=\"167.597\" cy=\"352.491\" r=\"3\"/>\n",
       "<circle clip-path=\"url(#clip02)\" style=\"fill:#000000; stroke:none; fill-opacity:1\" cx=\"217.673\" cy=\"335.67\" r=\"4\"/>\n",
       "<circle clip-path=\"url(#clip02)\" style=\"fill:#009af9; stroke:none; fill-opacity:1\" cx=\"217.673\" cy=\"335.67\" r=\"3\"/>\n",
       "<circle clip-path=\"url(#clip02)\" style=\"fill:#000000; stroke:none; fill-opacity:1\" cx=\"267.749\" cy=\"312.119\" r=\"4\"/>\n",
       "<circle clip-path=\"url(#clip02)\" style=\"fill:#009af9; stroke:none; fill-opacity:1\" cx=\"267.749\" cy=\"312.119\" r=\"3\"/>\n",
       "<circle clip-path=\"url(#clip02)\" style=\"fill:#000000; stroke:none; fill-opacity:1\" cx=\"317.825\" cy=\"281.841\" r=\"4\"/>\n",
       "<circle clip-path=\"url(#clip02)\" style=\"fill:#009af9; stroke:none; fill-opacity:1\" cx=\"317.825\" cy=\"281.841\" r=\"3\"/>\n",
       "<circle clip-path=\"url(#clip02)\" style=\"fill:#000000; stroke:none; fill-opacity:1\" cx=\"367.901\" cy=\"244.833\" r=\"4\"/>\n",
       "<circle clip-path=\"url(#clip02)\" style=\"fill:#009af9; stroke:none; fill-opacity:1\" cx=\"367.901\" cy=\"244.833\" r=\"3\"/>\n",
       "<circle clip-path=\"url(#clip02)\" style=\"fill:#000000; stroke:none; fill-opacity:1\" cx=\"417.977\" cy=\"201.097\" r=\"4\"/>\n",
       "<circle clip-path=\"url(#clip02)\" style=\"fill:#009af9; stroke:none; fill-opacity:1\" cx=\"417.977\" cy=\"201.097\" r=\"3\"/>\n",
       "<circle clip-path=\"url(#clip02)\" style=\"fill:#000000; stroke:none; fill-opacity:1\" cx=\"468.053\" cy=\"150.632\" r=\"4\"/>\n",
       "<circle clip-path=\"url(#clip02)\" style=\"fill:#009af9; stroke:none; fill-opacity:1\" cx=\"468.053\" cy=\"150.632\" r=\"3\"/>\n",
       "<circle clip-path=\"url(#clip02)\" style=\"fill:#000000; stroke:none; fill-opacity:1\" cx=\"518.129\" cy=\"93.4387\" r=\"4\"/>\n",
       "<circle clip-path=\"url(#clip02)\" style=\"fill:#009af9; stroke:none; fill-opacity:1\" cx=\"518.129\" cy=\"93.4387\" r=\"3\"/>\n",
       "<circle clip-path=\"url(#clip02)\" style=\"fill:#000000; stroke:none; fill-opacity:1\" cx=\"568.205\" cy=\"29.5166\" r=\"4\"/>\n",
       "<circle clip-path=\"url(#clip02)\" style=\"fill:#009af9; stroke:none; fill-opacity:1\" cx=\"568.205\" cy=\"29.5166\" r=\"3\"/>\n",
       "<polyline clip-path=\"url(#clip02)\" style=\"stroke:#e26f46; stroke-width:1; stroke-opacity:1; fill:none\" points=\"\n",
       "  55.0141,365.741 57.606,365.819 81.5716,365.681 105.537,364.002 119.94,362.251 134.342,359.944 146.519,357.56 158.696,354.777 185.151,347.36 209.541,338.859 \n",
       "  222.615,333.645 235.689,327.972 250.836,320.826 265.984,313.064 292.907,297.749 316.515,282.718 329.385,273.895 342.255,264.627 355.202,254.855 368.148,244.634 \n",
       "  396.776,220.435 424.015,195.369 438.176,181.551 452.337,167.195 464.257,154.693 476.178,141.81 505.285,108.75 532.646,75.5999 576.482,18.3034 \n",
       "  \"/>\n",
       "<polygon clip-path=\"url(#clip00)\" points=\"\n",
       "501.61,74.114 574.126,74.114 574.126,28.754 501.61,28.754 \n",
       "  \" fill=\"#ffffff\" fill-opacity=\"1\"/>\n",
       "<polyline clip-path=\"url(#clip00)\" style=\"stroke:#000000; stroke-width:1; stroke-opacity:1; fill:none\" points=\"\n",
       "  501.61,74.114 574.126,74.114 574.126,28.754 501.61,28.754 501.61,74.114 \n",
       "  \"/>\n",
       "<circle clip-path=\"url(#clip00)\" style=\"fill:#000000; stroke:none; fill-opacity:1\" cx=\"528.61\" cy=\"43.874\" r=\"6\"/>\n",
       "<circle clip-path=\"url(#clip00)\" style=\"fill:#009af9; stroke:none; fill-opacity:1\" cx=\"528.61\" cy=\"43.874\" r=\"5\"/>\n",
       "<g clip-path=\"url(#clip00)\">\n",
       "<text style=\"fill:#000000; fill-opacity:1; font-family:Arial,Helvetica Neue,Helvetica,sans-serif; font-size:12; text-anchor:start;\" transform=\"rotate(0, 549.61, 48.374)\" x=\"549.61\" y=\"48.374\">y1</text>\n",
       "</g>\n",
       "<polyline clip-path=\"url(#clip00)\" style=\"stroke:#e26f46; stroke-width:1; stroke-opacity:1; fill:none\" points=\"\n",
       "  507.61,58.994 543.61,58.994 \n",
       "  \"/>\n",
       "<g clip-path=\"url(#clip00)\">\n",
       "<text style=\"fill:#000000; fill-opacity:1; font-family:Arial,Helvetica Neue,Helvetica,sans-serif; font-size:12; text-anchor:start;\" transform=\"rotate(0, 549.61, 63.494)\" x=\"549.61\" y=\"63.494\">y2</text>\n",
       "</g>\n",
       "</svg>\n"
      ]
     },
     "execution_count": 157,
     "metadata": {},
     "output_type": "execute_result"
    }
   ],
   "source": [
    "s = interpola3(zip(0:10, [y^2 for y in 0:10]))\n",
    "scatter(0:10, x -> x^2)\n",
    "plot!(s)"
   ]
  },
  {
   "cell_type": "markdown",
   "metadata": {},
   "source": [
    "**[5]** Considera la función de Runga, $f(x) = \\frac{1}{1+25x^2}$, en la región $x \\in [-1, 1]$. Interpólala con tu función `interpolar` para distintos números $N$ de puntos. ¿Qué observas? Utiliza `@manipulate`. "
   ]
  },
  {
   "cell_type": "markdown",
   "metadata": {},
   "source": [
    "Le que observaste en [4] se llama el **fenómeno de Runge**. Esto demuestra que en general *es una muy mala idea* el utilizar puntos espaciados de forma igual para interpolar. \n",
    "\n",
    "Sin embargo, resulta que el problema no es la interpolación en sí, sino la elección de puntos donde interpolar."
   ]
  },
  {
   "cell_type": "code",
   "execution_count": 172,
   "metadata": {},
   "outputs": [
    {
     "data": {
      "text/html": [],
      "text/plain": [
       "Interact.Options{:SelectionSlider,Int64}(125: \"input-34\" = 10 Int64 , \"n\", 10, \"10\", Interact.OptionDict(DataStructures.OrderedDict(\"1\"=>1,\"2\"=>2,\"3\"=>3,\"4\"=>4,\"5\"=>5,\"6\"=>6,\"7\"=>7,\"8\"=>8,\"9\"=>9,\"10\"=>10…), Dict(18=>\"18\",2=>\"2\",16=>\"16\",11=>\"11\",7=>\"7\",9=>\"9\",10=>\"10\",19=>\"19\",17=>\"17\",8=>\"8\"…)), Any[], Any[], true, \"horizontal\")"
      ]
     },
     "metadata": {},
     "output_type": "display_data"
    },
    {
     "data": {
      "text/html": [
       "<?xml version=\"1.0\" encoding=\"utf-8\"?>\n",
       "<svg xmlns=\"http://www.w3.org/2000/svg\" xmlns:xlink=\"http://www.w3.org/1999/xlink\" width=\"600\" height=\"400\" viewBox=\"0 0 600 400\">\n",
       "<defs>\n",
       "  <clipPath id=\"clip00\">\n",
       "    <rect x=\"0\" y=\"0\" width=\"600\" height=\"400\"/>\n",
       "  </clipPath>\n",
       "</defs>\n",
       "<polygon clip-path=\"url(#clip00)\" points=\"\n",
       "0,400 600,400 600,0 0,0 \n",
       "  \" fill=\"#ffffff\" fill-opacity=\"1\"/>\n",
       "<defs>\n",
       "  <clipPath id=\"clip01\">\n",
       "    <rect x=\"120\" y=\"0\" width=\"421\" height=\"400\"/>\n",
       "  </clipPath>\n",
       "</defs>\n",
       "<polygon clip-path=\"url(#clip00)\" points=\"\n",
       "39.3701,376.378 592.126,376.378 592.126,7.87402 39.3701,7.87402 \n",
       "  \" fill=\"#ffffff\" fill-opacity=\"1\"/>\n",
       "<defs>\n",
       "  <clipPath id=\"clip02\">\n",
       "    <rect x=\"39\" y=\"7\" width=\"554\" height=\"370\"/>\n",
       "  </clipPath>\n",
       "</defs>\n",
       "<polyline clip-path=\"url(#clip02)\" style=\"stroke:#000000; stroke-width:0.5; stroke-opacity:0.1; fill:none\" points=\"\n",
       "  55.0141,370.85 55.0141,13.4016 \n",
       "  \"/>\n",
       "<polyline clip-path=\"url(#clip02)\" style=\"stroke:#000000; stroke-width:0.5; stroke-opacity:0.1; fill:none\" points=\"\n",
       "  315.748,370.85 315.748,13.4016 \n",
       "  \"/>\n",
       "<polyline clip-path=\"url(#clip02)\" style=\"stroke:#000000; stroke-width:0.5; stroke-opacity:0.1; fill:none\" points=\"\n",
       "  576.482,370.85 576.482,13.4016 \n",
       "  \"/>\n",
       "<polyline clip-path=\"url(#clip02)\" style=\"stroke:#000000; stroke-width:0.5; stroke-opacity:0.1; fill:none\" points=\"\n",
       "  47.6614,307.81 583.835,307.81 \n",
       "  \"/>\n",
       "<polyline clip-path=\"url(#clip02)\" style=\"stroke:#000000; stroke-width:0.5; stroke-opacity:0.1; fill:none\" points=\"\n",
       "  47.6614,231.293 583.835,231.293 \n",
       "  \"/>\n",
       "<polyline clip-path=\"url(#clip02)\" style=\"stroke:#000000; stroke-width:0.5; stroke-opacity:0.1; fill:none\" points=\"\n",
       "  47.6614,154.777 583.835,154.777 \n",
       "  \"/>\n",
       "<polyline clip-path=\"url(#clip02)\" style=\"stroke:#000000; stroke-width:0.5; stroke-opacity:0.1; fill:none\" points=\"\n",
       "  47.6614,78.2603 583.835,78.2603 \n",
       "  \"/>\n",
       "<polyline clip-path=\"url(#clip00)\" style=\"stroke:#000000; stroke-width:1; stroke-opacity:1; fill:none\" points=\"\n",
       "  39.3701,376.378 592.126,376.378 \n",
       "  \"/>\n",
       "<polyline clip-path=\"url(#clip00)\" style=\"stroke:#000000; stroke-width:1; stroke-opacity:1; fill:none\" points=\"\n",
       "  55.0141,376.378 55.0141,370.85 \n",
       "  \"/>\n",
       "<polyline clip-path=\"url(#clip00)\" style=\"stroke:#000000; stroke-width:1; stroke-opacity:1; fill:none\" points=\"\n",
       "  315.748,376.378 315.748,370.85 \n",
       "  \"/>\n",
       "<polyline clip-path=\"url(#clip00)\" style=\"stroke:#000000; stroke-width:1; stroke-opacity:1; fill:none\" points=\"\n",
       "  576.482,376.378 576.482,370.85 \n",
       "  \"/>\n",
       "<polyline clip-path=\"url(#clip00)\" style=\"stroke:#000000; stroke-width:1; stroke-opacity:1; fill:none\" points=\"\n",
       "  39.3701,376.378 39.3701,7.87402 \n",
       "  \"/>\n",
       "<polyline clip-path=\"url(#clip00)\" style=\"stroke:#000000; stroke-width:1; stroke-opacity:1; fill:none\" points=\"\n",
       "  39.3701,307.81 47.6614,307.81 \n",
       "  \"/>\n",
       "<polyline clip-path=\"url(#clip00)\" style=\"stroke:#000000; stroke-width:1; stroke-opacity:1; fill:none\" points=\"\n",
       "  39.3701,231.293 47.6614,231.293 \n",
       "  \"/>\n",
       "<polyline clip-path=\"url(#clip00)\" style=\"stroke:#000000; stroke-width:1; stroke-opacity:1; fill:none\" points=\"\n",
       "  39.3701,154.777 47.6614,154.777 \n",
       "  \"/>\n",
       "<polyline clip-path=\"url(#clip00)\" style=\"stroke:#000000; stroke-width:1; stroke-opacity:1; fill:none\" points=\"\n",
       "  39.3701,78.2603 47.6614,78.2603 \n",
       "  \"/>\n",
       "<g clip-path=\"url(#clip00)\">\n",
       "<text style=\"fill:#000000; fill-opacity:1; font-family:Arial,Helvetica Neue,Helvetica,sans-serif; font-size:12; text-anchor:middle;\" transform=\"rotate(0, 55.0141, 390.178)\" x=\"55.0141\" y=\"390.178\">-1</text>\n",
       "</g>\n",
       "<g clip-path=\"url(#clip00)\">\n",
       "<text style=\"fill:#000000; fill-opacity:1; font-family:Arial,Helvetica Neue,Helvetica,sans-serif; font-size:12; text-anchor:middle;\" transform=\"rotate(0, 315.748, 390.178)\" x=\"315.748\" y=\"390.178\">0</text>\n",
       "</g>\n",
       "<g clip-path=\"url(#clip00)\">\n",
       "<text style=\"fill:#000000; fill-opacity:1; font-family:Arial,Helvetica Neue,Helvetica,sans-serif; font-size:12; text-anchor:middle;\" transform=\"rotate(0, 576.482, 390.178)\" x=\"576.482\" y=\"390.178\">1</text>\n",
       "</g>\n",
       "<g clip-path=\"url(#clip00)\">\n",
       "<text style=\"fill:#000000; fill-opacity:1; font-family:Arial,Helvetica Neue,Helvetica,sans-serif; font-size:12; text-anchor:end;\" transform=\"rotate(0, 33.3701, 312.31)\" x=\"33.3701\" y=\"312.31\">-7.5</text>\n",
       "</g>\n",
       "<g clip-path=\"url(#clip00)\">\n",
       "<text style=\"fill:#000000; fill-opacity:1; font-family:Arial,Helvetica Neue,Helvetica,sans-serif; font-size:12; text-anchor:end;\" transform=\"rotate(0, 33.3701, 235.793)\" x=\"33.3701\" y=\"235.793\">-5.0</text>\n",
       "</g>\n",
       "<g clip-path=\"url(#clip00)\">\n",
       "<text style=\"fill:#000000; fill-opacity:1; font-family:Arial,Helvetica Neue,Helvetica,sans-serif; font-size:12; text-anchor:end;\" transform=\"rotate(0, 33.3701, 159.277)\" x=\"33.3701\" y=\"159.277\">-2.5</text>\n",
       "</g>\n",
       "<g clip-path=\"url(#clip00)\">\n",
       "<text style=\"fill:#000000; fill-opacity:1; font-family:Arial,Helvetica Neue,Helvetica,sans-serif; font-size:12; text-anchor:end;\" transform=\"rotate(0, 33.3701, 82.7603)\" x=\"33.3701\" y=\"82.7603\">0.0</text>\n",
       "</g>\n",
       "<circle clip-path=\"url(#clip02)\" style=\"fill:#000000; stroke:none; fill-opacity:1\" cx=\"55.0141\" cy=\"77.0832\" r=\"4\"/>\n",
       "<circle clip-path=\"url(#clip02)\" style=\"fill:#009af9; stroke:none; fill-opacity:1\" cx=\"55.0141\" cy=\"77.0832\" r=\"3\"/>\n",
       "<circle clip-path=\"url(#clip02)\" style=\"fill:#000000; stroke:none; fill-opacity:1\" cx=\"107.161\" cy=\"76.46\" r=\"4\"/>\n",
       "<circle clip-path=\"url(#clip02)\" style=\"fill:#009af9; stroke:none; fill-opacity:1\" cx=\"107.161\" cy=\"76.46\" r=\"3\"/>\n",
       "<circle clip-path=\"url(#clip02)\" style=\"fill:#000000; stroke:none; fill-opacity:1\" cx=\"159.308\" cy=\"75.1997\" r=\"4\"/>\n",
       "<circle clip-path=\"url(#clip02)\" style=\"fill:#009af9; stroke:none; fill-opacity:1\" cx=\"159.308\" cy=\"75.1997\" r=\"3\"/>\n",
       "<circle clip-path=\"url(#clip02)\" style=\"fill:#000000; stroke:none; fill-opacity:1\" cx=\"211.454\" cy=\"72.139\" r=\"4\"/>\n",
       "<circle clip-path=\"url(#clip02)\" style=\"fill:#009af9; stroke:none; fill-opacity:1\" cx=\"211.454\" cy=\"72.139\" r=\"3\"/>\n",
       "<circle clip-path=\"url(#clip02)\" style=\"fill:#000000; stroke:none; fill-opacity:1\" cx=\"263.601\" cy=\"62.957\" r=\"4\"/>\n",
       "<circle clip-path=\"url(#clip02)\" style=\"fill:#009af9; stroke:none; fill-opacity:1\" cx=\"263.601\" cy=\"62.957\" r=\"3\"/>\n",
       "<circle clip-path=\"url(#clip02)\" style=\"fill:#000000; stroke:none; fill-opacity:1\" cx=\"315.748\" cy=\"47.6537\" r=\"4\"/>\n",
       "<circle clip-path=\"url(#clip02)\" style=\"fill:#009af9; stroke:none; fill-opacity:1\" cx=\"315.748\" cy=\"47.6537\" r=\"3\"/>\n",
       "<circle clip-path=\"url(#clip02)\" style=\"fill:#000000; stroke:none; fill-opacity:1\" cx=\"367.895\" cy=\"62.957\" r=\"4\"/>\n",
       "<circle clip-path=\"url(#clip02)\" style=\"fill:#009af9; stroke:none; fill-opacity:1\" cx=\"367.895\" cy=\"62.957\" r=\"3\"/>\n",
       "<circle clip-path=\"url(#clip02)\" style=\"fill:#000000; stroke:none; fill-opacity:1\" cx=\"420.042\" cy=\"72.139\" r=\"4\"/>\n",
       "<circle clip-path=\"url(#clip02)\" style=\"fill:#009af9; stroke:none; fill-opacity:1\" cx=\"420.042\" cy=\"72.139\" r=\"3\"/>\n",
       "<circle clip-path=\"url(#clip02)\" style=\"fill:#000000; stroke:none; fill-opacity:1\" cx=\"472.188\" cy=\"75.1997\" r=\"4\"/>\n",
       "<circle clip-path=\"url(#clip02)\" style=\"fill:#009af9; stroke:none; fill-opacity:1\" cx=\"472.188\" cy=\"75.1997\" r=\"3\"/>\n",
       "<circle clip-path=\"url(#clip02)\" style=\"fill:#000000; stroke:none; fill-opacity:1\" cx=\"524.335\" cy=\"76.46\" r=\"4\"/>\n",
       "<circle clip-path=\"url(#clip02)\" style=\"fill:#009af9; stroke:none; fill-opacity:1\" cx=\"524.335\" cy=\"76.46\" r=\"3\"/>\n",
       "<circle clip-path=\"url(#clip02)\" style=\"fill:#000000; stroke:none; fill-opacity:1\" cx=\"576.482\" cy=\"77.0832\" r=\"4\"/>\n",
       "<circle clip-path=\"url(#clip02)\" style=\"fill:#009af9; stroke:none; fill-opacity:1\" cx=\"576.482\" cy=\"77.0832\" r=\"3\"/>\n",
       "<polyline clip-path=\"url(#clip02)\" style=\"stroke:#e26f46; stroke-width:1; stroke-opacity:1; fill:none\" points=\"\n",
       "  44.7682,77.1674 94.6816,76.6471 124.677,76.1387 150.039,75.5025 153.482,75.3953 156.926,75.2819 160.369,75.162 163.813,75.0349 170.7,74.7572 177.588,74.4439 \n",
       "  183.937,74.1183 190.287,73.7517 193.462,73.5511 196.636,73.3376 199.811,73.1103 202.986,72.868 206.389,72.5903 209.793,72.2923 213.197,71.9724 216.6,71.6284 \n",
       "  218.302,71.4467 220.004,71.2583 221.706,71.0627 223.408,70.8597 225.11,70.6489 226.811,70.4301 228.513,70.2028 230.215,69.9667 234.159,69.3837 238.102,68.7466 \n",
       "  242.046,68.05 245.989,67.2885 249.933,66.4565 253.876,65.5488 257.819,64.5602 261.763,63.487 263.515,62.9823 265.267,62.4602 267.02,61.921 268.772,61.3648 \n",
       "  270.524,60.7919 272.276,60.2028 274.029,59.5984 275.781,58.9796 279.285,57.7041 282.79,56.39 286.294,55.0563 289.799,53.7284 292.872,52.5932 295.945,51.5112 \n",
       "  299.018,50.5099 302.091,49.6181 303.628,49.2223 305.165,48.8645 306.701,48.548 308.238,48.2757 309.774,48.0502 311.311,47.8737 312.847,47.7481 314.384,47.6746 \n",
       "  316.059,47.6548 317.735,47.6981 319.41,47.8039 321.085,47.971 322.76,48.1973 324.436,48.4803 326.111,48.8165 327.786,49.2023 329.461,49.6335 331.137,50.1056 \n",
       "  332.812,50.6141 334.487,51.1541 336.163,51.7211 337.838,52.3103 339.513,52.9173 341.188,53.5378 344.559,54.8115 347.929,56.0952 351.3,57.3656 354.67,58.6042 \n",
       "  361.411,60.937 368.152,63.0323 371.878,64.0815 375.605,65.054 379.331,65.9523 383.058,66.7804 390.511,68.2434 397.964,69.4798 405.055,70.4784 412.146,71.3315 \n",
       "  419.237,72.0629 426.329,72.6923 441.075,73.7435 455.822,74.5348 462.029,74.8094 468.235,75.0558 474.442,75.2776 480.649,75.4779 510.96,76.2218 539.453,76.683 \n",
       "  585.101,77.1546 \n",
       "  \"/>\n",
       "<polyline clip-path=\"url(#clip02)\" style=\"stroke:#3da44d; stroke-width:1; stroke-opacity:1; fill:none\" points=\"\n",
       "  40.0448,365.949 40.7196,344.52 41.3944,324.086 42.0691,304.613 42.7439,286.068 43.4187,268.42 44.0934,251.636 44.7682,235.686 46.328,201.85 47.8878,171.966 \n",
       "  49.4476,145.707 51.0074,122.765 52.5672,102.854 54.1269,85.703 55.6867,71.0618 57.2465,58.6957 58.8063,48.386 60.3661,39.9294 61.9259,33.1369 63.4857,27.833 \n",
       "  65.0455,23.8552 66.6053,21.0529 68.1651,19.2875 69.7249,18.4307 72.8445,18.9818 75.964,21.8764 79.0836,26.4214 82.2032,32.0446 88.4424,44.7528 94.6816,57.3081 \n",
       "  98.431,64.0848 102.181,70.0284 105.93,75.0312 109.679,79.0528 117.178,84.2397 124.677,86.0919 131.018,85.6581 137.358,83.9732 140.528,82.8276 143.698,81.5612 \n",
       "  146.868,80.2287 150.039,78.8786 163.813,73.7153 177.588,70.9208 190.287,70.5659 202.986,71.4574 206.389,71.7511 209.793,72.0219 213.197,72.2475 216.6,72.4072 \n",
       "  220.004,72.4827 223.408,72.4583 226.811,72.3208 230.215,72.0605 234.159,71.5961 238.102,70.9522 242.046,70.129 245.989,69.1323 247.961,68.5722 249.933,67.9731 \n",
       "  250.918,67.6597 251.904,67.3374 252.89,67.0065 253.876,66.6673 254.862,66.3203 255.848,65.9656 256.834,65.6037 257.819,65.2351 258.805,64.8599 259.791,64.4788 \n",
       "  260.777,64.0921 261.763,63.7001 268.772,60.804 275.781,57.8376 282.79,54.9793 289.799,52.4042 295.945,50.5061 302.091,49.0408 308.238,48.0791 314.384,47.6678 \n",
       "  316.059,47.6545 317.735,47.6836 319.41,47.7553 321.085,47.8692 322.76,48.0249 324.436,48.2218 326.111,48.4593 327.786,48.7364 329.461,49.0521 331.137,49.4054 \n",
       "  332.812,49.795 334.487,50.2193 336.163,50.677 337.838,51.1663 339.513,51.6855 341.188,52.2328 344.559,53.4106 347.929,54.6768 351.3,56.0131 354.67,57.4003 \n",
       "  358.041,58.8187 361.411,60.2483 364.781,61.6692 368.152,63.0619 371.878,64.5463 375.605,65.9498 377.468,66.6144 379.331,67.2508 381.195,67.8569 383.058,68.4306 \n",
       "  384.921,68.97 386.784,69.4735 388.647,69.9398 390.511,70.3677 392.374,70.7563 394.237,71.105 396.1,71.4135 397.964,71.6818 401.509,72.0819 405.055,72.3416 \n",
       "  408.601,72.4689 412.146,72.4755 415.692,72.3767 419.237,72.1911 422.783,71.9399 426.329,71.6471 430.015,71.3263 433.702,71.0191 437.389,70.7569 441.075,70.5708 \n",
       "  444.762,70.4909 448.449,70.5448 452.135,70.7567 455.822,71.1461 457.374,71.3666 458.925,71.6217 460.477,71.9118 462.029,72.237 463.58,72.5974 465.132,72.9924 \n",
       "  466.684,73.4215 468.235,73.8835 469.787,74.3772 471.339,74.9009 472.89,75.4526 474.442,76.03 475.994,76.6304 477.545,77.2506 479.097,77.8873 480.649,78.5366 \n",
       "  482.543,79.3401 484.438,80.1478 486.332,80.9503 488.227,81.7375 490.121,82.4987 492.015,83.2223 493.91,83.896 495.804,84.5068 497.699,85.0413 499.593,85.4856 \n",
       "  501.488,85.8251 503.382,86.0453 505.276,86.1313 507.171,86.0683 509.065,85.8416 510.96,85.4368 511.85,85.1811 512.74,84.8817 513.631,84.5371 514.521,84.1461 \n",
       "  515.412,83.7074 516.302,83.22 517.193,82.6826 518.083,82.0943 518.973,81.454 519.864,80.761 520.754,80.0145 521.645,79.2138 522.535,78.3583 523.425,77.4477 \n",
       "  524.316,76.4816 525.206,75.4599 526.987,73.2498 528.768,70.8195 530.549,68.1738 532.329,65.3209 534.11,62.2728 535.891,59.0455 537.672,55.6595 539.453,52.1405 \n",
       "  540.879,49.2465 542.306,46.306 543.732,43.3404 545.159,40.3743 546.585,37.4353 548.012,34.5542 549.438,31.7655 550.865,29.1076 551.578,27.8408 552.291,26.6229 \n",
       "  553.005,25.4599 553.718,24.358 554.431,23.3238 555.144,22.3642 555.858,21.4863 556.571,20.6976 557.284,20.0061 557.997,19.4198 558.711,18.9473 559.424,18.5975 \n",
       "  560.137,18.3796 560.85,18.3034 561.564,18.3788 562.277,18.6163 562.99,19.0269 563.703,19.6218 564.417,20.4127 565.13,21.4119 565.843,22.632 566.556,24.0862 \n",
       "  567.27,25.7881 567.983,27.7519 568.696,29.9922 569.409,32.5243 570.123,35.3638 570.836,38.5271 571.549,42.031 572.262,45.893 572.976,50.1312 573.689,54.7642 \n",
       "  574.402,59.8114 575.115,65.2928 575.829,71.2289 576.542,77.641 577.255,84.5513 577.968,91.9823 578.682,99.9577 579.395,108.501 580.108,117.639 580.821,127.395 \n",
       "  581.535,137.798 582.248,148.873 582.961,160.65 583.674,173.157 584.388,186.425 585.101,200.484 585.32,204.976 585.54,209.546 585.76,214.197 585.979,218.928 \n",
       "  586.199,223.741 586.418,228.636 586.638,233.616 586.857,238.68 587.077,243.83 587.296,249.067 587.516,254.392 587.735,259.805 587.955,265.308 588.174,270.903 \n",
       "  588.394,276.589 588.613,282.368 589.492,306.439 590.37,332.086 591.248,359.383 \n",
       "  \"/>\n",
       "<polygon clip-path=\"url(#clip00)\" points=\"\n",
       "501.61,89.234 574.126,89.234 574.126,28.754 501.61,28.754 \n",
       "  \" fill=\"#ffffff\" fill-opacity=\"1\"/>\n",
       "<polyline clip-path=\"url(#clip00)\" style=\"stroke:#000000; stroke-width:1; stroke-opacity:1; fill:none\" points=\"\n",
       "  501.61,89.234 574.126,89.234 574.126,28.754 501.61,28.754 501.61,89.234 \n",
       "  \"/>\n",
       "<circle clip-path=\"url(#clip00)\" style=\"fill:#000000; stroke:none; fill-opacity:1\" cx=\"528.61\" cy=\"43.874\" r=\"6\"/>\n",
       "<circle clip-path=\"url(#clip00)\" style=\"fill:#009af9; stroke:none; fill-opacity:1\" cx=\"528.61\" cy=\"43.874\" r=\"5\"/>\n",
       "<g clip-path=\"url(#clip00)\">\n",
       "<text style=\"fill:#000000; fill-opacity:1; font-family:Arial,Helvetica Neue,Helvetica,sans-serif; font-size:12; text-anchor:start;\" transform=\"rotate(0, 549.61, 48.374)\" x=\"549.61\" y=\"48.374\">y1</text>\n",
       "</g>\n",
       "<polyline clip-path=\"url(#clip00)\" style=\"stroke:#e26f46; stroke-width:1; stroke-opacity:1; fill:none\" points=\"\n",
       "  507.61,58.994 543.61,58.994 \n",
       "  \"/>\n",
       "<g clip-path=\"url(#clip00)\">\n",
       "<text style=\"fill:#000000; fill-opacity:1; font-family:Arial,Helvetica Neue,Helvetica,sans-serif; font-size:12; text-anchor:start;\" transform=\"rotate(0, 549.61, 63.494)\" x=\"549.61\" y=\"63.494\">y2</text>\n",
       "</g>\n",
       "<polyline clip-path=\"url(#clip00)\" style=\"stroke:#3da44d; stroke-width:1; stroke-opacity:1; fill:none\" points=\"\n",
       "  507.61,74.114 543.61,74.114 \n",
       "  \"/>\n",
       "<g clip-path=\"url(#clip00)\">\n",
       "<text style=\"fill:#000000; fill-opacity:1; font-family:Arial,Helvetica Neue,Helvetica,sans-serif; font-size:12; text-anchor:start;\" transform=\"rotate(0, 549.61, 78.614)\" x=\"549.61\" y=\"78.614\">y3</text>\n",
       "</g>\n",
       "</svg>\n"
      ]
     },
     "execution_count": 172,
     "metadata": {
      "comm_id": "a1140b13-5a50-470d-9d03-4455d8c8b483",
      "reactive": true
     },
     "output_type": "execute_result"
    }
   ],
   "source": [
    "# [5]\n",
    "f(x) = 1/(1 + 25x^2)\n",
    "@manipulate for n = 1:20\n",
    "    x = -1:2/n:1\n",
    "    y = f.(x)\n",
    "    s = interpola3(zip(x, y))\n",
    "    scatter(x, f.(x), xlims=[-1,1])\n",
    "    plot!(f)\n",
    "    plot!(s)\n",
    "end"
   ]
  },
  {
   "cell_type": "markdown",
   "metadata": {},
   "source": [
    "## Interpolación en puntos espaciados no-uniformemente"
   ]
  },
  {
   "cell_type": "markdown",
   "metadata": {},
   "source": [
    "Resulta que la solución es tomar puntos en el intervalo $[-1,1]$, espaciados tales que se amontonen cerca de los puntos extremos del intervalo. [La razón por esto se puede entender con la teoría de potenciales (\"potential theory\"); ver e.g. Trefethen, *Approximation Theory and Approximation Practice*.] \n",
    "\n",
    "Lo más común es utilizar los **puntos de Chebyshev** con parámetro $n$, definidos como \n",
    "\n",
    "$$x_j := \\cos \\left( \\frac{j \\pi}{n} \\right) \\quad \\text{con } 0 \\le j \\le n.$$"
   ]
  },
  {
   "cell_type": "markdown",
   "metadata": {},
   "source": [
    "**[6]** (i) Escribe una función que calcula los puntos de Chebyshev para un valor de $n$ dado.\n",
    "\n",
    "(ii) Escribe una función que interpola una función dada en los puntos de Chebyshev. Grafica los resultados.\n",
    "\n",
    "(iii) Interpola la función de Runge en los puntos de Chebyshev para distintos valores de $n$. ¿Qué observas?"
   ]
  },
  {
   "cell_type": "code",
   "execution_count": 103,
   "metadata": {},
   "outputs": [
    {
     "data": {
      "text/plain": [
       "chebyshev_puntos (generic function with 2 methods)"
      ]
     },
     "execution_count": 103,
     "metadata": {},
     "output_type": "execute_result"
    }
   ],
   "source": [
    "# [6]\n",
    "function chebyshev_puntos(n)\n",
    "    xj = [cos((j*π)/n) for j in 0:n]\n",
    "    return xj\n",
    "end"
   ]
  },
  {
   "cell_type": "code",
   "execution_count": 165,
   "metadata": {},
   "outputs": [
    {
     "data": {
      "text/plain": [
       "interpola_cheb (generic function with 1 method)"
      ]
     },
     "execution_count": 165,
     "metadata": {},
     "output_type": "execute_result"
    }
   ],
   "source": [
    "function interpola_cheb(f, n)\n",
    "    pC = chebyshev_puntos(n)\n",
    "    pares = zip(pC, f.(pC))\n",
    "    L = interpola3(pares)\n",
    "    return L\n",
    "end"
   ]
  },
  {
   "cell_type": "code",
   "execution_count": 170,
   "metadata": {},
   "outputs": [
    {
     "data": {
      "text/html": [],
      "text/plain": [
       "Interact.Options{:SelectionSlider,Int64}(117: \"input-32\" = 10 Int64 , \"n\", 10, \"10\", Interact.OptionDict(DataStructures.OrderedDict(\"1\"=>1,\"2\"=>2,\"3\"=>3,\"4\"=>4,\"5\"=>5,\"6\"=>6,\"7\"=>7,\"8\"=>8,\"9\"=>9,\"10\"=>10…), Dict(18=>\"18\",2=>\"2\",16=>\"16\",11=>\"11\",7=>\"7\",9=>\"9\",10=>\"10\",19=>\"19\",17=>\"17\",8=>\"8\"…)), Any[], Any[], true, \"horizontal\")"
      ]
     },
     "metadata": {},
     "output_type": "display_data"
    },
    {
     "data": {
      "text/html": [
       "<?xml version=\"1.0\" encoding=\"utf-8\"?>\n",
       "<svg xmlns=\"http://www.w3.org/2000/svg\" xmlns:xlink=\"http://www.w3.org/1999/xlink\" width=\"600\" height=\"400\" viewBox=\"0 0 600 400\">\n",
       "<defs>\n",
       "  <clipPath id=\"clip00\">\n",
       "    <rect x=\"0\" y=\"0\" width=\"600\" height=\"400\"/>\n",
       "  </clipPath>\n",
       "</defs>\n",
       "<polygon clip-path=\"url(#clip00)\" points=\"\n",
       "0,400 600,400 600,0 0,0 \n",
       "  \" fill=\"#ffffff\" fill-opacity=\"1\"/>\n",
       "<defs>\n",
       "  <clipPath id=\"clip01\">\n",
       "    <rect x=\"120\" y=\"0\" width=\"421\" height=\"400\"/>\n",
       "  </clipPath>\n",
       "</defs>\n",
       "<polygon clip-path=\"url(#clip00)\" points=\"\n",
       "39.3701,376.378 592.126,376.378 592.126,7.87402 39.3701,7.87402 \n",
       "  \" fill=\"#ffffff\" fill-opacity=\"1\"/>\n",
       "<defs>\n",
       "  <clipPath id=\"clip02\">\n",
       "    <rect x=\"39\" y=\"7\" width=\"554\" height=\"370\"/>\n",
       "  </clipPath>\n",
       "</defs>\n",
       "<polyline clip-path=\"url(#clip02)\" style=\"stroke:#000000; stroke-width:0.5; stroke-opacity:0.1; fill:none\" points=\"\n",
       "  55.0141,370.85 55.0141,13.4016 \n",
       "  \"/>\n",
       "<polyline clip-path=\"url(#clip02)\" style=\"stroke:#000000; stroke-width:0.5; stroke-opacity:0.1; fill:none\" points=\"\n",
       "  315.748,370.85 315.748,13.4016 \n",
       "  \"/>\n",
       "<polyline clip-path=\"url(#clip02)\" style=\"stroke:#000000; stroke-width:0.5; stroke-opacity:0.1; fill:none\" points=\"\n",
       "  576.482,370.85 576.482,13.4016 \n",
       "  \"/>\n",
       "<polyline clip-path=\"url(#clip02)\" style=\"stroke:#000000; stroke-width:0.5; stroke-opacity:0.1; fill:none\" points=\"\n",
       "  47.6614,299.894 583.835,299.894 \n",
       "  \"/>\n",
       "<polyline clip-path=\"url(#clip02)\" style=\"stroke:#000000; stroke-width:0.5; stroke-opacity:0.1; fill:none\" points=\"\n",
       "  47.6614,159.099 583.835,159.099 \n",
       "  \"/>\n",
       "<polyline clip-path=\"url(#clip02)\" style=\"stroke:#000000; stroke-width:0.5; stroke-opacity:0.1; fill:none\" points=\"\n",
       "  47.6614,18.3034 583.835,18.3034 \n",
       "  \"/>\n",
       "<polyline clip-path=\"url(#clip00)\" style=\"stroke:#000000; stroke-width:1; stroke-opacity:1; fill:none\" points=\"\n",
       "  39.3701,376.378 592.126,376.378 \n",
       "  \"/>\n",
       "<polyline clip-path=\"url(#clip00)\" style=\"stroke:#000000; stroke-width:1; stroke-opacity:1; fill:none\" points=\"\n",
       "  55.0141,376.378 55.0141,370.85 \n",
       "  \"/>\n",
       "<polyline clip-path=\"url(#clip00)\" style=\"stroke:#000000; stroke-width:1; stroke-opacity:1; fill:none\" points=\"\n",
       "  315.748,376.378 315.748,370.85 \n",
       "  \"/>\n",
       "<polyline clip-path=\"url(#clip00)\" style=\"stroke:#000000; stroke-width:1; stroke-opacity:1; fill:none\" points=\"\n",
       "  576.482,376.378 576.482,370.85 \n",
       "  \"/>\n",
       "<polyline clip-path=\"url(#clip00)\" style=\"stroke:#000000; stroke-width:1; stroke-opacity:1; fill:none\" points=\"\n",
       "  39.3701,376.378 39.3701,7.87402 \n",
       "  \"/>\n",
       "<polyline clip-path=\"url(#clip00)\" style=\"stroke:#000000; stroke-width:1; stroke-opacity:1; fill:none\" points=\"\n",
       "  39.3701,299.894 47.6614,299.894 \n",
       "  \"/>\n",
       "<polyline clip-path=\"url(#clip00)\" style=\"stroke:#000000; stroke-width:1; stroke-opacity:1; fill:none\" points=\"\n",
       "  39.3701,159.099 47.6614,159.099 \n",
       "  \"/>\n",
       "<polyline clip-path=\"url(#clip00)\" style=\"stroke:#000000; stroke-width:1; stroke-opacity:1; fill:none\" points=\"\n",
       "  39.3701,18.3034 47.6614,18.3034 \n",
       "  \"/>\n",
       "<g clip-path=\"url(#clip00)\">\n",
       "<text style=\"fill:#000000; fill-opacity:1; font-family:Arial,Helvetica Neue,Helvetica,sans-serif; font-size:12; text-anchor:middle;\" transform=\"rotate(0, 55.0141, 390.178)\" x=\"55.0141\" y=\"390.178\">-1</text>\n",
       "</g>\n",
       "<g clip-path=\"url(#clip00)\">\n",
       "<text style=\"fill:#000000; fill-opacity:1; font-family:Arial,Helvetica Neue,Helvetica,sans-serif; font-size:12; text-anchor:middle;\" transform=\"rotate(0, 315.748, 390.178)\" x=\"315.748\" y=\"390.178\">0</text>\n",
       "</g>\n",
       "<g clip-path=\"url(#clip00)\">\n",
       "<text style=\"fill:#000000; fill-opacity:1; font-family:Arial,Helvetica Neue,Helvetica,sans-serif; font-size:12; text-anchor:middle;\" transform=\"rotate(0, 576.482, 390.178)\" x=\"576.482\" y=\"390.178\">1</text>\n",
       "</g>\n",
       "<g clip-path=\"url(#clip00)\">\n",
       "<text style=\"fill:#000000; fill-opacity:1; font-family:Arial,Helvetica Neue,Helvetica,sans-serif; font-size:12; text-anchor:end;\" transform=\"rotate(0, 33.3701, 304.394)\" x=\"33.3701\" y=\"304.394\">0.0</text>\n",
       "</g>\n",
       "<g clip-path=\"url(#clip00)\">\n",
       "<text style=\"fill:#000000; fill-opacity:1; font-family:Arial,Helvetica Neue,Helvetica,sans-serif; font-size:12; text-anchor:end;\" transform=\"rotate(0, 33.3701, 163.599)\" x=\"33.3701\" y=\"163.599\">0.5</text>\n",
       "</g>\n",
       "<g clip-path=\"url(#clip00)\">\n",
       "<text style=\"fill:#000000; fill-opacity:1; font-family:Arial,Helvetica Neue,Helvetica,sans-serif; font-size:12; text-anchor:end;\" transform=\"rotate(0, 33.3701, 22.8034)\" x=\"33.3701\" y=\"22.8034\">1.0</text>\n",
       "</g>\n",
       "<circle clip-path=\"url(#clip02)\" style=\"fill:#000000; stroke:none; fill-opacity:1\" cx=\"576.482\" cy=\"289.064\" r=\"4\"/>\n",
       "<circle clip-path=\"url(#clip02)\" style=\"fill:#009af9; stroke:none; fill-opacity:1\" cx=\"576.482\" cy=\"289.064\" r=\"3\"/>\n",
       "<circle clip-path=\"url(#clip02)\" style=\"fill:#000000; stroke:none; fill-opacity:1\" cx=\"563.721\" cy=\"287.969\" r=\"4\"/>\n",
       "<circle clip-path=\"url(#clip02)\" style=\"fill:#009af9; stroke:none; fill-opacity:1\" cx=\"563.721\" cy=\"287.969\" r=\"3\"/>\n",
       "<circle clip-path=\"url(#clip02)\" style=\"fill:#000000; stroke:none; fill-opacity:1\" cx=\"526.686\" cy=\"283.676\" r=\"4\"/>\n",
       "<circle clip-path=\"url(#clip02)\" style=\"fill:#009af9; stroke:none; fill-opacity:1\" cx=\"526.686\" cy=\"283.676\" r=\"3\"/>\n",
       "<circle clip-path=\"url(#clip02)\" style=\"fill:#000000; stroke:none; fill-opacity:1\" cx=\"469.004\" cy=\"270.676\" r=\"4\"/>\n",
       "<circle clip-path=\"url(#clip02)\" style=\"fill:#009af9; stroke:none; fill-opacity:1\" cx=\"469.004\" cy=\"270.676\" r=\"3\"/>\n",
       "<circle clip-path=\"url(#clip02)\" style=\"fill:#000000; stroke:none; fill-opacity:1\" cx=\"396.319\" cy=\"216.763\" r=\"4\"/>\n",
       "<circle clip-path=\"url(#clip02)\" style=\"fill:#009af9; stroke:none; fill-opacity:1\" cx=\"396.319\" cy=\"216.763\" r=\"3\"/>\n",
       "<circle clip-path=\"url(#clip02)\" style=\"fill:#000000; stroke:none; fill-opacity:1\" cx=\"315.748\" cy=\"18.3034\" r=\"4\"/>\n",
       "<circle clip-path=\"url(#clip02)\" style=\"fill:#009af9; stroke:none; fill-opacity:1\" cx=\"315.748\" cy=\"18.3034\" r=\"3\"/>\n",
       "<circle clip-path=\"url(#clip02)\" style=\"fill:#000000; stroke:none; fill-opacity:1\" cx=\"235.177\" cy=\"216.763\" r=\"4\"/>\n",
       "<circle clip-path=\"url(#clip02)\" style=\"fill:#009af9; stroke:none; fill-opacity:1\" cx=\"235.177\" cy=\"216.763\" r=\"3\"/>\n",
       "<circle clip-path=\"url(#clip02)\" style=\"fill:#000000; stroke:none; fill-opacity:1\" cx=\"162.492\" cy=\"270.676\" r=\"4\"/>\n",
       "<circle clip-path=\"url(#clip02)\" style=\"fill:#009af9; stroke:none; fill-opacity:1\" cx=\"162.492\" cy=\"270.676\" r=\"3\"/>\n",
       "<circle clip-path=\"url(#clip02)\" style=\"fill:#000000; stroke:none; fill-opacity:1\" cx=\"104.81\" cy=\"283.676\" r=\"4\"/>\n",
       "<circle clip-path=\"url(#clip02)\" style=\"fill:#009af9; stroke:none; fill-opacity:1\" cx=\"104.81\" cy=\"283.676\" r=\"3\"/>\n",
       "<circle clip-path=\"url(#clip02)\" style=\"fill:#000000; stroke:none; fill-opacity:1\" cx=\"67.7753\" cy=\"287.969\" r=\"4\"/>\n",
       "<circle clip-path=\"url(#clip02)\" style=\"fill:#009af9; stroke:none; fill-opacity:1\" cx=\"67.7753\" cy=\"287.969\" r=\"3\"/>\n",
       "<circle clip-path=\"url(#clip02)\" style=\"fill:#000000; stroke:none; fill-opacity:1\" cx=\"55.0141\" cy=\"289.064\" r=\"4\"/>\n",
       "<circle clip-path=\"url(#clip02)\" style=\"fill:#009af9; stroke:none; fill-opacity:1\" cx=\"55.0141\" cy=\"289.064\" r=\"3\"/>\n",
       "<polyline clip-path=\"url(#clip02)\" style=\"stroke:#e26f46; stroke-width:1; stroke-opacity:1; fill:none\" points=\"\n",
       "  42.0691,290.029 44.7682,289.839 69.7249,287.787 94.6816,285.052 109.679,282.947 124.677,280.374 137.358,277.727 150.039,274.522 156.926,272.492 163.813,270.219 \n",
       "  170.7,267.664 177.588,264.781 190.287,258.414 202.986,250.283 216.6,238.878 230.215,223.59 238.102,212.365 245.989,198.95 253.876,182.944 261.763,163.975 \n",
       "  268.772,144.45 275.781,122.505 279.285,110.77 282.79,98.6797 286.294,86.4097 289.799,74.1921 295.945,53.7938 302.091,36.3766 303.628,32.7351 305.165,29.4434 \n",
       "  306.701,26.5311 308.238,24.0255 311.311,20.3275 314.384,18.4959 317.735,18.7114 321.085,21.2224 322.76,23.3049 324.436,25.9079 326.111,29.0014 327.786,32.5507 \n",
       "  329.461,36.5177 331.137,40.8615 332.812,45.5394 334.487,50.5081 337.838,61.1453 341.188,72.4392 347.929,95.9679 354.67,119.052 361.411,140.514 368.152,159.791 \n",
       "  375.605,178.392 383.058,194.275 390.511,207.735 397.964,219.11 405.055,228.298 412.146,236.147 419.237,242.876 426.329,248.666 433.702,253.856 441.075,258.338 \n",
       "  448.449,262.227 455.822,265.618 468.235,270.411 480.649,274.295 495.804,278.103 510.96,281.139 525.206,283.46 539.453,285.382 562.277,287.835 585.101,289.721 \n",
       "  588.613,289.972 \n",
       "  \"/>\n",
       "<polyline clip-path=\"url(#clip02)\" style=\"stroke:#3da44d; stroke-width:1; stroke-opacity:1; fill:none\" points=\"\n",
       "  39.5388,365.949 39.7075,364.166 39.8762,362.412 40.0448,360.687 40.2135,358.991 40.3822,357.323 40.5509,355.683 40.7196,354.071 40.8883,352.486 41.057,350.928 \n",
       "  41.2257,349.397 41.3944,347.892 41.5631,346.413 41.7318,344.96 41.9004,343.532 42.0691,342.129 42.2378,340.752 42.4065,339.398 42.5752,338.069 42.7439,336.764 \n",
       "  42.9126,335.482 43.0813,334.224 43.25,332.988 43.4187,331.776 43.5874,330.586 43.756,329.418 43.9247,328.272 44.0934,327.147 44.2621,326.044 44.4308,324.962 \n",
       "  44.5995,323.901 44.7682,322.861 45.5481,318.309 46.328,314.166 47.1079,310.406 47.8878,307.006 48.6677,303.943 49.4476,301.197 50.2275,298.746 51.0074,296.57 \n",
       "  52.5672,292.972 54.1269,290.26 55.6867,288.307 57.2465,286.996 60.3661,285.89 63.4857,286.217 66.6053,287.4 69.7249,288.987 75.964,292.087 82.2032,293.78 \n",
       "  88.4424,293.381 94.6816,290.905 102.181,285.813 109.679,279.505 117.178,273.198 124.677,267.942 131.018,264.875 137.358,263.334 143.698,263.365 150.039,264.832 \n",
       "  163.813,271.421 177.588,278.686 180.763,279.876 183.937,280.743 187.112,281.225 190.287,281.265 193.462,280.81 196.636,279.812 199.811,278.231 202.986,276.034 \n",
       "  206.389,272.961 209.793,269.126 213.197,264.513 216.6,259.12 218.302,256.133 220.004,252.955 221.706,249.588 223.408,246.035 225.11,242.3 226.811,238.388 \n",
       "  228.513,234.303 230.215,230.052 232.187,224.925 234.159,219.593 236.13,214.067 238.102,208.359 240.074,202.482 242.046,196.451 244.017,190.279 245.989,183.983 \n",
       "  247.961,177.578 249.933,171.08 251.904,164.508 253.876,157.877 255.848,151.206 257.819,144.513 259.791,137.817 261.763,131.136 263.515,125.226 265.267,119.357 \n",
       "  267.02,113.54 268.772,107.789 269.648,104.942 270.524,102.117 271.4,99.3146 272.276,96.5368 272.715,95.1577 273.153,93.7853 273.591,92.4198 274.029,91.0614 \n",
       "  274.467,89.7104 274.905,88.3669 275.343,87.0311 275.781,85.7032 276.219,84.3834 276.657,83.0719 277.095,81.7688 277.533,80.4744 277.971,79.1889 278.409,77.9124 \n",
       "  278.847,76.6451 279.285,75.3872 280.162,72.9004 281.038,70.4533 281.914,68.0474 282.79,65.6841 283.228,64.5189 283.666,63.3648 284.104,62.2221 284.542,61.0908 \n",
       "  284.98,59.9712 285.418,58.8635 285.856,57.7677 286.294,56.6841 286.733,55.6127 287.171,54.5539 287.609,53.5076 288.047,52.4741 288.485,51.4536 288.923,50.4461 \n",
       "  289.361,49.4518 289.799,48.4709 290.183,47.6218 290.567,46.7833 290.951,45.9553 291.336,45.1379 291.72,44.3314 292.104,43.5357 292.488,42.7509 292.872,41.9772 \n",
       "  293.256,41.2146 293.64,40.4632 294.025,39.723 294.409,38.9943 294.793,38.277 295.177,37.5713 295.561,36.8772 295.945,36.1948 296.329,35.5241 296.714,34.8653 \n",
       "  297.098,34.2184 297.482,33.5836 297.866,32.9608 298.25,32.3501 298.634,31.7517 299.018,31.1655 299.403,30.5917 299.787,30.0303 300.171,29.4813 300.555,28.9449 \n",
       "  300.939,28.4211 301.323,27.91 301.707,27.4116 302.091,26.9259 302.476,26.4531 302.86,25.9931 303.244,25.5461 303.628,25.1121 304.012,24.6911 304.396,24.2832 \n",
       "  304.78,23.8884 305.165,23.5068 305.549,23.1384 305.933,22.7833 306.317,22.4415 306.701,22.113 307.085,21.7978 307.469,21.4961 307.854,21.2079 308.238,20.9331 \n",
       "  308.622,20.6718 309.006,20.4241 309.39,20.1899 309.774,19.9693 310.158,19.7624 310.543,19.5691 310.927,19.3894 311.311,19.2235 311.695,19.0712 312.079,18.9327 \n",
       "  312.463,18.8079 312.847,18.6968 313.232,18.5996 313.616,18.5161 314,18.4463 314.384,18.3904 314.803,18.3452 315.222,18.3163 315.64,18.3039 316.059,18.3079 \n",
       "  316.478,18.3283 316.897,18.3651 317.316,18.4184 317.735,18.488 318.153,18.574 318.572,18.6764 318.991,18.7951 319.41,18.9303 319.829,19.0817 320.247,19.2494 \n",
       "  320.666,19.4335 321.085,19.6338 321.504,19.8503 321.923,20.083 322.342,20.3319 322.76,20.597 323.179,20.8782 323.598,21.1754 324.017,21.4886 324.436,21.8179 \n",
       "  324.854,22.163 325.273,22.5241 325.692,22.901 326.111,23.2937 326.53,23.7021 326.949,24.1263 327.367,24.566 327.786,25.0213 328.205,25.4921 328.624,25.9784 \n",
       "  329.043,26.4801 329.461,26.997 329.88,27.5292 330.299,28.0765 330.718,28.639 331.137,29.2165 331.556,29.8089 331.974,30.4161 332.393,31.0381 332.812,31.6749 \n",
       "  333.231,32.3262 333.65,32.9921 334.068,33.6723 334.487,34.367 334.906,35.0758 335.325,35.7988 335.744,36.5359 336.163,37.2869 336.581,38.0518 337,38.8304 \n",
       "  337.419,39.6226 337.838,40.4284 338.675,42.0802 339.513,43.7847 340.351,45.5412 341.188,47.3486 342.031,49.2172 342.874,51.1354 343.716,53.1021 344.559,55.1162 \n",
       "  345.401,57.1767 346.244,59.2825 347.087,61.4324 347.929,63.6253 348.772,65.86 349.614,68.1352 350.457,70.4497 351.3,72.8024 352.142,75.1919 352.985,77.617 \n",
       "  353.828,80.0763 354.67,82.5686 355.513,85.0925 356.355,87.6467 357.198,90.2297 358.041,92.8403 358.883,95.4771 359.726,98.1386 360.568,100.824 361.411,103.53 \n",
       "  362.254,106.258 363.096,109.004 363.939,111.768 364.781,114.548 365.624,117.343 366.467,120.151 367.309,122.971 368.152,125.802 370.015,132.09 371.878,138.406 \n",
       "  373.742,144.734 375.605,151.059 377.468,157.364 379.331,163.635 381.195,169.856 383.058,176.012 384.921,182.09 386.784,188.075 388.647,193.954 390.511,199.712 \n",
       "  392.374,205.339 394.237,210.821 396.1,216.148 397.964,221.308 399.736,226.054 401.509,230.632 403.282,235.034 405.055,239.254 406.828,243.286 408.601,247.124 \n",
       "  410.373,250.763 412.146,254.199 413.919,257.43 415.692,260.451 417.465,263.263 419.237,265.862 421.01,268.25 422.783,270.427 424.556,272.393 426.329,274.151 \n",
       "  428.172,275.762 430.015,277.154 431.859,278.333 433.702,279.305 435.545,280.075 437.389,280.652 439.232,281.043 441.075,281.256 442.919,281.302 444.762,281.19 \n",
       "  446.605,280.931 448.449,280.536 450.292,280.017 452.135,279.386 453.979,278.657 455.822,277.84 458.925,276.308 462.029,274.632 465.132,272.877 468.235,271.108 \n",
       "  471.339,269.388 474.442,267.778 477.545,266.334 480.649,265.109 482.543,264.489 484.438,263.978 486.332,263.584 488.227,263.315 490.121,263.176 492.015,263.173 \n",
       "  493.91,263.308 495.804,263.586 496.751,263.777 497.699,264.005 498.646,264.267 499.593,264.565 500.54,264.898 501.488,265.265 502.435,265.666 503.382,266.1 \n",
       "  503.856,266.329 504.329,266.567 504.803,266.812 505.276,267.065 505.75,267.326 506.224,267.594 506.697,267.87 507.171,268.153 507.644,268.443 508.118,268.74 \n",
       "  508.592,269.044 509.065,269.355 509.539,269.672 510.012,269.996 510.486,270.326 510.96,270.662 511.405,270.983 511.85,271.309 512.295,271.639 512.74,271.975 \n",
       "  513.186,272.315 513.631,272.659 514.076,273.007 514.521,273.359 514.967,273.715 515.412,274.074 515.857,274.437 516.302,274.803 516.747,275.171 517.193,275.543 \n",
       "  517.638,275.917 518.083,276.293 518.528,276.671 518.973,277.051 519.419,277.432 519.864,277.815 520.309,278.199 520.754,278.584 521.199,278.97 521.645,279.356 \n",
       "  522.09,279.742 522.535,280.128 522.98,280.513 523.425,280.898 523.871,281.283 524.316,281.666 524.761,282.048 525.206,282.428 526.097,283.182 526.987,283.927 \n",
       "  527.877,284.66 528.768,285.379 530.549,286.767 532.329,288.075 533.22,288.694 534.11,289.286 535.001,289.85 535.891,290.384 536.782,290.887 537.672,291.355 \n",
       "  538.562,291.788 539.453,292.184 540.166,292.474 540.879,292.738 541.593,292.977 542.306,293.189 543.732,293.53 545.159,293.76 546.585,293.876 548.012,293.877 \n",
       "  549.438,293.763 550.865,293.538 552.291,293.205 553.718,292.771 555.144,292.244 556.571,291.636 557.997,290.961 559.424,290.236 560.85,289.48 562.277,288.718 \n",
       "  563.703,287.978 565.13,287.29 566.556,286.692 567.983,286.225 569.409,285.933 570.836,285.869 572.262,286.091 573.689,286.662 574.402,287.099 575.115,287.651 \n",
       "  575.829,288.327 576.542,289.138 577.968,291.205 579.395,293.948 580.821,297.466 582.248,301.87 583.674,307.28 585.101,313.827 585.54,316.092 585.979,318.483 \n",
       "  586.418,321.003 586.857,323.657 587.296,326.449 587.735,329.386 588.174,332.47 588.613,335.708 588.833,337.386 589.053,339.104 589.272,340.863 589.492,342.664 \n",
       "  589.711,344.507 589.931,346.393 590.15,348.322 590.37,350.295 590.589,352.314 590.809,354.378 591.028,356.488 591.248,358.646 591.467,360.851 591.687,363.105 \n",
       "  591.906,365.408 \n",
       "  \"/>\n",
       "<polygon clip-path=\"url(#clip00)\" points=\"\n",
       "501.61,89.234 574.126,89.234 574.126,28.754 501.61,28.754 \n",
       "  \" fill=\"#ffffff\" fill-opacity=\"1\"/>\n",
       "<polyline clip-path=\"url(#clip00)\" style=\"stroke:#000000; stroke-width:1; stroke-opacity:1; fill:none\" points=\"\n",
       "  501.61,89.234 574.126,89.234 574.126,28.754 501.61,28.754 501.61,89.234 \n",
       "  \"/>\n",
       "<circle clip-path=\"url(#clip00)\" style=\"fill:#000000; stroke:none; fill-opacity:1\" cx=\"528.61\" cy=\"43.874\" r=\"6\"/>\n",
       "<circle clip-path=\"url(#clip00)\" style=\"fill:#009af9; stroke:none; fill-opacity:1\" cx=\"528.61\" cy=\"43.874\" r=\"5\"/>\n",
       "<g clip-path=\"url(#clip00)\">\n",
       "<text style=\"fill:#000000; fill-opacity:1; font-family:Arial,Helvetica Neue,Helvetica,sans-serif; font-size:12; text-anchor:start;\" transform=\"rotate(0, 549.61, 48.374)\" x=\"549.61\" y=\"48.374\">y1</text>\n",
       "</g>\n",
       "<polyline clip-path=\"url(#clip00)\" style=\"stroke:#e26f46; stroke-width:1; stroke-opacity:1; fill:none\" points=\"\n",
       "  507.61,58.994 543.61,58.994 \n",
       "  \"/>\n",
       "<g clip-path=\"url(#clip00)\">\n",
       "<text style=\"fill:#000000; fill-opacity:1; font-family:Arial,Helvetica Neue,Helvetica,sans-serif; font-size:12; text-anchor:start;\" transform=\"rotate(0, 549.61, 63.494)\" x=\"549.61\" y=\"63.494\">y2</text>\n",
       "</g>\n",
       "<polyline clip-path=\"url(#clip00)\" style=\"stroke:#3da44d; stroke-width:1; stroke-opacity:1; fill:none\" points=\"\n",
       "  507.61,74.114 543.61,74.114 \n",
       "  \"/>\n",
       "<g clip-path=\"url(#clip00)\">\n",
       "<text style=\"fill:#000000; fill-opacity:1; font-family:Arial,Helvetica Neue,Helvetica,sans-serif; font-size:12; text-anchor:start;\" transform=\"rotate(0, 549.61, 78.614)\" x=\"549.61\" y=\"78.614\">y3</text>\n",
       "</g>\n",
       "</svg>\n"
      ]
     },
     "execution_count": 170,
     "metadata": {
      "comm_id": "331c95fb-b0a9-47d1-b1c9-34e17895446d",
      "reactive": true
     },
     "output_type": "execute_result"
    }
   ],
   "source": [
    "# [6] \n",
    "f(x) = 1/(1 + 25x^2)\n",
    "@manipulate for n = 1:20\n",
    "    x = chebyshev_puntos(n)\n",
    "    y = f.(x)\n",
    "    s = interpola_cheb(f, n)\n",
    "    scatter(x, f.(x), xlims=[-1,1])\n",
    "    plot!(f)\n",
    "    plot!(s)\n",
    "end"
   ]
  },
  {
   "cell_type": "code",
   "execution_count": null,
   "metadata": {
    "collapsed": true
   },
   "outputs": [],
   "source": []
  },
  {
   "cell_type": "markdown",
   "metadata": {},
   "source": [
    "**[7]** (i) Dada una función $f$ , calcula numéricamente el error al utilizar la interpolación de Chebyshev $p_n$ con respecto a la función original $f$, dado por la norma\n",
    "\n",
    "$$\\|f - p\\|_{\\infty} := \\sup_x |f(x) - p(x)|,$$\n",
    "\n",
    "para distintos números de puntos de Chebyshev.\n",
    "\n",
    "Conforme se aumenta el número de puntos, ¿cómo es la convergencia a $0$ del error?  \n",
    "\n",
    "(ii) Resulta que la tasa de convergencia depende de qué tan suave es la función.\n",
    "Por ejemplo, inténtalo con la función `abs` y con la función `floor`."
   ]
  },
  {
   "cell_type": "markdown",
   "metadata": {},
   "source": [
    "## Interpolación baricéntrica "
   ]
  },
  {
   "cell_type": "markdown",
   "metadata": {},
   "source": [
    "La técnica de interpolación que hemos demostrado hasta ahora no es práctica. Una versión práctica se llama la **interpolación baricéntrica**, que consiste en una manera de reescribir las cosas para que sea más eficiente. El desarrollo se puede encontrar [en este artículo](https://people.maths.ox.ac.uk/trefethen/barycentric.pdf), escrito por [Nick Trefethen](https://people.maths.ox.ac.uk/trefethen), uno de los analistas numéricos más influyentes del mundo. El artículo es muy accesible."
   ]
  },
  {
   "cell_type": "markdown",
   "metadata": {},
   "source": [
    "**[8]** Lee las secciones 3 y 4 del artículo para entender la derivación de las siguientes fórmulas.\n",
    "También lee la introducción para entender el panorama histórico."
   ]
  },
  {
   "cell_type": "markdown",
   "metadata": {},
   "source": [
    "Dados puntos $x_i$, y valores $f_i := f(x_i)$, se llega a la siguiente fórmula bonita para evaluar el polonimio interpolador $p$ en el punto $x$:"
   ]
  },
  {
   "cell_type": "markdown",
   "metadata": {},
   "source": [
    "$$p(x) = \\frac{ \\sum_{j=0}^n \\frac{w_j}{x - x_j} f_j } \n",
    "{\\sum_{j=0}^n\\frac{w_j}{x - x_j}}.$$\n",
    "\n",
    "Aquí, los $w_j$ son pesos dados por\n",
    "$$w_j = \\frac{1}{\\prod_{k\\neq j} (x_j - x_k)}.$$\n",
    "\n",
    "Para los puntos de Chebyshev definidos arriba, se puede mostrar que\n",
    "$$w_j = (-1)^j \\delta_j,$$\n",
    "con $$\\delta_j = \\begin{cases} \\textstyle \\frac{1}{2}, \\quad \\text{si } j=0 \\text{ o } j=n;\\\\\n",
    "                                1, \\quad \\text{si no}\n",
    "                 \\end{cases}.\n",
    "                 $$"
   ]
  },
  {
   "cell_type": "markdown",
   "metadata": {},
   "source": [
    "**[9]** (i) Implementa la interpolación baricéntrica en los puntos de Chebyshev, usando la fórmula explícita para las $w_j$. Verifica que funcione. Intenta hacer que sea lo más eficiente posible; es decir, no recalcules de nuevo algo que ya calculaste.\n",
    "\n",
    "(ii) Compara la velocidad con la implementación anterior."
   ]
  },
  {
   "cell_type": "markdown",
   "metadata": {},
   "source": [
    "## Tema de actualidad"
   ]
  },
  {
   "cell_type": "markdown",
   "metadata": {},
   "source": [
    "Lo que hemos logrado es el aproximar una función continua $f$ por un conjunto discreto de sus valores $f(x_i)$ en la **malla** (posiblemente no-uniforme) $(x_i)_{i=1}^N$. Ahora podríamos manipular la función ¡al manipular sólo estos valores discretos!\n",
    "\n",
    "Resulta que es más útil **cambiar de base** en el espacio de polinomios, y utilizar los **polinomios de Chebyshev**. \n",
    "\n",
    "La idea es escribir el polinomio interpolante como una suma de polinomios de Chebyshev y examinar los coeficientes de estos polinomios, que tienen propiedades muy útiles. El campo se llama aproximación de Chebyshev, y es un tema sumamente importante hoy día. Hay una implementación en Julia en el paquete https://github.com/JuliaApproximation/ApproxFun.jl, pero el hacer una parte ¡podría hacer un buen proyecto final!"
   ]
  }
 ],
 "metadata": {
  "kernel_info": {
   "name": "julia-0.6"
  },
  "kernelspec": {
   "display_name": "Julia 0.6.0",
   "language": "julia",
   "name": "julia-0.6"
  },
  "language_info": {
   "file_extension": ".jl",
   "mimetype": "application/julia",
   "name": "julia",
   "version": "0.6.0"
  },
  "nteract": {
   "version": "0.3.1"
  }
 },
 "nbformat": 4,
 "nbformat_minor": 2
}
