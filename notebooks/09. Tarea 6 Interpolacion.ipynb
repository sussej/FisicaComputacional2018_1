{
 "cells": [
  {
   "cell_type": "markdown",
   "metadata": {},
   "source": [
    "# Interpolación"
   ]
  },
  {
   "cell_type": "markdown",
   "metadata": {},
   "source": [
    "Hemos visto que partiendo de una función continua, podemos utilizar una discretización para calcular numéricamente una derivada.\n",
    "\n",
    "Un problema muy común en el cómputo científico es el problema inverso: tenemos datos discretos, y queremos encontrar una función continua que los aproxime. Una manera de hacer esto es la **interpolación**: \n",
    "\n",
    "> Dados datos $(x_i, y_i)$ para $i=1,\\ldots,N$, encuentra una función $f(x)$ que pase exactamente por los puntos, es decir, tal que $f(x_i) = y_i$ para cada $i$.\n",
    "\n",
    "La interpolación provee, entre muchas otras cosas, una manera de formalizar la derivación de diferencias finitas para calcular derivadas, y para llevar a cabo integrales. \n",
    "Aunque data de la época de Newton, Lagrange y Gauss, algunos de las técnicas más modernas también se basan en la interpolación, para poder trabajar con funciones de forma numérica.\n",
    "\n",
    "Podríamos escoger distintas clases de función $f$ con las cuales interpolar. Aquí, escogemos trabajar con **polinomios**, ya que son funciones que entendemos y que son fáciles de manipular."
   ]
  },
  {
   "cell_type": "markdown",
   "metadata": {},
   "source": [
    "**[1]** El primer caso que tratar es el de dos puntos $(x_1, y_1)$ y $(x_2, y_2)$; está claro que podemos interpolar entre estos dos puntos con una recta. Aunque probablemente puedes escribir casi directamente cuál recta es, seguiremos el procedimiento siguiente, el cual se generaliza para más puntos:\n",
    "\n",
    "(i) Define una función $\\ell_1(x)$ que es lineal y tal que $\\ell_1(x)$ tome el valor $0$ en $x = x_2$. Ahora haz que también tome el valor $1$ en $x = x_1$. Nota que estas dos condiciones determinan la función $\\ell_1$ de forma única.\n",
    "\n",
    "(ii) Por simetría, encuentra la función $\\ell_2(x)$ tal que $\\ell_2(x_1) = 0$ y $\\ell_2(x_2) = 1$.\n",
    "\n",
    "(iii) Utiliza $\\ell_1$ y $\\ell_2$ para encontrar un polinomio lineal que interpola los datos.\n",
    "\n",
    "(iv) Impleméntalo y comprueba gráficamente que sí funciona."
   ]
  },
  {
   "cell_type": "markdown",
   "metadata": {},
   "source": [
    "[1] i)\n",
    "\n",
    "Sea $l_1(x)$ una función lineal, queremos que dado el par $(x_1, x_2)$ se cumpla\n",
    "$$\n",
    "l_1(x1) = 1\\\\\n",
    "l_1(x2) = 0\n",
    "$$\n",
    "Entonces una propuesta aceptable es\n",
    "$$\n",
    "l_1(x) = \\gamma(x - x_2)\\\\\n",
    "l_1(x_1) = \\gamma(x_1 - x_2) = 1 \\\\\n",
    "\\Rightarrow \\gamma = \\dfrac{1}{x_1 - x_2}\n",
    "$$\n",
    "Por lo que la función es\n",
    "$$\n",
    "l_1(x) = \\dfrac{x - x_2}{x_1 - x_2}\n",
    "$$"
   ]
  },
  {
   "cell_type": "markdown",
   "metadata": {},
   "source": [
    "[1] ii)\n",
    "De manera análoga se tiene\n",
    "$$\n",
    "l_2(x) = \\dfrac{x - x_1}{x_1 - x_2}\n",
    "$$"
   ]
  },
  {
   "cell_type": "markdown",
   "metadata": {},
   "source": [
    "[1] iii)\n",
    "Se quiere un polinomio que interpole los pares de datos $(x_1, y_1), (x_2, y_2)$ mediante una combinación lineal de las dos funciones anteriormente definidas, es decir\n",
    "$$\n",
    "L(x) = \\alpha l_1(x) + \\beta l_2(x)\n",
    "$$\n",
    "Ahora el punto aquí es determinar quiénes son $\\alpha$ y $\\beta$, pero esto es sencillo, puesto que por como se definieron las funciones $l_1(x)$ y $l_2(x)$, se tiene que\n",
    "$$\n",
    "L_(x_1) = \\alpha\\\\\n",
    "L(x_2) = \\beta\n",
    "$$\n",
    "La condición para que la función interpole es que $L(x_1) = y_1$ y que $L(x_2) = y_2$, de manera que los coeficientes tienen que ser $\\alpha = y_1$, $\\beta = y_2$.\n",
    "\n",
    "Por lo que\n",
    "$$\n",
    "L(x) = y_1l_1(x) + y_2l_2(x)\n",
    "$$"
   ]
  },
  {
   "cell_type": "code",
   "execution_count": 1,
   "metadata": {},
   "outputs": [
    {
     "data": {
      "text/html": [
       "<div id=\"interact-js-shim\">\n",
       "    <script charset=\"utf-8\">\n",
       "(function (IPython, $, _, MathJax) {\n",
       "    $.event.special.destroyed = {\n",
       "\tremove: function(o) {\n",
       "\t    if (o.handler) {\n",
       "\t\to.handler.apply(this, arguments)\n",
       "\t    }\n",
       "\t}\n",
       "    }\n",
       "\n",
       "    var OutputArea = IPython.version >= \"4.0.0\" ? require(\"notebook/js/outputarea\").OutputArea : IPython.OutputArea;\n",
       "\n",
       "    var redrawValue = function (container, type, val) {\n",
       "\tvar selector = $(\"<div/>\");\n",
       "\tvar oa = new OutputArea(_.extend(selector, {\n",
       "\t    selector: selector,\n",
       "\t    prompt_area: true,\n",
       "\t    events: IPython.events,\n",
       "\t    keyboard_manager: IPython.keyboard_manager\n",
       "\t})); // Hack to work with IPython 2.1.0\n",
       "\n",
       "\tswitch (type) {\n",
       "\tcase \"image/png\":\n",
       "            var _src = 'data:' + type + ';base64,' + val;\n",
       "\t    $(container).find(\"img\").attr('src', _src);\n",
       "\t    break;\n",
       "\tcase \"text/latex\":\n",
       "\t\tif (MathJax){\n",
       "\t\t\tvar math = MathJax.Hub.getAllJax(container)[0];\n",
       "\t\t\tMathJax.Hub.Queue([\"Text\", math, val.replace(/^\\${1,2}|\\${1,2}$/g, '')]);\n",
       "\t\t\tbreak;\n",
       "\t\t}\n",
       "\tdefault:\n",
       "\t    var toinsert = OutputArea.append_map[type].apply(\n",
       "\t\toa, [val, {}, selector]\n",
       "\t    );\n",
       "\t    $(container).empty().append(toinsert.contents());\n",
       "\t    selector.remove();\n",
       "\t}\n",
       "    }\n",
       "\n",
       "\n",
       "    $(document).ready(function() {\n",
       "\tfunction initComm(evt, data) {\n",
       "\t    var comm_manager = data.kernel.comm_manager;\n",
       "        //_.extend(comm_manager.targets, require(\"widgets/js/widget\"))\n",
       "\t    comm_manager.register_target(\"Signal\", function (comm) {\n",
       "            comm.on_msg(function (msg) {\n",
       "                var val = msg.content.data.value;\n",
       "                $(\".signal-\" + comm.comm_id).each(function() {\n",
       "                var type = $(this).data(\"type\");\n",
       "                if (typeof(val[type]) !== \"undefined\" && val[type] !== null) {\n",
       "                    redrawValue(this, type, val[type], type);\n",
       "                }\n",
       "                });\n",
       "                delete val;\n",
       "                delete msg.content.data.value;\n",
       "            });\n",
       "\t    });\n",
       "\n",
       "\t    // coordingate with Comm and redraw Signals\n",
       "\t    // XXX: Test using Reactive here to improve performance\n",
       "\t    $([IPython.events]).on(\n",
       "\t\t'output_appended.OutputArea', function (event, type, value, md, toinsert) {\n",
       "\t\t    if (md && md.reactive) {\n",
       "                // console.log(md.comm_id);\n",
       "                toinsert.addClass(\"signal-\" + md.comm_id);\n",
       "                toinsert.data(\"type\", type);\n",
       "                // Signal back indicating the mimetype required\n",
       "                var comm_manager = IPython.notebook.kernel.comm_manager;\n",
       "                var comm = comm_manager.comms[md.comm_id];\n",
       "                comm.then(function (c) {\n",
       "                    c.send({action: \"subscribe_mime\",\n",
       "                       mime: type});\n",
       "                    toinsert.bind(\"destroyed\", function() {\n",
       "                        c.send({action: \"unsubscribe_mime\",\n",
       "                               mime: type});\n",
       "                    });\n",
       "                })\n",
       "\t\t    }\n",
       "\t    });\n",
       "\t}\n",
       "\n",
       "\ttry {\n",
       "\t    // try to initialize right away. otherwise, wait on the status_started event.\n",
       "\t    initComm(undefined, IPython.notebook);\n",
       "\t} catch (e) {\n",
       "\t    $([IPython.events]).on('kernel_created.Kernel kernel_created.Session', initComm);\n",
       "\t}\n",
       "    });\n",
       "})(IPython, jQuery, _, MathJax);\n",
       "</script>\n",
       "    <script>\n",
       "        window.interactLoadedFlag = true\n",
       "       $(\"#interact-js-shim\").bind(\"destroyed\", function () {\n",
       "           if (window.interactLoadedFlag) {\n",
       "               console.warn(\"JavaScript required by Interact will be removed if you remove this cell or run using Interact more than once.\")\n",
       "           }\n",
       "       })\n",
       "       $([IPython.events]).on(\"kernel_starting.Kernel kernel_restarting.Kernel\", function () { window.interactLoadedFlag = false })\n",
       "   </script>\n",
       "</div>"
      ]
     },
     "metadata": {},
     "output_type": "display_data"
    },
    {
     "data": {
      "text/plain": [
       "Plots.GRBackend()"
      ]
     },
     "execution_count": 1,
     "metadata": {},
     "output_type": "execute_result"
    }
   ],
   "source": [
    "using Plots\n",
    "using Interact\n",
    "gr()"
   ]
  },
  {
   "cell_type": "code",
   "execution_count": 16,
   "metadata": {},
   "outputs": [
    {
     "data": {
      "text/plain": [
       "interpola (generic function with 1 method)"
      ]
     },
     "execution_count": 16,
     "metadata": {},
     "output_type": "execute_result"
    }
   ],
   "source": [
    "# [1] iV)\n",
    "function interpola(x, y)\n",
    "    x1, x2 = x\n",
    "    y1, y2 = y\n",
    "    l1(z) = (1/(x1 - x2)) * (z - x2)\n",
    "    l2(z) = (1/(x2 - x1)) * (z - x1)\n",
    "    s(z) = (y1*l1(z) + y2*l2(z))\n",
    "    return s\n",
    "end"
   ]
  },
  {
   "cell_type": "code",
   "execution_count": 3,
   "metadata": {},
   "outputs": [
    {
     "data": {
      "text/plain": [
       "-0.5"
      ]
     },
     "execution_count": 3,
     "metadata": {},
     "output_type": "execute_result"
    }
   ],
   "source": [
    "x = [-1, -3]\n",
    "y = [1, 2]\n",
    "s = interpola(x, y)\n",
    "s(2)"
   ]
  },
  {
   "cell_type": "code",
   "execution_count": 4,
   "metadata": {},
   "outputs": [
    {
     "data": {
      "text/html": [
       "<?xml version=\"1.0\" encoding=\"utf-8\"?>\n",
       "<svg xmlns=\"http://www.w3.org/2000/svg\" xmlns:xlink=\"http://www.w3.org/1999/xlink\" width=\"600\" height=\"400\" viewBox=\"0 0 600 400\">\n",
       "<defs>\n",
       "  <clipPath id=\"clip00\">\n",
       "    <rect x=\"0\" y=\"0\" width=\"600\" height=\"400\"/>\n",
       "  </clipPath>\n",
       "</defs>\n",
       "<polygon clip-path=\"url(#clip00)\" points=\"\n",
       "0,400 600,400 600,0 0,0 \n",
       "  \" fill=\"#ffffff\" fill-opacity=\"1\"/>\n",
       "<defs>\n",
       "  <clipPath id=\"clip01\">\n",
       "    <rect x=\"120\" y=\"0\" width=\"421\" height=\"400\"/>\n",
       "  </clipPath>\n",
       "</defs>\n",
       "<polygon clip-path=\"url(#clip00)\" points=\"\n",
       "39.3701,376.378 592.126,376.378 592.126,7.87402 39.3701,7.87402 \n",
       "  \" fill=\"#ffffff\" fill-opacity=\"1\"/>\n",
       "<defs>\n",
       "  <clipPath id=\"clip02\">\n",
       "    <rect x=\"39\" y=\"7\" width=\"554\" height=\"370\"/>\n",
       "  </clipPath>\n",
       "</defs>\n",
       "<polyline clip-path=\"url(#clip02)\" style=\"stroke:#000000; stroke-width:0.5; stroke-opacity:0.1; fill:none\" points=\"\n",
       "  64.9023,370.85 64.9023,13.4016 \n",
       "  \"/>\n",
       "<polyline clip-path=\"url(#clip02)\" style=\"stroke:#000000; stroke-width:0.5; stroke-opacity:0.1; fill:none\" points=\"\n",
       "  316.533,370.85 316.533,13.4016 \n",
       "  \"/>\n",
       "<polyline clip-path=\"url(#clip02)\" style=\"stroke:#000000; stroke-width:0.5; stroke-opacity:0.1; fill:none\" points=\"\n",
       "  568.164,370.85 568.164,13.4016 \n",
       "  \"/>\n",
       "<polyline clip-path=\"url(#clip02)\" style=\"stroke:#000000; stroke-width:0.5; stroke-opacity:0.1; fill:none\" points=\"\n",
       "  47.6614,360.403 583.835,360.403 \n",
       "  \"/>\n",
       "<polyline clip-path=\"url(#clip02)\" style=\"stroke:#000000; stroke-width:0.5; stroke-opacity:0.1; fill:none\" points=\"\n",
       "  47.6614,192.649 583.835,192.649 \n",
       "  \"/>\n",
       "<polyline clip-path=\"url(#clip02)\" style=\"stroke:#000000; stroke-width:0.5; stroke-opacity:0.1; fill:none\" points=\"\n",
       "  47.6614,24.8955 583.835,24.8955 \n",
       "  \"/>\n",
       "<polyline clip-path=\"url(#clip00)\" style=\"stroke:#000000; stroke-width:1; stroke-opacity:1; fill:none\" points=\"\n",
       "  39.3701,376.378 592.126,376.378 \n",
       "  \"/>\n",
       "<polyline clip-path=\"url(#clip00)\" style=\"stroke:#000000; stroke-width:1; stroke-opacity:1; fill:none\" points=\"\n",
       "  64.9023,376.378 64.9023,370.85 \n",
       "  \"/>\n",
       "<polyline clip-path=\"url(#clip00)\" style=\"stroke:#000000; stroke-width:1; stroke-opacity:1; fill:none\" points=\"\n",
       "  316.533,376.378 316.533,370.85 \n",
       "  \"/>\n",
       "<polyline clip-path=\"url(#clip00)\" style=\"stroke:#000000; stroke-width:1; stroke-opacity:1; fill:none\" points=\"\n",
       "  568.164,376.378 568.164,370.85 \n",
       "  \"/>\n",
       "<polyline clip-path=\"url(#clip00)\" style=\"stroke:#000000; stroke-width:1; stroke-opacity:1; fill:none\" points=\"\n",
       "  39.3701,376.378 39.3701,7.87402 \n",
       "  \"/>\n",
       "<polyline clip-path=\"url(#clip00)\" style=\"stroke:#000000; stroke-width:1; stroke-opacity:1; fill:none\" points=\"\n",
       "  39.3701,360.403 47.6614,360.403 \n",
       "  \"/>\n",
       "<polyline clip-path=\"url(#clip00)\" style=\"stroke:#000000; stroke-width:1; stroke-opacity:1; fill:none\" points=\"\n",
       "  39.3701,192.649 47.6614,192.649 \n",
       "  \"/>\n",
       "<polyline clip-path=\"url(#clip00)\" style=\"stroke:#000000; stroke-width:1; stroke-opacity:1; fill:none\" points=\"\n",
       "  39.3701,24.8955 47.6614,24.8955 \n",
       "  \"/>\n",
       "<g clip-path=\"url(#clip00)\">\n",
       "<text style=\"fill:#000000; fill-opacity:1; font-family:Arial,Helvetica Neue,Helvetica,sans-serif; font-size:12; text-anchor:middle;\" transform=\"rotate(0, 64.9023, 390.178)\" x=\"64.9023\" y=\"390.178\">-3</text>\n",
       "</g>\n",
       "<g clip-path=\"url(#clip00)\">\n",
       "<text style=\"fill:#000000; fill-opacity:1; font-family:Arial,Helvetica Neue,Helvetica,sans-serif; font-size:12; text-anchor:middle;\" transform=\"rotate(0, 316.533, 390.178)\" x=\"316.533\" y=\"390.178\">-2</text>\n",
       "</g>\n",
       "<g clip-path=\"url(#clip00)\">\n",
       "<text style=\"fill:#000000; fill-opacity:1; font-family:Arial,Helvetica Neue,Helvetica,sans-serif; font-size:12; text-anchor:middle;\" transform=\"rotate(0, 568.164, 390.178)\" x=\"568.164\" y=\"390.178\">-1</text>\n",
       "</g>\n",
       "<g clip-path=\"url(#clip00)\">\n",
       "<text style=\"fill:#000000; fill-opacity:1; font-family:Arial,Helvetica Neue,Helvetica,sans-serif; font-size:12; text-anchor:end;\" transform=\"rotate(0, 33.3701, 364.903)\" x=\"33.3701\" y=\"364.903\">1.0</text>\n",
       "</g>\n",
       "<g clip-path=\"url(#clip00)\">\n",
       "<text style=\"fill:#000000; fill-opacity:1; font-family:Arial,Helvetica Neue,Helvetica,sans-serif; font-size:12; text-anchor:end;\" transform=\"rotate(0, 33.3701, 197.149)\" x=\"33.3701\" y=\"197.149\">1.5</text>\n",
       "</g>\n",
       "<g clip-path=\"url(#clip00)\">\n",
       "<text style=\"fill:#000000; fill-opacity:1; font-family:Arial,Helvetica Neue,Helvetica,sans-serif; font-size:12; text-anchor:end;\" transform=\"rotate(0, 33.3701, 29.3955)\" x=\"33.3701\" y=\"29.3955\">2.0</text>\n",
       "</g>\n",
       "<circle clip-path=\"url(#clip02)\" style=\"fill:#000000; stroke:none; fill-opacity:1\" cx=\"568.164\" cy=\"360.403\" r=\"4\"/>\n",
       "<circle clip-path=\"url(#clip02)\" style=\"fill:#009af9; stroke:none; fill-opacity:1\" cx=\"568.164\" cy=\"360.403\" r=\"3\"/>\n",
       "<circle clip-path=\"url(#clip02)\" style=\"fill:#000000; stroke:none; fill-opacity:1\" cx=\"64.9023\" cy=\"24.8955\" r=\"4\"/>\n",
       "<circle clip-path=\"url(#clip02)\" style=\"fill:#009af9; stroke:none; fill-opacity:1\" cx=\"64.9023\" cy=\"24.8955\" r=\"3\"/>\n",
       "<polyline clip-path=\"url(#clip02)\" style=\"stroke:#e26f46; stroke-width:1; stroke-opacity:1; fill:none\" points=\"\n",
       "  55.0141,18.3034 103.185,50.4172 132.133,69.7162 156.609,86.0333 183.197,103.758 207.708,120.099 233.986,137.618 264.433,157.916 291.49,175.954 315.217,191.772 \n",
       "  341.085,209.017 367.107,226.366 395.878,245.546 423.253,263.796 451.716,282.772 475.677,298.745 504.929,318.247 532.428,336.579 576.482,365.949 \n",
       "  \"/>\n",
       "<polygon clip-path=\"url(#clip00)\" points=\"\n",
       "501.61,74.114 574.126,74.114 574.126,28.754 501.61,28.754 \n",
       "  \" fill=\"#ffffff\" fill-opacity=\"1\"/>\n",
       "<polyline clip-path=\"url(#clip00)\" style=\"stroke:#000000; stroke-width:1; stroke-opacity:1; fill:none\" points=\"\n",
       "  501.61,74.114 574.126,74.114 574.126,28.754 501.61,28.754 501.61,74.114 \n",
       "  \"/>\n",
       "<circle clip-path=\"url(#clip00)\" style=\"fill:#000000; stroke:none; fill-opacity:1\" cx=\"528.61\" cy=\"43.874\" r=\"6\"/>\n",
       "<circle clip-path=\"url(#clip00)\" style=\"fill:#009af9; stroke:none; fill-opacity:1\" cx=\"528.61\" cy=\"43.874\" r=\"5\"/>\n",
       "<g clip-path=\"url(#clip00)\">\n",
       "<text style=\"fill:#000000; fill-opacity:1; font-family:Arial,Helvetica Neue,Helvetica,sans-serif; font-size:12; text-anchor:start;\" transform=\"rotate(0, 549.61, 48.374)\" x=\"549.61\" y=\"48.374\">y1</text>\n",
       "</g>\n",
       "<polyline clip-path=\"url(#clip00)\" style=\"stroke:#e26f46; stroke-width:1; stroke-opacity:1; fill:none\" points=\"\n",
       "  507.61,58.994 543.61,58.994 \n",
       "  \"/>\n",
       "<g clip-path=\"url(#clip00)\">\n",
       "<text style=\"fill:#000000; fill-opacity:1; font-family:Arial,Helvetica Neue,Helvetica,sans-serif; font-size:12; text-anchor:start;\" transform=\"rotate(0, 549.61, 63.494)\" x=\"549.61\" y=\"63.494\">y2</text>\n",
       "</g>\n",
       "</svg>\n"
      ]
     },
     "execution_count": 4,
     "metadata": {},
     "output_type": "execute_result"
    }
   ],
   "source": [
    "scatter(x, y)\n",
    "plot!(s)"
   ]
  },
  {
   "cell_type": "markdown",
   "metadata": {},
   "source": [
    "**[2]** (i) Si tenemos tres puntos $(x_i, y_i)$ con $i=1, 2, 3$, ¿cuál es grado menor del polinomio que necesitaremos en general para interpolar los tres puntos? \n",
    "\n",
    "Lo podemos calcular al generalizar la pregunta [1], de la forma siguiente.\n",
    "\n",
    "(ii) Encuentra el polinomio $\\ell_1$ que satisface $\\ell_1(x_2) = \\ell_1(x_3) = 0$ y $\\ell_1(x_1) = 1$.\n",
    "Por simetría, encuentra $\\ell_2$ y $\\ell_3$ que satisfacen que $\\ell_j(x_i) = 1$ para $i = j$ y $=0$ para $i \\neq j$.\n",
    "\n",
    "(iii) Construye el polinomio $p$ que interpola los tres puntos, usando tu resultado de (ii). Verifica gráficamente que funciona. ¿De qué grado es el polinomio resultante?\n"
   ]
  },
  {
   "cell_type": "markdown",
   "metadata": {
    "collapsed": true
   },
   "source": [
    "[2] i) El polinomio de grado mínimo para interpolar tres puntos será uno de grado 2, gráficamente dados 3 puntos en general no colineales, es imposible encontrar una recta que pase por los tres, esto sí puede hacerse mediante una parábola, es decir, un polinomio de grado 2."
   ]
  },
  {
   "cell_type": "markdown",
   "metadata": {},
   "source": [
    "[2] ii) Se procede igual que en el problema anterior, propongamos\n",
    "$$\n",
    "l_1(x) = \\gamma(x - x_2)(x - x_3)\n",
    "$$\n",
    "Debe cumplir\n",
    "$$\n",
    "l_1(x_1) = 1\\\\\n",
    "\\Rightarrow \\gamma = \\dfrac{1}{(x_1 - x_2)(x_1 - x_3)}\n",
    "$$\n",
    "Por lo que \n",
    "$$\n",
    "l_1(x) = \\dfrac{(x - x_2)(x - x_3)}{(x_1 - x_2)(x_1 - x_3)}\n",
    "$$\n",
    "Análogamente se encuentran\n",
    "$$\n",
    "l_2(x) = \\dfrac{(x - x_1)(x - x_3)}{(x_2 - x_1)(x_2 - x_3)}\n",
    "$$\n",
    "Y \n",
    "$$\n",
    "l_3(x) = \\dfrac{(x - x_1)(x - x_2)}{(x_3 - x_2)(x_3 - x_2)}\n",
    "$$"
   ]
  },
  {
   "cell_type": "markdown",
   "metadata": {},
   "source": [
    "[2] iii)\n",
    "Tras un razonamiento idéntico al del problema [1] iii) se llega a que el polinomio que interpola la tercia de pares $(x_1, y_1), (x_2, y_2), (x_3, y_3)$ es\n",
    "$$\n",
    "L(x) = y_1l_1(x) + y_2l_2(x) + y_3l_3(x)\n",
    "$$"
   ]
  },
  {
   "cell_type": "code",
   "execution_count": 5,
   "metadata": {},
   "outputs": [
    {
     "data": {
      "text/plain": [
       "interpola2 (generic function with 1 method)"
      ]
     },
     "execution_count": 5,
     "metadata": {},
     "output_type": "execute_result"
    }
   ],
   "source": [
    "# [2] (iii)\n",
    "function interpola2(X, Y)\n",
    "    x1, x2, x3 = X\n",
    "    y1, y2, y3 = Y\n",
    "    α1 = 1 / ((x1 - x2) * (x1 - x3))\n",
    "    α2 = 1 / ((x2 - x1) * (x2 - x3))\n",
    "    α3 = 1 / ((x3 - x1) * (x3 - x2))\n",
    "    l1(x) = α1 * (x - x2) * (x - x3)\n",
    "    l2(x) = α2 * (x - x1) * (x - x3)\n",
    "    l3(x) = α3 * (x - x1) * (x - x2)\n",
    "    L(x) = y1*l1(x) + y2*l2(x) + y3*l3(x)\n",
    "    return L\n",
    "end"
   ]
  },
  {
   "cell_type": "code",
   "execution_count": 6,
   "metadata": {},
   "outputs": [
    {
     "data": {
      "text/plain": [
       "(::L) (generic function with 1 method)"
      ]
     },
     "execution_count": 6,
     "metadata": {},
     "output_type": "execute_result"
    }
   ],
   "source": [
    "x = [j for j in 1:20]\n",
    "y = x .^2\n",
    "s = interpola2(x, y)"
   ]
  },
  {
   "cell_type": "code",
   "execution_count": 7,
   "metadata": {},
   "outputs": [
    {
     "data": {
      "text/html": [
       "<?xml version=\"1.0\" encoding=\"utf-8\"?>\n",
       "<svg xmlns=\"http://www.w3.org/2000/svg\" xmlns:xlink=\"http://www.w3.org/1999/xlink\" width=\"600\" height=\"400\" viewBox=\"0 0 600 400\">\n",
       "<defs>\n",
       "  <clipPath id=\"clip00\">\n",
       "    <rect x=\"0\" y=\"0\" width=\"600\" height=\"400\"/>\n",
       "  </clipPath>\n",
       "</defs>\n",
       "<polygon clip-path=\"url(#clip00)\" points=\"\n",
       "0,400 600,400 600,0 0,0 \n",
       "  \" fill=\"#ffffff\" fill-opacity=\"1\"/>\n",
       "<defs>\n",
       "  <clipPath id=\"clip01\">\n",
       "    <rect x=\"120\" y=\"0\" width=\"421\" height=\"400\"/>\n",
       "  </clipPath>\n",
       "</defs>\n",
       "<polygon clip-path=\"url(#clip00)\" points=\"\n",
       "39.3701,376.378 592.126,376.378 592.126,7.87402 39.3701,7.87402 \n",
       "  \" fill=\"#ffffff\" fill-opacity=\"1\"/>\n",
       "<defs>\n",
       "  <clipPath id=\"clip02\">\n",
       "    <rect x=\"39\" y=\"7\" width=\"554\" height=\"370\"/>\n",
       "  </clipPath>\n",
       "</defs>\n",
       "<polyline clip-path=\"url(#clip02)\" style=\"stroke:#000000; stroke-width:0.5; stroke-opacity:0.1; fill:none\" points=\"\n",
       "  170.852,370.85 170.852,13.4016 \n",
       "  \"/>\n",
       "<polyline clip-path=\"url(#clip02)\" style=\"stroke:#000000; stroke-width:0.5; stroke-opacity:0.1; fill:none\" points=\"\n",
       "  303.289,370.85 303.289,13.4016 \n",
       "  \"/>\n",
       "<polyline clip-path=\"url(#clip02)\" style=\"stroke:#000000; stroke-width:0.5; stroke-opacity:0.1; fill:none\" points=\"\n",
       "  435.727,370.85 435.727,13.4016 \n",
       "  \"/>\n",
       "<polyline clip-path=\"url(#clip02)\" style=\"stroke:#000000; stroke-width:0.5; stroke-opacity:0.1; fill:none\" points=\"\n",
       "  568.164,370.85 568.164,13.4016 \n",
       "  \"/>\n",
       "<polyline clip-path=\"url(#clip02)\" style=\"stroke:#000000; stroke-width:0.5; stroke-opacity:0.1; fill:none\" points=\"\n",
       "  47.6614,366.28 583.835,366.28 \n",
       "  \"/>\n",
       "<polyline clip-path=\"url(#clip02)\" style=\"stroke:#000000; stroke-width:0.5; stroke-opacity:0.1; fill:none\" points=\"\n",
       "  47.6614,281.955 583.835,281.955 \n",
       "  \"/>\n",
       "<polyline clip-path=\"url(#clip02)\" style=\"stroke:#000000; stroke-width:0.5; stroke-opacity:0.1; fill:none\" points=\"\n",
       "  47.6614,197.629 583.835,197.629 \n",
       "  \"/>\n",
       "<polyline clip-path=\"url(#clip02)\" style=\"stroke:#000000; stroke-width:0.5; stroke-opacity:0.1; fill:none\" points=\"\n",
       "  47.6614,113.304 583.835,113.304 \n",
       "  \"/>\n",
       "<polyline clip-path=\"url(#clip02)\" style=\"stroke:#000000; stroke-width:0.5; stroke-opacity:0.1; fill:none\" points=\"\n",
       "  47.6614,28.9791 583.835,28.9791 \n",
       "  \"/>\n",
       "<polyline clip-path=\"url(#clip00)\" style=\"stroke:#000000; stroke-width:1; stroke-opacity:1; fill:none\" points=\"\n",
       "  39.3701,376.378 592.126,376.378 \n",
       "  \"/>\n",
       "<polyline clip-path=\"url(#clip00)\" style=\"stroke:#000000; stroke-width:1; stroke-opacity:1; fill:none\" points=\"\n",
       "  170.852,376.378 170.852,370.85 \n",
       "  \"/>\n",
       "<polyline clip-path=\"url(#clip00)\" style=\"stroke:#000000; stroke-width:1; stroke-opacity:1; fill:none\" points=\"\n",
       "  303.289,376.378 303.289,370.85 \n",
       "  \"/>\n",
       "<polyline clip-path=\"url(#clip00)\" style=\"stroke:#000000; stroke-width:1; stroke-opacity:1; fill:none\" points=\"\n",
       "  435.727,376.378 435.727,370.85 \n",
       "  \"/>\n",
       "<polyline clip-path=\"url(#clip00)\" style=\"stroke:#000000; stroke-width:1; stroke-opacity:1; fill:none\" points=\"\n",
       "  568.164,376.378 568.164,370.85 \n",
       "  \"/>\n",
       "<polyline clip-path=\"url(#clip00)\" style=\"stroke:#000000; stroke-width:1; stroke-opacity:1; fill:none\" points=\"\n",
       "  39.3701,376.378 39.3701,7.87402 \n",
       "  \"/>\n",
       "<polyline clip-path=\"url(#clip00)\" style=\"stroke:#000000; stroke-width:1; stroke-opacity:1; fill:none\" points=\"\n",
       "  39.3701,366.28 47.6614,366.28 \n",
       "  \"/>\n",
       "<polyline clip-path=\"url(#clip00)\" style=\"stroke:#000000; stroke-width:1; stroke-opacity:1; fill:none\" points=\"\n",
       "  39.3701,281.955 47.6614,281.955 \n",
       "  \"/>\n",
       "<polyline clip-path=\"url(#clip00)\" style=\"stroke:#000000; stroke-width:1; stroke-opacity:1; fill:none\" points=\"\n",
       "  39.3701,197.629 47.6614,197.629 \n",
       "  \"/>\n",
       "<polyline clip-path=\"url(#clip00)\" style=\"stroke:#000000; stroke-width:1; stroke-opacity:1; fill:none\" points=\"\n",
       "  39.3701,113.304 47.6614,113.304 \n",
       "  \"/>\n",
       "<polyline clip-path=\"url(#clip00)\" style=\"stroke:#000000; stroke-width:1; stroke-opacity:1; fill:none\" points=\"\n",
       "  39.3701,28.9791 47.6614,28.9791 \n",
       "  \"/>\n",
       "<g clip-path=\"url(#clip00)\">\n",
       "<text style=\"fill:#000000; fill-opacity:1; font-family:Arial,Helvetica Neue,Helvetica,sans-serif; font-size:12; text-anchor:middle;\" transform=\"rotate(0, 170.852, 390.178)\" x=\"170.852\" y=\"390.178\">5</text>\n",
       "</g>\n",
       "<g clip-path=\"url(#clip00)\">\n",
       "<text style=\"fill:#000000; fill-opacity:1; font-family:Arial,Helvetica Neue,Helvetica,sans-serif; font-size:12; text-anchor:middle;\" transform=\"rotate(0, 303.289, 390.178)\" x=\"303.289\" y=\"390.178\">10</text>\n",
       "</g>\n",
       "<g clip-path=\"url(#clip00)\">\n",
       "<text style=\"fill:#000000; fill-opacity:1; font-family:Arial,Helvetica Neue,Helvetica,sans-serif; font-size:12; text-anchor:middle;\" transform=\"rotate(0, 435.727, 390.178)\" x=\"435.727\" y=\"390.178\">15</text>\n",
       "</g>\n",
       "<g clip-path=\"url(#clip00)\">\n",
       "<text style=\"fill:#000000; fill-opacity:1; font-family:Arial,Helvetica Neue,Helvetica,sans-serif; font-size:12; text-anchor:middle;\" transform=\"rotate(0, 568.164, 390.178)\" x=\"568.164\" y=\"390.178\">20</text>\n",
       "</g>\n",
       "<g clip-path=\"url(#clip00)\">\n",
       "<text style=\"fill:#000000; fill-opacity:1; font-family:Arial,Helvetica Neue,Helvetica,sans-serif; font-size:12; text-anchor:end;\" transform=\"rotate(0, 33.3701, 370.78)\" x=\"33.3701\" y=\"370.78\">0</text>\n",
       "</g>\n",
       "<g clip-path=\"url(#clip00)\">\n",
       "<text style=\"fill:#000000; fill-opacity:1; font-family:Arial,Helvetica Neue,Helvetica,sans-serif; font-size:12; text-anchor:end;\" transform=\"rotate(0, 33.3701, 286.455)\" x=\"33.3701\" y=\"286.455\">100</text>\n",
       "</g>\n",
       "<g clip-path=\"url(#clip00)\">\n",
       "<text style=\"fill:#000000; fill-opacity:1; font-family:Arial,Helvetica Neue,Helvetica,sans-serif; font-size:12; text-anchor:end;\" transform=\"rotate(0, 33.3701, 202.129)\" x=\"33.3701\" y=\"202.129\">200</text>\n",
       "</g>\n",
       "<g clip-path=\"url(#clip00)\">\n",
       "<text style=\"fill:#000000; fill-opacity:1; font-family:Arial,Helvetica Neue,Helvetica,sans-serif; font-size:12; text-anchor:end;\" transform=\"rotate(0, 33.3701, 117.804)\" x=\"33.3701\" y=\"117.804\">300</text>\n",
       "</g>\n",
       "<g clip-path=\"url(#clip00)\">\n",
       "<text style=\"fill:#000000; fill-opacity:1; font-family:Arial,Helvetica Neue,Helvetica,sans-serif; font-size:12; text-anchor:end;\" transform=\"rotate(0, 33.3701, 33.4791)\" x=\"33.3701\" y=\"33.4791\">400</text>\n",
       "</g>\n",
       "<circle clip-path=\"url(#clip02)\" style=\"fill:#000000; stroke:none; fill-opacity:1\" cx=\"64.9023\" cy=\"365.437\" r=\"4\"/>\n",
       "<circle clip-path=\"url(#clip02)\" style=\"fill:#009af9; stroke:none; fill-opacity:1\" cx=\"64.9023\" cy=\"365.437\" r=\"3\"/>\n",
       "<circle clip-path=\"url(#clip02)\" style=\"fill:#000000; stroke:none; fill-opacity:1\" cx=\"91.3898\" cy=\"362.907\" r=\"4\"/>\n",
       "<circle clip-path=\"url(#clip02)\" style=\"fill:#009af9; stroke:none; fill-opacity:1\" cx=\"91.3898\" cy=\"362.907\" r=\"3\"/>\n",
       "<circle clip-path=\"url(#clip02)\" style=\"fill:#000000; stroke:none; fill-opacity:1\" cx=\"117.877\" cy=\"358.691\" r=\"4\"/>\n",
       "<circle clip-path=\"url(#clip02)\" style=\"fill:#009af9; stroke:none; fill-opacity:1\" cx=\"117.877\" cy=\"358.691\" r=\"3\"/>\n",
       "<circle clip-path=\"url(#clip02)\" style=\"fill:#000000; stroke:none; fill-opacity:1\" cx=\"144.365\" cy=\"352.788\" r=\"4\"/>\n",
       "<circle clip-path=\"url(#clip02)\" style=\"fill:#009af9; stroke:none; fill-opacity:1\" cx=\"144.365\" cy=\"352.788\" r=\"3\"/>\n",
       "<circle clip-path=\"url(#clip02)\" style=\"fill:#000000; stroke:none; fill-opacity:1\" cx=\"170.852\" cy=\"345.198\" r=\"4\"/>\n",
       "<circle clip-path=\"url(#clip02)\" style=\"fill:#009af9; stroke:none; fill-opacity:1\" cx=\"170.852\" cy=\"345.198\" r=\"3\"/>\n",
       "<circle clip-path=\"url(#clip02)\" style=\"fill:#000000; stroke:none; fill-opacity:1\" cx=\"197.34\" cy=\"335.923\" r=\"4\"/>\n",
       "<circle clip-path=\"url(#clip02)\" style=\"fill:#009af9; stroke:none; fill-opacity:1\" cx=\"197.34\" cy=\"335.923\" r=\"3\"/>\n",
       "<circle clip-path=\"url(#clip02)\" style=\"fill:#000000; stroke:none; fill-opacity:1\" cx=\"223.827\" cy=\"324.96\" r=\"4\"/>\n",
       "<circle clip-path=\"url(#clip02)\" style=\"fill:#009af9; stroke:none; fill-opacity:1\" cx=\"223.827\" cy=\"324.96\" r=\"3\"/>\n",
       "<circle clip-path=\"url(#clip02)\" style=\"fill:#000000; stroke:none; fill-opacity:1\" cx=\"250.314\" cy=\"312.312\" r=\"4\"/>\n",
       "<circle clip-path=\"url(#clip02)\" style=\"fill:#009af9; stroke:none; fill-opacity:1\" cx=\"250.314\" cy=\"312.312\" r=\"3\"/>\n",
       "<circle clip-path=\"url(#clip02)\" style=\"fill:#000000; stroke:none; fill-opacity:1\" cx=\"276.802\" cy=\"297.976\" r=\"4\"/>\n",
       "<circle clip-path=\"url(#clip02)\" style=\"fill:#009af9; stroke:none; fill-opacity:1\" cx=\"276.802\" cy=\"297.976\" r=\"3\"/>\n",
       "<circle clip-path=\"url(#clip02)\" style=\"fill:#000000; stroke:none; fill-opacity:1\" cx=\"303.289\" cy=\"281.955\" r=\"4\"/>\n",
       "<circle clip-path=\"url(#clip02)\" style=\"fill:#009af9; stroke:none; fill-opacity:1\" cx=\"303.289\" cy=\"281.955\" r=\"3\"/>\n",
       "<circle clip-path=\"url(#clip02)\" style=\"fill:#000000; stroke:none; fill-opacity:1\" cx=\"329.777\" cy=\"264.246\" r=\"4\"/>\n",
       "<circle clip-path=\"url(#clip02)\" style=\"fill:#009af9; stroke:none; fill-opacity:1\" cx=\"329.777\" cy=\"264.246\" r=\"3\"/>\n",
       "<circle clip-path=\"url(#clip02)\" style=\"fill:#000000; stroke:none; fill-opacity:1\" cx=\"356.264\" cy=\"244.852\" r=\"4\"/>\n",
       "<circle clip-path=\"url(#clip02)\" style=\"fill:#009af9; stroke:none; fill-opacity:1\" cx=\"356.264\" cy=\"244.852\" r=\"3\"/>\n",
       "<circle clip-path=\"url(#clip02)\" style=\"fill:#000000; stroke:none; fill-opacity:1\" cx=\"382.752\" cy=\"223.77\" r=\"4\"/>\n",
       "<circle clip-path=\"url(#clip02)\" style=\"fill:#009af9; stroke:none; fill-opacity:1\" cx=\"382.752\" cy=\"223.77\" r=\"3\"/>\n",
       "<circle clip-path=\"url(#clip02)\" style=\"fill:#000000; stroke:none; fill-opacity:1\" cx=\"409.239\" cy=\"201.002\" r=\"4\"/>\n",
       "<circle clip-path=\"url(#clip02)\" style=\"fill:#009af9; stroke:none; fill-opacity:1\" cx=\"409.239\" cy=\"201.002\" r=\"3\"/>\n",
       "<circle clip-path=\"url(#clip02)\" style=\"fill:#000000; stroke:none; fill-opacity:1\" cx=\"435.727\" cy=\"176.548\" r=\"4\"/>\n",
       "<circle clip-path=\"url(#clip02)\" style=\"fill:#009af9; stroke:none; fill-opacity:1\" cx=\"435.727\" cy=\"176.548\" r=\"3\"/>\n",
       "<circle clip-path=\"url(#clip02)\" style=\"fill:#000000; stroke:none; fill-opacity:1\" cx=\"462.214\" cy=\"150.407\" r=\"4\"/>\n",
       "<circle clip-path=\"url(#clip02)\" style=\"fill:#009af9; stroke:none; fill-opacity:1\" cx=\"462.214\" cy=\"150.407\" r=\"3\"/>\n",
       "<circle clip-path=\"url(#clip02)\" style=\"fill:#000000; stroke:none; fill-opacity:1\" cx=\"488.702\" cy=\"122.58\" r=\"4\"/>\n",
       "<circle clip-path=\"url(#clip02)\" style=\"fill:#009af9; stroke:none; fill-opacity:1\" cx=\"488.702\" cy=\"122.58\" r=\"3\"/>\n",
       "<circle clip-path=\"url(#clip02)\" style=\"fill:#000000; stroke:none; fill-opacity:1\" cx=\"515.189\" cy=\"93.0662\" r=\"4\"/>\n",
       "<circle clip-path=\"url(#clip02)\" style=\"fill:#009af9; stroke:none; fill-opacity:1\" cx=\"515.189\" cy=\"93.0662\" r=\"3\"/>\n",
       "<circle clip-path=\"url(#clip02)\" style=\"fill:#000000; stroke:none; fill-opacity:1\" cx=\"541.676\" cy=\"61.8659\" r=\"4\"/>\n",
       "<circle clip-path=\"url(#clip02)\" style=\"fill:#009af9; stroke:none; fill-opacity:1\" cx=\"541.676\" cy=\"61.8659\" r=\"3\"/>\n",
       "<circle clip-path=\"url(#clip02)\" style=\"fill:#000000; stroke:none; fill-opacity:1\" cx=\"568.164\" cy=\"28.9791\" r=\"4\"/>\n",
       "<circle clip-path=\"url(#clip02)\" style=\"fill:#009af9; stroke:none; fill-opacity:1\" cx=\"568.164\" cy=\"28.9791\" r=\"3\"/>\n",
       "<polyline clip-path=\"url(#clip02)\" style=\"stroke:#e26f46; stroke-width:1; stroke-opacity:1; fill:none\" points=\"\n",
       "  55.0141,365.949 103.185,361.238 132.133,355.723 156.609,349.489 183.197,341.085 207.708,331.833 233.986,320.308 264.433,304.881 291.49,289.3 315.217,274.189 \n",
       "  341.085,256.172 367.107,236.425 395.878,212.698 423.253,188.274 451.716,160.969 475.677,136.475 504.929,104.698 532.428,72.9521 576.482,18.3034 \n",
       "  \"/>\n",
       "<polygon clip-path=\"url(#clip00)\" points=\"\n",
       "501.61,74.114 574.126,74.114 574.126,28.754 501.61,28.754 \n",
       "  \" fill=\"#ffffff\" fill-opacity=\"1\"/>\n",
       "<polyline clip-path=\"url(#clip00)\" style=\"stroke:#000000; stroke-width:1; stroke-opacity:1; fill:none\" points=\"\n",
       "  501.61,74.114 574.126,74.114 574.126,28.754 501.61,28.754 501.61,74.114 \n",
       "  \"/>\n",
       "<circle clip-path=\"url(#clip00)\" style=\"fill:#000000; stroke:none; fill-opacity:1\" cx=\"528.61\" cy=\"43.874\" r=\"6\"/>\n",
       "<circle clip-path=\"url(#clip00)\" style=\"fill:#009af9; stroke:none; fill-opacity:1\" cx=\"528.61\" cy=\"43.874\" r=\"5\"/>\n",
       "<g clip-path=\"url(#clip00)\">\n",
       "<text style=\"fill:#000000; fill-opacity:1; font-family:Arial,Helvetica Neue,Helvetica,sans-serif; font-size:12; text-anchor:start;\" transform=\"rotate(0, 549.61, 48.374)\" x=\"549.61\" y=\"48.374\">y1</text>\n",
       "</g>\n",
       "<polyline clip-path=\"url(#clip00)\" style=\"stroke:#e26f46; stroke-width:1; stroke-opacity:1; fill:none\" points=\"\n",
       "  507.61,58.994 543.61,58.994 \n",
       "  \"/>\n",
       "<g clip-path=\"url(#clip00)\">\n",
       "<text style=\"fill:#000000; fill-opacity:1; font-family:Arial,Helvetica Neue,Helvetica,sans-serif; font-size:12; text-anchor:start;\" transform=\"rotate(0, 549.61, 63.494)\" x=\"549.61\" y=\"63.494\">y2</text>\n",
       "</g>\n",
       "</svg>\n"
      ]
     },
     "execution_count": 7,
     "metadata": {},
     "output_type": "execute_result"
    }
   ],
   "source": [
    "scatter(x, y)\n",
    "plot!(s)"
   ]
  },
  {
   "cell_type": "markdown",
   "metadata": {},
   "source": [
    "**[3]** Ahora generalicemos esto a $N$ puntos:\n",
    "\n",
    "(i) Encuentra un polinomio $\\ell_1(x)$ sencillo, tal que $\\ell_1(x)$ sea igual a $0$ para $x=x_2$, $x=x_3$, ..., y para $x=x_N$. Ahora normalízalo para que $\\ell_1(x_1) = 1$. ¿De qué orden es el polinomio $\\ell_1$?\n",
    "\n",
    "(ii) De manera similar, encuentra $\\ell_i(x)$ que sea igual a $1$ en $x_i$, y que se anule en $x_j$ para $j \\neq i$.\n",
    "\n",
    "(iii) Dibuja algunas $\\ell_i$ para $N$ chiquitas. ¡Asegúrate de que sí se comporten correctamente!\n",
    "\n",
    "(iv) Utiliza las $\\ell_i$ para interpolar los datos $(x_i, y_i)_{i=1}^N$ con un polinomio $p$. ¿De qué orden es el polinomio resultante? Nota que $p$ es *único* en el conjunto de polinomios con grado $\\le$ el grado de $p$."
   ]
  },
  {
   "cell_type": "markdown",
   "metadata": {
    "collapsed": true
   },
   "source": [
    "[3] i) En general la función $l_i(x)$ si se define como en los ejemplos anteriores será un polinomio de grado $n -1$. \n",
    "\n",
    "La función que generaliza el procedimiento seguido anteriormente es\n",
    "$$\n",
    "l_i(x) = \\gamma _i\\prod _{\\substack{j=1\\\\ j\\neq i}} ^n (x - x_j)\n",
    "$$"
   ]
  },
  {
   "cell_type": "markdown",
   "metadata": {},
   "source": [
    "Si se quiere que $l_i(x)$ esté normalizado, entonces\n",
    "$$\n",
    "l_i(x_i) = \\gamma_i\\prod _{\\substack{j=1\\\\ j\\neq i}} ^n (x_i - x_j) = 1\\\\\n",
    "\\Rightarrow \\gamma_i = \\dfrac{1}{\\prod _{\\substack{j=1\\\\ j\\neq i}} ^n (x_i - x_j)}\n",
    "$$"
   ]
  },
  {
   "cell_type": "markdown",
   "metadata": {},
   "source": [
    "**[4]** (i) Escribe una función `interpolar` que acepta un vector de $N$ pares $(x_i, y_i)$, y regresa una función que las interpole. [Pista: Puedes ¡definir una función adentro de la función `interpolar`!, y luego ¡regresar esta función de la función `interpolar`!]\n",
    "\n",
    "(ii) Toma funciones polinomiales $f$ de orden $n$ con distintos valores de $n$, y genera $n+1$ datos al muestrear la función en puntos $x_i$ espaciados de forma uniforme. [Es decir, calcula los pares $(x_i, f(x_i))$.] Dibuja la función original y la función interpolada.\n",
    "\n",
    "(iii) Ahora toma funciones que *no sean* polinomiales, y haz lo mismo. ¿Qué observas?"
   ]
  },
  {
   "cell_type": "code",
   "execution_count": 2,
   "metadata": {},
   "outputs": [
    {
     "data": {
      "text/plain": [
       "lp (generic function with 1 method)"
      ]
     },
     "execution_count": 2,
     "metadata": {},
     "output_type": "execute_result"
    }
   ],
   "source": [
    "# [4] i)\n",
    "function lp(x0, p, X)\n",
    "    α = 1.\n",
    "    l = 1.\n",
    "    for i in 1:length(X)\n",
    "        if i == p\n",
    "            continue\n",
    "        end\n",
    "        α *= X[p] - X[i]\n",
    "        l *= x0 - X[i]\n",
    "    end\n",
    "    return l / α\n",
    "end"
   ]
  },
  {
   "cell_type": "code",
   "execution_count": 3,
   "metadata": {},
   "outputs": [
    {
     "data": {
      "text/plain": [
       "interpola3 (generic function with 1 method)"
      ]
     },
     "execution_count": 3,
     "metadata": {},
     "output_type": "execute_result"
    },
    {
     "name": "stderr",
     "output_type": "stream",
     "text": [
      "WARNING: both Interact and Base export \"select\"; uses of it in module Main must be qualified\n"
     ]
    }
   ],
   "source": [
    "# [4] i)\n",
    "function interpola3(X)\n",
    "    x = [x for (x, _) in X]\n",
    "    y = [y for (_, y) in X]\n",
    "    function L(s)\n",
    "        lps = [lp(s, i, x) for i in 1:length(y)]\n",
    "        return dot(lps, y)\n",
    "    end\n",
    "    return L\n",
    "end"
   ]
  },
  {
   "cell_type": "code",
   "execution_count": 30,
   "metadata": {},
   "outputs": [
    {
     "data": {
      "text/html": [
       "<?xml version=\"1.0\" encoding=\"utf-8\"?>\n",
       "<svg xmlns=\"http://www.w3.org/2000/svg\" xmlns:xlink=\"http://www.w3.org/1999/xlink\" width=\"600\" height=\"400\" viewBox=\"0 0 600 400\">\n",
       "<defs>\n",
       "  <clipPath id=\"clip00\">\n",
       "    <rect x=\"0\" y=\"0\" width=\"600\" height=\"400\"/>\n",
       "  </clipPath>\n",
       "</defs>\n",
       "<polygon clip-path=\"url(#clip00)\" points=\"\n",
       "0,400 600,400 600,0 0,0 \n",
       "  \" fill=\"#ffffff\" fill-opacity=\"1\"/>\n",
       "<defs>\n",
       "  <clipPath id=\"clip01\">\n",
       "    <rect x=\"120\" y=\"0\" width=\"421\" height=\"400\"/>\n",
       "  </clipPath>\n",
       "</defs>\n",
       "<polygon clip-path=\"url(#clip00)\" points=\"\n",
       "39.3701,376.378 592.126,376.378 592.126,7.87402 39.3701,7.87402 \n",
       "  \" fill=\"#ffffff\" fill-opacity=\"1\"/>\n",
       "<defs>\n",
       "  <clipPath id=\"clip02\">\n",
       "    <rect x=\"39\" y=\"7\" width=\"554\" height=\"370\"/>\n",
       "  </clipPath>\n",
       "</defs>\n",
       "<polyline clip-path=\"url(#clip02)\" style=\"stroke:#000000; stroke-width:0.5; stroke-opacity:0.1; fill:none\" points=\"\n",
       "  176.4,370.85 176.4,13.4016 \n",
       "  \"/>\n",
       "<polyline clip-path=\"url(#clip02)\" style=\"stroke:#000000; stroke-width:0.5; stroke-opacity:0.1; fill:none\" points=\"\n",
       "  316.159,370.85 316.159,13.4016 \n",
       "  \"/>\n",
       "<polyline clip-path=\"url(#clip02)\" style=\"stroke:#000000; stroke-width:0.5; stroke-opacity:0.1; fill:none\" points=\"\n",
       "  455.919,370.85 455.919,13.4016 \n",
       "  \"/>\n",
       "<polyline clip-path=\"url(#clip02)\" style=\"stroke:#000000; stroke-width:0.5; stroke-opacity:0.1; fill:none\" points=\"\n",
       "  47.6614,301.224 583.835,301.224 \n",
       "  \"/>\n",
       "<polyline clip-path=\"url(#clip02)\" style=\"stroke:#000000; stroke-width:0.5; stroke-opacity:0.1; fill:none\" points=\"\n",
       "  47.6614,226.06 583.835,226.06 \n",
       "  \"/>\n",
       "<polyline clip-path=\"url(#clip02)\" style=\"stroke:#000000; stroke-width:0.5; stroke-opacity:0.1; fill:none\" points=\"\n",
       "  47.6614,150.897 583.835,150.897 \n",
       "  \"/>\n",
       "<polyline clip-path=\"url(#clip02)\" style=\"stroke:#000000; stroke-width:0.5; stroke-opacity:0.1; fill:none\" points=\"\n",
       "  47.6614,75.733 583.835,75.733 \n",
       "  \"/>\n",
       "<polyline clip-path=\"url(#clip00)\" style=\"stroke:#000000; stroke-width:1; stroke-opacity:1; fill:none\" points=\"\n",
       "  39.3701,376.378 592.126,376.378 \n",
       "  \"/>\n",
       "<polyline clip-path=\"url(#clip00)\" style=\"stroke:#000000; stroke-width:1; stroke-opacity:1; fill:none\" points=\"\n",
       "  176.4,376.378 176.4,370.85 \n",
       "  \"/>\n",
       "<polyline clip-path=\"url(#clip00)\" style=\"stroke:#000000; stroke-width:1; stroke-opacity:1; fill:none\" points=\"\n",
       "  316.159,376.378 316.159,370.85 \n",
       "  \"/>\n",
       "<polyline clip-path=\"url(#clip00)\" style=\"stroke:#000000; stroke-width:1; stroke-opacity:1; fill:none\" points=\"\n",
       "  455.919,376.378 455.919,370.85 \n",
       "  \"/>\n",
       "<polyline clip-path=\"url(#clip00)\" style=\"stroke:#000000; stroke-width:1; stroke-opacity:1; fill:none\" points=\"\n",
       "  39.3701,376.378 39.3701,7.87402 \n",
       "  \"/>\n",
       "<polyline clip-path=\"url(#clip00)\" style=\"stroke:#000000; stroke-width:1; stroke-opacity:1; fill:none\" points=\"\n",
       "  39.3701,301.224 47.6614,301.224 \n",
       "  \"/>\n",
       "<polyline clip-path=\"url(#clip00)\" style=\"stroke:#000000; stroke-width:1; stroke-opacity:1; fill:none\" points=\"\n",
       "  39.3701,226.06 47.6614,226.06 \n",
       "  \"/>\n",
       "<polyline clip-path=\"url(#clip00)\" style=\"stroke:#000000; stroke-width:1; stroke-opacity:1; fill:none\" points=\"\n",
       "  39.3701,150.897 47.6614,150.897 \n",
       "  \"/>\n",
       "<polyline clip-path=\"url(#clip00)\" style=\"stroke:#000000; stroke-width:1; stroke-opacity:1; fill:none\" points=\"\n",
       "  39.3701,75.733 47.6614,75.733 \n",
       "  \"/>\n",
       "<g clip-path=\"url(#clip00)\">\n",
       "<text style=\"fill:#000000; fill-opacity:1; font-family:Arial,Helvetica Neue,Helvetica,sans-serif; font-size:12; text-anchor:middle;\" transform=\"rotate(0, 176.4, 390.178)\" x=\"176.4\" y=\"390.178\">-2.5</text>\n",
       "</g>\n",
       "<g clip-path=\"url(#clip00)\">\n",
       "<text style=\"fill:#000000; fill-opacity:1; font-family:Arial,Helvetica Neue,Helvetica,sans-serif; font-size:12; text-anchor:middle;\" transform=\"rotate(0, 316.159, 390.178)\" x=\"316.159\" y=\"390.178\">0.0</text>\n",
       "</g>\n",
       "<g clip-path=\"url(#clip00)\">\n",
       "<text style=\"fill:#000000; fill-opacity:1; font-family:Arial,Helvetica Neue,Helvetica,sans-serif; font-size:12; text-anchor:middle;\" transform=\"rotate(0, 455.919, 390.178)\" x=\"455.919\" y=\"390.178\">2.5</text>\n",
       "</g>\n",
       "<g clip-path=\"url(#clip00)\">\n",
       "<text style=\"fill:#000000; fill-opacity:1; font-family:Arial,Helvetica Neue,Helvetica,sans-serif; font-size:12; text-anchor:end;\" transform=\"rotate(0, 33.3701, 305.724)\" x=\"33.3701\" y=\"305.724\">5</text>\n",
       "</g>\n",
       "<g clip-path=\"url(#clip00)\">\n",
       "<text style=\"fill:#000000; fill-opacity:1; font-family:Arial,Helvetica Neue,Helvetica,sans-serif; font-size:12; text-anchor:end;\" transform=\"rotate(0, 33.3701, 230.56)\" x=\"33.3701\" y=\"230.56\">10</text>\n",
       "</g>\n",
       "<g clip-path=\"url(#clip00)\">\n",
       "<text style=\"fill:#000000; fill-opacity:1; font-family:Arial,Helvetica Neue,Helvetica,sans-serif; font-size:12; text-anchor:end;\" transform=\"rotate(0, 33.3701, 155.397)\" x=\"33.3701\" y=\"155.397\">15</text>\n",
       "</g>\n",
       "<g clip-path=\"url(#clip00)\">\n",
       "<text style=\"fill:#000000; fill-opacity:1; font-family:Arial,Helvetica Neue,Helvetica,sans-serif; font-size:12; text-anchor:end;\" transform=\"rotate(0, 33.3701, 80.233)\" x=\"33.3701\" y=\"80.233\">20</text>\n",
       "</g>\n",
       "<polyline clip-path=\"url(#clip02)\" style=\"stroke:#009af9; stroke-width:1; stroke-opacity:1; fill:none\" points=\"\n",
       "  39.3701,7.87402 42.0998,15.1068 67.3401,78.5888 92.5804,135.942 107.749,167.46 122.917,196.766 135.742,219.816 148.567,241.284 162.498,262.811 176.429,282.472 \n",
       "  189.272,298.943 202.116,313.827 215.885,328.022 229.654,340.393 245.608,352.445 261.561,362.048 275.738,368.528 289.915,373.074 302.348,375.47 314.78,376.378 \n",
       "  328.334,375.674 341.889,373.203 355.524,368.934 369.159,362.876 384.234,354.096 399.309,343.13 413.653,330.667 427.997,316.224 442.911,299.108 457.825,279.852 \n",
       "  470.38,261.984 482.934,242.6 498.262,216.878 513.59,188.896 527.998,160.531 542.407,130.169 565.49,77.3633 588.574,19.432 592.126,10.0615 \n",
       "  \"/>\n",
       "<polyline clip-path=\"url(#clip02)\" style=\"stroke:#e26f46; stroke-width:1; stroke-opacity:1; fill:none\" points=\"\n",
       "  42.0691,15.0259 44.7682,22.1078 69.7249,84.2697 94.6816,140.44 109.679,171.313 124.677,200.023 137.358,222.608 150.039,243.647 163.813,264.748 177.588,284.023 \n",
       "  190.287,300.176 202.986,314.778 216.6,328.709 230.215,340.858 245.989,352.703 261.763,362.154 275.781,368.545 289.799,373.045 302.091,375.435 314.384,376.372 \n",
       "  327.786,375.737 341.188,373.374 354.67,369.253 368.152,363.384 383.058,354.86 397.964,344.198 412.146,332.069 426.329,318.006 441.075,301.33 455.822,282.563 \n",
       "  468.235,265.143 480.649,246.241 495.804,221.154 510.96,193.857 525.206,166.183 539.453,136.556 562.277,85.0209 585.101,28.4746 588.613,19.3274 \n",
       "  \"/>\n",
       "<polygon clip-path=\"url(#clip00)\" points=\"\n",
       "501.61,74.114 574.126,74.114 574.126,28.754 501.61,28.754 \n",
       "  \" fill=\"#ffffff\" fill-opacity=\"1\"/>\n",
       "<polyline clip-path=\"url(#clip00)\" style=\"stroke:#000000; stroke-width:1; stroke-opacity:1; fill:none\" points=\"\n",
       "  501.61,74.114 574.126,74.114 574.126,28.754 501.61,28.754 501.61,74.114 \n",
       "  \"/>\n",
       "<polyline clip-path=\"url(#clip00)\" style=\"stroke:#009af9; stroke-width:1; stroke-opacity:1; fill:none\" points=\"\n",
       "  507.61,43.874 543.61,43.874 \n",
       "  \"/>\n",
       "<g clip-path=\"url(#clip00)\">\n",
       "<text style=\"fill:#000000; fill-opacity:1; font-family:Arial,Helvetica Neue,Helvetica,sans-serif; font-size:12; text-anchor:start;\" transform=\"rotate(0, 549.61, 48.374)\" x=\"549.61\" y=\"48.374\">y1</text>\n",
       "</g>\n",
       "<polyline clip-path=\"url(#clip00)\" style=\"stroke:#e26f46; stroke-width:1; stroke-opacity:1; fill:none\" points=\"\n",
       "  507.61,58.994 543.61,58.994 \n",
       "  \"/>\n",
       "<g clip-path=\"url(#clip00)\">\n",
       "<text style=\"fill:#000000; fill-opacity:1; font-family:Arial,Helvetica Neue,Helvetica,sans-serif; font-size:12; text-anchor:start;\" transform=\"rotate(0, 549.61, 63.494)\" x=\"549.61\" y=\"63.494\">y2</text>\n",
       "</g>\n",
       "</svg>\n"
      ]
     },
     "execution_count": 30,
     "metadata": {},
     "output_type": "execute_result"
    }
   ],
   "source": [
    "# [4] ii)\n",
    "pol_grad_2(x) = x^2\n",
    "x = 1:3\n",
    "y = pol_grad_2.(x)\n",
    "pol_interpola = interpola3(zip(x, y))\n",
    "plot(pol_interpola)\n",
    "plot!(pol_grad_2)"
   ]
  },
  {
   "cell_type": "code",
   "execution_count": 29,
   "metadata": {},
   "outputs": [
    {
     "data": {
      "text/html": [
       "<?xml version=\"1.0\" encoding=\"utf-8\"?>\n",
       "<svg xmlns=\"http://www.w3.org/2000/svg\" xmlns:xlink=\"http://www.w3.org/1999/xlink\" width=\"600\" height=\"400\" viewBox=\"0 0 600 400\">\n",
       "<defs>\n",
       "  <clipPath id=\"clip00\">\n",
       "    <rect x=\"0\" y=\"0\" width=\"600\" height=\"400\"/>\n",
       "  </clipPath>\n",
       "</defs>\n",
       "<polygon clip-path=\"url(#clip00)\" points=\"\n",
       "0,400 600,400 600,0 0,0 \n",
       "  \" fill=\"#ffffff\" fill-opacity=\"1\"/>\n",
       "<defs>\n",
       "  <clipPath id=\"clip01\">\n",
       "    <rect x=\"120\" y=\"0\" width=\"421\" height=\"400\"/>\n",
       "  </clipPath>\n",
       "</defs>\n",
       "<polygon clip-path=\"url(#clip00)\" points=\"\n",
       "39.3701,376.378 592.126,376.378 592.126,7.87402 39.3701,7.87402 \n",
       "  \" fill=\"#ffffff\" fill-opacity=\"1\"/>\n",
       "<defs>\n",
       "  <clipPath id=\"clip02\">\n",
       "    <rect x=\"39\" y=\"7\" width=\"554\" height=\"370\"/>\n",
       "  </clipPath>\n",
       "</defs>\n",
       "<polyline clip-path=\"url(#clip02)\" style=\"stroke:#000000; stroke-width:0.5; stroke-opacity:0.1; fill:none\" points=\"\n",
       "  176.983,370.85 176.983,13.4016 \n",
       "  \"/>\n",
       "<polyline clip-path=\"url(#clip02)\" style=\"stroke:#000000; stroke-width:0.5; stroke-opacity:0.1; fill:none\" points=\"\n",
       "  315.953,370.85 315.953,13.4016 \n",
       "  \"/>\n",
       "<polyline clip-path=\"url(#clip02)\" style=\"stroke:#000000; stroke-width:0.5; stroke-opacity:0.1; fill:none\" points=\"\n",
       "  454.922,370.85 454.922,13.4016 \n",
       "  \"/>\n",
       "<polyline clip-path=\"url(#clip02)\" style=\"stroke:#000000; stroke-width:0.5; stroke-opacity:0.1; fill:none\" points=\"\n",
       "  47.6614,341.631 583.835,341.631 \n",
       "  \"/>\n",
       "<polyline clip-path=\"url(#clip02)\" style=\"stroke:#000000; stroke-width:0.5; stroke-opacity:0.1; fill:none\" points=\"\n",
       "  47.6614,191.717 583.835,191.717 \n",
       "  \"/>\n",
       "<polyline clip-path=\"url(#clip02)\" style=\"stroke:#000000; stroke-width:0.5; stroke-opacity:0.1; fill:none\" points=\"\n",
       "  47.6614,41.8028 583.835,41.8028 \n",
       "  \"/>\n",
       "<polyline clip-path=\"url(#clip00)\" style=\"stroke:#000000; stroke-width:1; stroke-opacity:1; fill:none\" points=\"\n",
       "  39.3701,376.378 592.126,376.378 \n",
       "  \"/>\n",
       "<polyline clip-path=\"url(#clip00)\" style=\"stroke:#000000; stroke-width:1; stroke-opacity:1; fill:none\" points=\"\n",
       "  176.983,376.378 176.983,370.85 \n",
       "  \"/>\n",
       "<polyline clip-path=\"url(#clip00)\" style=\"stroke:#000000; stroke-width:1; stroke-opacity:1; fill:none\" points=\"\n",
       "  315.953,376.378 315.953,370.85 \n",
       "  \"/>\n",
       "<polyline clip-path=\"url(#clip00)\" style=\"stroke:#000000; stroke-width:1; stroke-opacity:1; fill:none\" points=\"\n",
       "  454.922,376.378 454.922,370.85 \n",
       "  \"/>\n",
       "<polyline clip-path=\"url(#clip00)\" style=\"stroke:#000000; stroke-width:1; stroke-opacity:1; fill:none\" points=\"\n",
       "  39.3701,376.378 39.3701,7.87402 \n",
       "  \"/>\n",
       "<polyline clip-path=\"url(#clip00)\" style=\"stroke:#000000; stroke-width:1; stroke-opacity:1; fill:none\" points=\"\n",
       "  39.3701,341.631 47.6614,341.631 \n",
       "  \"/>\n",
       "<polyline clip-path=\"url(#clip00)\" style=\"stroke:#000000; stroke-width:1; stroke-opacity:1; fill:none\" points=\"\n",
       "  39.3701,191.717 47.6614,191.717 \n",
       "  \"/>\n",
       "<polyline clip-path=\"url(#clip00)\" style=\"stroke:#000000; stroke-width:1; stroke-opacity:1; fill:none\" points=\"\n",
       "  39.3701,41.8028 47.6614,41.8028 \n",
       "  \"/>\n",
       "<g clip-path=\"url(#clip00)\">\n",
       "<text style=\"fill:#000000; fill-opacity:1; font-family:Arial,Helvetica Neue,Helvetica,sans-serif; font-size:12; text-anchor:middle;\" transform=\"rotate(0, 176.983, 390.178)\" x=\"176.983\" y=\"390.178\">-2.5</text>\n",
       "</g>\n",
       "<g clip-path=\"url(#clip00)\">\n",
       "<text style=\"fill:#000000; fill-opacity:1; font-family:Arial,Helvetica Neue,Helvetica,sans-serif; font-size:12; text-anchor:middle;\" transform=\"rotate(0, 315.953, 390.178)\" x=\"315.953\" y=\"390.178\">0.0</text>\n",
       "</g>\n",
       "<g clip-path=\"url(#clip00)\">\n",
       "<text style=\"fill:#000000; fill-opacity:1; font-family:Arial,Helvetica Neue,Helvetica,sans-serif; font-size:12; text-anchor:middle;\" transform=\"rotate(0, 454.922, 390.178)\" x=\"454.922\" y=\"390.178\">2.5</text>\n",
       "</g>\n",
       "<g clip-path=\"url(#clip00)\">\n",
       "<text style=\"fill:#000000; fill-opacity:1; font-family:Arial,Helvetica Neue,Helvetica,sans-serif; font-size:12; text-anchor:end;\" transform=\"rotate(0, 33.3701, 346.131)\" x=\"33.3701\" y=\"346.131\">-100</text>\n",
       "</g>\n",
       "<g clip-path=\"url(#clip00)\">\n",
       "<text style=\"fill:#000000; fill-opacity:1; font-family:Arial,Helvetica Neue,Helvetica,sans-serif; font-size:12; text-anchor:end;\" transform=\"rotate(0, 33.3701, 196.217)\" x=\"33.3701\" y=\"196.217\">0</text>\n",
       "</g>\n",
       "<g clip-path=\"url(#clip00)\">\n",
       "<text style=\"fill:#000000; fill-opacity:1; font-family:Arial,Helvetica Neue,Helvetica,sans-serif; font-size:12; text-anchor:end;\" transform=\"rotate(0, 33.3701, 46.3028)\" x=\"33.3701\" y=\"46.3028\">100</text>\n",
       "</g>\n",
       "<polyline clip-path=\"url(#clip02)\" style=\"stroke:#009af9; stroke-width:1; stroke-opacity:1; fill:none\" points=\"\n",
       "  39.3701,376.378 40.7272,373.673 42.0844,370.994 43.4415,368.342 55.9904,345.049 68.5392,323.898 81.0881,304.788 93.6369,287.615 108.72,269.391 123.802,253.636 \n",
       "  136.554,242.108 149.307,232.108 163.159,222.85 177.012,215.126 189.782,209.247 202.553,204.444 216.245,200.368 229.936,197.271 245.799,194.73 261.662,193.114 \n",
       "  289.857,191.872 314.581,191.717 341.537,191.571 368.653,190.44 383.643,189.01 398.633,186.784 412.895,183.765 427.158,179.714 441.988,174.243 456.818,167.321 \n",
       "  469.301,160.244 481.785,151.914 497.026,139.901 512.267,125.684 526.594,110.146 540.921,92.344 552.398,76.3468 563.874,58.7188 575.351,39.3808 586.827,18.2537 \n",
       "  588.594,14.8385 590.36,11.3786 592.126,7.87402 \n",
       "  \"/>\n",
       "<polyline clip-path=\"url(#clip02)\" style=\"stroke:#e26f46; stroke-width:1; stroke-opacity:1; fill:none\" points=\"\n",
       "  40.7196,373.688 42.0691,371.024 43.4187,368.387 44.7682,365.775 57.2465,342.837 69.7249,322.007 82.2032,303.186 94.6816,286.27 109.679,268.317 124.677,252.794 \n",
       "  137.358,241.434 150.039,231.578 163.813,222.451 177.588,214.836 190.287,209.037 202.986,204.299 216.6,200.276 230.215,197.218 245.989,194.706 261.763,193.106 \n",
       "  289.799,191.873 314.384,191.717 341.188,191.577 368.152,190.476 383.058,189.08 397.964,186.903 412.146,183.948 426.329,179.981 441.075,174.62 455.822,167.835 \n",
       "  468.235,160.895 480.649,152.727 495.804,140.943 510.96,126.995 525.206,111.748 539.453,94.2774 550.865,78.5764 562.277,61.2733 573.689,42.2902 585.101,21.5495 \n",
       "  586.857,18.1965 588.613,14.7998 590.37,11.3591 \n",
       "  \"/>\n",
       "<polygon clip-path=\"url(#clip00)\" points=\"\n",
       "501.61,74.114 574.126,74.114 574.126,28.754 501.61,28.754 \n",
       "  \" fill=\"#ffffff\" fill-opacity=\"1\"/>\n",
       "<polyline clip-path=\"url(#clip00)\" style=\"stroke:#000000; stroke-width:1; stroke-opacity:1; fill:none\" points=\"\n",
       "  501.61,74.114 574.126,74.114 574.126,28.754 501.61,28.754 501.61,74.114 \n",
       "  \"/>\n",
       "<polyline clip-path=\"url(#clip00)\" style=\"stroke:#009af9; stroke-width:1; stroke-opacity:1; fill:none\" points=\"\n",
       "  507.61,43.874 543.61,43.874 \n",
       "  \"/>\n",
       "<g clip-path=\"url(#clip00)\">\n",
       "<text style=\"fill:#000000; fill-opacity:1; font-family:Arial,Helvetica Neue,Helvetica,sans-serif; font-size:12; text-anchor:start;\" transform=\"rotate(0, 549.61, 48.374)\" x=\"549.61\" y=\"48.374\">y1</text>\n",
       "</g>\n",
       "<polyline clip-path=\"url(#clip00)\" style=\"stroke:#e26f46; stroke-width:1; stroke-opacity:1; fill:none\" points=\"\n",
       "  507.61,58.994 543.61,58.994 \n",
       "  \"/>\n",
       "<g clip-path=\"url(#clip00)\">\n",
       "<text style=\"fill:#000000; fill-opacity:1; font-family:Arial,Helvetica Neue,Helvetica,sans-serif; font-size:12; text-anchor:start;\" transform=\"rotate(0, 549.61, 63.494)\" x=\"549.61\" y=\"63.494\">y2</text>\n",
       "</g>\n",
       "</svg>\n"
      ]
     },
     "execution_count": 29,
     "metadata": {},
     "output_type": "execute_result"
    }
   ],
   "source": [
    "# [4] ii)\n",
    "pol_grad_3(x) = x^3\n",
    "x = 1:4\n",
    "y = pol_grad_3.(x)\n",
    "pol_interpola = interpola3(zip(x, y))\n",
    "plot(pol_interpola)\n",
    "plot!(pol_grad_3)"
   ]
  },
  {
   "cell_type": "markdown",
   "metadata": {},
   "source": [
    "Se observa aquí que ambos polinomios coinciden a la perfección."
   ]
  },
  {
   "cell_type": "code",
   "execution_count": 76,
   "metadata": {},
   "outputs": [
    {
     "data": {
      "text/html": [
       "<?xml version=\"1.0\" encoding=\"utf-8\"?>\n",
       "<svg xmlns=\"http://www.w3.org/2000/svg\" xmlns:xlink=\"http://www.w3.org/1999/xlink\" width=\"600\" height=\"400\" viewBox=\"0 0 600 400\">\n",
       "<defs>\n",
       "  <clipPath id=\"clip00\">\n",
       "    <rect x=\"0\" y=\"0\" width=\"600\" height=\"400\"/>\n",
       "  </clipPath>\n",
       "</defs>\n",
       "<polygon clip-path=\"url(#clip00)\" points=\"\n",
       "0,400 600,400 600,0 0,0 \n",
       "  \" fill=\"#ffffff\" fill-opacity=\"1\"/>\n",
       "<defs>\n",
       "  <clipPath id=\"clip01\">\n",
       "    <rect x=\"120\" y=\"0\" width=\"421\" height=\"400\"/>\n",
       "  </clipPath>\n",
       "</defs>\n",
       "<polygon clip-path=\"url(#clip00)\" points=\"\n",
       "39.3701,376.378 592.126,376.378 592.126,7.87402 39.3701,7.87402 \n",
       "  \" fill=\"#ffffff\" fill-opacity=\"1\"/>\n",
       "<defs>\n",
       "  <clipPath id=\"clip02\">\n",
       "    <rect x=\"39\" y=\"7\" width=\"554\" height=\"370\"/>\n",
       "  </clipPath>\n",
       "</defs>\n",
       "<polyline clip-path=\"url(#clip02)\" style=\"stroke:#000000; stroke-width:0.5; stroke-opacity:0.1; fill:none\" points=\"\n",
       "  39.3701,370.85 39.3701,13.4016 \n",
       "  \"/>\n",
       "<polyline clip-path=\"url(#clip02)\" style=\"stroke:#000000; stroke-width:0.5; stroke-opacity:0.1; fill:none\" points=\"\n",
       "  149.921,370.85 149.921,13.4016 \n",
       "  \"/>\n",
       "<polyline clip-path=\"url(#clip02)\" style=\"stroke:#000000; stroke-width:0.5; stroke-opacity:0.1; fill:none\" points=\"\n",
       "  260.472,370.85 260.472,13.4016 \n",
       "  \"/>\n",
       "<polyline clip-path=\"url(#clip02)\" style=\"stroke:#000000; stroke-width:0.5; stroke-opacity:0.1; fill:none\" points=\"\n",
       "  371.024,370.85 371.024,13.4016 \n",
       "  \"/>\n",
       "<polyline clip-path=\"url(#clip02)\" style=\"stroke:#000000; stroke-width:0.5; stroke-opacity:0.1; fill:none\" points=\"\n",
       "  481.575,370.85 481.575,13.4016 \n",
       "  \"/>\n",
       "<polyline clip-path=\"url(#clip02)\" style=\"stroke:#000000; stroke-width:0.5; stroke-opacity:0.1; fill:none\" points=\"\n",
       "  592.126,370.85 592.126,13.4016 \n",
       "  \"/>\n",
       "<polyline clip-path=\"url(#clip02)\" style=\"stroke:#000000; stroke-width:0.5; stroke-opacity:0.1; fill:none\" points=\"\n",
       "  47.6614,376.378 583.835,376.378 \n",
       "  \"/>\n",
       "<polyline clip-path=\"url(#clip02)\" style=\"stroke:#000000; stroke-width:0.5; stroke-opacity:0.1; fill:none\" points=\"\n",
       "  47.6614,284.252 583.835,284.252 \n",
       "  \"/>\n",
       "<polyline clip-path=\"url(#clip02)\" style=\"stroke:#000000; stroke-width:0.5; stroke-opacity:0.1; fill:none\" points=\"\n",
       "  47.6614,192.126 583.835,192.126 \n",
       "  \"/>\n",
       "<polyline clip-path=\"url(#clip02)\" style=\"stroke:#000000; stroke-width:0.5; stroke-opacity:0.1; fill:none\" points=\"\n",
       "  47.6614,100 583.835,100 \n",
       "  \"/>\n",
       "<polyline clip-path=\"url(#clip02)\" style=\"stroke:#000000; stroke-width:0.5; stroke-opacity:0.1; fill:none\" points=\"\n",
       "  47.6614,7.87402 583.835,7.87402 \n",
       "  \"/>\n",
       "<polyline clip-path=\"url(#clip00)\" style=\"stroke:#000000; stroke-width:1; stroke-opacity:1; fill:none\" points=\"\n",
       "  39.3701,376.378 592.126,376.378 \n",
       "  \"/>\n",
       "<polyline clip-path=\"url(#clip00)\" style=\"stroke:#000000; stroke-width:1; stroke-opacity:1; fill:none\" points=\"\n",
       "  39.3701,376.378 39.3701,370.85 \n",
       "  \"/>\n",
       "<polyline clip-path=\"url(#clip00)\" style=\"stroke:#000000; stroke-width:1; stroke-opacity:1; fill:none\" points=\"\n",
       "  149.921,376.378 149.921,370.85 \n",
       "  \"/>\n",
       "<polyline clip-path=\"url(#clip00)\" style=\"stroke:#000000; stroke-width:1; stroke-opacity:1; fill:none\" points=\"\n",
       "  260.472,376.378 260.472,370.85 \n",
       "  \"/>\n",
       "<polyline clip-path=\"url(#clip00)\" style=\"stroke:#000000; stroke-width:1; stroke-opacity:1; fill:none\" points=\"\n",
       "  371.024,376.378 371.024,370.85 \n",
       "  \"/>\n",
       "<polyline clip-path=\"url(#clip00)\" style=\"stroke:#000000; stroke-width:1; stroke-opacity:1; fill:none\" points=\"\n",
       "  481.575,376.378 481.575,370.85 \n",
       "  \"/>\n",
       "<polyline clip-path=\"url(#clip00)\" style=\"stroke:#000000; stroke-width:1; stroke-opacity:1; fill:none\" points=\"\n",
       "  592.126,376.378 592.126,370.85 \n",
       "  \"/>\n",
       "<polyline clip-path=\"url(#clip00)\" style=\"stroke:#000000; stroke-width:1; stroke-opacity:1; fill:none\" points=\"\n",
       "  39.3701,376.378 39.3701,7.87402 \n",
       "  \"/>\n",
       "<polyline clip-path=\"url(#clip00)\" style=\"stroke:#000000; stroke-width:1; stroke-opacity:1; fill:none\" points=\"\n",
       "  39.3701,376.378 47.6614,376.378 \n",
       "  \"/>\n",
       "<polyline clip-path=\"url(#clip00)\" style=\"stroke:#000000; stroke-width:1; stroke-opacity:1; fill:none\" points=\"\n",
       "  39.3701,284.252 47.6614,284.252 \n",
       "  \"/>\n",
       "<polyline clip-path=\"url(#clip00)\" style=\"stroke:#000000; stroke-width:1; stroke-opacity:1; fill:none\" points=\"\n",
       "  39.3701,192.126 47.6614,192.126 \n",
       "  \"/>\n",
       "<polyline clip-path=\"url(#clip00)\" style=\"stroke:#000000; stroke-width:1; stroke-opacity:1; fill:none\" points=\"\n",
       "  39.3701,100 47.6614,100 \n",
       "  \"/>\n",
       "<polyline clip-path=\"url(#clip00)\" style=\"stroke:#000000; stroke-width:1; stroke-opacity:1; fill:none\" points=\"\n",
       "  39.3701,7.87402 47.6614,7.87402 \n",
       "  \"/>\n",
       "<g clip-path=\"url(#clip00)\">\n",
       "<text style=\"fill:#000000; fill-opacity:1; font-family:Arial,Helvetica Neue,Helvetica,sans-serif; font-size:12; text-anchor:middle;\" transform=\"rotate(0, 39.3701, 390.178)\" x=\"39.3701\" y=\"390.178\">0</text>\n",
       "</g>\n",
       "<g clip-path=\"url(#clip00)\">\n",
       "<text style=\"fill:#000000; fill-opacity:1; font-family:Arial,Helvetica Neue,Helvetica,sans-serif; font-size:12; text-anchor:middle;\" transform=\"rotate(0, 149.921, 390.178)\" x=\"149.921\" y=\"390.178\">2</text>\n",
       "</g>\n",
       "<g clip-path=\"url(#clip00)\">\n",
       "<text style=\"fill:#000000; fill-opacity:1; font-family:Arial,Helvetica Neue,Helvetica,sans-serif; font-size:12; text-anchor:middle;\" transform=\"rotate(0, 260.472, 390.178)\" x=\"260.472\" y=\"390.178\">4</text>\n",
       "</g>\n",
       "<g clip-path=\"url(#clip00)\">\n",
       "<text style=\"fill:#000000; fill-opacity:1; font-family:Arial,Helvetica Neue,Helvetica,sans-serif; font-size:12; text-anchor:middle;\" transform=\"rotate(0, 371.024, 390.178)\" x=\"371.024\" y=\"390.178\">6</text>\n",
       "</g>\n",
       "<g clip-path=\"url(#clip00)\">\n",
       "<text style=\"fill:#000000; fill-opacity:1; font-family:Arial,Helvetica Neue,Helvetica,sans-serif; font-size:12; text-anchor:middle;\" transform=\"rotate(0, 481.575, 390.178)\" x=\"481.575\" y=\"390.178\">8</text>\n",
       "</g>\n",
       "<g clip-path=\"url(#clip00)\">\n",
       "<text style=\"fill:#000000; fill-opacity:1; font-family:Arial,Helvetica Neue,Helvetica,sans-serif; font-size:12; text-anchor:middle;\" transform=\"rotate(0, 592.126, 390.178)\" x=\"592.126\" y=\"390.178\">10</text>\n",
       "</g>\n",
       "<g clip-path=\"url(#clip00)\">\n",
       "<text style=\"fill:#000000; fill-opacity:1; font-family:Arial,Helvetica Neue,Helvetica,sans-serif; font-size:12; text-anchor:end;\" transform=\"rotate(0, 33.3701, 380.878)\" x=\"33.3701\" y=\"380.878\">-1.0</text>\n",
       "</g>\n",
       "<g clip-path=\"url(#clip00)\">\n",
       "<text style=\"fill:#000000; fill-opacity:1; font-family:Arial,Helvetica Neue,Helvetica,sans-serif; font-size:12; text-anchor:end;\" transform=\"rotate(0, 33.3701, 288.752)\" x=\"33.3701\" y=\"288.752\">-0.5</text>\n",
       "</g>\n",
       "<g clip-path=\"url(#clip00)\">\n",
       "<text style=\"fill:#000000; fill-opacity:1; font-family:Arial,Helvetica Neue,Helvetica,sans-serif; font-size:12; text-anchor:end;\" transform=\"rotate(0, 33.3701, 196.626)\" x=\"33.3701\" y=\"196.626\">0.0</text>\n",
       "</g>\n",
       "<g clip-path=\"url(#clip00)\">\n",
       "<text style=\"fill:#000000; fill-opacity:1; font-family:Arial,Helvetica Neue,Helvetica,sans-serif; font-size:12; text-anchor:end;\" transform=\"rotate(0, 33.3701, 104.5)\" x=\"33.3701\" y=\"104.5\">0.5</text>\n",
       "</g>\n",
       "<g clip-path=\"url(#clip00)\">\n",
       "<text style=\"fill:#000000; fill-opacity:1; font-family:Arial,Helvetica Neue,Helvetica,sans-serif; font-size:12; text-anchor:end;\" transform=\"rotate(0, 33.3701, 12.374)\" x=\"33.3701\" y=\"12.374\">1.0</text>\n",
       "</g>\n",
       "<polyline clip-path=\"url(#clip02)\" style=\"stroke:#009af9; stroke-width:1; stroke-opacity:1; fill:none\" points=\"\n",
       "  -234.309,-57714.5 -231.61,-54136.5 -206.653,-29286.3 -181.696,-15116.9 -166.698,-9879.05 -151.701,-6284.16 -139.02,-4170.77 -126.339,-2673.47 -112.565,-1553.66 -98.7902,-808.84 \n",
       "  -86.0912,-355.04 -73.3922,-57.6174 -46.1628,252.784 -14.615,322.18 13.421,272.51 38.0061,196.633 64.8104,110.392 91.774,42.4659 121.586,8.51231 149.951,24.6271 \n",
       "  179.444,86.9496 204.271,163.072 234.582,262.182 263.075,337.081 308.723,374.008 \n",
       "  \"/>\n",
       "<polyline clip-path=\"url(#clip02)\" style=\"stroke:#e26f46; stroke-width:1; stroke-opacity:1; fill:none\" points=\"\n",
       "  40.0448,189.877 40.7196,187.628 41.3944,185.38 42.0691,183.133 42.7439,180.887 43.4187,178.643 44.0934,176.401 44.7682,174.161 47.8878,163.846 51.0074,153.621 \n",
       "  54.1269,143.519 57.2465,133.571 60.3661,123.81 63.4857,114.267 66.6053,104.971 69.7249,95.9528 75.964,78.8631 82.2032,63.2149 88.4424,49.2073 94.6816,37.0187 \n",
       "  98.431,30.6346 102.181,24.9932 104.055,22.4593 105.93,20.1206 107.805,17.9797 109.679,16.0391 113.429,12.7675 117.178,10.3208 119.053,9.41056 120.928,8.71042 \n",
       "  122.803,8.22126 124.677,7.94362 131.018,8.57434 137.358,11.6174 140.528,14.0322 143.698,17.0327 146.868,20.6089 150.039,24.7492 153.482,29.8698 156.926,35.62 \n",
       "  160.369,41.9774 163.813,48.9174 170.7,64.4353 177.588,81.933 183.937,99.5847 190.287,118.456 196.636,138.299 202.986,158.851 209.793,181.364 216.6,204.041 \n",
       "  223.408,226.537 230.215,248.512 234.159,260.872 238.102,272.883 242.046,284.482 245.989,295.612 249.933,306.215 253.876,316.238 257.819,325.63 261.763,334.342 \n",
       "  265.267,341.478 268.772,348.015 272.276,353.925 275.781,359.184 277.533,361.564 279.285,363.773 281.038,365.81 282.79,367.672 286.294,370.865 289.799,373.34 \n",
       "  295.945,375.918 302.091,376.227 308.238,374.261 314.384,370.045 317.735,366.818 321.085,362.948 324.436,358.451 327.786,353.343 331.137,347.643 334.487,341.372 \n",
       "  337.838,334.553 341.188,327.21 347.929,310.964 354.67,292.952 358.041,283.367 361.411,273.443 364.781,263.217 368.152,252.726 383.058,204.181 397.964,154.764 \n",
       "  405.055,131.988 412.146,110.201 415.692,99.7901 419.237,89.7594 422.783,80.1498 426.329,71.0007 428.172,66.4388 430.015,62.0166 431.859,57.7391 433.702,53.6111 \n",
       "  435.545,49.6371 437.389,45.8215 439.232,42.1686 441.075,38.6825 444.762,32.2258 448.449,26.4801 450.292,23.882 452.135,21.4709 453.979,19.2497 455.822,17.2207 \n",
       "  462.029,11.83 468.235,8.71022 471.339,8.01531 474.442,7.90057 475.994,8.06096 477.545,8.36638 479.097,8.8166 480.649,9.41127 482.543,10.3324 484.438,11.4671 \n",
       "  486.332,12.8139 488.227,14.3714 492.015,18.1105 495.804,22.6669 499.593,28.0192 503.382,34.1422 505.276,37.4839 507.171,41.0072 509.065,44.708 510.96,48.5819 \n",
       "  518.083,64.6173 525.206,82.7674 528.768,92.5426 532.329,102.731 535.891,113.291 539.453,124.177 550.865,160.729 562.277,198.613 567.983,217.553 573.689,236.223 \n",
       "  579.395,254.422 585.101,271.959 586.857,277.194 588.613,282.343 590.37,287.401 \n",
       "  \"/>\n",
       "<polygon clip-path=\"url(#clip00)\" points=\"\n",
       "501.61,74.114 574.126,74.114 574.126,28.754 501.61,28.754 \n",
       "  \" fill=\"#ffffff\" fill-opacity=\"1\"/>\n",
       "<polyline clip-path=\"url(#clip00)\" style=\"stroke:#000000; stroke-width:1; stroke-opacity:1; fill:none\" points=\"\n",
       "  501.61,74.114 574.126,74.114 574.126,28.754 501.61,28.754 501.61,74.114 \n",
       "  \"/>\n",
       "<polyline clip-path=\"url(#clip00)\" style=\"stroke:#009af9; stroke-width:1; stroke-opacity:1; fill:none\" points=\"\n",
       "  507.61,43.874 543.61,43.874 \n",
       "  \"/>\n",
       "<g clip-path=\"url(#clip00)\">\n",
       "<text style=\"fill:#000000; fill-opacity:1; font-family:Arial,Helvetica Neue,Helvetica,sans-serif; font-size:12; text-anchor:start;\" transform=\"rotate(0, 549.61, 48.374)\" x=\"549.61\" y=\"48.374\">y1</text>\n",
       "</g>\n",
       "<polyline clip-path=\"url(#clip00)\" style=\"stroke:#e26f46; stroke-width:1; stroke-opacity:1; fill:none\" points=\"\n",
       "  507.61,58.994 543.61,58.994 \n",
       "  \"/>\n",
       "<g clip-path=\"url(#clip00)\">\n",
       "<text style=\"fill:#000000; fill-opacity:1; font-family:Arial,Helvetica Neue,Helvetica,sans-serif; font-size:12; text-anchor:start;\" transform=\"rotate(0, 549.61, 63.494)\" x=\"549.61\" y=\"63.494\">y2</text>\n",
       "</g>\n",
       "</svg>\n"
      ]
     },
     "execution_count": 76,
     "metadata": {},
     "output_type": "execute_result"
    }
   ],
   "source": [
    "# [4] iii)\n",
    "x = 0:10\n",
    "y = sin.(x)\n",
    "pol_interpola = interpola3(zip(x, y))\n",
    "plot(pol_interpola, xlims=(0,10), ylims=(-1,1))\n",
    "plot!(sin)"
   ]
  },
  {
   "cell_type": "markdown",
   "metadata": {},
   "source": [
    "**[5]** Considera la función de Runga, $f(x) = \\frac{1}{1+25x^2}$, en la región $x \\in [-1, 1]$. Interpólala con tu función `interpolar` para distintos números $N$ de puntos. ¿Qué observas? Utiliza `@manipulate`. "
   ]
  },
  {
   "cell_type": "markdown",
   "metadata": {},
   "source": [
    "Le que observaste en [4] se llama el **fenómeno de Runge**. Esto demuestra que en general *es una muy mala idea* el utilizar puntos espaciados de forma igual para interpolar. \n",
    "\n",
    "Sin embargo, resulta que el problema no es la interpolación en sí, sino la elección de puntos donde interpolar."
   ]
  },
  {
   "cell_type": "code",
   "execution_count": 77,
   "metadata": {},
   "outputs": [
    {
     "data": {
      "text/html": [],
      "text/plain": [
       "Interact.Options{:SelectionSlider,Int64}(1: \"input\" = 10 Int64 , \"n\", 10, \"10\", Interact.OptionDict(DataStructures.OrderedDict(\"1\"=>1,\"2\"=>2,\"3\"=>3,\"4\"=>4,\"5\"=>5,\"6\"=>6,\"7\"=>7,\"8\"=>8,\"9\"=>9,\"10\"=>10…), Dict(18=>\"18\",2=>\"2\",16=>\"16\",11=>\"11\",7=>\"7\",9=>\"9\",10=>\"10\",19=>\"19\",17=>\"17\",8=>\"8\"…)), Any[], Any[], true, \"horizontal\")"
      ]
     },
     "metadata": {},
     "output_type": "display_data"
    },
    {
     "data": {
      "text/html": [
       "<?xml version=\"1.0\" encoding=\"utf-8\"?>\n",
       "<svg xmlns=\"http://www.w3.org/2000/svg\" xmlns:xlink=\"http://www.w3.org/1999/xlink\" width=\"600\" height=\"400\" viewBox=\"0 0 600 400\">\n",
       "<defs>\n",
       "  <clipPath id=\"clip00\">\n",
       "    <rect x=\"0\" y=\"0\" width=\"600\" height=\"400\"/>\n",
       "  </clipPath>\n",
       "</defs>\n",
       "<polygon clip-path=\"url(#clip00)\" points=\"\n",
       "0,400 600,400 600,0 0,0 \n",
       "  \" fill=\"#ffffff\" fill-opacity=\"1\"/>\n",
       "<defs>\n",
       "  <clipPath id=\"clip01\">\n",
       "    <rect x=\"120\" y=\"0\" width=\"421\" height=\"400\"/>\n",
       "  </clipPath>\n",
       "</defs>\n",
       "<polygon clip-path=\"url(#clip00)\" points=\"\n",
       "39.3701,376.378 592.126,376.378 592.126,7.87402 39.3701,7.87402 \n",
       "  \" fill=\"#ffffff\" fill-opacity=\"1\"/>\n",
       "<defs>\n",
       "  <clipPath id=\"clip02\">\n",
       "    <rect x=\"39\" y=\"7\" width=\"554\" height=\"370\"/>\n",
       "  </clipPath>\n",
       "</defs>\n",
       "<polyline clip-path=\"url(#clip02)\" style=\"stroke:#000000; stroke-width:0.5; stroke-opacity:0.1; fill:none\" points=\"\n",
       "  55.0141,370.85 55.0141,13.4016 \n",
       "  \"/>\n",
       "<polyline clip-path=\"url(#clip02)\" style=\"stroke:#000000; stroke-width:0.5; stroke-opacity:0.1; fill:none\" points=\"\n",
       "  315.748,370.85 315.748,13.4016 \n",
       "  \"/>\n",
       "<polyline clip-path=\"url(#clip02)\" style=\"stroke:#000000; stroke-width:0.5; stroke-opacity:0.1; fill:none\" points=\"\n",
       "  576.482,370.85 576.482,13.4016 \n",
       "  \"/>\n",
       "<polyline clip-path=\"url(#clip02)\" style=\"stroke:#000000; stroke-width:0.5; stroke-opacity:0.1; fill:none\" points=\"\n",
       "  47.6614,376.371 583.835,376.371 \n",
       "  \"/>\n",
       "<polyline clip-path=\"url(#clip02)\" style=\"stroke:#000000; stroke-width:0.5; stroke-opacity:0.1; fill:none\" points=\"\n",
       "  47.6614,226.639 583.835,226.639 \n",
       "  \"/>\n",
       "<polyline clip-path=\"url(#clip02)\" style=\"stroke:#000000; stroke-width:0.5; stroke-opacity:0.1; fill:none\" points=\"\n",
       "  47.6614,76.9068 583.835,76.9068 \n",
       "  \"/>\n",
       "<polyline clip-path=\"url(#clip00)\" style=\"stroke:#000000; stroke-width:1; stroke-opacity:1; fill:none\" points=\"\n",
       "  39.3701,376.378 592.126,376.378 \n",
       "  \"/>\n",
       "<polyline clip-path=\"url(#clip00)\" style=\"stroke:#000000; stroke-width:1; stroke-opacity:1; fill:none\" points=\"\n",
       "  55.0141,376.378 55.0141,370.85 \n",
       "  \"/>\n",
       "<polyline clip-path=\"url(#clip00)\" style=\"stroke:#000000; stroke-width:1; stroke-opacity:1; fill:none\" points=\"\n",
       "  315.748,376.378 315.748,370.85 \n",
       "  \"/>\n",
       "<polyline clip-path=\"url(#clip00)\" style=\"stroke:#000000; stroke-width:1; stroke-opacity:1; fill:none\" points=\"\n",
       "  576.482,376.378 576.482,370.85 \n",
       "  \"/>\n",
       "<polyline clip-path=\"url(#clip00)\" style=\"stroke:#000000; stroke-width:1; stroke-opacity:1; fill:none\" points=\"\n",
       "  39.3701,376.378 39.3701,7.87402 \n",
       "  \"/>\n",
       "<polyline clip-path=\"url(#clip00)\" style=\"stroke:#000000; stroke-width:1; stroke-opacity:1; fill:none\" points=\"\n",
       "  39.3701,376.371 47.6614,376.371 \n",
       "  \"/>\n",
       "<polyline clip-path=\"url(#clip00)\" style=\"stroke:#000000; stroke-width:1; stroke-opacity:1; fill:none\" points=\"\n",
       "  39.3701,226.639 47.6614,226.639 \n",
       "  \"/>\n",
       "<polyline clip-path=\"url(#clip00)\" style=\"stroke:#000000; stroke-width:1; stroke-opacity:1; fill:none\" points=\"\n",
       "  39.3701,76.9068 47.6614,76.9068 \n",
       "  \"/>\n",
       "<g clip-path=\"url(#clip00)\">\n",
       "<text style=\"fill:#000000; fill-opacity:1; font-family:Arial,Helvetica Neue,Helvetica,sans-serif; font-size:12; text-anchor:middle;\" transform=\"rotate(0, 55.0141, 390.178)\" x=\"55.0141\" y=\"390.178\">-1</text>\n",
       "</g>\n",
       "<g clip-path=\"url(#clip00)\">\n",
       "<text style=\"fill:#000000; fill-opacity:1; font-family:Arial,Helvetica Neue,Helvetica,sans-serif; font-size:12; text-anchor:middle;\" transform=\"rotate(0, 315.748, 390.178)\" x=\"315.748\" y=\"390.178\">0</text>\n",
       "</g>\n",
       "<g clip-path=\"url(#clip00)\">\n",
       "<text style=\"fill:#000000; fill-opacity:1; font-family:Arial,Helvetica Neue,Helvetica,sans-serif; font-size:12; text-anchor:middle;\" transform=\"rotate(0, 576.482, 390.178)\" x=\"576.482\" y=\"390.178\">1</text>\n",
       "</g>\n",
       "<g clip-path=\"url(#clip00)\">\n",
       "<text style=\"fill:#000000; fill-opacity:1; font-family:Arial,Helvetica Neue,Helvetica,sans-serif; font-size:12; text-anchor:end;\" transform=\"rotate(0, 33.3701, 380.871)\" x=\"33.3701\" y=\"380.871\">-10</text>\n",
       "</g>\n",
       "<g clip-path=\"url(#clip00)\">\n",
       "<text style=\"fill:#000000; fill-opacity:1; font-family:Arial,Helvetica Neue,Helvetica,sans-serif; font-size:12; text-anchor:end;\" transform=\"rotate(0, 33.3701, 231.139)\" x=\"33.3701\" y=\"231.139\">-5</text>\n",
       "</g>\n",
       "<g clip-path=\"url(#clip00)\">\n",
       "<text style=\"fill:#000000; fill-opacity:1; font-family:Arial,Helvetica Neue,Helvetica,sans-serif; font-size:12; text-anchor:end;\" transform=\"rotate(0, 33.3701, 81.4068)\" x=\"33.3701\" y=\"81.4068\">0</text>\n",
       "</g>\n",
       "<circle clip-path=\"url(#clip02)\" style=\"fill:#000000; stroke:none; fill-opacity:1\" cx=\"55.0141\" cy=\"75.755\" r=\"4\"/>\n",
       "<circle clip-path=\"url(#clip02)\" style=\"fill:#009af9; stroke:none; fill-opacity:1\" cx=\"55.0141\" cy=\"75.755\" r=\"3\"/>\n",
       "<circle clip-path=\"url(#clip02)\" style=\"fill:#000000; stroke:none; fill-opacity:1\" cx=\"107.161\" cy=\"75.1452\" r=\"4\"/>\n",
       "<circle clip-path=\"url(#clip02)\" style=\"fill:#009af9; stroke:none; fill-opacity:1\" cx=\"107.161\" cy=\"75.1452\" r=\"3\"/>\n",
       "<circle clip-path=\"url(#clip02)\" style=\"fill:#000000; stroke:none; fill-opacity:1\" cx=\"159.308\" cy=\"73.9122\" r=\"4\"/>\n",
       "<circle clip-path=\"url(#clip02)\" style=\"fill:#009af9; stroke:none; fill-opacity:1\" cx=\"159.308\" cy=\"73.9122\" r=\"3\"/>\n",
       "<circle clip-path=\"url(#clip02)\" style=\"fill:#000000; stroke:none; fill-opacity:1\" cx=\"211.454\" cy=\"70.9175\" r=\"4\"/>\n",
       "<circle clip-path=\"url(#clip02)\" style=\"fill:#009af9; stroke:none; fill-opacity:1\" cx=\"211.454\" cy=\"70.9175\" r=\"3\"/>\n",
       "<circle clip-path=\"url(#clip02)\" style=\"fill:#000000; stroke:none; fill-opacity:1\" cx=\"263.601\" cy=\"61.9336\" r=\"4\"/>\n",
       "<circle clip-path=\"url(#clip02)\" style=\"fill:#009af9; stroke:none; fill-opacity:1\" cx=\"263.601\" cy=\"61.9336\" r=\"3\"/>\n",
       "<circle clip-path=\"url(#clip02)\" style=\"fill:#000000; stroke:none; fill-opacity:1\" cx=\"315.748\" cy=\"46.9604\" r=\"4\"/>\n",
       "<circle clip-path=\"url(#clip02)\" style=\"fill:#009af9; stroke:none; fill-opacity:1\" cx=\"315.748\" cy=\"46.9604\" r=\"3\"/>\n",
       "<circle clip-path=\"url(#clip02)\" style=\"fill:#000000; stroke:none; fill-opacity:1\" cx=\"367.895\" cy=\"61.9336\" r=\"4\"/>\n",
       "<circle clip-path=\"url(#clip02)\" style=\"fill:#009af9; stroke:none; fill-opacity:1\" cx=\"367.895\" cy=\"61.9336\" r=\"3\"/>\n",
       "<circle clip-path=\"url(#clip02)\" style=\"fill:#000000; stroke:none; fill-opacity:1\" cx=\"420.042\" cy=\"70.9175\" r=\"4\"/>\n",
       "<circle clip-path=\"url(#clip02)\" style=\"fill:#009af9; stroke:none; fill-opacity:1\" cx=\"420.042\" cy=\"70.9175\" r=\"3\"/>\n",
       "<circle clip-path=\"url(#clip02)\" style=\"fill:#000000; stroke:none; fill-opacity:1\" cx=\"472.188\" cy=\"73.9122\" r=\"4\"/>\n",
       "<circle clip-path=\"url(#clip02)\" style=\"fill:#009af9; stroke:none; fill-opacity:1\" cx=\"472.188\" cy=\"73.9122\" r=\"3\"/>\n",
       "<circle clip-path=\"url(#clip02)\" style=\"fill:#000000; stroke:none; fill-opacity:1\" cx=\"524.335\" cy=\"75.1452\" r=\"4\"/>\n",
       "<circle clip-path=\"url(#clip02)\" style=\"fill:#009af9; stroke:none; fill-opacity:1\" cx=\"524.335\" cy=\"75.1452\" r=\"3\"/>\n",
       "<circle clip-path=\"url(#clip02)\" style=\"fill:#000000; stroke:none; fill-opacity:1\" cx=\"576.482\" cy=\"75.755\" r=\"4\"/>\n",
       "<circle clip-path=\"url(#clip02)\" style=\"fill:#009af9; stroke:none; fill-opacity:1\" cx=\"576.482\" cy=\"75.755\" r=\"3\"/>\n",
       "<polyline clip-path=\"url(#clip02)\" style=\"stroke:#e26f46; stroke-width:1; stroke-opacity:1; fill:none\" points=\"\n",
       "  44.7682,75.8374 94.6816,75.3283 124.677,74.8309 150.039,74.2085 163.813,73.7509 177.588,73.1726 190.287,72.4954 202.986,71.6308 216.6,70.4179 230.215,68.7921 \n",
       "  238.102,67.5983 245.989,66.1716 253.876,64.4694 261.763,62.4521 268.772,60.3757 275.781,58.042 282.79,55.5082 289.799,52.904 295.945,50.7347 302.091,48.8824 \n",
       "  305.165,48.1451 308.238,47.5689 311.311,47.1757 314.384,46.9809 317.735,47.0038 321.085,47.2708 324.436,47.7691 327.786,48.4756 331.137,49.3594 334.487,50.3853 \n",
       "  337.838,51.5165 341.188,52.7176 347.929,55.2198 354.67,57.6747 361.411,59.9571 368.152,62.0072 375.605,63.9853 383.058,65.6745 390.511,67.1059 397.964,68.3157 \n",
       "  405.055,69.2927 412.146,70.1274 419.237,70.843 426.329,71.4588 441.075,72.4874 455.822,73.2616 468.235,73.7714 480.649,74.1843 510.96,74.9122 539.453,75.3634 \n",
       "  585.101,75.8249 \n",
       "  \"/>\n",
       "<polyline clip-path=\"url(#clip02)\" style=\"stroke:#3da44d; stroke-width:1; stroke-opacity:1; fill:none\" points=\"\n",
       "  40.0448,358.389 40.7196,337.423 41.3944,317.43 42.0691,298.377 42.7439,280.232 43.4187,262.964 43.5874,258.781 43.756,254.649 43.9247,250.57 44.0934,246.542 \n",
       "  44.2621,242.566 44.4308,238.639 44.5995,234.763 44.7682,230.937 46.328,197.83 47.8878,168.591 48.6677,155.321 49.4476,142.898 50.2275,131.287 51.0074,120.452 \n",
       "  51.7873,110.357 52.5672,100.97 53.3471,92.2574 54.1269,84.1889 54.9068,76.734 55.6867,69.8636 56.4666,63.5493 57.2465,57.7642 58.8063,47.6769 60.3661,39.4027 \n",
       "  61.146,35.8873 61.9259,32.7567 62.7058,29.9902 63.4857,27.5673 65.0455,23.6752 66.6053,20.9334 67.3852,19.951 68.1651,19.2061 68.945,18.6832 69.7249,18.3678 \n",
       "  71.2847,18.3034 72.8445,18.907 74.4043,20.0818 75.964,21.7391 79.0836,26.186 82.2032,31.6879 85.3228,37.7885 88.4424,44.1221 91.562,50.4013 94.6816,56.4065 \n",
       "  98.431,63.037 102.181,68.8524 105.93,73.7473 109.679,77.6822 113.429,80.6687 117.178,82.7571 119.053,83.4881 120.928,84.0253 122.803,84.3813 124.677,84.5695 \n",
       "  131.018,84.145 137.358,82.4964 143.698,80.1365 150.039,77.5117 163.813,72.4598 177.588,69.7256 190.287,69.3783 202.986,70.2506 209.793,70.803 216.6,71.1799 \n",
       "  223.408,71.2299 230.215,70.8407 245.989,67.9757 261.763,62.6607 268.772,59.827 275.781,56.9246 282.79,54.1279 289.799,51.6084 302.091,48.3176 314.384,46.9742 \n",
       "  327.786,48.0197 341.188,51.4407 347.929,53.832 354.67,56.4967 361.411,59.2833 368.152,62.0362 375.605,64.8618 383.058,67.2891 390.511,69.1844 397.964,70.4701 \n",
       "  405.055,71.1157 412.146,71.2468 419.237,70.9684 426.329,70.4362 433.702,69.8217 441.075,69.3831 448.449,69.3577 455.822,69.946 462.029,71.0134 468.235,72.6243 \n",
       "  474.442,74.7246 480.649,77.1771 484.438,78.7535 488.227,80.309 492.015,81.7617 495.804,83.0185 499.593,83.9762 503.382,84.5238 507.171,84.5463 510.96,83.9285 \n",
       "  514.521,82.6656 518.083,80.658 521.645,77.8397 525.206,74.1667 532.329,64.2465 539.453,51.3504 542.306,45.6417 545.159,39.838 548.012,34.1434 550.865,28.8144 \n",
       "  553.718,24.1672 556.571,20.5858 559.424,18.5309 562.277,18.5494 565.13,21.2846 567.983,27.4879 569.409,32.1573 570.836,38.0306 572.262,45.2377 573.689,53.9175 \n",
       "  575.115,64.219 576.542,76.3008 577.968,90.3328 579.395,106.496 580.821,124.982 582.248,145.996 583.674,169.757 585.101,196.494 585.54,205.361 585.979,214.54 \n",
       "  586.418,224.039 586.857,233.866 587.735,254.535 588.613,276.612 589.053,288.199 589.492,300.163 589.931,312.513 590.37,325.257 590.809,338.405 591.248,351.966 \n",
       "  591.687,365.949 \n",
       "  \"/>\n",
       "<polygon clip-path=\"url(#clip00)\" points=\"\n",
       "501.61,89.234 574.126,89.234 574.126,28.754 501.61,28.754 \n",
       "  \" fill=\"#ffffff\" fill-opacity=\"1\"/>\n",
       "<polyline clip-path=\"url(#clip00)\" style=\"stroke:#000000; stroke-width:1; stroke-opacity:1; fill:none\" points=\"\n",
       "  501.61,89.234 574.126,89.234 574.126,28.754 501.61,28.754 501.61,89.234 \n",
       "  \"/>\n",
       "<circle clip-path=\"url(#clip00)\" style=\"fill:#000000; stroke:none; fill-opacity:1\" cx=\"528.61\" cy=\"43.874\" r=\"6\"/>\n",
       "<circle clip-path=\"url(#clip00)\" style=\"fill:#009af9; stroke:none; fill-opacity:1\" cx=\"528.61\" cy=\"43.874\" r=\"5\"/>\n",
       "<g clip-path=\"url(#clip00)\">\n",
       "<text style=\"fill:#000000; fill-opacity:1; font-family:Arial,Helvetica Neue,Helvetica,sans-serif; font-size:12; text-anchor:start;\" transform=\"rotate(0, 549.61, 48.374)\" x=\"549.61\" y=\"48.374\">y1</text>\n",
       "</g>\n",
       "<polyline clip-path=\"url(#clip00)\" style=\"stroke:#e26f46; stroke-width:1; stroke-opacity:1; fill:none\" points=\"\n",
       "  507.61,58.994 543.61,58.994 \n",
       "  \"/>\n",
       "<g clip-path=\"url(#clip00)\">\n",
       "<text style=\"fill:#000000; fill-opacity:1; font-family:Arial,Helvetica Neue,Helvetica,sans-serif; font-size:12; text-anchor:start;\" transform=\"rotate(0, 549.61, 63.494)\" x=\"549.61\" y=\"63.494\">y2</text>\n",
       "</g>\n",
       "<polyline clip-path=\"url(#clip00)\" style=\"stroke:#3da44d; stroke-width:1; stroke-opacity:1; fill:none\" points=\"\n",
       "  507.61,74.114 543.61,74.114 \n",
       "  \"/>\n",
       "<g clip-path=\"url(#clip00)\">\n",
       "<text style=\"fill:#000000; fill-opacity:1; font-family:Arial,Helvetica Neue,Helvetica,sans-serif; font-size:12; text-anchor:start;\" transform=\"rotate(0, 549.61, 78.614)\" x=\"549.61\" y=\"78.614\">y3</text>\n",
       "</g>\n",
       "</svg>\n"
      ]
     },
     "execution_count": 77,
     "metadata": {
      "comm_id": "f00f7524-812d-43d6-98f7-f1ae4a80fee2",
      "reactive": true
     },
     "output_type": "execute_result"
    }
   ],
   "source": [
    "# [5]\n",
    "f(x) = 1/(1 + 25x^2)\n",
    "@manipulate for n = 1:20\n",
    "    x = -1:2/n:1\n",
    "    y = f.(x)\n",
    "    s = interpola3(zip(x, y))\n",
    "    scatter(x, f.(x), xlims=[-1,1])\n",
    "    plot!(f)\n",
    "    plot!(s)\n",
    "end"
   ]
  },
  {
   "cell_type": "markdown",
   "metadata": {},
   "source": [
    "## Interpolación en puntos espaciados no-uniformemente"
   ]
  },
  {
   "cell_type": "markdown",
   "metadata": {},
   "source": [
    "Resulta que la solución es tomar puntos en el intervalo $[-1,1]$, espaciados tales que se amontonen cerca de los puntos extremos del intervalo. [La razón por esto se puede entender con la teoría de potenciales (\"potential theory\"); ver e.g. Trefethen, *Approximation Theory and Approximation Practice*.] \n",
    "\n",
    "Lo más común es utilizar los **puntos de Chebyshev** con parámetro $n$, definidos como \n",
    "\n",
    "$$x_j := \\cos \\left( \\frac{j \\pi}{n} \\right) \\quad \\text{con } 0 \\le j \\le n.$$"
   ]
  },
  {
   "cell_type": "markdown",
   "metadata": {},
   "source": [
    "**[6]** (i) Escribe una función que calcula los puntos de Chebyshev para un valor de $n$ dado.\n",
    "\n",
    "(ii) Escribe una función que interpola una función dada en los puntos de Chebyshev. Grafica los resultados.\n",
    "\n",
    "(iii) Interpola la función de Runge en los puntos de Chebyshev para distintos valores de $n$. ¿Qué observas?"
   ]
  },
  {
   "cell_type": "code",
   "execution_count": 78,
   "metadata": {},
   "outputs": [
    {
     "data": {
      "text/plain": [
       "chebyshev_puntos (generic function with 1 method)"
      ]
     },
     "execution_count": 78,
     "metadata": {},
     "output_type": "execute_result"
    }
   ],
   "source": [
    "# [6] i)\n",
    "function chebyshev_puntos(n)\n",
    "    xj = [cos((j*π)/n) for j in 0:n]\n",
    "    return xj\n",
    "end"
   ]
  },
  {
   "cell_type": "code",
   "execution_count": 81,
   "metadata": {},
   "outputs": [
    {
     "data": {
      "text/plain": [
       "interpola_cheb (generic function with 1 method)"
      ]
     },
     "execution_count": 81,
     "metadata": {},
     "output_type": "execute_result"
    }
   ],
   "source": [
    "#[6] ii)\n",
    "function interpola_cheb(f, n)\n",
    "    pC = chebyshev_puntos(n)\n",
    "    pares = zip(pC, f.(pC))\n",
    "    L = interpola3(pares)\n",
    "    return L\n",
    "end"
   ]
  },
  {
   "cell_type": "code",
   "execution_count": 82,
   "metadata": {},
   "outputs": [
    {
     "data": {
      "text/html": [],
      "text/plain": [
       "Interact.Options{:SelectionSlider,Int64}(7: \"input-3\" = 20 Int64 , \"n\", 20, \"20\", Interact.OptionDict(DataStructures.OrderedDict(\"1\"=>1,\"2\"=>2,\"3\"=>3,\"4\"=>4,\"5\"=>5,\"6\"=>6,\"7\"=>7,\"8\"=>8,\"9\"=>9,\"10\"=>10…), Dict(18=>\"18\",30=>\"30\",33=>\"33\",32=>\"32\",2=>\"2\",40=>\"40\",16=>\"16\",11=>\"11\",21=>\"21\",39=>\"39\"…)), Any[], Any[], true, \"horizontal\")"
      ]
     },
     "metadata": {},
     "output_type": "display_data"
    },
    {
     "data": {
      "text/html": [
       "<?xml version=\"1.0\" encoding=\"utf-8\"?>\n",
       "<svg xmlns=\"http://www.w3.org/2000/svg\" xmlns:xlink=\"http://www.w3.org/1999/xlink\" width=\"600\" height=\"400\" viewBox=\"0 0 600 400\">\n",
       "<defs>\n",
       "  <clipPath id=\"clip00\">\n",
       "    <rect x=\"0\" y=\"0\" width=\"600\" height=\"400\"/>\n",
       "  </clipPath>\n",
       "</defs>\n",
       "<polygon clip-path=\"url(#clip00)\" points=\"\n",
       "0,400 600,400 600,0 0,0 \n",
       "  \" fill=\"#ffffff\" fill-opacity=\"1\"/>\n",
       "<defs>\n",
       "  <clipPath id=\"clip01\">\n",
       "    <rect x=\"120\" y=\"0\" width=\"421\" height=\"400\"/>\n",
       "  </clipPath>\n",
       "</defs>\n",
       "<polygon clip-path=\"url(#clip00)\" points=\"\n",
       "39.3701,376.378 592.126,376.378 592.126,7.87402 39.3701,7.87402 \n",
       "  \" fill=\"#ffffff\" fill-opacity=\"1\"/>\n",
       "<defs>\n",
       "  <clipPath id=\"clip02\">\n",
       "    <rect x=\"39\" y=\"7\" width=\"554\" height=\"370\"/>\n",
       "  </clipPath>\n",
       "</defs>\n",
       "<polyline clip-path=\"url(#clip02)\" style=\"stroke:#000000; stroke-width:0.5; stroke-opacity:0.1; fill:none\" points=\"\n",
       "  55.0141,370.85 55.0141,13.4016 \n",
       "  \"/>\n",
       "<polyline clip-path=\"url(#clip02)\" style=\"stroke:#000000; stroke-width:0.5; stroke-opacity:0.1; fill:none\" points=\"\n",
       "  315.748,370.85 315.748,13.4016 \n",
       "  \"/>\n",
       "<polyline clip-path=\"url(#clip02)\" style=\"stroke:#000000; stroke-width:0.5; stroke-opacity:0.1; fill:none\" points=\"\n",
       "  576.482,370.85 576.482,13.4016 \n",
       "  \"/>\n",
       "<polyline clip-path=\"url(#clip02)\" style=\"stroke:#000000; stroke-width:0.5; stroke-opacity:0.1; fill:none\" points=\"\n",
       "  47.6614,314.649 583.835,314.649 \n",
       "  \"/>\n",
       "<polyline clip-path=\"url(#clip02)\" style=\"stroke:#000000; stroke-width:0.5; stroke-opacity:0.1; fill:none\" points=\"\n",
       "  47.6614,252.38 583.835,252.38 \n",
       "  \"/>\n",
       "<polyline clip-path=\"url(#clip02)\" style=\"stroke:#000000; stroke-width:0.5; stroke-opacity:0.1; fill:none\" points=\"\n",
       "  47.6614,190.11 583.835,190.11 \n",
       "  \"/>\n",
       "<polyline clip-path=\"url(#clip02)\" style=\"stroke:#000000; stroke-width:0.5; stroke-opacity:0.1; fill:none\" points=\"\n",
       "  47.6614,127.841 583.835,127.841 \n",
       "  \"/>\n",
       "<polyline clip-path=\"url(#clip02)\" style=\"stroke:#000000; stroke-width:0.5; stroke-opacity:0.1; fill:none\" points=\"\n",
       "  47.6614,65.5709 583.835,65.5709 \n",
       "  \"/>\n",
       "<polyline clip-path=\"url(#clip00)\" style=\"stroke:#000000; stroke-width:1; stroke-opacity:1; fill:none\" points=\"\n",
       "  39.3701,376.378 592.126,376.378 \n",
       "  \"/>\n",
       "<polyline clip-path=\"url(#clip00)\" style=\"stroke:#000000; stroke-width:1; stroke-opacity:1; fill:none\" points=\"\n",
       "  55.0141,376.378 55.0141,370.85 \n",
       "  \"/>\n",
       "<polyline clip-path=\"url(#clip00)\" style=\"stroke:#000000; stroke-width:1; stroke-opacity:1; fill:none\" points=\"\n",
       "  315.748,376.378 315.748,370.85 \n",
       "  \"/>\n",
       "<polyline clip-path=\"url(#clip00)\" style=\"stroke:#000000; stroke-width:1; stroke-opacity:1; fill:none\" points=\"\n",
       "  576.482,376.378 576.482,370.85 \n",
       "  \"/>\n",
       "<polyline clip-path=\"url(#clip00)\" style=\"stroke:#000000; stroke-width:1; stroke-opacity:1; fill:none\" points=\"\n",
       "  39.3701,376.378 39.3701,7.87402 \n",
       "  \"/>\n",
       "<polyline clip-path=\"url(#clip00)\" style=\"stroke:#000000; stroke-width:1; stroke-opacity:1; fill:none\" points=\"\n",
       "  39.3701,314.649 47.6614,314.649 \n",
       "  \"/>\n",
       "<polyline clip-path=\"url(#clip00)\" style=\"stroke:#000000; stroke-width:1; stroke-opacity:1; fill:none\" points=\"\n",
       "  39.3701,252.38 47.6614,252.38 \n",
       "  \"/>\n",
       "<polyline clip-path=\"url(#clip00)\" style=\"stroke:#000000; stroke-width:1; stroke-opacity:1; fill:none\" points=\"\n",
       "  39.3701,190.11 47.6614,190.11 \n",
       "  \"/>\n",
       "<polyline clip-path=\"url(#clip00)\" style=\"stroke:#000000; stroke-width:1; stroke-opacity:1; fill:none\" points=\"\n",
       "  39.3701,127.841 47.6614,127.841 \n",
       "  \"/>\n",
       "<polyline clip-path=\"url(#clip00)\" style=\"stroke:#000000; stroke-width:1; stroke-opacity:1; fill:none\" points=\"\n",
       "  39.3701,65.5709 47.6614,65.5709 \n",
       "  \"/>\n",
       "<g clip-path=\"url(#clip00)\">\n",
       "<text style=\"fill:#000000; fill-opacity:1; font-family:Arial,Helvetica Neue,Helvetica,sans-serif; font-size:12; text-anchor:middle;\" transform=\"rotate(0, 55.0141, 390.178)\" x=\"55.0141\" y=\"390.178\">-1</text>\n",
       "</g>\n",
       "<g clip-path=\"url(#clip00)\">\n",
       "<text style=\"fill:#000000; fill-opacity:1; font-family:Arial,Helvetica Neue,Helvetica,sans-serif; font-size:12; text-anchor:middle;\" transform=\"rotate(0, 315.748, 390.178)\" x=\"315.748\" y=\"390.178\">0</text>\n",
       "</g>\n",
       "<g clip-path=\"url(#clip00)\">\n",
       "<text style=\"fill:#000000; fill-opacity:1; font-family:Arial,Helvetica Neue,Helvetica,sans-serif; font-size:12; text-anchor:middle;\" transform=\"rotate(0, 576.482, 390.178)\" x=\"576.482\" y=\"390.178\">1</text>\n",
       "</g>\n",
       "<g clip-path=\"url(#clip00)\">\n",
       "<text style=\"fill:#000000; fill-opacity:1; font-family:Arial,Helvetica Neue,Helvetica,sans-serif; font-size:12; text-anchor:end;\" transform=\"rotate(0, 33.3701, 319.149)\" x=\"33.3701\" y=\"319.149\">0.2</text>\n",
       "</g>\n",
       "<g clip-path=\"url(#clip00)\">\n",
       "<text style=\"fill:#000000; fill-opacity:1; font-family:Arial,Helvetica Neue,Helvetica,sans-serif; font-size:12; text-anchor:end;\" transform=\"rotate(0, 33.3701, 256.88)\" x=\"33.3701\" y=\"256.88\">0.4</text>\n",
       "</g>\n",
       "<g clip-path=\"url(#clip00)\">\n",
       "<text style=\"fill:#000000; fill-opacity:1; font-family:Arial,Helvetica Neue,Helvetica,sans-serif; font-size:12; text-anchor:end;\" transform=\"rotate(0, 33.3701, 194.61)\" x=\"33.3701\" y=\"194.61\">0.6</text>\n",
       "</g>\n",
       "<g clip-path=\"url(#clip00)\">\n",
       "<text style=\"fill:#000000; fill-opacity:1; font-family:Arial,Helvetica Neue,Helvetica,sans-serif; font-size:12; text-anchor:end;\" transform=\"rotate(0, 33.3701, 132.341)\" x=\"33.3701\" y=\"132.341\">0.8</text>\n",
       "</g>\n",
       "<g clip-path=\"url(#clip00)\">\n",
       "<text style=\"fill:#000000; fill-opacity:1; font-family:Arial,Helvetica Neue,Helvetica,sans-serif; font-size:12; text-anchor:end;\" transform=\"rotate(0, 33.3701, 70.0709)\" x=\"33.3701\" y=\"70.0709\">1.0</text>\n",
       "</g>\n",
       "<circle clip-path=\"url(#clip02)\" style=\"fill:#000000; stroke:none; fill-opacity:1\" cx=\"576.482\" cy=\"364.944\" r=\"4\"/>\n",
       "<circle clip-path=\"url(#clip02)\" style=\"fill:#009af9; stroke:none; fill-opacity:1\" cx=\"576.482\" cy=\"364.944\" r=\"3\"/>\n",
       "<circle clip-path=\"url(#clip02)\" style=\"fill:#000000; stroke:none; fill-opacity:1\" cx=\"573.272\" cy=\"364.656\" r=\"4\"/>\n",
       "<circle clip-path=\"url(#clip02)\" style=\"fill:#009af9; stroke:none; fill-opacity:1\" cx=\"573.272\" cy=\"364.656\" r=\"3\"/>\n",
       "<circle clip-path=\"url(#clip02)\" style=\"fill:#000000; stroke:none; fill-opacity:1\" cx=\"563.721\" cy=\"363.733\" r=\"4\"/>\n",
       "<circle clip-path=\"url(#clip02)\" style=\"fill:#009af9; stroke:none; fill-opacity:1\" cx=\"563.721\" cy=\"363.733\" r=\"3\"/>\n",
       "<circle clip-path=\"url(#clip02)\" style=\"fill:#000000; stroke:none; fill-opacity:1\" cx=\"548.064\" cy=\"361.984\" r=\"4\"/>\n",
       "<circle clip-path=\"url(#clip02)\" style=\"fill:#009af9; stroke:none; fill-opacity:1\" cx=\"548.064\" cy=\"361.984\" r=\"3\"/>\n",
       "<circle clip-path=\"url(#clip02)\" style=\"fill:#000000; stroke:none; fill-opacity:1\" cx=\"526.686\" cy=\"358.987\" r=\"4\"/>\n",
       "<circle clip-path=\"url(#clip02)\" style=\"fill:#009af9; stroke:none; fill-opacity:1\" cx=\"526.686\" cy=\"358.987\" r=\"3\"/>\n",
       "<circle clip-path=\"url(#clip02)\" style=\"fill:#000000; stroke:none; fill-opacity:1\" cx=\"500.115\" cy=\"353.856\" r=\"4\"/>\n",
       "<circle clip-path=\"url(#clip02)\" style=\"fill:#009af9; stroke:none; fill-opacity:1\" cx=\"500.115\" cy=\"353.856\" r=\"3\"/>\n",
       "<circle clip-path=\"url(#clip02)\" style=\"fill:#000000; stroke:none; fill-opacity:1\" cx=\"469.004\" cy=\"344.612\" r=\"4\"/>\n",
       "<circle clip-path=\"url(#clip02)\" style=\"fill:#009af9; stroke:none; fill-opacity:1\" cx=\"469.004\" cy=\"344.612\" r=\"3\"/>\n",
       "<circle clip-path=\"url(#clip02)\" style=\"fill:#000000; stroke:none; fill-opacity:1\" cx=\"434.119\" cy=\"326.315\" r=\"4\"/>\n",
       "<circle clip-path=\"url(#clip02)\" style=\"fill:#009af9; stroke:none; fill-opacity:1\" cx=\"434.119\" cy=\"326.315\" r=\"3\"/>\n",
       "<circle clip-path=\"url(#clip02)\" style=\"fill:#000000; stroke:none; fill-opacity:1\" cx=\"396.319\" cy=\"285.002\" r=\"4\"/>\n",
       "<circle clip-path=\"url(#clip02)\" style=\"fill:#009af9; stroke:none; fill-opacity:1\" cx=\"396.319\" cy=\"285.002\" r=\"3\"/>\n",
       "<circle clip-path=\"url(#clip02)\" style=\"fill:#000000; stroke:none; fill-opacity:1\" cx=\"356.536\" cy=\"183.75\" r=\"4\"/>\n",
       "<circle clip-path=\"url(#clip02)\" style=\"fill:#009af9; stroke:none; fill-opacity:1\" cx=\"356.536\" cy=\"183.75\" r=\"3\"/>\n",
       "<circle clip-path=\"url(#clip02)\" style=\"fill:#000000; stroke:none; fill-opacity:1\" cx=\"315.748\" cy=\"65.5709\" r=\"4\"/>\n",
       "<circle clip-path=\"url(#clip02)\" style=\"fill:#009af9; stroke:none; fill-opacity:1\" cx=\"315.748\" cy=\"65.5709\" r=\"3\"/>\n",
       "<circle clip-path=\"url(#clip02)\" style=\"fill:#000000; stroke:none; fill-opacity:1\" cx=\"274.96\" cy=\"183.75\" r=\"4\"/>\n",
       "<circle clip-path=\"url(#clip02)\" style=\"fill:#009af9; stroke:none; fill-opacity:1\" cx=\"274.96\" cy=\"183.75\" r=\"3\"/>\n",
       "<circle clip-path=\"url(#clip02)\" style=\"fill:#000000; stroke:none; fill-opacity:1\" cx=\"235.177\" cy=\"285.002\" r=\"4\"/>\n",
       "<circle clip-path=\"url(#clip02)\" style=\"fill:#009af9; stroke:none; fill-opacity:1\" cx=\"235.177\" cy=\"285.002\" r=\"3\"/>\n",
       "<circle clip-path=\"url(#clip02)\" style=\"fill:#000000; stroke:none; fill-opacity:1\" cx=\"197.377\" cy=\"326.315\" r=\"4\"/>\n",
       "<circle clip-path=\"url(#clip02)\" style=\"fill:#009af9; stroke:none; fill-opacity:1\" cx=\"197.377\" cy=\"326.315\" r=\"3\"/>\n",
       "<circle clip-path=\"url(#clip02)\" style=\"fill:#000000; stroke:none; fill-opacity:1\" cx=\"162.492\" cy=\"344.612\" r=\"4\"/>\n",
       "<circle clip-path=\"url(#clip02)\" style=\"fill:#009af9; stroke:none; fill-opacity:1\" cx=\"162.492\" cy=\"344.612\" r=\"3\"/>\n",
       "<circle clip-path=\"url(#clip02)\" style=\"fill:#000000; stroke:none; fill-opacity:1\" cx=\"131.381\" cy=\"353.856\" r=\"4\"/>\n",
       "<circle clip-path=\"url(#clip02)\" style=\"fill:#009af9; stroke:none; fill-opacity:1\" cx=\"131.381\" cy=\"353.856\" r=\"3\"/>\n",
       "<circle clip-path=\"url(#clip02)\" style=\"fill:#000000; stroke:none; fill-opacity:1\" cx=\"104.81\" cy=\"358.987\" r=\"4\"/>\n",
       "<circle clip-path=\"url(#clip02)\" style=\"fill:#009af9; stroke:none; fill-opacity:1\" cx=\"104.81\" cy=\"358.987\" r=\"3\"/>\n",
       "<circle clip-path=\"url(#clip02)\" style=\"fill:#000000; stroke:none; fill-opacity:1\" cx=\"83.4324\" cy=\"361.984\" r=\"4\"/>\n",
       "<circle clip-path=\"url(#clip02)\" style=\"fill:#009af9; stroke:none; fill-opacity:1\" cx=\"83.4324\" cy=\"361.984\" r=\"3\"/>\n",
       "<circle clip-path=\"url(#clip02)\" style=\"fill:#000000; stroke:none; fill-opacity:1\" cx=\"67.7753\" cy=\"363.733\" r=\"4\"/>\n",
       "<circle clip-path=\"url(#clip02)\" style=\"fill:#009af9; stroke:none; fill-opacity:1\" cx=\"67.7753\" cy=\"363.733\" r=\"3\"/>\n",
       "<circle clip-path=\"url(#clip02)\" style=\"fill:#000000; stroke:none; fill-opacity:1\" cx=\"58.2242\" cy=\"364.656\" r=\"4\"/>\n",
       "<circle clip-path=\"url(#clip02)\" style=\"fill:#009af9; stroke:none; fill-opacity:1\" cx=\"58.2242\" cy=\"364.656\" r=\"3\"/>\n",
       "<circle clip-path=\"url(#clip02)\" style=\"fill:#000000; stroke:none; fill-opacity:1\" cx=\"55.0141\" cy=\"364.944\" r=\"4\"/>\n",
       "<circle clip-path=\"url(#clip02)\" style=\"fill:#009af9; stroke:none; fill-opacity:1\" cx=\"55.0141\" cy=\"364.944\" r=\"3\"/>\n",
       "<polyline clip-path=\"url(#clip02)\" style=\"stroke:#e26f46; stroke-width:1; stroke-opacity:1; fill:none\" points=\"\n",
       "  44.7682,365.801 94.6816,360.508 124.677,355.336 150.039,348.865 163.813,344.108 177.588,338.096 190.287,331.055 202.986,322.065 209.793,316.209 216.6,309.455 \n",
       "  223.408,301.635 230.215,292.551 238.102,280.14 245.989,265.307 253.876,247.61 261.763,226.636 268.772,205.048 275.781,180.785 282.79,154.441 289.799,127.366 \n",
       "  295.945,104.812 302.091,85.5541 305.165,77.8882 308.238,71.8978 311.311,67.809 314.384,65.7838 317.735,66.0221 321.085,68.7985 324.436,73.9791 327.786,81.3239 \n",
       "  331.137,90.5129 334.487,101.179 337.838,112.94 341.188,125.428 347.929,151.443 354.67,176.966 361.411,200.696 368.152,222.011 375.605,242.576 383.058,260.139 \n",
       "  390.511,275.021 397.964,287.598 405.055,297.756 412.146,306.435 419.237,313.875 426.329,320.277 441.075,330.971 455.822,339.021 468.235,344.32 480.649,348.614 \n",
       "  495.804,352.825 510.96,356.182 525.206,358.748 539.453,360.873 562.277,363.585 585.101,365.671 588.613,365.949 \n",
       "  \"/>\n",
       "<polyline clip-path=\"url(#clip02)\" style=\"stroke:#3da44d; stroke-width:1; stroke-opacity:1; fill:none\" points=\"\n",
       "  39.5388,18.3034 39.7075,32.6615 39.8762,46.5127 40.0448,59.8723 40.2135,72.7551 40.3822,85.1754 40.5509,97.1473 40.7196,108.684 40.8883,119.8 41.057,130.508 \n",
       "  41.2257,140.82 41.3944,150.748 41.5631,160.305 41.7318,169.503 41.9004,178.352 42.0691,186.863 42.2378,195.049 42.4065,202.918 42.5752,210.482 42.7439,217.749 \n",
       "  42.9126,224.731 43.0813,231.435 43.25,237.872 43.4187,244.05 43.5874,249.978 43.756,255.665 43.9247,261.117 44.0934,266.344 44.2621,271.353 44.4308,276.152 \n",
       "  44.5995,280.747 44.7682,285.147 45.5481,303.128 46.328,317.684 47.1079,329.358 47.8878,338.623 48.6677,345.887 49.4476,351.501 50.2275,355.766 51.0074,358.94 \n",
       "  52.5672,362.844 54.1269,364.567 55.6867,365.042 57.2465,364.89 60.3661,364.097 63.4857,363.63 66.6053,363.653 69.7249,363.88 75.964,363.773 82.2032,362.36 \n",
       "  88.4424,360.46 94.6816,359.17 102.181,358.885 109.679,359.157 117.178,358.659 124.677,356.676 137.358,351.065 150.039,346.491 163.813,344.465 177.588,341.265 \n",
       "  183.937,337.912 190.287,333.114 196.636,327.082 202.986,320.244 216.6,305.085 230.215,290.667 238.102,281.323 245.989,269.35 249.933,261.844 253.876,253.09 \n",
       "  257.819,242.973 261.763,231.448 268.772,207.65 275.781,180.436 282.79,151.507 289.799,123.21 292.872,111.682 295.945,101.016 297.482,96.0744 299.018,91.4282 \n",
       "  300.555,87.102 302.091,83.1188 302.86,81.2625 303.628,79.4999 304.396,77.8333 305.165,76.2649 305.933,74.797 306.701,73.4316 307.469,72.1704 308.238,71.0153 \n",
       "  309.006,69.9679 309.774,69.0295 310.543,68.2016 311.311,67.4851 312.079,66.8813 312.847,66.3908 313.616,66.0143 314.384,65.7525 315.222,65.598 316.059,65.5804 \n",
       "  316.897,65.6997 317.735,65.9558 319.41,66.8762 321.085,68.3355 322.76,70.3241 324.436,72.8288 325.273,74.2697 326.111,75.8332 326.949,77.5168 327.786,79.3177 \n",
       "  328.624,81.2331 329.461,83.2598 330.299,85.3946 331.137,87.634 331.974,89.9746 332.812,92.4125 333.65,94.944 334.487,97.5652 336.163,103.06 337.838,108.863 \n",
       "  339.513,114.938 341.188,121.251 342.031,124.504 342.874,127.803 343.716,131.143 344.559,134.519 345.401,137.927 346.244,141.361 347.087,144.818 347.929,148.293 \n",
       "  348.772,151.78 349.614,155.276 350.457,158.775 351.3,162.274 352.142,165.768 352.985,169.253 353.828,172.725 354.67,176.18 355.513,179.614 356.355,183.024 \n",
       "  357.198,186.405 358.041,189.754 358.883,193.068 359.726,196.345 360.568,199.58 361.411,202.771 362.254,205.915 363.096,209.011 363.939,212.055 364.781,215.045 \n",
       "  365.624,217.98 366.467,220.858 367.309,223.678 368.152,226.437 368.618,227.936 369.084,229.416 369.549,230.877 370.015,232.319 370.481,233.742 370.947,235.145 \n",
       "  371.413,236.528 371.878,237.892 372.344,239.237 372.81,240.561 373.043,241.216 373.276,241.866 373.509,242.511 373.742,243.151 374.207,244.417 374.673,245.663 \n",
       "  375.139,246.889 375.605,248.095 376.071,249.282 376.536,250.449 377.002,251.597 377.468,252.726 377.934,253.836 378.4,254.926 378.866,255.998 379.331,257.051 \n",
       "  379.797,258.086 380.263,259.102 380.729,260.1 381.195,261.08 381.66,262.043 382.126,262.988 382.592,263.916 383.058,264.827 383.989,266.6 384.921,268.308 \n",
       "  385.853,269.954 386.784,271.54 387.716,273.07 388.647,274.545 389.579,275.969 390.511,277.344 391.442,278.674 392.374,279.96 393.306,281.207 394.237,282.417 \n",
       "  395.169,283.593 396.1,284.738 397.032,285.854 397.964,286.946 399.736,288.962 401.509,290.915 403.282,292.822 405.055,294.698 406.828,296.557 408.601,298.412 \n",
       "  410.373,300.271 412.146,302.143 413.033,303.086 413.919,304.034 414.805,304.987 415.692,305.947 416.578,306.911 417.465,307.882 418.351,308.858 419.237,309.839 \n",
       "  420.124,310.826 421.01,311.816 421.897,312.81 422.783,313.806 423.67,314.805 424.556,315.804 425.442,316.803 426.329,317.801 426.79,318.319 427.25,318.836 \n",
       "  427.711,319.352 428.172,319.867 428.633,320.38 429.094,320.892 429.555,321.402 430.015,321.91 430.476,322.416 430.937,322.92 431.398,323.421 431.859,323.919 \n",
       "  432.32,324.414 432.78,324.906 433.241,325.395 433.702,325.88 434.163,326.361 434.624,326.839 435.085,327.312 435.545,327.781 436.006,328.245 436.467,328.704 \n",
       "  436.928,329.159 437.389,329.608 437.85,330.053 438.31,330.491 438.771,330.924 439.232,331.351 439.693,331.773 440.154,332.188 440.614,332.596 441.075,332.999 \n",
       "  441.536,333.395 441.997,333.784 442.458,334.166 442.919,334.541 443.379,334.909 443.84,335.27 444.301,335.624 444.762,335.971 445.223,336.31 445.684,336.641 \n",
       "  446.144,336.965 446.605,337.281 447.066,337.59 447.527,337.891 447.988,338.184 448.449,338.47 448.909,338.747 449.37,339.017 449.831,339.279 450.292,339.534 \n",
       "  450.753,339.78 451.214,340.019 451.674,340.25 452.135,340.474 452.596,340.69 453.057,340.899 453.518,341.1 453.979,341.294 454.439,341.481 454.9,341.66 \n",
       "  455.361,341.833 455.822,341.999 456.598,342.263 457.374,342.509 458.149,342.737 458.925,342.948 459.701,343.143 460.477,343.323 461.253,343.489 462.029,343.642 \n",
       "  463.58,343.913 465.132,344.145 466.684,344.347 468.235,344.528 469.787,344.697 471.339,344.866 472.89,345.041 474.442,345.232 475.994,345.448 477.545,345.694 \n",
       "  479.097,345.978 480.649,346.304 482.543,346.764 484.438,347.296 486.332,347.901 488.227,348.578 490.121,349.319 492.015,350.117 493.91,350.961 495.804,351.835 \n",
       "  497.699,352.726 499.593,353.614 501.488,354.483 503.382,355.316 505.276,356.093 507.171,356.802 509.065,357.427 510.96,357.96 512.74,358.371 514.521,358.692 \n",
       "  516.302,358.924 518.083,359.073 519.864,359.147 521.645,359.158 523.425,359.121 525.206,359.053 526.987,358.974 528.768,358.902 530.549,358.858 532.329,358.86 \n",
       "  534.11,358.925 535.891,359.065 537.672,359.288 539.453,359.596 540.879,359.903 542.306,360.258 543.732,360.653 545.159,361.078 546.585,361.521 548.012,361.968 \n",
       "  549.438,362.403 550.865,362.811 552.291,363.175 553.718,363.482 555.144,363.721 556.571,363.885 557.997,363.971 559.424,363.984 560.85,363.936 562.277,363.844 \n",
       "  562.99,363.79 563.703,363.735 564.417,363.683 565.13,363.639 565.843,363.608 566.556,363.593 567.27,363.598 567.983,363.628 568.696,363.685 569.409,363.771 \n",
       "  570.123,363.887 570.836,364.03 571.193,364.112 571.549,364.198 571.906,364.289 572.262,364.384 572.619,364.48 572.976,364.577 573.332,364.671 573.689,364.762 \n",
       "  574.046,364.846 574.402,364.92 574.759,364.981 575.115,365.024 575.472,365.046 575.829,365.041 576.185,365.004 576.542,364.929 576.899,364.808 577.255,364.634 \n",
       "  577.612,364.4 577.968,364.095 578.325,363.71 578.682,363.234 579.038,362.654 579.395,361.958 579.752,361.131 580.108,360.158 580.465,359.022 580.821,357.705 \n",
       "  581.178,356.186 581.535,354.446 581.891,352.46 582.248,350.205 582.605,347.653 582.961,344.775 583.318,341.542 583.674,337.92 584.031,333.873 584.388,329.365 \n",
       "  584.744,324.353 585.101,318.795 585.156,317.888 585.211,316.967 585.266,316.032 585.32,315.082 585.375,314.118 585.43,313.138 585.485,312.144 585.54,311.134 \n",
       "  585.595,310.108 585.65,309.067 585.705,308.01 585.76,306.937 585.814,305.848 585.869,304.742 585.924,303.62 585.979,302.481 586.034,301.325 586.089,300.151 \n",
       "  586.144,298.96 586.199,297.752 586.253,296.525 586.308,295.281 586.363,294.018 586.418,292.736 586.473,291.436 586.528,290.117 586.583,288.779 586.638,287.421 \n",
       "  586.693,286.044 586.747,284.646 586.802,283.229 586.857,281.791 586.912,280.333 586.967,278.854 587.022,277.353 587.077,275.832 587.132,274.289 587.186,272.724 \n",
       "  587.241,271.137 587.296,269.528 587.351,267.896 587.406,266.241 587.461,264.564 587.516,262.862 587.571,261.138 587.626,259.389 587.68,257.616 587.735,255.819 \n",
       "  587.79,253.997 587.845,252.151 587.9,250.278 587.955,248.381 588.01,246.457 588.065,244.508 588.12,242.532 588.174,240.529 588.284,236.442 588.394,232.245 \n",
       "  588.504,227.935 588.613,223.51 588.833,214.303 589.053,204.604 589.272,194.39 589.492,183.64 589.711,172.33 589.931,160.435 590.15,147.932 590.37,134.794 \n",
       "  590.589,120.995 590.809,106.506 591.028,91.2997 591.248,75.3454 591.467,58.613 591.687,41.0704 591.906,22.685 \n",
       "  \"/>\n",
       "<polygon clip-path=\"url(#clip00)\" points=\"\n",
       "501.61,89.234 574.126,89.234 574.126,28.754 501.61,28.754 \n",
       "  \" fill=\"#ffffff\" fill-opacity=\"1\"/>\n",
       "<polyline clip-path=\"url(#clip00)\" style=\"stroke:#000000; stroke-width:1; stroke-opacity:1; fill:none\" points=\"\n",
       "  501.61,89.234 574.126,89.234 574.126,28.754 501.61,28.754 501.61,89.234 \n",
       "  \"/>\n",
       "<circle clip-path=\"url(#clip00)\" style=\"fill:#000000; stroke:none; fill-opacity:1\" cx=\"528.61\" cy=\"43.874\" r=\"6\"/>\n",
       "<circle clip-path=\"url(#clip00)\" style=\"fill:#009af9; stroke:none; fill-opacity:1\" cx=\"528.61\" cy=\"43.874\" r=\"5\"/>\n",
       "<g clip-path=\"url(#clip00)\">\n",
       "<text style=\"fill:#000000; fill-opacity:1; font-family:Arial,Helvetica Neue,Helvetica,sans-serif; font-size:12; text-anchor:start;\" transform=\"rotate(0, 549.61, 48.374)\" x=\"549.61\" y=\"48.374\">y1</text>\n",
       "</g>\n",
       "<polyline clip-path=\"url(#clip00)\" style=\"stroke:#e26f46; stroke-width:1; stroke-opacity:1; fill:none\" points=\"\n",
       "  507.61,58.994 543.61,58.994 \n",
       "  \"/>\n",
       "<g clip-path=\"url(#clip00)\">\n",
       "<text style=\"fill:#000000; fill-opacity:1; font-family:Arial,Helvetica Neue,Helvetica,sans-serif; font-size:12; text-anchor:start;\" transform=\"rotate(0, 549.61, 63.494)\" x=\"549.61\" y=\"63.494\">y2</text>\n",
       "</g>\n",
       "<polyline clip-path=\"url(#clip00)\" style=\"stroke:#3da44d; stroke-width:1; stroke-opacity:1; fill:none\" points=\"\n",
       "  507.61,74.114 543.61,74.114 \n",
       "  \"/>\n",
       "<g clip-path=\"url(#clip00)\">\n",
       "<text style=\"fill:#000000; fill-opacity:1; font-family:Arial,Helvetica Neue,Helvetica,sans-serif; font-size:12; text-anchor:start;\" transform=\"rotate(0, 549.61, 78.614)\" x=\"549.61\" y=\"78.614\">y3</text>\n",
       "</g>\n",
       "</svg>\n"
      ]
     },
     "execution_count": 82,
     "metadata": {
      "comm_id": "5d60d9fe-bf61-4c10-912b-0c71f107f74e",
      "reactive": true
     },
     "output_type": "execute_result"
    }
   ],
   "source": [
    "# [6] iii)\n",
    "f(x) = 1/(1 + 25x^2)\n",
    "@manipulate for n = 1:40\n",
    "    x = chebyshev_puntos(n)\n",
    "    y = f.(x)\n",
    "    s = interpola_cheb(f, n)\n",
    "    scatter(x, f.(x), xlims=[-1,1])\n",
    "    plot!(f)\n",
    "    plot!(s)\n",
    "end"
   ]
  },
  {
   "cell_type": "markdown",
   "metadata": {},
   "source": [
    "**[7]** (i) Dada una función $f$ , calcula numéricamente el error al utilizar la interpolación de Chebyshev $p_n$ con respecto a la función original $f$, dado por la norma\n",
    "\n",
    "$$\\|f - p\\|_{\\infty} := \\sup_x |f(x) - p(x)|,$$\n",
    "\n",
    "para distintos números de puntos de Chebyshev.\n",
    "\n",
    "Conforme se aumenta el número de puntos, ¿cómo es la convergencia a $0$ del error?  \n",
    "\n",
    "(ii) Resulta que la tasa de convergencia depende de qué tan suave es la función.\n",
    "Por ejemplo, inténtalo con la función `abs` y con la función `floor`."
   ]
  },
  {
   "cell_type": "code",
   "execution_count": 83,
   "metadata": {},
   "outputs": [
    {
     "data": {
      "text/plain": [
       "dif (generic function with 1 method)"
      ]
     },
     "execution_count": 83,
     "metadata": {},
     "output_type": "execute_result"
    }
   ],
   "source": [
    "# [7] i)\n",
    "function dif(dom, n, f)\n",
    "    interpola = interpola_cheb(f, n)\n",
    "    norma = maximum(abs.(f.(dom) - interpola.(dom)))\n",
    "    return norma\n",
    "end"
   ]
  },
  {
   "cell_type": "markdown",
   "metadata": {},
   "source": [
    "[7] ii)"
   ]
  },
  {
   "cell_type": "code",
   "execution_count": 84,
   "metadata": {},
   "outputs": [
    {
     "data": {
      "text/html": [],
      "text/plain": [
       "Interact.Options{:SelectionSlider,Int64}(11: \"input-4\" = 15 Int64 , \"j\", 15, \"15\", Interact.OptionDict(DataStructures.OrderedDict(\"1\"=>1,\"2\"=>2,\"3\"=>3,\"4\"=>4,\"5\"=>5,\"6\"=>6,\"7\"=>7,\"8\"=>8,\"9\"=>9,\"10\"=>10…), Dict(18=>\"18\",30=>\"30\",2=>\"2\",16=>\"16\",11=>\"11\",21=>\"21\",7=>\"7\",9=>\"9\",25=>\"25\",10=>\"10\"…)), Any[], Any[], true, \"horizontal\")"
      ]
     },
     "metadata": {},
     "output_type": "display_data"
    },
    {
     "data": {
      "text/plain": [
       "0.09932185795194193"
      ]
     },
     "execution_count": 84,
     "metadata": {
      "comm_id": "34710fab-1923-4e57-b74a-537a3bfe9d54",
      "reactive": true
     },
     "output_type": "execute_result"
    }
   ],
   "source": [
    "@manipulate for j=1:30\n",
    "    runge(x) = 1/(1 + 25x^2)\n",
    "    dif(-1:1, j, runge)\n",
    "end\n"
   ]
  },
  {
   "cell_type": "code",
   "execution_count": 87,
   "metadata": {},
   "outputs": [
    {
     "data": {
      "text/html": [],
      "text/plain": [
       "Interact.Options{:SelectionSlider,Int64}(15: \"input-5\" = 15 Int64 , \"j\", 15, \"15\", Interact.OptionDict(DataStructures.OrderedDict(\"1\"=>1,\"2\"=>2,\"3\"=>3,\"4\"=>4,\"5\"=>5,\"6\"=>6,\"7\"=>7,\"8\"=>8,\"9\"=>9,\"10\"=>10…), Dict(18=>\"18\",30=>\"30\",2=>\"2\",16=>\"16\",11=>\"11\",21=>\"21\",7=>\"7\",9=>\"9\",25=>\"25\",10=>\"10\"…)), Any[], Any[], true, \"horizontal\")"
      ]
     },
     "metadata": {},
     "output_type": "display_data"
    },
    {
     "data": {
      "text/plain": [
       "0.06666666666666651"
      ]
     },
     "execution_count": 87,
     "metadata": {
      "comm_id": "afe0037f-22cc-4448-8d82-860368137311",
      "reactive": true
     },
     "output_type": "execute_result"
    }
   ],
   "source": [
    "\n",
    "@manipulate for j=1:30\n",
    "    dif(-1:1, j, abs)\n",
    "end"
   ]
  },
  {
   "cell_type": "code",
   "execution_count": 88,
   "metadata": {},
   "outputs": [
    {
     "data": {
      "text/html": [],
      "text/plain": [
       "Interact.Options{:SelectionSlider,Int64}(19: \"input-6\" = 15 Int64 , \"j\", 15, \"15\", Interact.OptionDict(DataStructures.OrderedDict(\"1\"=>1,\"2\"=>2,\"3\"=>3,\"4\"=>4,\"5\"=>5,\"6\"=>6,\"7\"=>7,\"8\"=>8,\"9\"=>9,\"10\"=>10…), Dict(18=>\"18\",30=>\"30\",2=>\"2\",16=>\"16\",11=>\"11\",21=>\"21\",7=>\"7\",9=>\"9\",25=>\"25\",10=>\"10\"…)), Any[], Any[], true, \"horizontal\")"
      ]
     },
     "metadata": {},
     "output_type": "display_data"
    },
    {
     "data": {
      "text/plain": [
       "0.5333333333333338"
      ]
     },
     "execution_count": 88,
     "metadata": {
      "comm_id": "68590df0-1715-4317-87a9-657b37a99495",
      "reactive": true
     },
     "output_type": "execute_result"
    }
   ],
   "source": [
    "@manipulate for j=1:30\n",
    "    dif(-1:1, j, floor)\n",
    "end"
   ]
  },
  {
   "cell_type": "markdown",
   "metadata": {},
   "source": [
    "## Interpolación baricéntrica "
   ]
  },
  {
   "cell_type": "markdown",
   "metadata": {},
   "source": [
    "La técnica de interpolación que hemos demostrado hasta ahora no es práctica. Una versión práctica se llama la **interpolación baricéntrica**, que consiste en una manera de reescribir las cosas para que sea más eficiente. El desarrollo se puede encontrar [en este artículo](https://people.maths.ox.ac.uk/trefethen/barycentric.pdf), escrito por [Nick Trefethen](https://people.maths.ox.ac.uk/trefethen), uno de los analistas numéricos más influyentes del mundo. El artículo es muy accesible."
   ]
  },
  {
   "cell_type": "markdown",
   "metadata": {},
   "source": [
    "**[8]** Lee las secciones 3 y 4 del artículo para entender la derivación de las siguientes fórmulas.\n",
    "También lee la introducción para entender el panorama histórico."
   ]
  },
  {
   "cell_type": "markdown",
   "metadata": {},
   "source": [
    "Dados puntos $x_i$, y valores $f_i := f(x_i)$, se llega a la siguiente fórmula bonita para evaluar el polonimio interpolador $p$ en el punto $x$:"
   ]
  },
  {
   "cell_type": "markdown",
   "metadata": {},
   "source": [
    "$$p(x) = \\frac{ \\sum_{j=0}^n \\frac{w_j}{x - x_j} f_j } \n",
    "{\\sum_{j=0}^n\\frac{w_j}{x - x_j}}.$$\n",
    "\n",
    "Aquí, los $w_j$ son pesos dados por\n",
    "$$w_j = \\frac{1}{\\prod_{k\\neq j} (x_j - x_k)}.$$\n",
    "\n",
    "Para los puntos de Chebyshev definidos arriba, se puede mostrar que\n",
    "$$w_j = (-1)^j \\delta_j,$$\n",
    "con $$\\delta_j = \\begin{cases} \\textstyle \\frac{1}{2}, \\quad \\text{si } j=0 \\text{ o } j=n;\\\\\n",
    "                                1, \\quad \\text{si no}\n",
    "                 \\end{cases}.\n",
    "                 $$"
   ]
  },
  {
   "cell_type": "markdown",
   "metadata": {},
   "source": [
    "**[9]** (i) Implementa la interpolación baricéntrica en los puntos de Chebyshev, usando la fórmula explícita para las $w_j$. Verifica que funcione. Intenta hacer que sea lo más eficiente posible; es decir, no recalcules de nuevo algo que ya calculaste.\n",
    "\n",
    "(ii) Compara la velocidad con la implementación anterior."
   ]
  },
  {
   "cell_type": "code",
   "execution_count": 111,
   "metadata": {
    "scrolled": true
   },
   "outputs": [
    {
     "data": {
      "text/plain": [
       "interpola_bar (generic function with 1 method)"
      ]
     },
     "execution_count": 111,
     "metadata": {},
     "output_type": "execute_result"
    }
   ],
   "source": [
    "# [9] i)\n",
    "function interpola_bar(x, y)\n",
    "    n = length(x)\n",
    "    ws = []\n",
    "    for j = 0:n\n",
    "        if j == 0 | j == n\n",
    "            push!(ws, (-1)^j * (1/2))\n",
    "        else\n",
    "            push!(ws, (-1)^j)\n",
    "        end\n",
    "    end\n",
    "    function p(s)\n",
    "        cocientes = [ws[j] / (s - x[j]) for j in 1:length(x)]\n",
    "        print(cocientes)\n",
    "        return dot(cocientes, y) / sum(cocientes)\n",
    "    end\n",
    "    return p\n",
    "end\n",
    "        "
   ]
  },
  {
   "cell_type": "markdown",
   "metadata": {},
   "source": [
    "Ojo con la def. en $x = x_j$ los coef. divergen."
   ]
  },
  {
   "cell_type": "markdown",
   "metadata": {},
   "source": [
    "## Tema de actualidad"
   ]
  },
  {
   "cell_type": "markdown",
   "metadata": {},
   "source": [
    "Lo que hemos logrado es el aproximar una función continua $f$ por un conjunto discreto de sus valores $f(x_i)$ en la **malla** (posiblemente no-uniforme) $(x_i)_{i=1}^N$. Ahora podríamos manipular la función ¡al manipular sólo estos valores discretos!\n",
    "\n",
    "Resulta que es más útil **cambiar de base** en el espacio de polinomios, y utilizar los **polinomios de Chebyshev**. \n",
    "\n",
    "La idea es escribir el polinomio interpolante como una suma de polinomios de Chebyshev y examinar los coeficientes de estos polinomios, que tienen propiedades muy útiles. El campo se llama aproximación de Chebyshev, y es un tema sumamente importante hoy día. Hay una implementación en Julia en el paquete https://github.com/JuliaApproximation/ApproxFun.jl, pero el hacer una parte ¡podría hacer un buen proyecto final!"
   ]
  }
 ],
 "metadata": {
  "kernel_info": {
   "name": "julia-0.6"
  },
  "kernelspec": {
   "display_name": "Julia 0.6.0",
   "language": "julia",
   "name": "julia-0.6"
  },
  "language_info": {
   "file_extension": ".jl",
   "mimetype": "application/julia",
   "name": "julia",
   "version": "0.6.0"
  },
  "nteract": {
   "version": "0.3.1"
  }
 },
 "nbformat": 4,
 "nbformat_minor": 2
}
